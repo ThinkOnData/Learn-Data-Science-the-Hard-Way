{
 "metadata": {
  "name": ""
 },
 "nbformat": 3,
 "nbformat_minor": 0,
 "worksheets": [
  {
   "cells": [
    {
     "cell_type": "markdown",
     "metadata": {},
     "source": [
      "#CHAPTER 2 Making Recommendation"
     ]
    },
    {
     "cell_type": "markdown",
     "metadata": {},
     "source": [
      "##Collaborative Filtering"
     ]
    },
    {
     "cell_type": "markdown",
     "metadata": {},
     "source": [
      "## Collecting Preferences"
     ]
    },
    {
     "cell_type": "code",
     "collapsed": false,
     "input": [
      "critics={'Lisa Rose': {'Lady in the Water': 2.5, 'Snakes on a Plane': 3.5,\n",
      "                       'Just My Luck': 3.0, 'Superman Returns': 3.5, \n",
      "                       'You, Me and Dupree': 2.5, 'The Night Listener': 3.0},\n",
      "         'Gene Seymour': {'Lady in the Water': 3.0, 'Snakes on a Plane': 3.5,\n",
      "                          'Just My Luck': 1.5, 'Superman Returns': 5.0, \n",
      "                          'The Night Listener': 3.0, 'You, Me and Dupree': 3.5},\n",
      "         'Michael Phillips': {'Lady in the Water': 2.5, 'Snakes on a Plane': 3.0,\n",
      "                              'Superman Returns': 3.5, 'The Night Listener': 4.0},\n",
      "         'Claudia Puig': {'Snakes on a Plane': 3.5, 'Just My Luck': 3.0,\n",
      "                          'The Night Listener': 4.5, 'Superman Returns': 4.0,\n",
      "                          'You, Me and Dupree': 2.5},\n",
      "         'Mick LaSalle': {'Lady in the Water': 3.0, 'Snakes on a Plane': 4.0,\n",
      "                          'Just My Luck': 2.0, 'Superman Returns': 3.0, \n",
      "                          'The Night Listener': 3.0, 'You, Me and Dupree': 2.0},\n",
      "         'Jack Matthews': {'Lady in the Water': 3.0, 'Snakes on a Plane': 4.0,\n",
      "                           'The Night Listener': 3.0, 'Superman Returns': 5.0, \n",
      "                           'You, Me and Dupree': 3.5},\n",
      "         'Toby': {'Snakes on a Plane':4.5, 'You, Me and Dupree':1.0,\n",
      "                  'Superman Returns':4.0}}"
     ],
     "language": "python",
     "metadata": {},
     "outputs": [],
     "prompt_number": 1
    },
    {
     "cell_type": "code",
     "collapsed": false,
     "input": [
      "critics['Lisa Rose']['Lady in the Water']"
     ],
     "language": "python",
     "metadata": {},
     "outputs": [
      {
       "metadata": {},
       "output_type": "pyout",
       "prompt_number": 2,
       "text": [
        "2.5"
       ]
      }
     ],
     "prompt_number": 2
    },
    {
     "cell_type": "code",
     "collapsed": false,
     "input": [
      "critics['Toby']['Snakes on a Plane']"
     ],
     "language": "python",
     "metadata": {},
     "outputs": [
      {
       "metadata": {},
       "output_type": "pyout",
       "prompt_number": 5,
       "text": [
        "4.5"
       ]
      }
     ],
     "prompt_number": 5
    },
    {
     "cell_type": "code",
     "collapsed": false,
     "input": [
      "critics.keys()"
     ],
     "language": "python",
     "metadata": {},
     "outputs": [
      {
       "metadata": {},
       "output_type": "pyout",
       "prompt_number": 34,
       "text": [
        "['Jack Matthews',\n",
        " 'Mick LaSalle',\n",
        " 'Claudia Puig',\n",
        " 'Lisa Rose',\n",
        " 'Toby',\n",
        " 'Gene Seymour',\n",
        " 'Michael Phillips']"
       ]
      }
     ],
     "prompt_number": 34
    },
    {
     "cell_type": "code",
     "collapsed": false,
     "input": [
      "critics['Toby'].keys()"
     ],
     "language": "python",
     "metadata": {},
     "outputs": [
      {
       "metadata": {},
       "output_type": "pyout",
       "prompt_number": 35,
       "text": [
        "['Snakes on a Plane', 'Superman Returns', 'You, Me and Dupree']"
       ]
      }
     ],
     "prompt_number": 35
    },
    {
     "cell_type": "markdown",
     "metadata": {},
     "source": [
      "##Fiding Similar Users"
     ]
    },
    {
     "cell_type": "raw",
     "metadata": {},
     "source": [
      "Euclidean distance and Pearson correlation"
     ]
    },
    {
     "cell_type": "markdown",
     "metadata": {},
     "source": [
      "### Euclidean distance score"
     ]
    },
    {
     "cell_type": "code",
     "collapsed": false,
     "input": [
      "from math import sqrt"
     ],
     "language": "python",
     "metadata": {},
     "outputs": [],
     "prompt_number": 6
    },
    {
     "cell_type": "code",
     "collapsed": false,
     "input": [
      "pow(2, 2)"
     ],
     "language": "python",
     "metadata": {},
     "outputs": [
      {
       "metadata": {},
       "output_type": "pyout",
       "prompt_number": 8,
       "text": [
        "4"
       ]
      }
     ],
     "prompt_number": 8
    },
    {
     "cell_type": "code",
     "collapsed": false,
     "input": [
      "sqrt(pow(5-4, 2) + pow(4-1, 2))"
     ],
     "language": "python",
     "metadata": {},
     "outputs": [
      {
       "metadata": {},
       "output_type": "pyout",
       "prompt_number": 7,
       "text": [
        "3.1622776601683795"
       ]
      }
     ],
     "prompt_number": 7
    },
    {
     "cell_type": "code",
     "collapsed": false,
     "input": [
      "1/(1 + sqrt(pow(5-4, 2) + pow(4-1, 2)))"
     ],
     "language": "python",
     "metadata": {},
     "outputs": [
      {
       "metadata": {},
       "output_type": "pyout",
       "prompt_number": 9,
       "text": [
        "0.2402530733520421"
       ]
      }
     ],
     "prompt_number": 9
    },
    {
     "cell_type": "code",
     "collapsed": false,
     "input": [
      "# Return a distance-based similarity score for person1 and person2\n",
      "def sim_distance(prefs, person1, person2):\n",
      "    # Get the list of shared items\n",
      "    si = {}\n",
      "    for item in prefs[person1]:\n",
      "        for item in prefs[person2]:\n",
      "            si[item] = 1\n",
      "            \n",
      "    # if they have no rating in common, return 0\n",
      "    if len(si) == 0: return 0\n",
      "    \n",
      "    # Add up the squares of all the differences\n",
      "    sum_of_squares = sum([pow(prefs[person1][item] - prefs[person2][item], 2)\n",
      "                          for item in prefs[person1] if item in prefs[person2]])\n",
      "    \n",
      "    return 1/(1 + sqrt(sum_of_squares))"
     ],
     "language": "python",
     "metadata": {},
     "outputs": [],
     "prompt_number": 11
    },
    {
     "cell_type": "code",
     "collapsed": false,
     "input": [
      "sim_distance(critics, 'Lisa Rose', 'Gene Seymour')"
     ],
     "language": "python",
     "metadata": {},
     "outputs": [
      {
       "metadata": {},
       "output_type": "pyout",
       "prompt_number": 12,
       "text": [
        "0.29429805508554946"
       ]
      }
     ],
     "prompt_number": 12
    },
    {
     "cell_type": "markdown",
     "metadata": {},
     "source": [
      "### Pearson Correlation Score"
     ]
    },
    {
     "cell_type": "raw",
     "metadata": {},
     "source": [
      "A out-dated code"
     ]
    },
    {
     "cell_type": "code",
     "collapsed": false,
     "input": [
      "# Return the pearson correlation score for person1 and person2\n",
      "def sim_pearson(prefs, person1, person2):\n",
      "    # Get the list of shared items\n",
      "    si = {}\n",
      "    for item in prefs[person1]:\n",
      "        for item in prefs[person2]:\n",
      "            si[item] = 1\n",
      "    \n",
      "    # if they have no rating in common, return 0\n",
      "    n = len(si)\n",
      "    if n == 0: return 0\n",
      "    \n",
      "    # Add up the squares of all the differences\n",
      "    sum1 = sum([prefs[person1][item] for item in si])\n",
      "    sum2 = sum([prefs[person2][item] for item in si])\n",
      "    \n",
      "    # Sum up the squares\n",
      "    sum1sq = sum([pow(prefs[person1][item], 2) for item in si])\n",
      "    sum2sq = sum([pow(prefs[person2][item], 2) for item in si])\n",
      "    \n",
      "    # Sum up the products\n",
      "    psum = sum([prefs[person1][item] * prefs[person2][item] for item in si])\n",
      "    \n",
      "    # Calculate pearson score\n",
      "    num = psum - (sum1*sum2/n)\n",
      "    den = sqrt((sum1sq - pow(sum1, 2)/n) * (sum2sq - pow(sum2, 2)/n))\n",
      "    \n",
      "    if den == 0:\n",
      "        return 0\n",
      "    \n",
      "    r = num/den\n",
      "    return r"
     ],
     "language": "python",
     "metadata": {},
     "outputs": [],
     "prompt_number": 19
    },
    {
     "cell_type": "code",
     "collapsed": false,
     "input": [
      "sim_pearson(critics, 'Lisa Rose', 'Gene Seymour')"
     ],
     "language": "python",
     "metadata": {},
     "outputs": [
      {
       "metadata": {},
       "output_type": "pyout",
       "prompt_number": 20,
       "text": [
        "0.39605901719066977"
       ]
      }
     ],
     "prompt_number": 20
    },
    {
     "cell_type": "raw",
     "metadata": {},
     "source": [
      "The right code"
     ]
    },
    {
     "cell_type": "code",
     "collapsed": false,
     "input": [
      "from __future__ import division\n",
      "from math import sqrt\n",
      "\n",
      "def sim_pearson(prefs, p1, p2):\n",
      "    si = {}\n",
      "    for item in prefs[p1].keys():\n",
      "        for item in prefs[p2].keys():\n",
      "            if item in prefs[p2].keys():\n",
      "                si[item] = 1\n",
      "                \n",
      "    # Find the number of elements\n",
      "    n=float(len(si))\n",
      "\n",
      "\n",
      "    # if they are no ratings in common, return 0\n",
      "    if n==0:\n",
      "        print 'n=0'\n",
      "        return 0\n",
      "\n",
      "\n",
      "    # Add up all the preferences\n",
      "    sum1=float(sum([prefs[p1][it] for it in si.keys()]))\n",
      "    sum2=float(sum([prefs[p2][it] for it in si.keys()]))\n",
      "    print 'sum1=', sum1, 'sum2=', sum2\n",
      "    # Sum up the squares\n",
      "    sum1Sq=float(sum([pow(prefs[p1][it],2) for it in si.keys()]))\n",
      "    sum2Sq=float(sum([pow(prefs[p2][it],2) for it in si.keys()]))\n",
      "    print 'sum1s=', sum1Sq, 'sum2s=', sum2Sq\n",
      "    # Sum up the products\n",
      "    pSum=float(sum([prefs[p1][it]*prefs[p2][it] for it in si.keys()]))\n",
      "\n",
      "\n",
      "    # Calculate Pearson score\n",
      "    num=(pSum/n)-(1.0*sum1*sum2/pow(n,2))\n",
      "    den=sqrt(((sum1Sq/n)-float(pow(sum1,2))/float(pow(n,2)))*((sum2Sq/n)-float(pow(sum2,2))/float(pow(n,2))))\n",
      "    if den==0:\n",
      "        print 'den=0'\n",
      "        return 0\n",
      "\n",
      "    r=num/den\n",
      "\n",
      "    return r"
     ],
     "language": "python",
     "metadata": {},
     "outputs": [],
     "prompt_number": 32
    },
    {
     "cell_type": "code",
     "collapsed": false,
     "input": [
      "sim_pearson(critics, critics.keys()[1], critics.keys()[2])"
     ],
     "language": "python",
     "metadata": {},
     "outputs": [
      {
       "output_type": "stream",
       "stream": "stdout",
       "text": [
        "sum1= 14.0 sum2= 17.5\n",
        "sum1s= 42.0 sum2s= 63.75\n"
       ]
      },
      {
       "metadata": {},
       "output_type": "pyout",
       "prompt_number": 33,
       "text": [
        "0.5669467095138385"
       ]
      }
     ],
     "prompt_number": 33
    },
    {
     "cell_type": "markdown",
     "metadata": {},
     "source": [
      "##Which similarity metrics should you use"
     ]
    },
    {
     "cell_type": "markdown",
     "metadata": {},
     "source": [
      "### Ranking the critics"
     ]
    },
    {
     "cell_type": "code",
     "collapsed": false,
     "input": [
      "# Returns the best matches for people from the prefs dictionay\n",
      "# Number of results and similarity function are optional paras.\n",
      "def top_match(prefs, person, n = 5, similarity = sim_pearson):\n",
      "    score = [(similarity(prefs, person, other), other) for other in prefs if other != person]\n",
      "    print score\n",
      "    \n",
      "    score.sort()\n",
      "    score.reverse()\n",
      "    \n",
      "    return score[0: n]"
     ],
     "language": "python",
     "metadata": {},
     "outputs": [],
     "prompt_number": 36
    },
    {
     "cell_type": "code",
     "collapsed": false,
     "input": [
      "top_match(critics, 'Toby', n = 3)"
     ],
     "language": "python",
     "metadata": {},
     "outputs": [
      {
       "ename": "KeyError",
       "evalue": "'Lady in the Water'",
       "output_type": "pyerr",
       "traceback": [
        "\u001b[0;31m---------------------------------------------------------------------------\u001b[0m\n\u001b[0;31mKeyError\u001b[0m                                  Traceback (most recent call last)",
        "\u001b[0;32m<ipython-input-38-dcbddc216b24>\u001b[0m in \u001b[0;36m<module>\u001b[0;34m()\u001b[0m\n\u001b[0;32m----> 1\u001b[0;31m \u001b[0mtop_match\u001b[0m\u001b[0;34m(\u001b[0m\u001b[0mcritics\u001b[0m\u001b[0;34m,\u001b[0m \u001b[0;34m'Toby'\u001b[0m\u001b[0;34m,\u001b[0m \u001b[0mn\u001b[0m \u001b[0;34m=\u001b[0m \u001b[0;36m3\u001b[0m\u001b[0;34m)\u001b[0m\u001b[0;34m\u001b[0m\u001b[0m\n\u001b[0m",
        "\u001b[0;32m<ipython-input-36-d515448e142b>\u001b[0m in \u001b[0;36mtop_match\u001b[0;34m(prefs, person, n, similarity)\u001b[0m\n\u001b[1;32m      2\u001b[0m \u001b[0;31m# Number of results and similarity function are optional paras.\u001b[0m\u001b[0;34m\u001b[0m\u001b[0;34m\u001b[0m\u001b[0m\n\u001b[1;32m      3\u001b[0m \u001b[0;32mdef\u001b[0m \u001b[0mtop_match\u001b[0m\u001b[0;34m(\u001b[0m\u001b[0mprefs\u001b[0m\u001b[0;34m,\u001b[0m \u001b[0mperson\u001b[0m\u001b[0;34m,\u001b[0m \u001b[0mn\u001b[0m \u001b[0;34m=\u001b[0m \u001b[0;36m5\u001b[0m\u001b[0;34m,\u001b[0m \u001b[0msimilarity\u001b[0m \u001b[0;34m=\u001b[0m \u001b[0msim_pearson\u001b[0m\u001b[0;34m)\u001b[0m\u001b[0;34m:\u001b[0m\u001b[0;34m\u001b[0m\u001b[0m\n\u001b[0;32m----> 4\u001b[0;31m     \u001b[0mscore\u001b[0m \u001b[0;34m=\u001b[0m \u001b[0;34m[\u001b[0m\u001b[0;34m(\u001b[0m\u001b[0msimilarity\u001b[0m\u001b[0;34m(\u001b[0m\u001b[0mprefs\u001b[0m\u001b[0;34m,\u001b[0m \u001b[0mperson\u001b[0m\u001b[0;34m,\u001b[0m \u001b[0mother\u001b[0m\u001b[0;34m)\u001b[0m\u001b[0;34m,\u001b[0m \u001b[0mother\u001b[0m\u001b[0;34m)\u001b[0m \u001b[0;32mfor\u001b[0m \u001b[0mother\u001b[0m \u001b[0;32min\u001b[0m \u001b[0mprefs\u001b[0m \u001b[0;32mif\u001b[0m \u001b[0mother\u001b[0m \u001b[0;34m!=\u001b[0m \u001b[0mperson\u001b[0m\u001b[0;34m]\u001b[0m\u001b[0;34m\u001b[0m\u001b[0m\n\u001b[0m\u001b[1;32m      5\u001b[0m     \u001b[0;32mprint\u001b[0m \u001b[0mscore\u001b[0m\u001b[0;34m\u001b[0m\u001b[0m\n\u001b[1;32m      6\u001b[0m \u001b[0;34m\u001b[0m\u001b[0m\n",
        "\u001b[0;32m<ipython-input-32-27dd1db58105>\u001b[0m in \u001b[0;36msim_pearson\u001b[0;34m(prefs, p1, p2)\u001b[0m\n\u001b[1;32m     20\u001b[0m \u001b[0;34m\u001b[0m\u001b[0m\n\u001b[1;32m     21\u001b[0m     \u001b[0;31m# Add up all the preferences\u001b[0m\u001b[0;34m\u001b[0m\u001b[0;34m\u001b[0m\u001b[0m\n\u001b[0;32m---> 22\u001b[0;31m     \u001b[0msum1\u001b[0m\u001b[0;34m=\u001b[0m\u001b[0mfloat\u001b[0m\u001b[0;34m(\u001b[0m\u001b[0msum\u001b[0m\u001b[0;34m(\u001b[0m\u001b[0;34m[\u001b[0m\u001b[0mprefs\u001b[0m\u001b[0;34m[\u001b[0m\u001b[0mp1\u001b[0m\u001b[0;34m]\u001b[0m\u001b[0;34m[\u001b[0m\u001b[0mit\u001b[0m\u001b[0;34m]\u001b[0m \u001b[0;32mfor\u001b[0m \u001b[0mit\u001b[0m \u001b[0;32min\u001b[0m \u001b[0msi\u001b[0m\u001b[0;34m.\u001b[0m\u001b[0mkeys\u001b[0m\u001b[0;34m(\u001b[0m\u001b[0;34m)\u001b[0m\u001b[0;34m]\u001b[0m\u001b[0;34m)\u001b[0m\u001b[0;34m)\u001b[0m\u001b[0;34m\u001b[0m\u001b[0m\n\u001b[0m\u001b[1;32m     23\u001b[0m     \u001b[0msum2\u001b[0m\u001b[0;34m=\u001b[0m\u001b[0mfloat\u001b[0m\u001b[0;34m(\u001b[0m\u001b[0msum\u001b[0m\u001b[0;34m(\u001b[0m\u001b[0;34m[\u001b[0m\u001b[0mprefs\u001b[0m\u001b[0;34m[\u001b[0m\u001b[0mp2\u001b[0m\u001b[0;34m]\u001b[0m\u001b[0;34m[\u001b[0m\u001b[0mit\u001b[0m\u001b[0;34m]\u001b[0m \u001b[0;32mfor\u001b[0m \u001b[0mit\u001b[0m \u001b[0;32min\u001b[0m \u001b[0msi\u001b[0m\u001b[0;34m.\u001b[0m\u001b[0mkeys\u001b[0m\u001b[0;34m(\u001b[0m\u001b[0;34m)\u001b[0m\u001b[0;34m]\u001b[0m\u001b[0;34m)\u001b[0m\u001b[0;34m)\u001b[0m\u001b[0;34m\u001b[0m\u001b[0m\n\u001b[1;32m     24\u001b[0m     \u001b[0;32mprint\u001b[0m \u001b[0;34m'sum1='\u001b[0m\u001b[0;34m,\u001b[0m \u001b[0msum1\u001b[0m\u001b[0;34m,\u001b[0m \u001b[0;34m'sum2='\u001b[0m\u001b[0;34m,\u001b[0m \u001b[0msum2\u001b[0m\u001b[0;34m\u001b[0m\u001b[0m\n",
        "\u001b[0;31mKeyError\u001b[0m: 'Lady in the Water'"
       ]
      }
     ],
     "prompt_number": 38
    },
    {
     "cell_type": "code",
     "collapsed": false,
     "input": [],
     "language": "python",
     "metadata": {},
     "outputs": []
    }
   ],
   "metadata": {}
  }
 ]
}