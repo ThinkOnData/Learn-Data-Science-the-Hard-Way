{
 "cells": [
  {
   "cell_type": "markdown",
   "metadata": {},
   "source": [
    "# CHAPTER 2 Making Recommendation"
   ]
  },
  {
   "cell_type": "markdown",
   "metadata": {},
   "source": [
    "## Collaborative Filtering"
   ]
  },
  {
   "cell_type": "markdown",
   "metadata": {},
   "source": [
    "### Collecting Preferences"
   ]
  },
  {
   "cell_type": "code",
   "execution_count": 1,
   "metadata": {
    "collapsed": false
   },
   "outputs": [],
   "source": [
    "critics={'Lisa Rose': {'Lady in the Water': 2.5, 'Snakes on a Plane': 3.5,\n",
    "                       'Just My Luck': 3.0, 'Superman Returns': 3.5, \n",
    "                       'You, Me and Dupree': 2.5, 'The Night Listener': 3.0},\n",
    "         'Gene Seymour': {'Lady in the Water': 3.0, 'Snakes on a Plane': 3.5,\n",
    "                          'Just My Luck': 1.5, 'Superman Returns': 5.0, \n",
    "                          'The Night Listener': 3.0, 'You, Me and Dupree': 3.5},\n",
    "         'Michael Phillips': {'Lady in the Water': 2.5, 'Snakes on a Plane': 3.0,\n",
    "                              'Superman Returns': 3.5, 'The Night Listener': 4.0},\n",
    "         'Claudia Puig': {'Snakes on a Plane': 3.5, 'Just My Luck': 3.0,\n",
    "                          'The Night Listener': 4.5, 'Superman Returns': 4.0,\n",
    "                          'You, Me and Dupree': 2.5},\n",
    "         'Mick LaSalle': {'Lady in the Water': 3.0, 'Snakes on a Plane': 4.0,\n",
    "                          'Just My Luck': 2.0, 'Superman Returns': 3.0, \n",
    "                          'The Night Listener': 3.0, 'You, Me and Dupree': 2.0},\n",
    "         'Jack Matthews': {'Lady in the Water': 3.0, 'Snakes on a Plane': 4.0,\n",
    "                           'The Night Listener': 3.0, 'Superman Returns': 5.0, \n",
    "                           'You, Me and Dupree': 3.5},\n",
    "         'Toby': {'Snakes on a Plane':4.5, 'You, Me and Dupree':1.0,\n",
    "                  'Superman Returns':4.0}}"
   ]
  },
  {
   "cell_type": "code",
   "execution_count": 2,
   "metadata": {
    "collapsed": false
   },
   "outputs": [
    {
     "data": {
      "text/plain": [
       "2.5"
      ]
     },
     "execution_count": 2,
     "metadata": {},
     "output_type": "execute_result"
    }
   ],
   "source": [
    "critics['Lisa Rose']['Lady in the Water']"
   ]
  },
  {
   "cell_type": "code",
   "execution_count": 3,
   "metadata": {
    "collapsed": false
   },
   "outputs": [
    {
     "data": {
      "text/plain": [
       "4.5"
      ]
     },
     "execution_count": 3,
     "metadata": {},
     "output_type": "execute_result"
    }
   ],
   "source": [
    "critics['Toby']['Snakes on a Plane']"
   ]
  },
  {
   "cell_type": "code",
   "execution_count": 4,
   "metadata": {
    "collapsed": false
   },
   "outputs": [
    {
     "data": {
      "text/plain": [
       "['Jack Matthews',\n",
       " 'Mick LaSalle',\n",
       " 'Claudia Puig',\n",
       " 'Lisa Rose',\n",
       " 'Toby',\n",
       " 'Gene Seymour',\n",
       " 'Michael Phillips']"
      ]
     },
     "execution_count": 4,
     "metadata": {},
     "output_type": "execute_result"
    }
   ],
   "source": [
    "critics.keys()"
   ]
  },
  {
   "cell_type": "code",
   "execution_count": 5,
   "metadata": {
    "collapsed": false
   },
   "outputs": [
    {
     "data": {
      "text/plain": [
       "['Snakes on a Plane', 'Superman Returns', 'You, Me and Dupree']"
      ]
     },
     "execution_count": 5,
     "metadata": {},
     "output_type": "execute_result"
    }
   ],
   "source": [
    "critics['Toby'].keys()"
   ]
  },
  {
   "cell_type": "markdown",
   "metadata": {},
   "source": [
    "## #Fiding Similar Users"
   ]
  },
  {
   "cell_type": "raw",
   "metadata": {},
   "source": [
    "Euclidean distance and Pearson correlation"
   ]
  },
  {
   "cell_type": "markdown",
   "metadata": {},
   "source": [
    "### Euclidean distance score"
   ]
  },
  {
   "cell_type": "code",
   "execution_count": 6,
   "metadata": {
    "collapsed": false
   },
   "outputs": [],
   "source": [
    "from math import sqrt"
   ]
  },
  {
   "cell_type": "code",
   "execution_count": 7,
   "metadata": {
    "collapsed": false
   },
   "outputs": [
    {
     "data": {
      "text/plain": [
       "4"
      ]
     },
     "execution_count": 7,
     "metadata": {},
     "output_type": "execute_result"
    }
   ],
   "source": [
    "pow(2, 2)"
   ]
  },
  {
   "cell_type": "code",
   "execution_count": 8,
   "metadata": {
    "collapsed": false
   },
   "outputs": [
    {
     "data": {
      "text/plain": [
       "3.1622776601683795"
      ]
     },
     "execution_count": 8,
     "metadata": {},
     "output_type": "execute_result"
    }
   ],
   "source": [
    "sqrt(pow(5-4, 2) + pow(4-1, 2))"
   ]
  },
  {
   "cell_type": "code",
   "execution_count": 9,
   "metadata": {
    "collapsed": false
   },
   "outputs": [
    {
     "data": {
      "text/plain": [
       "0.2402530733520421"
      ]
     },
     "execution_count": 9,
     "metadata": {},
     "output_type": "execute_result"
    }
   ],
   "source": [
    "1/(1 + sqrt(pow(5-4, 2) + pow(4-1, 2)))"
   ]
  },
  {
   "cell_type": "code",
   "execution_count": 10,
   "metadata": {
    "collapsed": false
   },
   "outputs": [],
   "source": [
    "# Return a distance-based similarity score for person1 and person2\n",
    "def sim_distance(prefs, person1, person2):\n",
    "    # Get the list of shared items\n",
    "    si = {}\n",
    "    for item in prefs[person1]:\n",
    "        for item in prefs[person2]:\n",
    "            si[item] = 1\n",
    "            \n",
    "    # if they have no rating in common, return 0\n",
    "    if len(si) == 0:\n",
    "        return 0\n",
    "    \n",
    "    # Add up the squares of all the differences\n",
    "    sum_of_squares = sum([pow(prefs[person1][item] - prefs[person2][item], 2)\n",
    "                          for item in prefs[person1] if item in prefs[person2]])\n",
    "    \n",
    "    return 1/(1 + sqrt(sum_of_squares))"
   ]
  },
  {
   "cell_type": "code",
   "execution_count": 11,
   "metadata": {
    "collapsed": false
   },
   "outputs": [
    {
     "data": {
      "text/plain": [
       "0.29429805508554946"
      ]
     },
     "execution_count": 11,
     "metadata": {},
     "output_type": "execute_result"
    }
   ],
   "source": [
    "sim_distance(critics, 'Lisa Rose', 'Gene Seymour')"
   ]
  },
  {
   "cell_type": "markdown",
   "metadata": {},
   "source": [
    "### Pearson Correlation Score"
   ]
  },
  {
   "cell_type": "raw",
   "metadata": {},
   "source": [
    "A out-dated code"
   ]
  },
  {
   "cell_type": "code",
   "execution_count": 58,
   "metadata": {
    "collapsed": false
   },
   "outputs": [],
   "source": [
    "# Return the pearson correlation score for person1 and person2\n",
    "def sim_pearson(prefs, person1, person2):\n",
    "    # Get the list of shared items\n",
    "    si = {}\n",
    "    for item in prefs[person1]:\n",
    "        if item in prefs[person2]:\n",
    "            si[item] = 1\n",
    "    \n",
    "    # print si\n",
    "    \n",
    "    # if they have no rating in common, return 0\n",
    "    n = len(si)\n",
    "    if n == 0:\n",
    "        return 0\n",
    "    \n",
    "    # Add up the squares of all the differences\n",
    "    sum1 = sum([prefs[person1][item] for item in si.keys()])\n",
    "    sum2 = sum([prefs[person2][item] for item in si.keys()])\n",
    "    \n",
    "    # Sum up the squares\n",
    "    sum1sq = sum([pow(prefs[person1][item], 2) for item in si.keys()])\n",
    "    sum2sq = sum([pow(prefs[person2][item], 2) for item in si.keys()])\n",
    "    \n",
    "    # Sum up the products\n",
    "    psum = sum([prefs[person1][item] * prefs[person2][item] for item in si.keys()])\n",
    "    \n",
    "    # Calculate pearson score\n",
    "    num = psum - (sum1*sum2/n)\n",
    "    den = sqrt((sum1sq - pow(sum1, 2)/n) * (sum2sq - pow(sum2, 2)/n))\n",
    "    \n",
    "    if den == 0:\n",
    "        return 0\n",
    "    \n",
    "    r = num/den\n",
    "    return r"
   ]
  },
  {
   "cell_type": "code",
   "execution_count": 54,
   "metadata": {
    "collapsed": false
   },
   "outputs": [
    {
     "data": {
      "text/plain": [
       "0.39605901719066977"
      ]
     },
     "execution_count": 54,
     "metadata": {},
     "output_type": "execute_result"
    }
   ],
   "source": [
    "sim_pearson(critics, 'Lisa Rose', 'Gene Seymour')"
   ]
  },
  {
   "cell_type": "markdown",
   "metadata": {},
   "source": [
    "###Step by Step"
   ]
  },
  {
   "cell_type": "code",
   "execution_count": 19,
   "metadata": {
    "collapsed": false
   },
   "outputs": [
    {
     "name": "stdout",
     "output_type": "stream",
     "text": [
      "Lady in the Water\n",
      "Snakes on a Plane\n",
      "Just My Luck\n",
      "Superman Returns\n",
      "The Night Listener\n",
      "You, Me and Dupree\n"
     ]
    }
   ],
   "source": [
    "si = {}\n",
    "for item in critics['Lisa Rose']:\n",
    "    print item"
   ]
  },
  {
   "cell_type": "code",
   "execution_count": 20,
   "metadata": {
    "collapsed": false
   },
   "outputs": [
    {
     "name": "stdout",
     "output_type": "stream",
     "text": [
      "Lady in the Water\n",
      "Snakes on a Plane\n",
      "Just My Luck\n",
      "Superman Returns\n",
      "You, Me and Dupree\n",
      "The Night Listener\n"
     ]
    }
   ],
   "source": [
    "si = {}\n",
    "for item in critics['Gene Seymour']:\n",
    "    print item"
   ]
  },
  {
   "cell_type": "code",
   "execution_count": 59,
   "metadata": {
    "collapsed": false
   },
   "outputs": [],
   "source": [
    "si = {}\n",
    "for item in critics['Gene Seymour']:\n",
    "    if item in critics['Lisa Rose']:\n",
    "        si[item] = 1"
   ]
  },
  {
   "cell_type": "code",
   "execution_count": 60,
   "metadata": {
    "collapsed": false
   },
   "outputs": [
    {
     "name": "stdout",
     "output_type": "stream",
     "text": [
      "{'Lady in the Water': 1, 'Snakes on a Plane': 1, 'Just My Luck': 1, 'Superman Returns': 1, 'The Night Listener': 1, 'You, Me and Dupree': 1}\n"
     ]
    }
   ],
   "source": [
    "print si"
   ]
  },
  {
   "cell_type": "code",
   "execution_count": 34,
   "metadata": {
    "collapsed": false
   },
   "outputs": [
    {
     "data": {
      "text/plain": [
       "['Lady in the Water',\n",
       " 'Snakes on a Plane',\n",
       " 'Just My Luck',\n",
       " 'Superman Returns',\n",
       " 'You, Me and Dupree',\n",
       " 'The Night Listener']"
      ]
     },
     "execution_count": 34,
     "metadata": {},
     "output_type": "execute_result"
    }
   ],
   "source": [
    "si.keys()"
   ]
  },
  {
   "cell_type": "code",
   "execution_count": 30,
   "metadata": {
    "collapsed": false
   },
   "outputs": [
    {
     "name": "stdout",
     "output_type": "stream",
     "text": [
      "Lady in the Water 1\n",
      "Snakes on a Plane 1\n",
      "Just My Luck 1\n",
      "Superman Returns 1\n",
      "You, Me and Dupree 1\n",
      "The Night Listener 1\n"
     ]
    }
   ],
   "source": [
    "for key, value in si.items():\n",
    "    print key, value"
   ]
  },
  {
   "cell_type": "code",
   "execution_count": 40,
   "metadata": {
    "collapsed": false
   },
   "outputs": [],
   "source": [
    "sum_1 = sum([critics['Lisa Rose'][key] for key in si.keys()])\n",
    "sum_2 = sum([critics['Gene Seymour'][key] for key in si.keys()])"
   ]
  },
  {
   "cell_type": "code",
   "execution_count": 41,
   "metadata": {
    "collapsed": false
   },
   "outputs": [
    {
     "name": "stdout",
     "output_type": "stream",
     "text": [
      "18.0 19.5\n"
     ]
    }
   ],
   "source": [
    "print sum_1, sum_2"
   ]
  },
  {
   "cell_type": "code",
   "execution_count": 42,
   "metadata": {
    "collapsed": false
   },
   "outputs": [],
   "source": [
    "sum_1_sq = sum([pow(critics['Lisa Rose'][key], 2) for key in si.keys()])\n",
    "sum_2_sq = sum([pow(critics['Gene Seymour'][key], 2) for key in si.keys()])"
   ]
  },
  {
   "cell_type": "code",
   "execution_count": 43,
   "metadata": {
    "collapsed": false
   },
   "outputs": [
    {
     "name": "stdout",
     "output_type": "stream",
     "text": [
      "55.0 69.75\n"
     ]
    }
   ],
   "source": [
    "print sum_1_sq, sum_2_sq"
   ]
  },
  {
   "cell_type": "code",
   "execution_count": 44,
   "metadata": {
    "collapsed": false
   },
   "outputs": [],
   "source": [
    "product_sum = sum([critics['Lisa Rose'][key]*critics['Gene Seymour'][key] for key in si.keys()])"
   ]
  },
  {
   "cell_type": "code",
   "execution_count": 45,
   "metadata": {
    "collapsed": false
   },
   "outputs": [
    {
     "name": "stdout",
     "output_type": "stream",
     "text": [
      "59.5\n"
     ]
    }
   ],
   "source": [
    "print product_sum"
   ]
  },
  {
   "cell_type": "code",
   "execution_count": 46,
   "metadata": {
    "collapsed": false
   },
   "outputs": [],
   "source": [
    "num = product_sum - (sum_1*sum_2/len(si))"
   ]
  },
  {
   "cell_type": "code",
   "execution_count": 48,
   "metadata": {
    "collapsed": false
   },
   "outputs": [
    {
     "name": "stdout",
     "output_type": "stream",
     "text": [
      "1.0\n"
     ]
    }
   ],
   "source": [
    "print num"
   ]
  },
  {
   "cell_type": "code",
   "execution_count": 47,
   "metadata": {
    "collapsed": false
   },
   "outputs": [],
   "source": [
    "den = sqrt((sum_1_sq - pow(sum_1, 2)/2) * (sum_2_sq - pow(sum_2, 2)/2))"
   ]
  },
  {
   "cell_type": "code",
   "execution_count": 49,
   "metadata": {
    "collapsed": false
   },
   "outputs": [
    {
     "name": "stdout",
     "output_type": "stream",
     "text": [
      "113.49063838\n"
     ]
    }
   ],
   "source": [
    "print den"
   ]
  },
  {
   "cell_type": "code",
   "execution_count": 50,
   "metadata": {
    "collapsed": false
   },
   "outputs": [
    {
     "name": "stdout",
     "output_type": "stream",
     "text": [
      "0.00881129945404\n"
     ]
    }
   ],
   "source": [
    "r = num/den\n",
    "print r"
   ]
  },
  {
   "cell_type": "raw",
   "metadata": {},
   "source": [
    "The right code"
   ]
  },
  {
   "cell_type": "code",
   "execution_count": 36,
   "metadata": {
    "collapsed": false
   },
   "outputs": [],
   "source": [
    "from __future__ import division\n",
    "from math import sqrt\n",
    "\n",
    "def sim_pearson(prefs, p1, p2):\n",
    "    si = {}\n",
    "    for item in prefs[p1].keys():\n",
    "#        for item in prefs[p2].keys():\n",
    "            if item in prefs[p2].keys():\n",
    "                si[item] = 1\n",
    "                \n",
    "    # Find the number of elements\n",
    "    n=float(len(si))\n",
    "\n",
    "\n",
    "    # if they are no ratings in common, return 0\n",
    "    if n==0:\n",
    "        print 'n=0'\n",
    "        return 0\n",
    "\n",
    "\n",
    "    # Add up all the preferences\n",
    "    sum1=float(sum([prefs[p1][it] for it in si.keys()]))\n",
    "    sum2=float(sum([prefs[p2][it] for it in si.keys()]))\n",
    "    print 'sum1=', sum1, 'sum2=', sum2\n",
    "    # Sum up the squares\n",
    "    sum1Sq=float(sum([pow(prefs[p1][it],2) for it in si.keys()]))\n",
    "    sum2Sq=float(sum([pow(prefs[p2][it],2) for it in si.keys()]))\n",
    "    print 'sum1s=', sum1Sq, 'sum2s=', sum2Sq\n",
    "    # Sum up the products\n",
    "    pSum=float(sum([prefs[p1][it]*prefs[p2][it] for it in si.keys()]))\n",
    "\n",
    "\n",
    "    # Calculate Pearson score\n",
    "    num=(pSum/n)-(1.0*sum1*sum2/pow(n,2))\n",
    "    den=sqrt(((sum1Sq/n)-float(pow(sum1,2))/float(pow(n,2)))*((sum2Sq/n)-float(pow(sum2,2))/float(pow(n,2))))\n",
    "    if den==0:\n",
    "        print 'den=0'\n",
    "        return 0\n",
    "\n",
    "    r=num/den\n",
    "\n",
    "    return r"
   ]
  },
  {
   "cell_type": "code",
   "execution_count": 33,
   "metadata": {
    "collapsed": false
   },
   "outputs": [
    {
     "name": "stdout",
     "output_type": "stream",
     "text": [
      "sum1= 14.0 sum2= 17.5\n",
      "sum1s= 42.0 sum2s= 63.75\n"
     ]
    },
    {
     "data": {
      "text/plain": [
       "0.5669467095138385"
      ]
     },
     "execution_count": 33,
     "metadata": {},
     "output_type": "execute_result"
    }
   ],
   "source": [
    "sim_pearson(critics, critics.keys()[1], critics.keys()[2])"
   ]
  },
  {
   "cell_type": "markdown",
   "metadata": {},
   "source": [
    "##Which similarity metrics should you use"
   ]
  },
  {
   "cell_type": "markdown",
   "metadata": {},
   "source": [
    "### Ranking the critics"
   ]
  },
  {
   "cell_type": "code",
   "execution_count": 61,
   "metadata": {
    "collapsed": false
   },
   "outputs": [],
   "source": [
    "# Returns the best matches for people from the prefs dictionay\n",
    "# Number of results and similarity function are optional paras.\n",
    "def top_match(prefs, person, n = 5, similarity = sim_pearson):\n",
    "    score = [(similarity(prefs, person, other), other) for other in prefs if other != person]\n",
    "    print score\n",
    "    \n",
    "    score.sort()\n",
    "    score.reverse()\n",
    "    \n",
    "    return score[0: n]"
   ]
  },
  {
   "cell_type": "code",
   "execution_count": 62,
   "metadata": {
    "collapsed": false
   },
   "outputs": [
    {
     "name": "stdout",
     "output_type": "stream",
     "text": [
      "[(0.66284898035987, 'Jack Matthews'), (0.9244734516419049, 'Mick LaSalle'), (0.8934051474415647, 'Claudia Puig'), (0.9912407071619299, 'Lisa Rose'), (0.38124642583151164, 'Gene Seymour'), (-1.0, 'Michael Phillips')]\n"
     ]
    },
    {
     "data": {
      "text/plain": [
       "[(0.9912407071619299, 'Lisa Rose'),\n",
       " (0.9244734516419049, 'Mick LaSalle'),\n",
       " (0.8934051474415647, 'Claudia Puig')]"
      ]
     },
     "execution_count": 62,
     "metadata": {},
     "output_type": "execute_result"
    }
   ],
   "source": [
    "top_match(critics, 'Toby', n = 3)"
   ]
  },
  {
   "cell_type": "markdown",
   "metadata": {},
   "source": [
    "## Recommending Items"
   ]
  },
  {
   "cell_type": "code",
   "execution_count": 79,
   "metadata": {
    "collapsed": false
   },
   "outputs": [],
   "source": [
    "def get_recommendation(prefs, person, similarity = sim_pearson):\n",
    "    total = {}\n",
    "    sim_sum = {}\n",
    "    for other in prefs:\n",
    "        if other == person:\n",
    "            continue\n",
    "        sim = similarity(prefs, person, other)\n",
    "        \n",
    "        if sim <= 0:\n",
    "            continue\n",
    "    \n",
    "        for item in prefs[other]:\n",
    "            if item not in prefs[person] or prefs[person][item] == 0:\n",
    "                total.setdefault(item, 0)\n",
    "                total[item] += prefs[other][item] * sim\n",
    "                sim_sum.setdefault(item, 0)\n",
    "                sim_sum[item] += sim\n",
    "                \n",
    "    ranking = [(total / sim_sum[item], item) for item, total in total.items()]\n",
    "\n",
    "    ranking.sort()\n",
    "    ranking.reverse()\n",
    "\n",
    "    return ranking"
   ]
  },
  {
   "cell_type": "code",
   "execution_count": 80,
   "metadata": {
    "collapsed": false
   },
   "outputs": [
    {
     "data": {
      "text/plain": [
       "[(3.3477895267131013, 'The Night Listener'),\n",
       " (2.8325499182641614, 'Lady in the Water'),\n",
       " (2.5309807037655645, 'Just My Luck')]"
      ]
     },
     "execution_count": 80,
     "metadata": {},
     "output_type": "execute_result"
    }
   ],
   "source": [
    "get_recommendation(critics, 'Toby')"
   ]
  },
  {
   "cell_type": "markdown",
   "metadata": {},
   "source": [
    "###Step by Step"
   ]
  },
  {
   "cell_type": "code",
   "execution_count": 77,
   "metadata": {
    "collapsed": false
   },
   "outputs": [
    {
     "name": "stdout",
     "output_type": "stream",
     "text": [
      "{'Lady in the Water': 8.383808341404684, 'Just My Luck': 8.074754105841562, 'The Night Listener': 12.89975185847269} {'Lady in the Water': 2.9598095649952167, 'Just My Luck': 3.1903657320769114, 'The Night Listener': 3.853214712436781}\n"
     ]
    }
   ],
   "source": [
    "total = {}\n",
    "sim_sum = {}\n",
    "for other in critics:\n",
    "    if other == 'Toby':\n",
    "        continue\n",
    "    sim = sim_pearson(critics, other, 'Toby')\n",
    "    \n",
    "    if sim <= 0:\n",
    "        continue\n",
    "    \n",
    "    for item in critics[other]:\n",
    "        if item not in critics['Toby'] or critics['Toby'][item] == 0:\n",
    "            total.setdefault(item, 0)\n",
    "            total[item] += critics[other][item] * sim\n",
    "            sim_sum.setdefault(item, 0)\n",
    "            sim_sum[item] += sim\n",
    "            \n",
    "print total, sim_sum"
   ]
  },
  {
   "cell_type": "code",
   "execution_count": 78,
   "metadata": {
    "collapsed": false
   },
   "outputs": [
    {
     "name": "stdout",
     "output_type": "stream",
     "text": [
      "[(3.3477895267131013, 'The Night Listener'), (2.8325499182641614, 'Lady in the Water'), (2.5309807037655645, 'Just My Luck')]\n"
     ]
    }
   ],
   "source": [
    "total = {}\n",
    "sim_sum = {}\n",
    "for other in critics:\n",
    "    if other == 'Toby':\n",
    "        continue\n",
    "    sim = sim_pearson(critics, other, 'Toby')\n",
    "    \n",
    "    if sim <= 0:\n",
    "        continue\n",
    "    \n",
    "    for item in critics[other]:\n",
    "        if item not in critics['Toby'] or critics['Toby'][item] == 0:\n",
    "            total.setdefault(item, 0)\n",
    "            total[item] += critics[other][item] * sim\n",
    "            sim_sum.setdefault(item, 0)\n",
    "            sim_sum[item] += sim\n",
    "ranking = [(total / sim_sum[item], item) for item, total in total.items()]\n",
    "\n",
    "ranking.sort()\n",
    "ranking.reverse()\n",
    "\n",
    "print ranking"
   ]
  },
  {
   "cell_type": "markdown",
   "metadata": {},
   "source": [
    "## Matching Products"
   ]
  },
  {
   "cell_type": "markdown",
   "metadata": {},
   "source": [
    "## Building a del.icio.us Link Recommender"
   ]
  },
  {
   "cell_type": "markdown",
   "metadata": {},
   "source": [
    "### The del.icio.us API"
   ]
  },
  {
   "cell_type": "code",
   "execution_count": 1,
   "metadata": {
    "collapsed": false
   },
   "outputs": [],
   "source": [
    "import pydelicious"
   ]
  },
  {
   "cell_type": "code",
   "execution_count": 3,
   "metadata": {
    "collapsed": false
   },
   "outputs": [
    {
     "data": {
      "text/plain": [
       "[{'description': u'something went wrong',\n",
       "  'dt': '',\n",
       "  'extended': '',\n",
       "  'tags': '',\n",
       "  'url': '',\n",
       "  'user': ''}]"
      ]
     },
     "execution_count": 3,
     "metadata": {},
     "output_type": "execute_result"
    }
   ],
   "source": [
    "pydelicious.get_popular(tag = 'programming')"
   ]
  },
  {
   "cell_type": "markdown",
   "metadata": {},
   "source": [
    "###Building the dataset"
   ]
  },
  {
   "cell_type": "code",
   "execution_count": 4,
   "metadata": {
    "collapsed": false
   },
   "outputs": [],
   "source": [
    "from pydelicious import get_popular, get_urlposts, get_urlposts"
   ]
  },
  {
   "cell_type": "code",
   "execution_count": 5,
   "metadata": {
    "collapsed": false
   },
   "outputs": [],
   "source": [
    "def initialize_user_dict(tag, count = 5):\n",
    "    user_dict = {}\n",
    "    for p1 in get_popular(tag = tag)[0: count]:\n",
    "        for p2 in get_urlposts(p1['href']):\n",
    "            user = p2['user']\n",
    "            user_dict[user] = {}\n",
    "    return user_dict"
   ]
  },
  {
   "cell_type": "code",
   "execution_count": null,
   "metadata": {
    "collapsed": false
   },
   "outputs": [],
   "source": []
  }
 ],
 "metadata": {
  "kernelspec": {
   "display_name": "Python 2",
   "language": "python2",
   "name": "python2"
  },
  "language_info": {
   "codemirror_mode": {
    "name": "ipython",
    "version": 2
   },
   "file_extension": ".py",
   "mimetype": "text/x-python",
   "name": "python",
   "nbconvert_exporter": "python",
   "pygments_lexer": "ipython2",
   "version": "2.7.10"
  }
 },
 "nbformat": 4,
 "nbformat_minor": 0
}
