{
 "metadata": {
  "name": "Untitled1"
 },
 "nbformat": 3,
 "nbformat_minor": 0,
 "worksheets": [
  {
   "cells": [
    {
     "cell_type": "heading",
     "level": 1,
     "metadata": {},
     "source": "Getting Started with Pandas"
    },
    {
     "cell_type": "code",
     "collapsed": false,
     "input": "from pandas import Series, DataFrame\nimport pandas as pd",
     "language": "python",
     "metadata": {},
     "outputs": [],
     "prompt_number": 1
    },
    {
     "cell_type": "code",
     "collapsed": false,
     "input": "from __future__ import division\nfrom numpy.random import randn\nimport numpy as np\nimport os\nimport matplotlib.pyplot as plt\nnp.random.seed(12345)\nplt.rc('figure', figsize = (10, 6))\nnp.set_printoptions(precision = 4)",
     "language": "python",
     "metadata": {},
     "outputs": [],
     "prompt_number": 2
    },
    {
     "cell_type": "code",
     "collapsed": false,
     "input": "%pwd",
     "language": "python",
     "metadata": {},
     "outputs": [
      {
       "metadata": {},
       "output_type": "pyout",
       "prompt_number": 3,
       "text": "u'/home/shuailong/Python/datascience/pydata-book'"
      }
     ],
     "prompt_number": 3
    },
    {
     "cell_type": "heading",
     "level": 2,
     "metadata": {},
     "source": "Introduction to pandas data structures"
    },
    {
     "cell_type": "heading",
     "level": 3,
     "metadata": {},
     "source": "Series"
    },
    {
     "cell_type": "code",
     "collapsed": false,
     "input": "obj = Series([4, 7, -5, 3])\nobj",
     "language": "python",
     "metadata": {},
     "outputs": [
      {
       "metadata": {},
       "output_type": "pyout",
       "prompt_number": 4,
       "text": "0    4\n1    7\n2   -5\n3    3\ndtype: int64"
      }
     ],
     "prompt_number": 4
    },
    {
     "cell_type": "code",
     "collapsed": false,
     "input": "obj.values",
     "language": "python",
     "metadata": {},
     "outputs": [
      {
       "metadata": {},
       "output_type": "pyout",
       "prompt_number": 5,
       "text": "array([ 4,  7, -5,  3])"
      }
     ],
     "prompt_number": 5
    },
    {
     "cell_type": "code",
     "collapsed": false,
     "input": "obj.index",
     "language": "python",
     "metadata": {},
     "outputs": [
      {
       "metadata": {},
       "output_type": "pyout",
       "prompt_number": 6,
       "text": "Int64Index([0, 1, 2, 3], dtype='int64')"
      }
     ],
     "prompt_number": 6
    },
    {
     "cell_type": "code",
     "collapsed": false,
     "input": "obj2 = Series([4, 7, -5, 3], index = ['d', 'b', 'a', 'c'])\nobj2",
     "language": "python",
     "metadata": {},
     "outputs": [
      {
       "metadata": {},
       "output_type": "pyout",
       "prompt_number": 7,
       "text": "d    4\nb    7\na   -5\nc    3\ndtype: int64"
      }
     ],
     "prompt_number": 7
    },
    {
     "cell_type": "code",
     "collapsed": false,
     "input": "obj2.index",
     "language": "python",
     "metadata": {},
     "outputs": [
      {
       "metadata": {},
       "output_type": "pyout",
       "prompt_number": 8,
       "text": "Index([u'd', u'b', u'a', u'c'], dtype='object')"
      }
     ],
     "prompt_number": 8
    },
    {
     "cell_type": "code",
     "collapsed": false,
     "input": "obj2['a']",
     "language": "python",
     "metadata": {},
     "outputs": [
      {
       "metadata": {},
       "output_type": "pyout",
       "prompt_number": 9,
       "text": "-5"
      }
     ],
     "prompt_number": 9
    },
    {
     "cell_type": "code",
     "collapsed": false,
     "input": "obj2['d'] = 10\nobj2",
     "language": "python",
     "metadata": {},
     "outputs": [
      {
       "metadata": {},
       "output_type": "pyout",
       "prompt_number": 11,
       "text": "d    10\nb     7\na    -5\nc     3\ndtype: int64"
      }
     ],
     "prompt_number": 11
    },
    {
     "cell_type": "code",
     "collapsed": false,
     "input": "obj2[['c', 'a', 'd']]",
     "language": "python",
     "metadata": {},
     "outputs": [
      {
       "metadata": {},
       "output_type": "pyout",
       "prompt_number": 13,
       "text": "c     3\na    -5\nd    10\ndtype: int64"
      }
     ],
     "prompt_number": 13
    },
    {
     "cell_type": "code",
     "collapsed": false,
     "input": "obj[obj > 2]",
     "language": "python",
     "metadata": {},
     "outputs": [
      {
       "metadata": {},
       "output_type": "pyout",
       "prompt_number": 14,
       "text": "0    4\n1    7\n3    3\ndtype: int64"
      }
     ],
     "prompt_number": 14
    },
    {
     "cell_type": "code",
     "collapsed": false,
     "input": "obj2 * 2",
     "language": "python",
     "metadata": {},
     "outputs": [
      {
       "metadata": {},
       "output_type": "pyout",
       "prompt_number": 15,
       "text": "d    20\nb    14\na   -10\nc     6\ndtype: int64"
      }
     ],
     "prompt_number": 15
    },
    {
     "cell_type": "code",
     "collapsed": false,
     "input": "np.exp(obj2)",
     "language": "python",
     "metadata": {},
     "outputs": [
      {
       "metadata": {},
       "output_type": "pyout",
       "prompt_number": 16,
       "text": "d    22026.465795\nb     1096.633158\na        0.006738\nc       20.085537\ndtype: float64"
      }
     ],
     "prompt_number": 16
    },
    {
     "cell_type": "code",
     "collapsed": false,
     "input": "'b' in obj2",
     "language": "python",
     "metadata": {},
     "outputs": [
      {
       "metadata": {},
       "output_type": "pyout",
       "prompt_number": 17,
       "text": "True"
      }
     ],
     "prompt_number": 17
    },
    {
     "cell_type": "code",
     "collapsed": false,
     "input": "'e' in obj2",
     "language": "python",
     "metadata": {},
     "outputs": [
      {
       "metadata": {},
       "output_type": "pyout",
       "prompt_number": 18,
       "text": "False"
      }
     ],
     "prompt_number": 18
    },
    {
     "cell_type": "code",
     "collapsed": false,
     "input": "sdata = {'Ohio': 35000, 'Texas': 71000, 'Oregon': 16000, 'Utah': 5000}\nobj3 = Series(sdata)\nobj3",
     "language": "python",
     "metadata": {},
     "outputs": [
      {
       "metadata": {},
       "output_type": "pyout",
       "prompt_number": 19,
       "text": "Ohio      35000\nOregon    16000\nTexas     71000\nUtah       5000\ndtype: int64"
      }
     ],
     "prompt_number": 19
    },
    {
     "cell_type": "code",
     "collapsed": false,
     "input": "states = {'California', 'Ohio', 'Oregon', 'Texas'}\nobj4 = Series(sdata, index = states)\nobj4",
     "language": "python",
     "metadata": {},
     "outputs": [
      {
       "metadata": {},
       "output_type": "pyout",
       "prompt_number": 21,
       "text": "Ohio          35000\nCalifornia      NaN\nOregon        16000\nTexas         71000\ndtype: float64"
      }
     ],
     "prompt_number": 21
    },
    {
     "cell_type": "code",
     "collapsed": false,
     "input": "pd.isnull(obj4)",
     "language": "python",
     "metadata": {},
     "outputs": [
      {
       "metadata": {},
       "output_type": "pyout",
       "prompt_number": 22,
       "text": "Ohio          False\nCalifornia     True\nOregon        False\nTexas         False\ndtype: bool"
      }
     ],
     "prompt_number": 22
    },
    {
     "cell_type": "code",
     "collapsed": false,
     "input": "obj4.isnull()",
     "language": "python",
     "metadata": {},
     "outputs": [
      {
       "metadata": {},
       "output_type": "pyout",
       "prompt_number": 24,
       "text": "Ohio          False\nCalifornia     True\nOregon        False\nTexas         False\ndtype: bool"
      }
     ],
     "prompt_number": 24
    },
    {
     "cell_type": "code",
     "collapsed": false,
     "input": "pd.notnull(obj4)",
     "language": "python",
     "metadata": {},
     "outputs": [
      {
       "metadata": {},
       "output_type": "pyout",
       "prompt_number": 23,
       "text": "Ohio           True\nCalifornia    False\nOregon         True\nTexas          True\ndtype: bool"
      }
     ],
     "prompt_number": 23
    },
    {
     "cell_type": "code",
     "collapsed": false,
     "input": "obj3",
     "language": "python",
     "metadata": {},
     "outputs": [
      {
       "metadata": {},
       "output_type": "pyout",
       "prompt_number": 25,
       "text": "Ohio      35000\nOregon    16000\nTexas     71000\nUtah       5000\ndtype: int64"
      }
     ],
     "prompt_number": 25
    },
    {
     "cell_type": "code",
     "collapsed": false,
     "input": "obj4",
     "language": "python",
     "metadata": {},
     "outputs": [
      {
       "metadata": {},
       "output_type": "pyout",
       "prompt_number": 26,
       "text": "Ohio          35000\nCalifornia      NaN\nOregon        16000\nTexas         71000\ndtype: float64"
      }
     ],
     "prompt_number": 26
    },
    {
     "cell_type": "code",
     "collapsed": false,
     "input": "obj3 + obj4",
     "language": "python",
     "metadata": {},
     "outputs": [
      {
       "metadata": {},
       "output_type": "pyout",
       "prompt_number": 27,
       "text": "California       NaN\nOhio           70000\nOregon         32000\nTexas         142000\nUtah             NaN\ndtype: float64"
      }
     ],
     "prompt_number": 27
    },
    {
     "cell_type": "code",
     "collapsed": false,
     "input": "obj4.name = 'population'\nobj4.index.name = 'state'\nobj4",
     "language": "python",
     "metadata": {},
     "outputs": [
      {
       "metadata": {},
       "output_type": "pyout",
       "prompt_number": 28,
       "text": "state\nOhio          35000\nCalifornia      NaN\nOregon        16000\nTexas         71000\nName: population, dtype: float64"
      }
     ],
     "prompt_number": 28
    },
    {
     "cell_type": "code",
     "collapsed": false,
     "input": "obj",
     "language": "python",
     "metadata": {},
     "outputs": [
      {
       "metadata": {},
       "output_type": "pyout",
       "prompt_number": 29,
       "text": "0    4\n1    7\n2   -5\n3    3\ndtype: int64"
      }
     ],
     "prompt_number": 29
    },
    {
     "cell_type": "code",
     "collapsed": false,
     "input": "obj.index = ['Bob', 'Steve', 'Jeff', 'Rfan']\nobj",
     "language": "python",
     "metadata": {},
     "outputs": [
      {
       "metadata": {},
       "output_type": "pyout",
       "prompt_number": 30,
       "text": "Bob      4\nSteve    7\nJeff    -5\nRfan     3\ndtype: int64"
      }
     ],
     "prompt_number": 30
    },
    {
     "cell_type": "heading",
     "level": 3,
     "metadata": {},
     "source": "DataFrame"
    },
    {
     "cell_type": "code",
     "collapsed": false,
     "input": "data = {'state': ['Ohio', 'Ohio' ,'Ohio', 'Neveda', 'Neveda'],\n        'year': [2000, 2001, 2002, 2001, 2002],\n        'pop': [1.5, 1.7, 3.6, 2.4, 2.9]}\nframe = DataFrame(data)\nframe",
     "language": "python",
     "metadata": {},
     "outputs": [
      {
       "html": "<div style=\"max-height:1000px;max-width:1500px;overflow:auto;\">\n<table border=\"1\" class=\"dataframe\">\n  <thead>\n    <tr style=\"text-align: right;\">\n      <th></th>\n      <th>pop</th>\n      <th>state</th>\n      <th>year</th>\n    </tr>\n  </thead>\n  <tbody>\n    <tr>\n      <th>0</th>\n      <td> 1.5</td>\n      <td>   Ohio</td>\n      <td> 2000</td>\n    </tr>\n    <tr>\n      <th>1</th>\n      <td> 1.7</td>\n      <td>   Ohio</td>\n      <td> 2001</td>\n    </tr>\n    <tr>\n      <th>2</th>\n      <td> 3.6</td>\n      <td>   Ohio</td>\n      <td> 2002</td>\n    </tr>\n    <tr>\n      <th>3</th>\n      <td> 2.4</td>\n      <td> Neveda</td>\n      <td> 2001</td>\n    </tr>\n    <tr>\n      <th>4</th>\n      <td> 2.9</td>\n      <td> Neveda</td>\n      <td> 2002</td>\n    </tr>\n  </tbody>\n</table>\n<p>5 rows \u00d7 3 columns</p>\n</div>",
       "metadata": {},
       "output_type": "pyout",
       "prompt_number": 31,
       "text": "   pop   state  year\n0  1.5    Ohio  2000\n1  1.7    Ohio  2001\n2  3.6    Ohio  2002\n3  2.4  Neveda  2001\n4  2.9  Neveda  2002\n\n[5 rows x 3 columns]"
      }
     ],
     "prompt_number": 31
    },
    {
     "cell_type": "code",
     "collapsed": false,
     "input": "DataFrame(data, columns = ['year', 'state', 'pop'])",
     "language": "python",
     "metadata": {},
     "outputs": [
      {
       "html": "<div style=\"max-height:1000px;max-width:1500px;overflow:auto;\">\n<table border=\"1\" class=\"dataframe\">\n  <thead>\n    <tr style=\"text-align: right;\">\n      <th></th>\n      <th>year</th>\n      <th>state</th>\n      <th>pop</th>\n    </tr>\n  </thead>\n  <tbody>\n    <tr>\n      <th>0</th>\n      <td> 2000</td>\n      <td>   Ohio</td>\n      <td> 1.5</td>\n    </tr>\n    <tr>\n      <th>1</th>\n      <td> 2001</td>\n      <td>   Ohio</td>\n      <td> 1.7</td>\n    </tr>\n    <tr>\n      <th>2</th>\n      <td> 2002</td>\n      <td>   Ohio</td>\n      <td> 3.6</td>\n    </tr>\n    <tr>\n      <th>3</th>\n      <td> 2001</td>\n      <td> Neveda</td>\n      <td> 2.4</td>\n    </tr>\n    <tr>\n      <th>4</th>\n      <td> 2002</td>\n      <td> Neveda</td>\n      <td> 2.9</td>\n    </tr>\n  </tbody>\n</table>\n<p>5 rows \u00d7 3 columns</p>\n</div>",
       "metadata": {},
       "output_type": "pyout",
       "prompt_number": 33,
       "text": "   year   state  pop\n0  2000    Ohio  1.5\n1  2001    Ohio  1.7\n2  2002    Ohio  3.6\n3  2001  Neveda  2.4\n4  2002  Neveda  2.9\n\n[5 rows x 3 columns]"
      }
     ],
     "prompt_number": 33
    },
    {
     "cell_type": "code",
     "collapsed": false,
     "input": "frame2 = DataFrame(data, columns = ['year', 'state', 'pop', 'debt'],\n                   index = ['one', 'two', 'three', 'four', 'five'])\nframe2",
     "language": "python",
     "metadata": {},
     "outputs": [
      {
       "html": "<div style=\"max-height:1000px;max-width:1500px;overflow:auto;\">\n<table border=\"1\" class=\"dataframe\">\n  <thead>\n    <tr style=\"text-align: right;\">\n      <th></th>\n      <th>year</th>\n      <th>state</th>\n      <th>pop</th>\n      <th>debt</th>\n    </tr>\n  </thead>\n  <tbody>\n    <tr>\n      <th>one</th>\n      <td> 2000</td>\n      <td>   Ohio</td>\n      <td> 1.5</td>\n      <td> NaN</td>\n    </tr>\n    <tr>\n      <th>two</th>\n      <td> 2001</td>\n      <td>   Ohio</td>\n      <td> 1.7</td>\n      <td> NaN</td>\n    </tr>\n    <tr>\n      <th>three</th>\n      <td> 2002</td>\n      <td>   Ohio</td>\n      <td> 3.6</td>\n      <td> NaN</td>\n    </tr>\n    <tr>\n      <th>four</th>\n      <td> 2001</td>\n      <td> Neveda</td>\n      <td> 2.4</td>\n      <td> NaN</td>\n    </tr>\n    <tr>\n      <th>five</th>\n      <td> 2002</td>\n      <td> Neveda</td>\n      <td> 2.9</td>\n      <td> NaN</td>\n    </tr>\n  </tbody>\n</table>\n<p>5 rows \u00d7 4 columns</p>\n</div>",
       "metadata": {},
       "output_type": "pyout",
       "prompt_number": 34,
       "text": "       year   state  pop debt\none    2000    Ohio  1.5  NaN\ntwo    2001    Ohio  1.7  NaN\nthree  2002    Ohio  3.6  NaN\nfour   2001  Neveda  2.4  NaN\nfive   2002  Neveda  2.9  NaN\n\n[5 rows x 4 columns]"
      }
     ],
     "prompt_number": 34
    },
    {
     "cell_type": "code",
     "collapsed": false,
     "input": "frame2.columns",
     "language": "python",
     "metadata": {},
     "outputs": [
      {
       "metadata": {},
       "output_type": "pyout",
       "prompt_number": 35,
       "text": "Index([u'year', u'state', u'pop', u'debt'], dtype='object')"
      }
     ],
     "prompt_number": 35
    },
    {
     "cell_type": "code",
     "collapsed": false,
     "input": "frame2['state']",
     "language": "python",
     "metadata": {},
     "outputs": [
      {
       "metadata": {},
       "output_type": "pyout",
       "prompt_number": 36,
       "text": "one        Ohio\ntwo        Ohio\nthree      Ohio\nfour     Neveda\nfive     Neveda\nName: state, dtype: object"
      }
     ],
     "prompt_number": 36
    },
    {
     "cell_type": "code",
     "collapsed": false,
     "input": "frame2.state",
     "language": "python",
     "metadata": {},
     "outputs": [
      {
       "metadata": {},
       "output_type": "pyout",
       "prompt_number": 38,
       "text": "one        Ohio\ntwo        Ohio\nthree      Ohio\nfour     Neveda\nfive     Neveda\nName: state, dtype: object"
      }
     ],
     "prompt_number": 38
    },
    {
     "cell_type": "code",
     "collapsed": false,
     "input": "frame2.year",
     "language": "python",
     "metadata": {},
     "outputs": [
      {
       "metadata": {},
       "output_type": "pyout",
       "prompt_number": 37,
       "text": "one      2000\ntwo      2001\nthree    2002\nfour     2001\nfive     2002\nName: year, dtype: int64"
      }
     ],
     "prompt_number": 37
    },
    {
     "cell_type": "code",
     "collapsed": false,
     "input": "frame2.ix['three']",
     "language": "python",
     "metadata": {},
     "outputs": [
      {
       "metadata": {},
       "output_type": "pyout",
       "prompt_number": 39,
       "text": "year     2002\nstate    Ohio\npop       3.6\ndebt      NaN\nName: three, dtype: object"
      }
     ],
     "prompt_number": 39
    },
    {
     "cell_type": "code",
     "collapsed": false,
     "input": "frame2['debt'] = 16.5\nframe2",
     "language": "python",
     "metadata": {},
     "outputs": [
      {
       "html": "<div style=\"max-height:1000px;max-width:1500px;overflow:auto;\">\n<table border=\"1\" class=\"dataframe\">\n  <thead>\n    <tr style=\"text-align: right;\">\n      <th></th>\n      <th>year</th>\n      <th>state</th>\n      <th>pop</th>\n      <th>debt</th>\n    </tr>\n  </thead>\n  <tbody>\n    <tr>\n      <th>one</th>\n      <td> 2000</td>\n      <td>   Ohio</td>\n      <td> 1.5</td>\n      <td> 16.5</td>\n    </tr>\n    <tr>\n      <th>two</th>\n      <td> 2001</td>\n      <td>   Ohio</td>\n      <td> 1.7</td>\n      <td> 16.5</td>\n    </tr>\n    <tr>\n      <th>three</th>\n      <td> 2002</td>\n      <td>   Ohio</td>\n      <td> 3.6</td>\n      <td> 16.5</td>\n    </tr>\n    <tr>\n      <th>four</th>\n      <td> 2001</td>\n      <td> Neveda</td>\n      <td> 2.4</td>\n      <td> 16.5</td>\n    </tr>\n    <tr>\n      <th>five</th>\n      <td> 2002</td>\n      <td> Neveda</td>\n      <td> 2.9</td>\n      <td> 16.5</td>\n    </tr>\n  </tbody>\n</table>\n<p>5 rows \u00d7 4 columns</p>\n</div>",
       "metadata": {},
       "output_type": "pyout",
       "prompt_number": 40,
       "text": "       year   state  pop  debt\none    2000    Ohio  1.5  16.5\ntwo    2001    Ohio  1.7  16.5\nthree  2002    Ohio  3.6  16.5\nfour   2001  Neveda  2.4  16.5\nfive   2002  Neveda  2.9  16.5\n\n[5 rows x 4 columns]"
      }
     ],
     "prompt_number": 40
    },
    {
     "cell_type": "code",
     "collapsed": false,
     "input": "frame2['debt'] = np.arange(5.)\nframe2",
     "language": "python",
     "metadata": {},
     "outputs": [
      {
       "html": "<div style=\"max-height:1000px;max-width:1500px;overflow:auto;\">\n<table border=\"1\" class=\"dataframe\">\n  <thead>\n    <tr style=\"text-align: right;\">\n      <th></th>\n      <th>year</th>\n      <th>state</th>\n      <th>pop</th>\n      <th>debt</th>\n    </tr>\n  </thead>\n  <tbody>\n    <tr>\n      <th>one</th>\n      <td> 2000</td>\n      <td>   Ohio</td>\n      <td> 1.5</td>\n      <td> 0</td>\n    </tr>\n    <tr>\n      <th>two</th>\n      <td> 2001</td>\n      <td>   Ohio</td>\n      <td> 1.7</td>\n      <td> 1</td>\n    </tr>\n    <tr>\n      <th>three</th>\n      <td> 2002</td>\n      <td>   Ohio</td>\n      <td> 3.6</td>\n      <td> 2</td>\n    </tr>\n    <tr>\n      <th>four</th>\n      <td> 2001</td>\n      <td> Neveda</td>\n      <td> 2.4</td>\n      <td> 3</td>\n    </tr>\n    <tr>\n      <th>five</th>\n      <td> 2002</td>\n      <td> Neveda</td>\n      <td> 2.9</td>\n      <td> 4</td>\n    </tr>\n  </tbody>\n</table>\n<p>5 rows \u00d7 4 columns</p>\n</div>",
       "metadata": {},
       "output_type": "pyout",
       "prompt_number": 41,
       "text": "       year   state  pop  debt\none    2000    Ohio  1.5     0\ntwo    2001    Ohio  1.7     1\nthree  2002    Ohio  3.6     2\nfour   2001  Neveda  2.4     3\nfive   2002  Neveda  2.9     4\n\n[5 rows x 4 columns]"
      }
     ],
     "prompt_number": 41
    },
    {
     "cell_type": "code",
     "collapsed": false,
     "input": "val = Series([-1.2, -1.5, -1.7], index = ['two', 'four', 'five'])\nval",
     "language": "python",
     "metadata": {},
     "outputs": [
      {
       "metadata": {},
       "output_type": "pyout",
       "prompt_number": 43,
       "text": "two    -1.2\nfour   -1.5\nfive   -1.7\ndtype: float64"
      }
     ],
     "prompt_number": 43
    },
    {
     "cell_type": "code",
     "collapsed": false,
     "input": "frame2['debt'] = val\nframe2",
     "language": "python",
     "metadata": {},
     "outputs": [
      {
       "html": "<div style=\"max-height:1000px;max-width:1500px;overflow:auto;\">\n<table border=\"1\" class=\"dataframe\">\n  <thead>\n    <tr style=\"text-align: right;\">\n      <th></th>\n      <th>year</th>\n      <th>state</th>\n      <th>pop</th>\n      <th>debt</th>\n    </tr>\n  </thead>\n  <tbody>\n    <tr>\n      <th>one</th>\n      <td> 2000</td>\n      <td>   Ohio</td>\n      <td> 1.5</td>\n      <td> NaN</td>\n    </tr>\n    <tr>\n      <th>two</th>\n      <td> 2001</td>\n      <td>   Ohio</td>\n      <td> 1.7</td>\n      <td>-1.2</td>\n    </tr>\n    <tr>\n      <th>three</th>\n      <td> 2002</td>\n      <td>   Ohio</td>\n      <td> 3.6</td>\n      <td> NaN</td>\n    </tr>\n    <tr>\n      <th>four</th>\n      <td> 2001</td>\n      <td> Neveda</td>\n      <td> 2.4</td>\n      <td>-1.5</td>\n    </tr>\n    <tr>\n      <th>five</th>\n      <td> 2002</td>\n      <td> Neveda</td>\n      <td> 2.9</td>\n      <td>-1.7</td>\n    </tr>\n  </tbody>\n</table>\n<p>5 rows \u00d7 4 columns</p>\n</div>",
       "metadata": {},
       "output_type": "pyout",
       "prompt_number": 44,
       "text": "       year   state  pop  debt\none    2000    Ohio  1.5   NaN\ntwo    2001    Ohio  1.7  -1.2\nthree  2002    Ohio  3.6   NaN\nfour   2001  Neveda  2.4  -1.5\nfive   2002  Neveda  2.9  -1.7\n\n[5 rows x 4 columns]"
      }
     ],
     "prompt_number": 44
    },
    {
     "cell_type": "code",
     "collapsed": false,
     "input": "frame2['eastern'] = frame2.state == 'Ohio'\nframe2",
     "language": "python",
     "metadata": {},
     "outputs": [
      {
       "html": "<div style=\"max-height:1000px;max-width:1500px;overflow:auto;\">\n<table border=\"1\" class=\"dataframe\">\n  <thead>\n    <tr style=\"text-align: right;\">\n      <th></th>\n      <th>year</th>\n      <th>state</th>\n      <th>pop</th>\n      <th>debt</th>\n      <th>eastern</th>\n    </tr>\n  </thead>\n  <tbody>\n    <tr>\n      <th>one</th>\n      <td> 2000</td>\n      <td>   Ohio</td>\n      <td> 1.5</td>\n      <td> NaN</td>\n      <td>  True</td>\n    </tr>\n    <tr>\n      <th>two</th>\n      <td> 2001</td>\n      <td>   Ohio</td>\n      <td> 1.7</td>\n      <td>-1.2</td>\n      <td>  True</td>\n    </tr>\n    <tr>\n      <th>three</th>\n      <td> 2002</td>\n      <td>   Ohio</td>\n      <td> 3.6</td>\n      <td> NaN</td>\n      <td>  True</td>\n    </tr>\n    <tr>\n      <th>four</th>\n      <td> 2001</td>\n      <td> Neveda</td>\n      <td> 2.4</td>\n      <td>-1.5</td>\n      <td> False</td>\n    </tr>\n    <tr>\n      <th>five</th>\n      <td> 2002</td>\n      <td> Neveda</td>\n      <td> 2.9</td>\n      <td>-1.7</td>\n      <td> False</td>\n    </tr>\n  </tbody>\n</table>\n<p>5 rows \u00d7 5 columns</p>\n</div>",
       "metadata": {},
       "output_type": "pyout",
       "prompt_number": 45,
       "text": "       year   state  pop  debt eastern\none    2000    Ohio  1.5   NaN    True\ntwo    2001    Ohio  1.7  -1.2    True\nthree  2002    Ohio  3.6   NaN    True\nfour   2001  Neveda  2.4  -1.5   False\nfive   2002  Neveda  2.9  -1.7   False\n\n[5 rows x 5 columns]"
      }
     ],
     "prompt_number": 45
    },
    {
     "cell_type": "code",
     "collapsed": false,
     "input": "del frame2['eastern']\nframe2.columns",
     "language": "python",
     "metadata": {},
     "outputs": [
      {
       "metadata": {},
       "output_type": "pyout",
       "prompt_number": 46,
       "text": "Index([u'year', u'state', u'pop', u'debt'], dtype='object')"
      }
     ],
     "prompt_number": 46
    },
    {
     "cell_type": "code",
     "collapsed": false,
     "input": "pop = {'Nevada': {2001: 2.4, 2002: 2.9},\n       'Ohio': {2000: 1.5, 2001: 1.7, 2002: 3.6}}",
     "language": "python",
     "metadata": {},
     "outputs": [],
     "prompt_number": 47
    },
    {
     "cell_type": "code",
     "collapsed": false,
     "input": "frame3 = DataFrame(pop)\nframe3",
     "language": "python",
     "metadata": {},
     "outputs": [
      {
       "html": "<div style=\"max-height:1000px;max-width:1500px;overflow:auto;\">\n<table border=\"1\" class=\"dataframe\">\n  <thead>\n    <tr style=\"text-align: right;\">\n      <th></th>\n      <th>Nevada</th>\n      <th>Ohio</th>\n    </tr>\n  </thead>\n  <tbody>\n    <tr>\n      <th>2000</th>\n      <td> NaN</td>\n      <td> 1.5</td>\n    </tr>\n    <tr>\n      <th>2001</th>\n      <td> 2.4</td>\n      <td> 1.7</td>\n    </tr>\n    <tr>\n      <th>2002</th>\n      <td> 2.9</td>\n      <td> 3.6</td>\n    </tr>\n  </tbody>\n</table>\n<p>3 rows \u00d7 2 columns</p>\n</div>",
       "metadata": {},
       "output_type": "pyout",
       "prompt_number": 48,
       "text": "      Nevada  Ohio\n2000     NaN   1.5\n2001     2.4   1.7\n2002     2.9   3.6\n\n[3 rows x 2 columns]"
      }
     ],
     "prompt_number": 48
    },
    {
     "cell_type": "code",
     "collapsed": false,
     "input": "frame3.T",
     "language": "python",
     "metadata": {},
     "outputs": [
      {
       "html": "<div style=\"max-height:1000px;max-width:1500px;overflow:auto;\">\n<table border=\"1\" class=\"dataframe\">\n  <thead>\n    <tr style=\"text-align: right;\">\n      <th></th>\n      <th>2000</th>\n      <th>2001</th>\n      <th>2002</th>\n    </tr>\n  </thead>\n  <tbody>\n    <tr>\n      <th>Nevada</th>\n      <td> NaN</td>\n      <td> 2.4</td>\n      <td> 2.9</td>\n    </tr>\n    <tr>\n      <th>Ohio</th>\n      <td> 1.5</td>\n      <td> 1.7</td>\n      <td> 3.6</td>\n    </tr>\n  </tbody>\n</table>\n<p>2 rows \u00d7 3 columns</p>\n</div>",
       "metadata": {},
       "output_type": "pyout",
       "prompt_number": 49,
       "text": "        2000  2001  2002\nNevada   NaN   2.4   2.9\nOhio     1.5   1.7   3.6\n\n[2 rows x 3 columns]"
      }
     ],
     "prompt_number": 49
    },
    {
     "cell_type": "code",
     "collapsed": false,
     "input": "DataFrame(pop, index = [2001, 2002, 2003])",
     "language": "python",
     "metadata": {},
     "outputs": [
      {
       "html": "<div style=\"max-height:1000px;max-width:1500px;overflow:auto;\">\n<table border=\"1\" class=\"dataframe\">\n  <thead>\n    <tr style=\"text-align: right;\">\n      <th></th>\n      <th>Nevada</th>\n      <th>Ohio</th>\n    </tr>\n  </thead>\n  <tbody>\n    <tr>\n      <th>2001</th>\n      <td> 2.4</td>\n      <td> 1.7</td>\n    </tr>\n    <tr>\n      <th>2002</th>\n      <td> 2.9</td>\n      <td> 3.6</td>\n    </tr>\n    <tr>\n      <th>2003</th>\n      <td> NaN</td>\n      <td> NaN</td>\n    </tr>\n  </tbody>\n</table>\n<p>3 rows \u00d7 2 columns</p>\n</div>",
       "metadata": {},
       "output_type": "pyout",
       "prompt_number": 50,
       "text": "      Nevada  Ohio\n2001     2.4   1.7\n2002     2.9   3.6\n2003     NaN   NaN\n\n[3 rows x 2 columns]"
      }
     ],
     "prompt_number": 50
    },
    {
     "cell_type": "code",
     "collapsed": false,
     "input": "pdata = {'Ohio': frame3['Ohio'][:-1],\n         'Nevada': frame3['Nevada'][:2]}\nDataFrame(pdata)",
     "language": "python",
     "metadata": {},
     "outputs": [
      {
       "html": "<div style=\"max-height:1000px;max-width:1500px;overflow:auto;\">\n<table border=\"1\" class=\"dataframe\">\n  <thead>\n    <tr style=\"text-align: right;\">\n      <th></th>\n      <th>Nevada</th>\n      <th>Ohio</th>\n    </tr>\n  </thead>\n  <tbody>\n    <tr>\n      <th>2000</th>\n      <td> NaN</td>\n      <td> 1.5</td>\n    </tr>\n    <tr>\n      <th>2001</th>\n      <td> 2.4</td>\n      <td> 1.7</td>\n    </tr>\n  </tbody>\n</table>\n<p>2 rows \u00d7 2 columns</p>\n</div>",
       "metadata": {},
       "output_type": "pyout",
       "prompt_number": 51,
       "text": "      Nevada  Ohio\n2000     NaN   1.5\n2001     2.4   1.7\n\n[2 rows x 2 columns]"
      }
     ],
     "prompt_number": 51
    },
    {
     "cell_type": "code",
     "collapsed": false,
     "input": "frame3",
     "language": "python",
     "metadata": {},
     "outputs": [
      {
       "html": "<div style=\"max-height:1000px;max-width:1500px;overflow:auto;\">\n<table border=\"1\" class=\"dataframe\">\n  <thead>\n    <tr style=\"text-align: right;\">\n      <th></th>\n      <th>Nevada</th>\n      <th>Ohio</th>\n    </tr>\n  </thead>\n  <tbody>\n    <tr>\n      <th>2000</th>\n      <td> NaN</td>\n      <td> 1.5</td>\n    </tr>\n    <tr>\n      <th>2001</th>\n      <td> 2.4</td>\n      <td> 1.7</td>\n    </tr>\n    <tr>\n      <th>2002</th>\n      <td> 2.9</td>\n      <td> 3.6</td>\n    </tr>\n  </tbody>\n</table>\n<p>3 rows \u00d7 2 columns</p>\n</div>",
       "metadata": {},
       "output_type": "pyout",
       "prompt_number": 52,
       "text": "      Nevada  Ohio\n2000     NaN   1.5\n2001     2.4   1.7\n2002     2.9   3.6\n\n[3 rows x 2 columns]"
      }
     ],
     "prompt_number": 52
    },
    {
     "cell_type": "code",
     "collapsed": false,
     "input": "frame3.index.name = 'year'; frame3.columns.name = 'state'\nframe3",
     "language": "python",
     "metadata": {},
     "outputs": [
      {
       "html": "<div style=\"max-height:1000px;max-width:1500px;overflow:auto;\">\n<table border=\"1\" class=\"dataframe\">\n  <thead>\n    <tr style=\"text-align: right;\">\n      <th>state</th>\n      <th>Nevada</th>\n      <th>Ohio</th>\n    </tr>\n    <tr>\n      <th>year</th>\n      <th></th>\n      <th></th>\n    </tr>\n  </thead>\n  <tbody>\n    <tr>\n      <th>2000</th>\n      <td> NaN</td>\n      <td> 1.5</td>\n    </tr>\n    <tr>\n      <th>2001</th>\n      <td> 2.4</td>\n      <td> 1.7</td>\n    </tr>\n    <tr>\n      <th>2002</th>\n      <td> 2.9</td>\n      <td> 3.6</td>\n    </tr>\n  </tbody>\n</table>\n<p>3 rows \u00d7 2 columns</p>\n</div>",
       "metadata": {},
       "output_type": "pyout",
       "prompt_number": 54,
       "text": "state  Nevada  Ohio\nyear               \n2000      NaN   1.5\n2001      2.4   1.7\n2002      2.9   3.6\n\n[3 rows x 2 columns]"
      }
     ],
     "prompt_number": 54
    },
    {
     "cell_type": "code",
     "collapsed": false,
     "input": "frame3.values",
     "language": "python",
     "metadata": {},
     "outputs": [
      {
       "metadata": {},
       "output_type": "pyout",
       "prompt_number": 55,
       "text": "array([[ nan,  1.5],\n       [ 2.4,  1.7],\n       [ 2.9,  3.6]])"
      }
     ],
     "prompt_number": 55
    },
    {
     "cell_type": "heading",
     "level": 3,
     "metadata": {},
     "source": "Index object"
    },
    {
     "cell_type": "code",
     "collapsed": false,
     "input": "obj5 = Series(range(3), index = ['a', 'b', 'c'])\nobj5",
     "language": "python",
     "metadata": {},
     "outputs": [
      {
       "metadata": {},
       "output_type": "pyout",
       "prompt_number": 56,
       "text": "a    0\nb    1\nc    2\ndtype: int64"
      }
     ],
     "prompt_number": 56
    },
    {
     "cell_type": "code",
     "collapsed": false,
     "input": "index = obj5.index\nobj5",
     "language": "python",
     "metadata": {},
     "outputs": [
      {
       "metadata": {},
       "output_type": "pyout",
       "prompt_number": 57,
       "text": "a    0\nb    1\nc    2\ndtype: int64"
      }
     ],
     "prompt_number": 57
    },
    {
     "cell_type": "code",
     "collapsed": false,
     "input": "index[1:]",
     "language": "python",
     "metadata": {},
     "outputs": [
      {
       "metadata": {},
       "output_type": "pyout",
       "prompt_number": 58,
       "text": "Index([u'b', u'c'], dtype='object')"
      }
     ],
     "prompt_number": 58
    },
    {
     "cell_type": "code",
     "collapsed": false,
     "input": "index[1] = 'd'",
     "language": "python",
     "metadata": {},
     "outputs": [
      {
       "ename": "TypeError",
       "evalue": "'<class 'pandas.core.index.Index'>' does not support mutable operations.",
       "output_type": "pyerr",
       "traceback": [
        "\u001b[0;31m---------------------------------------------------------------------------\u001b[0m\n\u001b[0;31mTypeError\u001b[0m                                 Traceback (most recent call last)",
        "\u001b[0;32m<ipython-input-59-676fdeb26a68>\u001b[0m in \u001b[0;36m<module>\u001b[0;34m()\u001b[0m\n\u001b[0;32m----> 1\u001b[0;31m \u001b[0mindex\u001b[0m\u001b[0;34m[\u001b[0m\u001b[0;36m1\u001b[0m\u001b[0;34m]\u001b[0m \u001b[0;34m=\u001b[0m \u001b[0;34m'd'\u001b[0m\u001b[0;34m\u001b[0m\u001b[0m\n\u001b[0m",
        "\u001b[0;32m/usr/lib/python2.7/dist-packages/pandas/core/base.pyc\u001b[0m in \u001b[0;36m_disabled\u001b[0;34m(self, *args, **kwargs)\u001b[0m\n\u001b[1;32m    178\u001b[0m         \u001b[0;34m\"\"\"This method will not function because object is immutable.\"\"\"\u001b[0m\u001b[0;34m\u001b[0m\u001b[0m\n\u001b[1;32m    179\u001b[0m         raise TypeError(\"'%s' does not support mutable operations.\" %\n\u001b[0;32m--> 180\u001b[0;31m                         self.__class__)\n\u001b[0m\u001b[1;32m    181\u001b[0m \u001b[0;34m\u001b[0m\u001b[0m\n\u001b[1;32m    182\u001b[0m     \u001b[0m__setitem__\u001b[0m \u001b[0;34m=\u001b[0m \u001b[0m__setslice__\u001b[0m \u001b[0;34m=\u001b[0m \u001b[0m__delitem__\u001b[0m \u001b[0;34m=\u001b[0m \u001b[0m__delslice__\u001b[0m \u001b[0;34m=\u001b[0m \u001b[0m_disabled\u001b[0m\u001b[0;34m\u001b[0m\u001b[0m\n",
        "\u001b[0;31mTypeError\u001b[0m: '<class 'pandas.core.index.Index'>' does not support mutable operations."
       ]
      }
     ],
     "prompt_number": 59
    },
    {
     "cell_type": "code",
     "collapsed": false,
     "input": "index = pd.Index(np.arange(3))\nobj6 = Series([1.5, -2.5, 0], index = index)\nobj6.index is index\nobj6",
     "language": "python",
     "metadata": {},
     "outputs": [
      {
       "metadata": {},
       "output_type": "pyout",
       "prompt_number": 61,
       "text": "0    1.5\n1   -2.5\n2    0.0\ndtype: float64"
      }
     ],
     "prompt_number": 61
    },
    {
     "cell_type": "code",
     "collapsed": false,
     "input": "frame3",
     "language": "python",
     "metadata": {},
     "outputs": [
      {
       "html": "<div style=\"max-height:1000px;max-width:1500px;overflow:auto;\">\n<table border=\"1\" class=\"dataframe\">\n  <thead>\n    <tr style=\"text-align: right;\">\n      <th>state</th>\n      <th>Nevada</th>\n      <th>Ohio</th>\n    </tr>\n    <tr>\n      <th>year</th>\n      <th></th>\n      <th></th>\n    </tr>\n  </thead>\n  <tbody>\n    <tr>\n      <th>2000</th>\n      <td> NaN</td>\n      <td> 1.5</td>\n    </tr>\n    <tr>\n      <th>2001</th>\n      <td> 2.4</td>\n      <td> 1.7</td>\n    </tr>\n    <tr>\n      <th>2002</th>\n      <td> 2.9</td>\n      <td> 3.6</td>\n    </tr>\n  </tbody>\n</table>\n<p>3 rows \u00d7 2 columns</p>\n</div>",
       "metadata": {},
       "output_type": "pyout",
       "prompt_number": 62,
       "text": "state  Nevada  Ohio\nyear               \n2000      NaN   1.5\n2001      2.4   1.7\n2002      2.9   3.6\n\n[3 rows x 2 columns]"
      }
     ],
     "prompt_number": 62
    },
    {
     "cell_type": "code",
     "collapsed": false,
     "input": "'Ohio' in frame3.columns",
     "language": "python",
     "metadata": {},
     "outputs": [
      {
       "metadata": {},
       "output_type": "pyout",
       "prompt_number": 63,
       "text": "True"
      }
     ],
     "prompt_number": 63
    },
    {
     "cell_type": "code",
     "collapsed": false,
     "input": "2003 in frame3.index",
     "language": "python",
     "metadata": {},
     "outputs": [
      {
       "metadata": {},
       "output_type": "pyout",
       "prompt_number": 64,
       "text": "False"
      }
     ],
     "prompt_number": 64
    },
    {
     "cell_type": "heading",
     "level": 2,
     "metadata": {},
     "source": "Essential functionality"
    },
    {
     "cell_type": "heading",
     "level": 3,
     "metadata": {},
     "source": "Reindexing"
    },
    {
     "cell_type": "code",
     "collapsed": false,
     "input": "obj7 = Series(['4.5', '7.2', '-5.3', '3.6'], index = ['d', 'b', 'a', 'c'])\nobj7",
     "language": "python",
     "metadata": {},
     "outputs": [
      {
       "metadata": {},
       "output_type": "pyout",
       "prompt_number": 65,
       "text": "d     4.5\nb     7.2\na    -5.3\nc     3.6\ndtype: object"
      }
     ],
     "prompt_number": 65
    },
    {
     "cell_type": "code",
     "collapsed": false,
     "input": "obj8 = obj7.reindex(['a', 'b', 'c', 'd', 'e'])\nobj8",
     "language": "python",
     "metadata": {},
     "outputs": [
      {
       "metadata": {},
       "output_type": "pyout",
       "prompt_number": 66,
       "text": "a    -5.3\nb     7.2\nc     3.6\nd     4.5\ne     NaN\ndtype: object"
      }
     ],
     "prompt_number": 66
    },
    {
     "cell_type": "code",
     "collapsed": false,
     "input": "obj7.reindex(['a', 'b', 'c', 'd', 'e'], fill_value = 0)",
     "language": "python",
     "metadata": {},
     "outputs": [
      {
       "metadata": {},
       "output_type": "pyout",
       "prompt_number": 68,
       "text": "a    -5.3\nb     7.2\nc     3.6\nd     4.5\ne       0\ndtype: object"
      }
     ],
     "prompt_number": 68
    },
    {
     "cell_type": "code",
     "collapsed": false,
     "input": "obj9 = Series(['blue', 'purple', 'yellow'], index = [0, 2, 4])\nobj9",
     "language": "python",
     "metadata": {},
     "outputs": [
      {
       "metadata": {},
       "output_type": "pyout",
       "prompt_number": 69,
       "text": "0      blue\n2    purple\n4    yellow\ndtype: object"
      }
     ],
     "prompt_number": 69
    },
    {
     "cell_type": "code",
     "collapsed": false,
     "input": "obj9.reindex(range(6), method = 'ffill')",
     "language": "python",
     "metadata": {},
     "outputs": [
      {
       "metadata": {},
       "output_type": "pyout",
       "prompt_number": 70,
       "text": "0      blue\n1      blue\n2    purple\n3    purple\n4    yellow\n5    yellow\ndtype: object"
      }
     ],
     "prompt_number": 70
    },
    {
     "cell_type": "code",
     "collapsed": false,
     "input": "frame4 = DataFrame(np.arange(9).reshape((3, 3)), index = ['a', 'c', 'd'],\n                   columns = ['Ohio', 'Texas', 'California'])\nframe4",
     "language": "python",
     "metadata": {},
     "outputs": [
      {
       "html": "<div style=\"max-height:1000px;max-width:1500px;overflow:auto;\">\n<table border=\"1\" class=\"dataframe\">\n  <thead>\n    <tr style=\"text-align: right;\">\n      <th></th>\n      <th>Ohio</th>\n      <th>Texas</th>\n      <th>California</th>\n    </tr>\n  </thead>\n  <tbody>\n    <tr>\n      <th>a</th>\n      <td> 0</td>\n      <td> 1</td>\n      <td> 2</td>\n    </tr>\n    <tr>\n      <th>c</th>\n      <td> 3</td>\n      <td> 4</td>\n      <td> 5</td>\n    </tr>\n    <tr>\n      <th>d</th>\n      <td> 6</td>\n      <td> 7</td>\n      <td> 8</td>\n    </tr>\n  </tbody>\n</table>\n<p>3 rows \u00d7 3 columns</p>\n</div>",
       "metadata": {},
       "output_type": "pyout",
       "prompt_number": 76,
       "text": "   Ohio  Texas  California\na     0      1           2\nc     3      4           5\nd     6      7           8\n\n[3 rows x 3 columns]"
      }
     ],
     "prompt_number": 76
    },
    {
     "cell_type": "code",
     "collapsed": false,
     "input": "frame5 = frame4.reindex(['a', 'b', 'c', 'd'])\nframe5",
     "language": "python",
     "metadata": {},
     "outputs": [
      {
       "html": "<div style=\"max-height:1000px;max-width:1500px;overflow:auto;\">\n<table border=\"1\" class=\"dataframe\">\n  <thead>\n    <tr style=\"text-align: right;\">\n      <th></th>\n      <th>Ohio</th>\n      <th>Texas</th>\n      <th>California</th>\n    </tr>\n  </thead>\n  <tbody>\n    <tr>\n      <th>a</th>\n      <td>  0</td>\n      <td>  1</td>\n      <td>  2</td>\n    </tr>\n    <tr>\n      <th>b</th>\n      <td>NaN</td>\n      <td>NaN</td>\n      <td>NaN</td>\n    </tr>\n    <tr>\n      <th>c</th>\n      <td>  3</td>\n      <td>  4</td>\n      <td>  5</td>\n    </tr>\n    <tr>\n      <th>d</th>\n      <td>  6</td>\n      <td>  7</td>\n      <td>  8</td>\n    </tr>\n  </tbody>\n</table>\n<p>4 rows \u00d7 3 columns</p>\n</div>",
       "metadata": {},
       "output_type": "pyout",
       "prompt_number": 77,
       "text": "   Ohio  Texas  California\na     0      1           2\nb   NaN    NaN         NaN\nc     3      4           5\nd     6      7           8\n\n[4 rows x 3 columns]"
      }
     ],
     "prompt_number": 77
    },
    {
     "cell_type": "code",
     "collapsed": false,
     "input": "states = ['Texas', 'Utah', 'California']\nframe5.reindex(columns = states)",
     "language": "python",
     "metadata": {},
     "outputs": [
      {
       "html": "<div style=\"max-height:1000px;max-width:1500px;overflow:auto;\">\n<table border=\"1\" class=\"dataframe\">\n  <thead>\n    <tr style=\"text-align: right;\">\n      <th></th>\n      <th>Texas</th>\n      <th>Utah</th>\n      <th>California</th>\n    </tr>\n  </thead>\n  <tbody>\n    <tr>\n      <th>a</th>\n      <td>  1</td>\n      <td>NaN</td>\n      <td>  2</td>\n    </tr>\n    <tr>\n      <th>b</th>\n      <td>NaN</td>\n      <td>NaN</td>\n      <td>NaN</td>\n    </tr>\n    <tr>\n      <th>c</th>\n      <td>  4</td>\n      <td>NaN</td>\n      <td>  5</td>\n    </tr>\n    <tr>\n      <th>d</th>\n      <td>  7</td>\n      <td>NaN</td>\n      <td>  8</td>\n    </tr>\n  </tbody>\n</table>\n<p>4 rows \u00d7 3 columns</p>\n</div>",
       "metadata": {},
       "output_type": "pyout",
       "prompt_number": 78,
       "text": "   Texas  Utah  California\na      1   NaN           2\nb    NaN   NaN         NaN\nc      4   NaN           5\nd      7   NaN           8\n\n[4 rows x 3 columns]"
      }
     ],
     "prompt_number": 78
    },
    {
     "cell_type": "code",
     "collapsed": false,
     "input": "frame4.reindex(index = ['a', 'b', 'c', 'd'], method = 'ffill', columns = states)",
     "language": "python",
     "metadata": {},
     "outputs": [
      {
       "html": "<div style=\"max-height:1000px;max-width:1500px;overflow:auto;\">\n<table border=\"1\" class=\"dataframe\">\n  <thead>\n    <tr style=\"text-align: right;\">\n      <th></th>\n      <th>Texas</th>\n      <th>Utah</th>\n      <th>California</th>\n    </tr>\n  </thead>\n  <tbody>\n    <tr>\n      <th>a</th>\n      <td> 1</td>\n      <td>NaN</td>\n      <td> 2</td>\n    </tr>\n    <tr>\n      <th>b</th>\n      <td> 1</td>\n      <td>NaN</td>\n      <td> 2</td>\n    </tr>\n    <tr>\n      <th>c</th>\n      <td> 4</td>\n      <td>NaN</td>\n      <td> 5</td>\n    </tr>\n    <tr>\n      <th>d</th>\n      <td> 7</td>\n      <td>NaN</td>\n      <td> 8</td>\n    </tr>\n  </tbody>\n</table>\n<p>4 rows \u00d7 3 columns</p>\n</div>",
       "metadata": {},
       "output_type": "pyout",
       "prompt_number": 79,
       "text": "   Texas  Utah  California\na      1   NaN           2\nb      1   NaN           2\nc      4   NaN           5\nd      7   NaN           8\n\n[4 rows x 3 columns]"
      }
     ],
     "prompt_number": 79
    },
    {
     "cell_type": "code",
     "collapsed": false,
     "input": "frame4.ix[['a', 'b', 'c', 'd'], states]",
     "language": "python",
     "metadata": {},
     "outputs": [
      {
       "html": "<div style=\"max-height:1000px;max-width:1500px;overflow:auto;\">\n<table border=\"1\" class=\"dataframe\">\n  <thead>\n    <tr style=\"text-align: right;\">\n      <th></th>\n      <th>Texas</th>\n      <th>Utah</th>\n      <th>California</th>\n    </tr>\n  </thead>\n  <tbody>\n    <tr>\n      <th>a</th>\n      <td>  1</td>\n      <td>NaN</td>\n      <td>  2</td>\n    </tr>\n    <tr>\n      <th>b</th>\n      <td>NaN</td>\n      <td>NaN</td>\n      <td>NaN</td>\n    </tr>\n    <tr>\n      <th>c</th>\n      <td>  4</td>\n      <td>NaN</td>\n      <td>  5</td>\n    </tr>\n    <tr>\n      <th>d</th>\n      <td>  7</td>\n      <td>NaN</td>\n      <td>  8</td>\n    </tr>\n  </tbody>\n</table>\n<p>4 rows \u00d7 3 columns</p>\n</div>",
       "metadata": {},
       "output_type": "pyout",
       "prompt_number": 80,
       "text": "   Texas  Utah  California\na      1   NaN           2\nb    NaN   NaN         NaN\nc      4   NaN           5\nd      7   NaN           8\n\n[4 rows x 3 columns]"
      }
     ],
     "prompt_number": 80
    },
    {
     "cell_type": "heading",
     "level": 3,
     "metadata": {},
     "source": "Dropping entries from an axis"
    },
    {
     "cell_type": "code",
     "collapsed": false,
     "input": "obj10 = Series(np.arange(5.0), index = ['a', 'b', 'c', 'd', 'e'])\nobj10",
     "language": "python",
     "metadata": {},
     "outputs": [
      {
       "metadata": {},
       "output_type": "pyout",
       "prompt_number": 81,
       "text": "a    0\nb    1\nc    2\nd    3\ne    4\ndtype: float64"
      }
     ],
     "prompt_number": 81
    },
    {
     "cell_type": "code",
     "collapsed": false,
     "input": "obj11 = obj10.drop('c')\nobj11",
     "language": "python",
     "metadata": {},
     "outputs": [
      {
       "metadata": {},
       "output_type": "pyout",
       "prompt_number": 84,
       "text": "a    0\nb    1\nd    3\ne    4\ndtype: float64"
      }
     ],
     "prompt_number": 84
    },
    {
     "cell_type": "code",
     "collapsed": false,
     "input": "obj10.drop(['d', 'c'])",
     "language": "python",
     "metadata": {},
     "outputs": [
      {
       "metadata": {},
       "output_type": "pyout",
       "prompt_number": 85,
       "text": "a    0\nb    1\ne    4\ndtype: float64"
      }
     ],
     "prompt_number": 85
    },
    {
     "cell_type": "code",
     "collapsed": false,
     "input": "data = DataFrame(np.arange(16).reshape((4, 4)),\n                 index = ['Ohio', 'Colorado', 'Utah', 'New York'],\n                 columns = ['one', 'two', 'three', 'four'])\ndata",
     "language": "python",
     "metadata": {},
     "outputs": [
      {
       "html": "<div style=\"max-height:1000px;max-width:1500px;overflow:auto;\">\n<table border=\"1\" class=\"dataframe\">\n  <thead>\n    <tr style=\"text-align: right;\">\n      <th></th>\n      <th>one</th>\n      <th>two</th>\n      <th>three</th>\n      <th>four</th>\n    </tr>\n  </thead>\n  <tbody>\n    <tr>\n      <th>Ohio</th>\n      <td>  0</td>\n      <td>  1</td>\n      <td>  2</td>\n      <td>  3</td>\n    </tr>\n    <tr>\n      <th>Colorado</th>\n      <td>  4</td>\n      <td>  5</td>\n      <td>  6</td>\n      <td>  7</td>\n    </tr>\n    <tr>\n      <th>Utah</th>\n      <td>  8</td>\n      <td>  9</td>\n      <td> 10</td>\n      <td> 11</td>\n    </tr>\n    <tr>\n      <th>New York</th>\n      <td> 12</td>\n      <td> 13</td>\n      <td> 14</td>\n      <td> 15</td>\n    </tr>\n  </tbody>\n</table>\n<p>4 rows \u00d7 4 columns</p>\n</div>",
       "metadata": {},
       "output_type": "pyout",
       "prompt_number": 87,
       "text": "          one  two  three  four\nOhio        0    1      2     3\nColorado    4    5      6     7\nUtah        8    9     10    11\nNew York   12   13     14    15\n\n[4 rows x 4 columns]"
      }
     ],
     "prompt_number": 87
    },
    {
     "cell_type": "code",
     "collapsed": false,
     "input": "data.drop(['Colorado', 'Ohio'])",
     "language": "python",
     "metadata": {},
     "outputs": [
      {
       "html": "<div style=\"max-height:1000px;max-width:1500px;overflow:auto;\">\n<table border=\"1\" class=\"dataframe\">\n  <thead>\n    <tr style=\"text-align: right;\">\n      <th></th>\n      <th>one</th>\n      <th>two</th>\n      <th>three</th>\n      <th>four</th>\n    </tr>\n  </thead>\n  <tbody>\n    <tr>\n      <th>Utah</th>\n      <td>  8</td>\n      <td>  9</td>\n      <td> 10</td>\n      <td> 11</td>\n    </tr>\n    <tr>\n      <th>New York</th>\n      <td> 12</td>\n      <td> 13</td>\n      <td> 14</td>\n      <td> 15</td>\n    </tr>\n  </tbody>\n</table>\n<p>2 rows \u00d7 4 columns</p>\n</div>",
       "metadata": {},
       "output_type": "pyout",
       "prompt_number": 89,
       "text": "          one  two  three  four\nUtah        8    9     10    11\nNew York   12   13     14    15\n\n[2 rows x 4 columns]"
      }
     ],
     "prompt_number": 89
    },
    {
     "cell_type": "code",
     "collapsed": false,
     "input": "data.drop(['two'], axis = 1)",
     "language": "python",
     "metadata": {},
     "outputs": [
      {
       "html": "<div style=\"max-height:1000px;max-width:1500px;overflow:auto;\">\n<table border=\"1\" class=\"dataframe\">\n  <thead>\n    <tr style=\"text-align: right;\">\n      <th></th>\n      <th>one</th>\n      <th>three</th>\n      <th>four</th>\n    </tr>\n  </thead>\n  <tbody>\n    <tr>\n      <th>Ohio</th>\n      <td>  0</td>\n      <td>  2</td>\n      <td>  3</td>\n    </tr>\n    <tr>\n      <th>Colorado</th>\n      <td>  4</td>\n      <td>  6</td>\n      <td>  7</td>\n    </tr>\n    <tr>\n      <th>Utah</th>\n      <td>  8</td>\n      <td> 10</td>\n      <td> 11</td>\n    </tr>\n    <tr>\n      <th>New York</th>\n      <td> 12</td>\n      <td> 14</td>\n      <td> 15</td>\n    </tr>\n  </tbody>\n</table>\n<p>4 rows \u00d7 3 columns</p>\n</div>",
       "metadata": {},
       "output_type": "pyout",
       "prompt_number": 91,
       "text": "          one  three  four\nOhio        0      2     3\nColorado    4      6     7\nUtah        8     10    11\nNew York   12     14    15\n\n[4 rows x 3 columns]"
      }
     ],
     "prompt_number": 91
    },
    {
     "cell_type": "code",
     "collapsed": false,
     "input": "data.drop(['two', 'four'], axis = 1)",
     "language": "python",
     "metadata": {},
     "outputs": [
      {
       "html": "<div style=\"max-height:1000px;max-width:1500px;overflow:auto;\">\n<table border=\"1\" class=\"dataframe\">\n  <thead>\n    <tr style=\"text-align: right;\">\n      <th></th>\n      <th>one</th>\n      <th>three</th>\n    </tr>\n  </thead>\n  <tbody>\n    <tr>\n      <th>Ohio</th>\n      <td>  0</td>\n      <td>  2</td>\n    </tr>\n    <tr>\n      <th>Colorado</th>\n      <td>  4</td>\n      <td>  6</td>\n    </tr>\n    <tr>\n      <th>Utah</th>\n      <td>  8</td>\n      <td> 10</td>\n    </tr>\n    <tr>\n      <th>New York</th>\n      <td> 12</td>\n      <td> 14</td>\n    </tr>\n  </tbody>\n</table>\n<p>4 rows \u00d7 2 columns</p>\n</div>",
       "metadata": {},
       "output_type": "pyout",
       "prompt_number": 93,
       "text": "          one  three\nOhio        0      2\nColorado    4      6\nUtah        8     10\nNew York   12     14\n\n[4 rows x 2 columns]"
      }
     ],
     "prompt_number": 93
    },
    {
     "cell_type": "heading",
     "level": 3,
     "metadata": {},
     "source": "Indexing, selection, and filtering"
    },
    {
     "cell_type": "code",
     "collapsed": false,
     "input": "obj11 = Series(np.arange(4.), index = ['a', 'b', 'c', 'd'])\nobj11",
     "language": "python",
     "metadata": {},
     "outputs": [
      {
       "metadata": {},
       "output_type": "pyout",
       "prompt_number": 94,
       "text": "a    0\nb    1\nc    2\nd    3\ndtype: float64"
      }
     ],
     "prompt_number": 94
    },
    {
     "cell_type": "code",
     "collapsed": false,
     "input": "obj11[1]",
     "language": "python",
     "metadata": {},
     "outputs": [
      {
       "metadata": {},
       "output_type": "pyout",
       "prompt_number": 95,
       "text": "1.0"
      }
     ],
     "prompt_number": 95
    },
    {
     "cell_type": "code",
     "collapsed": false,
     "input": "obj11[2:4]",
     "language": "python",
     "metadata": {},
     "outputs": [
      {
       "metadata": {},
       "output_type": "pyout",
       "prompt_number": 96,
       "text": "c    2\nd    3\ndtype: float64"
      }
     ],
     "prompt_number": 96
    },
    {
     "cell_type": "code",
     "collapsed": false,
     "input": "obj11[['b', 'a', 'd']]",
     "language": "python",
     "metadata": {},
     "outputs": [
      {
       "metadata": {},
       "output_type": "pyout",
       "prompt_number": 97,
       "text": "b    1\na    0\nd    3\ndtype: float64"
      }
     ],
     "prompt_number": 97
    },
    {
     "cell_type": "code",
     "collapsed": false,
     "input": "obj11[[1, 3]]",
     "language": "python",
     "metadata": {},
     "outputs": [
      {
       "metadata": {},
       "output_type": "pyout",
       "prompt_number": 98,
       "text": "b    1\nd    3\ndtype: float64"
      }
     ],
     "prompt_number": 98
    },
    {
     "cell_type": "code",
     "collapsed": false,
     "input": "obj11[obj11 < 2]",
     "language": "python",
     "metadata": {},
     "outputs": [
      {
       "metadata": {},
       "output_type": "pyout",
       "prompt_number": 100,
       "text": "a    0\nb    1\ndtype: float64"
      }
     ],
     "prompt_number": 100
    },
    {
     "cell_type": "code",
     "collapsed": false,
     "input": "obj11['b': 'd']",
     "language": "python",
     "metadata": {},
     "outputs": [
      {
       "metadata": {},
       "output_type": "pyout",
       "prompt_number": 102,
       "text": "b    1\nc    2\nd    3\ndtype: float64"
      }
     ],
     "prompt_number": 102
    },
    {
     "cell_type": "code",
     "collapsed": false,
     "input": "obj11['b': 'c'] = 5\nobj11",
     "language": "python",
     "metadata": {},
     "outputs": [
      {
       "metadata": {},
       "output_type": "pyout",
       "prompt_number": 103,
       "text": "a    0\nb    5\nc    5\nd    3\ndtype: float64"
      }
     ],
     "prompt_number": 103
    },
    {
     "cell_type": "code",
     "collapsed": false,
     "input": "data = DataFrame(np.arange(16).reshape((4, 4,)), \n                 index = ['Ohio', 'Colorado', 'Utah', 'New York'],\n                 columns = ['one', 'two', 'three', 'four'])\ndata",
     "language": "python",
     "metadata": {},
     "outputs": [
      {
       "html": "<div style=\"max-height:1000px;max-width:1500px;overflow:auto;\">\n<table border=\"1\" class=\"dataframe\">\n  <thead>\n    <tr style=\"text-align: right;\">\n      <th></th>\n      <th>one</th>\n      <th>two</th>\n      <th>three</th>\n      <th>four</th>\n    </tr>\n  </thead>\n  <tbody>\n    <tr>\n      <th>Ohio</th>\n      <td>  0</td>\n      <td>  1</td>\n      <td>  2</td>\n      <td>  3</td>\n    </tr>\n    <tr>\n      <th>Colorado</th>\n      <td>  4</td>\n      <td>  5</td>\n      <td>  6</td>\n      <td>  7</td>\n    </tr>\n    <tr>\n      <th>Utah</th>\n      <td>  8</td>\n      <td>  9</td>\n      <td> 10</td>\n      <td> 11</td>\n    </tr>\n    <tr>\n      <th>New York</th>\n      <td> 12</td>\n      <td> 13</td>\n      <td> 14</td>\n      <td> 15</td>\n    </tr>\n  </tbody>\n</table>\n<p>4 rows \u00d7 4 columns</p>\n</div>",
       "metadata": {},
       "output_type": "pyout",
       "prompt_number": 104,
       "text": "          one  two  three  four\nOhio        0    1      2     3\nColorado    4    5      6     7\nUtah        8    9     10    11\nNew York   12   13     14    15\n\n[4 rows x 4 columns]"
      }
     ],
     "prompt_number": 104
    },
    {
     "cell_type": "code",
     "collapsed": false,
     "input": "data['two']",
     "language": "python",
     "metadata": {},
     "outputs": [
      {
       "metadata": {},
       "output_type": "pyout",
       "prompt_number": 105,
       "text": "Ohio         1\nColorado     5\nUtah         9\nNew York    13\nName: two, dtype: int64"
      }
     ],
     "prompt_number": 105
    },
    {
     "cell_type": "code",
     "collapsed": false,
     "input": "data[['three', 'one']]",
     "language": "python",
     "metadata": {},
     "outputs": [
      {
       "html": "<div style=\"max-height:1000px;max-width:1500px;overflow:auto;\">\n<table border=\"1\" class=\"dataframe\">\n  <thead>\n    <tr style=\"text-align: right;\">\n      <th></th>\n      <th>three</th>\n      <th>one</th>\n    </tr>\n  </thead>\n  <tbody>\n    <tr>\n      <th>Ohio</th>\n      <td>  2</td>\n      <td>  0</td>\n    </tr>\n    <tr>\n      <th>Colorado</th>\n      <td>  6</td>\n      <td>  4</td>\n    </tr>\n    <tr>\n      <th>Utah</th>\n      <td> 10</td>\n      <td>  8</td>\n    </tr>\n    <tr>\n      <th>New York</th>\n      <td> 14</td>\n      <td> 12</td>\n    </tr>\n  </tbody>\n</table>\n<p>4 rows \u00d7 2 columns</p>\n</div>",
       "metadata": {},
       "output_type": "pyout",
       "prompt_number": 106,
       "text": "          three  one\nOhio          2    0\nColorado      6    4\nUtah         10    8\nNew York     14   12\n\n[4 rows x 2 columns]"
      }
     ],
     "prompt_number": 106
    },
    {
     "cell_type": "code",
     "collapsed": false,
     "input": "data[:2]",
     "language": "python",
     "metadata": {},
     "outputs": [
      {
       "html": "<div style=\"max-height:1000px;max-width:1500px;overflow:auto;\">\n<table border=\"1\" class=\"dataframe\">\n  <thead>\n    <tr style=\"text-align: right;\">\n      <th></th>\n      <th>one</th>\n      <th>two</th>\n      <th>three</th>\n      <th>four</th>\n    </tr>\n  </thead>\n  <tbody>\n    <tr>\n      <th>Ohio</th>\n      <td> 0</td>\n      <td> 1</td>\n      <td> 2</td>\n      <td> 3</td>\n    </tr>\n    <tr>\n      <th>Colorado</th>\n      <td> 4</td>\n      <td> 5</td>\n      <td> 6</td>\n      <td> 7</td>\n    </tr>\n  </tbody>\n</table>\n<p>2 rows \u00d7 4 columns</p>\n</div>",
       "metadata": {},
       "output_type": "pyout",
       "prompt_number": 107,
       "text": "          one  two  three  four\nOhio        0    1      2     3\nColorado    4    5      6     7\n\n[2 rows x 4 columns]"
      }
     ],
     "prompt_number": 107
    },
    {
     "cell_type": "code",
     "collapsed": false,
     "input": "data[data['three'] > 5]",
     "language": "python",
     "metadata": {},
     "outputs": [
      {
       "html": "<div style=\"max-height:1000px;max-width:1500px;overflow:auto;\">\n<table border=\"1\" class=\"dataframe\">\n  <thead>\n    <tr style=\"text-align: right;\">\n      <th></th>\n      <th>one</th>\n      <th>two</th>\n      <th>three</th>\n      <th>four</th>\n    </tr>\n  </thead>\n  <tbody>\n    <tr>\n      <th>Colorado</th>\n      <td>  4</td>\n      <td>  5</td>\n      <td>  6</td>\n      <td>  7</td>\n    </tr>\n    <tr>\n      <th>Utah</th>\n      <td>  8</td>\n      <td>  9</td>\n      <td> 10</td>\n      <td> 11</td>\n    </tr>\n    <tr>\n      <th>New York</th>\n      <td> 12</td>\n      <td> 13</td>\n      <td> 14</td>\n      <td> 15</td>\n    </tr>\n  </tbody>\n</table>\n<p>3 rows \u00d7 4 columns</p>\n</div>",
       "metadata": {},
       "output_type": "pyout",
       "prompt_number": 109,
       "text": "          one  two  three  four\nColorado    4    5      6     7\nUtah        8    9     10    11\nNew York   12   13     14    15\n\n[3 rows x 4 columns]"
      }
     ],
     "prompt_number": 109
    },
    {
     "cell_type": "code",
     "collapsed": false,
     "input": "data < 5",
     "language": "python",
     "metadata": {},
     "outputs": [
      {
       "html": "<div style=\"max-height:1000px;max-width:1500px;overflow:auto;\">\n<table border=\"1\" class=\"dataframe\">\n  <thead>\n    <tr style=\"text-align: right;\">\n      <th></th>\n      <th>one</th>\n      <th>two</th>\n      <th>three</th>\n      <th>four</th>\n    </tr>\n  </thead>\n  <tbody>\n    <tr>\n      <th>Ohio</th>\n      <td>  True</td>\n      <td>  True</td>\n      <td>  True</td>\n      <td>  True</td>\n    </tr>\n    <tr>\n      <th>Colorado</th>\n      <td>  True</td>\n      <td> False</td>\n      <td> False</td>\n      <td> False</td>\n    </tr>\n    <tr>\n      <th>Utah</th>\n      <td> False</td>\n      <td> False</td>\n      <td> False</td>\n      <td> False</td>\n    </tr>\n    <tr>\n      <th>New York</th>\n      <td> False</td>\n      <td> False</td>\n      <td> False</td>\n      <td> False</td>\n    </tr>\n  </tbody>\n</table>\n<p>4 rows \u00d7 4 columns</p>\n</div>",
       "metadata": {},
       "output_type": "pyout",
       "prompt_number": 110,
       "text": "            one    two  three   four\nOhio       True   True   True   True\nColorado   True  False  False  False\nUtah      False  False  False  False\nNew York  False  False  False  False\n\n[4 rows x 4 columns]"
      }
     ],
     "prompt_number": 110
    },
    {
     "cell_type": "code",
     "collapsed": false,
     "input": "data [data < 5] = 0\ndata",
     "language": "python",
     "metadata": {},
     "outputs": [
      {
       "html": "<div style=\"max-height:1000px;max-width:1500px;overflow:auto;\">\n<table border=\"1\" class=\"dataframe\">\n  <thead>\n    <tr style=\"text-align: right;\">\n      <th></th>\n      <th>one</th>\n      <th>two</th>\n      <th>three</th>\n      <th>four</th>\n    </tr>\n  </thead>\n  <tbody>\n    <tr>\n      <th>Ohio</th>\n      <td>  0</td>\n      <td>  0</td>\n      <td>  0</td>\n      <td>  0</td>\n    </tr>\n    <tr>\n      <th>Colorado</th>\n      <td>  0</td>\n      <td>  5</td>\n      <td>  6</td>\n      <td>  7</td>\n    </tr>\n    <tr>\n      <th>Utah</th>\n      <td>  8</td>\n      <td>  9</td>\n      <td> 10</td>\n      <td> 11</td>\n    </tr>\n    <tr>\n      <th>New York</th>\n      <td> 12</td>\n      <td> 13</td>\n      <td> 14</td>\n      <td> 15</td>\n    </tr>\n  </tbody>\n</table>\n<p>4 rows \u00d7 4 columns</p>\n</div>",
       "metadata": {},
       "output_type": "pyout",
       "prompt_number": 112,
       "text": "          one  two  three  four\nOhio        0    0      0     0\nColorado    0    5      6     7\nUtah        8    9     10    11\nNew York   12   13     14    15\n\n[4 rows x 4 columns]"
      }
     ],
     "prompt_number": 112
    },
    {
     "cell_type": "code",
     "collapsed": false,
     "input": "data.ix['Colorado', ['two', 'three']]",
     "language": "python",
     "metadata": {},
     "outputs": [
      {
       "metadata": {},
       "output_type": "pyout",
       "prompt_number": 113,
       "text": "two      5\nthree    6\nName: Colorado, dtype: int64"
      }
     ],
     "prompt_number": 113
    },
    {
     "cell_type": "code",
     "collapsed": false,
     "input": "data.ix[['Colorado', 'Utah'], [3, 0, 1]]",
     "language": "python",
     "metadata": {},
     "outputs": [
      {
       "html": "<div style=\"max-height:1000px;max-width:1500px;overflow:auto;\">\n<table border=\"1\" class=\"dataframe\">\n  <thead>\n    <tr style=\"text-align: right;\">\n      <th></th>\n      <th>four</th>\n      <th>one</th>\n      <th>two</th>\n    </tr>\n  </thead>\n  <tbody>\n    <tr>\n      <th>Colorado</th>\n      <td>  7</td>\n      <td> 0</td>\n      <td> 5</td>\n    </tr>\n    <tr>\n      <th>Utah</th>\n      <td> 11</td>\n      <td> 8</td>\n      <td> 9</td>\n    </tr>\n  </tbody>\n</table>\n<p>2 rows \u00d7 3 columns</p>\n</div>",
       "metadata": {},
       "output_type": "pyout",
       "prompt_number": 114,
       "text": "          four  one  two\nColorado     7    0    5\nUtah        11    8    9\n\n[2 rows x 3 columns]"
      }
     ],
     "prompt_number": 114
    },
    {
     "cell_type": "code",
     "collapsed": false,
     "input": "data.ix[2]",
     "language": "python",
     "metadata": {},
     "outputs": [
      {
       "metadata": {},
       "output_type": "pyout",
       "prompt_number": 115,
       "text": "one       8\ntwo       9\nthree    10\nfour     11\nName: Utah, dtype: int64"
      }
     ],
     "prompt_number": 115
    },
    {
     "cell_type": "code",
     "collapsed": false,
     "input": "data.ix[:'Utah', 'two']",
     "language": "python",
     "metadata": {},
     "outputs": [
      {
       "metadata": {},
       "output_type": "pyout",
       "prompt_number": 116,
       "text": "Ohio        0\nColorado    5\nUtah        9\nName: two, dtype: int64"
      }
     ],
     "prompt_number": 116
    },
    {
     "cell_type": "code",
     "collapsed": false,
     "input": "data.ix[data.three > 5, :3]",
     "language": "python",
     "metadata": {},
     "outputs": [
      {
       "html": "<div style=\"max-height:1000px;max-width:1500px;overflow:auto;\">\n<table border=\"1\" class=\"dataframe\">\n  <thead>\n    <tr style=\"text-align: right;\">\n      <th></th>\n      <th>one</th>\n      <th>two</th>\n      <th>three</th>\n    </tr>\n  </thead>\n  <tbody>\n    <tr>\n      <th>Colorado</th>\n      <td>  0</td>\n      <td>  5</td>\n      <td>  6</td>\n    </tr>\n    <tr>\n      <th>Utah</th>\n      <td>  8</td>\n      <td>  9</td>\n      <td> 10</td>\n    </tr>\n    <tr>\n      <th>New York</th>\n      <td> 12</td>\n      <td> 13</td>\n      <td> 14</td>\n    </tr>\n  </tbody>\n</table>\n<p>3 rows \u00d7 3 columns</p>\n</div>",
       "metadata": {},
       "output_type": "pyout",
       "prompt_number": 117,
       "text": "          one  two  three\nColorado    0    5      6\nUtah        8    9     10\nNew York   12   13     14\n\n[3 rows x 3 columns]"
      }
     ],
     "prompt_number": 117
    },
    {
     "cell_type": "code",
     "collapsed": false,
     "input": "data",
     "language": "python",
     "metadata": {},
     "outputs": [
      {
       "html": "<div style=\"max-height:1000px;max-width:1500px;overflow:auto;\">\n<table border=\"1\" class=\"dataframe\">\n  <thead>\n    <tr style=\"text-align: right;\">\n      <th></th>\n      <th>one</th>\n      <th>two</th>\n      <th>three</th>\n      <th>four</th>\n    </tr>\n  </thead>\n  <tbody>\n    <tr>\n      <th>Ohio</th>\n      <td>  0</td>\n      <td>  0</td>\n      <td>  0</td>\n      <td>  0</td>\n    </tr>\n    <tr>\n      <th>Colorado</th>\n      <td>  0</td>\n      <td>  5</td>\n      <td>  6</td>\n      <td>  7</td>\n    </tr>\n    <tr>\n      <th>Utah</th>\n      <td>  8</td>\n      <td>  9</td>\n      <td> 10</td>\n      <td> 11</td>\n    </tr>\n    <tr>\n      <th>New York</th>\n      <td> 12</td>\n      <td> 13</td>\n      <td> 14</td>\n      <td> 15</td>\n    </tr>\n  </tbody>\n</table>\n<p>4 rows \u00d7 4 columns</p>\n</div>",
       "metadata": {},
       "output_type": "pyout",
       "prompt_number": 118,
       "text": "          one  two  three  four\nOhio        0    0      0     0\nColorado    0    5      6     7\nUtah        8    9     10    11\nNew York   12   13     14    15\n\n[4 rows x 4 columns]"
      }
     ],
     "prompt_number": 118
    },
    {
     "cell_type": "heading",
     "level": 3,
     "metadata": {},
     "source": "Arithmetic and data alignment"
    },
    {
     "cell_type": "code",
     "collapsed": false,
     "input": "s1 = Series([7.3, -2.5, 3.4, 1.5], index=['a', 'c', 'd', 'e'])\ns1",
     "language": "python",
     "metadata": {},
     "outputs": [
      {
       "metadata": {},
       "output_type": "pyout",
       "prompt_number": 122,
       "text": "a    7.3\nc   -2.5\nd    3.4\ne    1.5\ndtype: float64"
      }
     ],
     "prompt_number": 122
    },
    {
     "cell_type": "code",
     "collapsed": false,
     "input": "s2 = Series([-2.1, 3.6, -1.5, 4, 3.1], index=['a', 'c', 'e', 'f', 'g'])\ns2",
     "language": "python",
     "metadata": {},
     "outputs": [
      {
       "metadata": {},
       "output_type": "pyout",
       "prompt_number": 123,
       "text": "a   -2.1\nc    3.6\ne   -1.5\nf    4.0\ng    3.1\ndtype: float64"
      }
     ],
     "prompt_number": 123
    },
    {
     "cell_type": "code",
     "collapsed": false,
     "input": "s1 + s2",
     "language": "python",
     "metadata": {},
     "outputs": [
      {
       "metadata": {},
       "output_type": "pyout",
       "prompt_number": 124,
       "text": "a    5.2\nc    1.1\nd    NaN\ne    0.0\nf    NaN\ng    NaN\ndtype: float64"
      }
     ],
     "prompt_number": 124
    },
    {
     "cell_type": "code",
     "collapsed": false,
     "input": "df1 = DataFrame(np.arange(9.).reshape((3, 3)), columns=list('bcd'),\n                index=['Ohio', 'Texas', 'Colorado'])\ndf1",
     "language": "python",
     "metadata": {},
     "outputs": [
      {
       "html": "<div style=\"max-height:1000px;max-width:1500px;overflow:auto;\">\n<table border=\"1\" class=\"dataframe\">\n  <thead>\n    <tr style=\"text-align: right;\">\n      <th></th>\n      <th>b</th>\n      <th>c</th>\n      <th>d</th>\n    </tr>\n  </thead>\n  <tbody>\n    <tr>\n      <th>Ohio</th>\n      <td> 0</td>\n      <td> 1</td>\n      <td> 2</td>\n    </tr>\n    <tr>\n      <th>Texas</th>\n      <td> 3</td>\n      <td> 4</td>\n      <td> 5</td>\n    </tr>\n    <tr>\n      <th>Colorado</th>\n      <td> 6</td>\n      <td> 7</td>\n      <td> 8</td>\n    </tr>\n  </tbody>\n</table>\n<p>3 rows \u00d7 3 columns</p>\n</div>",
       "metadata": {},
       "output_type": "pyout",
       "prompt_number": 125,
       "text": "          b  c  d\nOhio      0  1  2\nTexas     3  4  5\nColorado  6  7  8\n\n[3 rows x 3 columns]"
      }
     ],
     "prompt_number": 125
    },
    {
     "cell_type": "code",
     "collapsed": false,
     "input": "df2 = DataFrame(np.arange(12.).reshape((4, 3)), columns=list('bde'),\n                index=['Utah', 'Ohio', 'Texas', 'Oregon'])\ndf2",
     "language": "python",
     "metadata": {},
     "outputs": [
      {
       "html": "<div style=\"max-height:1000px;max-width:1500px;overflow:auto;\">\n<table border=\"1\" class=\"dataframe\">\n  <thead>\n    <tr style=\"text-align: right;\">\n      <th></th>\n      <th>b</th>\n      <th>d</th>\n      <th>e</th>\n    </tr>\n  </thead>\n  <tbody>\n    <tr>\n      <th>Utah</th>\n      <td> 0</td>\n      <td>  1</td>\n      <td>  2</td>\n    </tr>\n    <tr>\n      <th>Ohio</th>\n      <td> 3</td>\n      <td>  4</td>\n      <td>  5</td>\n    </tr>\n    <tr>\n      <th>Texas</th>\n      <td> 6</td>\n      <td>  7</td>\n      <td>  8</td>\n    </tr>\n    <tr>\n      <th>Oregon</th>\n      <td> 9</td>\n      <td> 10</td>\n      <td> 11</td>\n    </tr>\n  </tbody>\n</table>\n<p>4 rows \u00d7 3 columns</p>\n</div>",
       "metadata": {},
       "output_type": "pyout",
       "prompt_number": 126,
       "text": "        b   d   e\nUtah    0   1   2\nOhio    3   4   5\nTexas   6   7   8\nOregon  9  10  11\n\n[4 rows x 3 columns]"
      }
     ],
     "prompt_number": 126
    },
    {
     "cell_type": "code",
     "collapsed": false,
     "input": "df1 + df2",
     "language": "python",
     "metadata": {},
     "outputs": [
      {
       "html": "<div style=\"max-height:1000px;max-width:1500px;overflow:auto;\">\n<table border=\"1\" class=\"dataframe\">\n  <thead>\n    <tr style=\"text-align: right;\">\n      <th></th>\n      <th>b</th>\n      <th>c</th>\n      <th>d</th>\n      <th>e</th>\n    </tr>\n  </thead>\n  <tbody>\n    <tr>\n      <th>Colorado</th>\n      <td>NaN</td>\n      <td>NaN</td>\n      <td>NaN</td>\n      <td>NaN</td>\n    </tr>\n    <tr>\n      <th>Ohio</th>\n      <td>  3</td>\n      <td>NaN</td>\n      <td>  6</td>\n      <td>NaN</td>\n    </tr>\n    <tr>\n      <th>Oregon</th>\n      <td>NaN</td>\n      <td>NaN</td>\n      <td>NaN</td>\n      <td>NaN</td>\n    </tr>\n    <tr>\n      <th>Texas</th>\n      <td>  9</td>\n      <td>NaN</td>\n      <td> 12</td>\n      <td>NaN</td>\n    </tr>\n    <tr>\n      <th>Utah</th>\n      <td>NaN</td>\n      <td>NaN</td>\n      <td>NaN</td>\n      <td>NaN</td>\n    </tr>\n  </tbody>\n</table>\n<p>5 rows \u00d7 4 columns</p>\n</div>",
       "metadata": {},
       "output_type": "pyout",
       "prompt_number": 127,
       "text": "           b   c   d   e\nColorado NaN NaN NaN NaN\nOhio       3 NaN   6 NaN\nOregon   NaN NaN NaN NaN\nTexas      9 NaN  12 NaN\nUtah     NaN NaN NaN NaN\n\n[5 rows x 4 columns]"
      }
     ],
     "prompt_number": 127
    },
    {
     "cell_type": "heading",
     "level": 3,
     "metadata": {},
     "source": "Arithmetic methods with fill values"
    },
    {
     "cell_type": "code",
     "collapsed": false,
     "input": "df1 = DataFrame(np.arange(12.).reshape((3, 4)), columns=list('abcd'))\ndf1",
     "language": "python",
     "metadata": {},
     "outputs": [
      {
       "html": "<div style=\"max-height:1000px;max-width:1500px;overflow:auto;\">\n<table border=\"1\" class=\"dataframe\">\n  <thead>\n    <tr style=\"text-align: right;\">\n      <th></th>\n      <th>a</th>\n      <th>b</th>\n      <th>c</th>\n      <th>d</th>\n    </tr>\n  </thead>\n  <tbody>\n    <tr>\n      <th>0</th>\n      <td> 0</td>\n      <td> 1</td>\n      <td>  2</td>\n      <td>  3</td>\n    </tr>\n    <tr>\n      <th>1</th>\n      <td> 4</td>\n      <td> 5</td>\n      <td>  6</td>\n      <td>  7</td>\n    </tr>\n    <tr>\n      <th>2</th>\n      <td> 8</td>\n      <td> 9</td>\n      <td> 10</td>\n      <td> 11</td>\n    </tr>\n  </tbody>\n</table>\n<p>3 rows \u00d7 4 columns</p>\n</div>",
       "metadata": {},
       "output_type": "pyout",
       "prompt_number": 128,
       "text": "   a  b   c   d\n0  0  1   2   3\n1  4  5   6   7\n2  8  9  10  11\n\n[3 rows x 4 columns]"
      }
     ],
     "prompt_number": 128
    },
    {
     "cell_type": "code",
     "collapsed": false,
     "input": "df2 = DataFrame(np.arange(20.).reshape((4, 5)), columns=list('abcde'))\ndf2",
     "language": "python",
     "metadata": {},
     "outputs": [
      {
       "html": "<div style=\"max-height:1000px;max-width:1500px;overflow:auto;\">\n<table border=\"1\" class=\"dataframe\">\n  <thead>\n    <tr style=\"text-align: right;\">\n      <th></th>\n      <th>a</th>\n      <th>b</th>\n      <th>c</th>\n      <th>d</th>\n      <th>e</th>\n    </tr>\n  </thead>\n  <tbody>\n    <tr>\n      <th>0</th>\n      <td>  0</td>\n      <td>  1</td>\n      <td>  2</td>\n      <td>  3</td>\n      <td>  4</td>\n    </tr>\n    <tr>\n      <th>1</th>\n      <td>  5</td>\n      <td>  6</td>\n      <td>  7</td>\n      <td>  8</td>\n      <td>  9</td>\n    </tr>\n    <tr>\n      <th>2</th>\n      <td> 10</td>\n      <td> 11</td>\n      <td> 12</td>\n      <td> 13</td>\n      <td> 14</td>\n    </tr>\n    <tr>\n      <th>3</th>\n      <td> 15</td>\n      <td> 16</td>\n      <td> 17</td>\n      <td> 18</td>\n      <td> 19</td>\n    </tr>\n  </tbody>\n</table>\n<p>4 rows \u00d7 5 columns</p>\n</div>",
       "metadata": {},
       "output_type": "pyout",
       "prompt_number": 129,
       "text": "    a   b   c   d   e\n0   0   1   2   3   4\n1   5   6   7   8   9\n2  10  11  12  13  14\n3  15  16  17  18  19\n\n[4 rows x 5 columns]"
      }
     ],
     "prompt_number": 129
    },
    {
     "cell_type": "code",
     "collapsed": false,
     "input": "df1 + df2",
     "language": "python",
     "metadata": {},
     "outputs": [
      {
       "html": "<div style=\"max-height:1000px;max-width:1500px;overflow:auto;\">\n<table border=\"1\" class=\"dataframe\">\n  <thead>\n    <tr style=\"text-align: right;\">\n      <th></th>\n      <th>a</th>\n      <th>b</th>\n      <th>c</th>\n      <th>d</th>\n      <th>e</th>\n    </tr>\n  </thead>\n  <tbody>\n    <tr>\n      <th>0</th>\n      <td>  0</td>\n      <td>  2</td>\n      <td>  4</td>\n      <td>  6</td>\n      <td>NaN</td>\n    </tr>\n    <tr>\n      <th>1</th>\n      <td>  9</td>\n      <td> 11</td>\n      <td> 13</td>\n      <td> 15</td>\n      <td>NaN</td>\n    </tr>\n    <tr>\n      <th>2</th>\n      <td> 18</td>\n      <td> 20</td>\n      <td> 22</td>\n      <td> 24</td>\n      <td>NaN</td>\n    </tr>\n    <tr>\n      <th>3</th>\n      <td>NaN</td>\n      <td>NaN</td>\n      <td>NaN</td>\n      <td>NaN</td>\n      <td>NaN</td>\n    </tr>\n  </tbody>\n</table>\n<p>4 rows \u00d7 5 columns</p>\n</div>",
       "metadata": {},
       "output_type": "pyout",
       "prompt_number": 130,
       "text": "    a   b   c   d   e\n0   0   2   4   6 NaN\n1   9  11  13  15 NaN\n2  18  20  22  24 NaN\n3 NaN NaN NaN NaN NaN\n\n[4 rows x 5 columns]"
      }
     ],
     "prompt_number": 130
    },
    {
     "cell_type": "code",
     "collapsed": false,
     "input": "df1.add(df2, fill_value = 0)",
     "language": "python",
     "metadata": {},
     "outputs": [
      {
       "html": "<div style=\"max-height:1000px;max-width:1500px;overflow:auto;\">\n<table border=\"1\" class=\"dataframe\">\n  <thead>\n    <tr style=\"text-align: right;\">\n      <th></th>\n      <th>a</th>\n      <th>b</th>\n      <th>c</th>\n      <th>d</th>\n      <th>e</th>\n    </tr>\n  </thead>\n  <tbody>\n    <tr>\n      <th>0</th>\n      <td>  0</td>\n      <td>  2</td>\n      <td>  4</td>\n      <td>  6</td>\n      <td>  4</td>\n    </tr>\n    <tr>\n      <th>1</th>\n      <td>  9</td>\n      <td> 11</td>\n      <td> 13</td>\n      <td> 15</td>\n      <td>  9</td>\n    </tr>\n    <tr>\n      <th>2</th>\n      <td> 18</td>\n      <td> 20</td>\n      <td> 22</td>\n      <td> 24</td>\n      <td> 14</td>\n    </tr>\n    <tr>\n      <th>3</th>\n      <td> 15</td>\n      <td> 16</td>\n      <td> 17</td>\n      <td> 18</td>\n      <td> 19</td>\n    </tr>\n  </tbody>\n</table>\n<p>4 rows \u00d7 5 columns</p>\n</div>",
       "metadata": {},
       "output_type": "pyout",
       "prompt_number": 131,
       "text": "    a   b   c   d   e\n0   0   2   4   6   4\n1   9  11  13  15   9\n2  18  20  22  24  14\n3  15  16  17  18  19\n\n[4 rows x 5 columns]"
      }
     ],
     "prompt_number": 131
    },
    {
     "cell_type": "code",
     "collapsed": false,
     "input": "df1.reindex(columns = df2.columns, fill_value = 0)",
     "language": "python",
     "metadata": {},
     "outputs": [
      {
       "html": "<div style=\"max-height:1000px;max-width:1500px;overflow:auto;\">\n<table border=\"1\" class=\"dataframe\">\n  <thead>\n    <tr style=\"text-align: right;\">\n      <th></th>\n      <th>a</th>\n      <th>b</th>\n      <th>c</th>\n      <th>d</th>\n      <th>e</th>\n    </tr>\n  </thead>\n  <tbody>\n    <tr>\n      <th>0</th>\n      <td> 0</td>\n      <td> 1</td>\n      <td>  2</td>\n      <td>  3</td>\n      <td> 0</td>\n    </tr>\n    <tr>\n      <th>1</th>\n      <td> 4</td>\n      <td> 5</td>\n      <td>  6</td>\n      <td>  7</td>\n      <td> 0</td>\n    </tr>\n    <tr>\n      <th>2</th>\n      <td> 8</td>\n      <td> 9</td>\n      <td> 10</td>\n      <td> 11</td>\n      <td> 0</td>\n    </tr>\n  </tbody>\n</table>\n<p>3 rows \u00d7 5 columns</p>\n</div>",
       "metadata": {},
       "output_type": "pyout",
       "prompt_number": 132,
       "text": "   a  b   c   d  e\n0  0  1   2   3  0\n1  4  5   6   7  0\n2  8  9  10  11  0\n\n[3 rows x 5 columns]"
      }
     ],
     "prompt_number": 132
    },
    {
     "cell_type": "heading",
     "level": 3,
     "metadata": {},
     "source": "Operations between DataFrame and Series"
    },
    {
     "cell_type": "code",
     "collapsed": false,
     "input": "arr = np.arange(12.).reshape((3, 4))\narr",
     "language": "python",
     "metadata": {},
     "outputs": [
      {
       "metadata": {},
       "output_type": "pyout",
       "prompt_number": 133,
       "text": "array([[  0.,   1.,   2.,   3.],\n       [  4.,   5.,   6.,   7.],\n       [  8.,   9.,  10.,  11.]])"
      }
     ],
     "prompt_number": 133
    },
    {
     "cell_type": "code",
     "collapsed": false,
     "input": "arr[0]",
     "language": "python",
     "metadata": {},
     "outputs": [
      {
       "metadata": {},
       "output_type": "pyout",
       "prompt_number": 134,
       "text": "array([ 0.,  1.,  2.,  3.])"
      }
     ],
     "prompt_number": 134
    },
    {
     "cell_type": "code",
     "collapsed": false,
     "input": "arr - arr[0]",
     "language": "python",
     "metadata": {},
     "outputs": [
      {
       "metadata": {},
       "output_type": "pyout",
       "prompt_number": 135,
       "text": "array([[ 0.,  0.,  0.,  0.],\n       [ 4.,  4.,  4.,  4.],\n       [ 8.,  8.,  8.,  8.]])"
      }
     ],
     "prompt_number": 135
    },
    {
     "cell_type": "code",
     "collapsed": false,
     "input": "frame5 = DataFrame(np.arange(12.).reshape((4, 3)), columns = list('bde'),\n                  index = ['Utah', 'Ohio', 'Texas', 'Oregen'])\nframe5",
     "language": "python",
     "metadata": {},
     "outputs": [
      {
       "html": "<div style=\"max-height:1000px;max-width:1500px;overflow:auto;\">\n<table border=\"1\" class=\"dataframe\">\n  <thead>\n    <tr style=\"text-align: right;\">\n      <th></th>\n      <th>b</th>\n      <th>d</th>\n      <th>e</th>\n    </tr>\n  </thead>\n  <tbody>\n    <tr>\n      <th>Utah</th>\n      <td> 0</td>\n      <td>  1</td>\n      <td>  2</td>\n    </tr>\n    <tr>\n      <th>Ohio</th>\n      <td> 3</td>\n      <td>  4</td>\n      <td>  5</td>\n    </tr>\n    <tr>\n      <th>Texas</th>\n      <td> 6</td>\n      <td>  7</td>\n      <td>  8</td>\n    </tr>\n    <tr>\n      <th>Oregen</th>\n      <td> 9</td>\n      <td> 10</td>\n      <td> 11</td>\n    </tr>\n  </tbody>\n</table>\n<p>4 rows \u00d7 3 columns</p>\n</div>",
       "metadata": {},
       "output_type": "pyout",
       "prompt_number": 137,
       "text": "        b   d   e\nUtah    0   1   2\nOhio    3   4   5\nTexas   6   7   8\nOregen  9  10  11\n\n[4 rows x 3 columns]"
      }
     ],
     "prompt_number": 137
    },
    {
     "cell_type": "code",
     "collapsed": false,
     "input": "series5 = frame5.ix[0]\nseries5",
     "language": "python",
     "metadata": {},
     "outputs": [
      {
       "metadata": {},
       "output_type": "pyout",
       "prompt_number": 140,
       "text": "b    0\nd    1\ne    2\nName: Utah, dtype: float64"
      }
     ],
     "prompt_number": 140
    },
    {
     "cell_type": "code",
     "collapsed": false,
     "input": "frame5 - series5",
     "language": "python",
     "metadata": {},
     "outputs": [
      {
       "html": "<div style=\"max-height:1000px;max-width:1500px;overflow:auto;\">\n<table border=\"1\" class=\"dataframe\">\n  <thead>\n    <tr style=\"text-align: right;\">\n      <th></th>\n      <th>b</th>\n      <th>d</th>\n      <th>e</th>\n    </tr>\n  </thead>\n  <tbody>\n    <tr>\n      <th>Utah</th>\n      <td> 0</td>\n      <td> 0</td>\n      <td> 0</td>\n    </tr>\n    <tr>\n      <th>Ohio</th>\n      <td> 3</td>\n      <td> 3</td>\n      <td> 3</td>\n    </tr>\n    <tr>\n      <th>Texas</th>\n      <td> 6</td>\n      <td> 6</td>\n      <td> 6</td>\n    </tr>\n    <tr>\n      <th>Oregen</th>\n      <td> 9</td>\n      <td> 9</td>\n      <td> 9</td>\n    </tr>\n  </tbody>\n</table>\n<p>4 rows \u00d7 3 columns</p>\n</div>",
       "metadata": {},
       "output_type": "pyout",
       "prompt_number": 141,
       "text": "        b  d  e\nUtah    0  0  0\nOhio    3  3  3\nTexas   6  6  6\nOregen  9  9  9\n\n[4 rows x 3 columns]"
      }
     ],
     "prompt_number": 141
    },
    {
     "cell_type": "code",
     "collapsed": false,
     "input": "series6 = Series(range(3), index = ['b', 'e', 'f'])\nseries6",
     "language": "python",
     "metadata": {},
     "outputs": [
      {
       "metadata": {},
       "output_type": "pyout",
       "prompt_number": 142,
       "text": "b    0\ne    1\nf    2\ndtype: int64"
      }
     ],
     "prompt_number": 142
    },
    {
     "cell_type": "code",
     "collapsed": false,
     "input": "frame5 + series6",
     "language": "python",
     "metadata": {},
     "outputs": [
      {
       "html": "<div style=\"max-height:1000px;max-width:1500px;overflow:auto;\">\n<table border=\"1\" class=\"dataframe\">\n  <thead>\n    <tr style=\"text-align: right;\">\n      <th></th>\n      <th>b</th>\n      <th>d</th>\n      <th>e</th>\n      <th>f</th>\n    </tr>\n  </thead>\n  <tbody>\n    <tr>\n      <th>Utah</th>\n      <td> 0</td>\n      <td>NaN</td>\n      <td>  3</td>\n      <td>NaN</td>\n    </tr>\n    <tr>\n      <th>Ohio</th>\n      <td> 3</td>\n      <td>NaN</td>\n      <td>  6</td>\n      <td>NaN</td>\n    </tr>\n    <tr>\n      <th>Texas</th>\n      <td> 6</td>\n      <td>NaN</td>\n      <td>  9</td>\n      <td>NaN</td>\n    </tr>\n    <tr>\n      <th>Oregen</th>\n      <td> 9</td>\n      <td>NaN</td>\n      <td> 12</td>\n      <td>NaN</td>\n    </tr>\n  </tbody>\n</table>\n<p>4 rows \u00d7 4 columns</p>\n</div>",
       "metadata": {},
       "output_type": "pyout",
       "prompt_number": 143,
       "text": "        b   d   e   f\nUtah    0 NaN   3 NaN\nOhio    3 NaN   6 NaN\nTexas   6 NaN   9 NaN\nOregen  9 NaN  12 NaN\n\n[4 rows x 4 columns]"
      }
     ],
     "prompt_number": 143
    },
    {
     "cell_type": "code",
     "collapsed": false,
     "input": "series7 = frame5['d']\nseries7",
     "language": "python",
     "metadata": {},
     "outputs": [
      {
       "metadata": {},
       "output_type": "pyout",
       "prompt_number": 148,
       "text": "Utah       1\nOhio       4\nTexas      7\nOregen    10\nName: d, dtype: float64"
      }
     ],
     "prompt_number": 148
    },
    {
     "cell_type": "code",
     "collapsed": false,
     "input": "frame5",
     "language": "python",
     "metadata": {},
     "outputs": [
      {
       "html": "<div style=\"max-height:1000px;max-width:1500px;overflow:auto;\">\n<table border=\"1\" class=\"dataframe\">\n  <thead>\n    <tr style=\"text-align: right;\">\n      <th></th>\n      <th>b</th>\n      <th>d</th>\n      <th>e</th>\n    </tr>\n  </thead>\n  <tbody>\n    <tr>\n      <th>Utah</th>\n      <td> 0</td>\n      <td>  1</td>\n      <td>  2</td>\n    </tr>\n    <tr>\n      <th>Ohio</th>\n      <td> 3</td>\n      <td>  4</td>\n      <td>  5</td>\n    </tr>\n    <tr>\n      <th>Texas</th>\n      <td> 6</td>\n      <td>  7</td>\n      <td>  8</td>\n    </tr>\n    <tr>\n      <th>Oregen</th>\n      <td> 9</td>\n      <td> 10</td>\n      <td> 11</td>\n    </tr>\n  </tbody>\n</table>\n<p>4 rows \u00d7 3 columns</p>\n</div>",
       "metadata": {},
       "output_type": "pyout",
       "prompt_number": 149,
       "text": "        b   d   e\nUtah    0   1   2\nOhio    3   4   5\nTexas   6   7   8\nOregen  9  10  11\n\n[4 rows x 3 columns]"
      }
     ],
     "prompt_number": 149
    },
    {
     "cell_type": "code",
     "collapsed": false,
     "input": "frame5.sub(series7, axis = 0)",
     "language": "python",
     "metadata": {},
     "outputs": [
      {
       "html": "<div style=\"max-height:1000px;max-width:1500px;overflow:auto;\">\n<table border=\"1\" class=\"dataframe\">\n  <thead>\n    <tr style=\"text-align: right;\">\n      <th></th>\n      <th>b</th>\n      <th>d</th>\n      <th>e</th>\n    </tr>\n  </thead>\n  <tbody>\n    <tr>\n      <th>Utah</th>\n      <td>-1</td>\n      <td> 0</td>\n      <td> 1</td>\n    </tr>\n    <tr>\n      <th>Ohio</th>\n      <td>-1</td>\n      <td> 0</td>\n      <td> 1</td>\n    </tr>\n    <tr>\n      <th>Texas</th>\n      <td>-1</td>\n      <td> 0</td>\n      <td> 1</td>\n    </tr>\n    <tr>\n      <th>Oregen</th>\n      <td>-1</td>\n      <td> 0</td>\n      <td> 1</td>\n    </tr>\n  </tbody>\n</table>\n<p>4 rows \u00d7 3 columns</p>\n</div>",
       "metadata": {},
       "output_type": "pyout",
       "prompt_number": 147,
       "text": "        b  d  e\nUtah   -1  0  1\nOhio   -1  0  1\nTexas  -1  0  1\nOregen -1  0  1\n\n[4 rows x 3 columns]"
      }
     ],
     "prompt_number": 147
    },
    {
     "cell_type": "heading",
     "level": 3,
     "metadata": {},
     "source": "Function application and mapping"
    },
    {
     "cell_type": "code",
     "collapsed": false,
     "input": "frame6 = DataFrame(np.random.randn(4, 3), columns = list('bde'),\n                  index = ['Utah', 'Ohio', 'Texas', 'Oregen'])\nframe6",
     "language": "python",
     "metadata": {},
     "outputs": [
      {
       "html": "<div style=\"max-height:1000px;max-width:1500px;overflow:auto;\">\n<table border=\"1\" class=\"dataframe\">\n  <thead>\n    <tr style=\"text-align: right;\">\n      <th></th>\n      <th>b</th>\n      <th>d</th>\n      <th>e</th>\n    </tr>\n  </thead>\n  <tbody>\n    <tr>\n      <th>Utah</th>\n      <td>-0.204708</td>\n      <td> 0.478943</td>\n      <td>-0.519439</td>\n    </tr>\n    <tr>\n      <th>Ohio</th>\n      <td>-0.555730</td>\n      <td> 1.965781</td>\n      <td> 1.393406</td>\n    </tr>\n    <tr>\n      <th>Texas</th>\n      <td> 0.092908</td>\n      <td> 0.281746</td>\n      <td> 0.769023</td>\n    </tr>\n    <tr>\n      <th>Oregen</th>\n      <td> 1.246435</td>\n      <td> 1.007189</td>\n      <td>-1.296221</td>\n    </tr>\n  </tbody>\n</table>\n<p>4 rows \u00d7 3 columns</p>\n</div>",
       "metadata": {},
       "output_type": "pyout",
       "prompt_number": 150,
       "text": "               b         d         e\nUtah   -0.204708  0.478943 -0.519439\nOhio   -0.555730  1.965781  1.393406\nTexas   0.092908  0.281746  0.769023\nOregen  1.246435  1.007189 -1.296221\n\n[4 rows x 3 columns]"
      }
     ],
     "prompt_number": 150
    },
    {
     "cell_type": "code",
     "collapsed": false,
     "input": "np.abs(frame6)",
     "language": "python",
     "metadata": {},
     "outputs": [
      {
       "html": "<div style=\"max-height:1000px;max-width:1500px;overflow:auto;\">\n<table border=\"1\" class=\"dataframe\">\n  <thead>\n    <tr style=\"text-align: right;\">\n      <th></th>\n      <th>b</th>\n      <th>d</th>\n      <th>e</th>\n    </tr>\n  </thead>\n  <tbody>\n    <tr>\n      <th>Utah</th>\n      <td> 0.204708</td>\n      <td> 0.478943</td>\n      <td> 0.519439</td>\n    </tr>\n    <tr>\n      <th>Ohio</th>\n      <td> 0.555730</td>\n      <td> 1.965781</td>\n      <td> 1.393406</td>\n    </tr>\n    <tr>\n      <th>Texas</th>\n      <td> 0.092908</td>\n      <td> 0.281746</td>\n      <td> 0.769023</td>\n    </tr>\n    <tr>\n      <th>Oregen</th>\n      <td> 1.246435</td>\n      <td> 1.007189</td>\n      <td> 1.296221</td>\n    </tr>\n  </tbody>\n</table>\n<p>4 rows \u00d7 3 columns</p>\n</div>",
       "metadata": {},
       "output_type": "pyout",
       "prompt_number": 152,
       "text": "               b         d         e\nUtah    0.204708  0.478943  0.519439\nOhio    0.555730  1.965781  1.393406\nTexas   0.092908  0.281746  0.769023\nOregen  1.246435  1.007189  1.296221\n\n[4 rows x 3 columns]"
      }
     ],
     "prompt_number": 152
    },
    {
     "cell_type": "code",
     "collapsed": false,
     "input": "f = lambda x: x.max() - x.min()",
     "language": "python",
     "metadata": {},
     "outputs": [],
     "prompt_number": 153
    },
    {
     "cell_type": "code",
     "collapsed": false,
     "input": "frame6.apply(f)",
     "language": "python",
     "metadata": {},
     "outputs": [
      {
       "metadata": {},
       "output_type": "pyout",
       "prompt_number": 154,
       "text": "b    1.802165\nd    1.684034\ne    2.689627\ndtype: float64"
      }
     ],
     "prompt_number": 154
    },
    {
     "cell_type": "code",
     "collapsed": false,
     "input": "frame6.apply(f, axis = 1)",
     "language": "python",
     "metadata": {},
     "outputs": [
      {
       "metadata": {},
       "output_type": "pyout",
       "prompt_number": 155,
       "text": "Utah      0.998382\nOhio      2.521511\nTexas     0.676115\nOregen    2.542656\ndtype: float64"
      }
     ],
     "prompt_number": 155
    },
    {
     "cell_type": "code",
     "collapsed": false,
     "input": "def f(x):\n    return Series([x.max(), x.min()], index = ['min', 'max'])\nframe6.apply(f)",
     "language": "python",
     "metadata": {},
     "outputs": [
      {
       "html": "<div style=\"max-height:1000px;max-width:1500px;overflow:auto;\">\n<table border=\"1\" class=\"dataframe\">\n  <thead>\n    <tr style=\"text-align: right;\">\n      <th></th>\n      <th>b</th>\n      <th>d</th>\n      <th>e</th>\n    </tr>\n  </thead>\n  <tbody>\n    <tr>\n      <th>min</th>\n      <td> 1.246435</td>\n      <td> 1.965781</td>\n      <td> 1.393406</td>\n    </tr>\n    <tr>\n      <th>max</th>\n      <td>-0.555730</td>\n      <td> 0.281746</td>\n      <td>-1.296221</td>\n    </tr>\n  </tbody>\n</table>\n<p>2 rows \u00d7 3 columns</p>\n</div>",
       "metadata": {},
       "output_type": "pyout",
       "prompt_number": 156,
       "text": "            b         d         e\nmin  1.246435  1.965781  1.393406\nmax -0.555730  0.281746 -1.296221\n\n[2 rows x 3 columns]"
      }
     ],
     "prompt_number": 156
    },
    {
     "cell_type": "code",
     "collapsed": false,
     "input": "frame6.apply(f, axis = 1)",
     "language": "python",
     "metadata": {},
     "outputs": [
      {
       "html": "<div style=\"max-height:1000px;max-width:1500px;overflow:auto;\">\n<table border=\"1\" class=\"dataframe\">\n  <thead>\n    <tr style=\"text-align: right;\">\n      <th></th>\n      <th>min</th>\n      <th>max</th>\n    </tr>\n  </thead>\n  <tbody>\n    <tr>\n      <th>Utah</th>\n      <td> 0.478943</td>\n      <td>-0.519439</td>\n    </tr>\n    <tr>\n      <th>Ohio</th>\n      <td> 1.965781</td>\n      <td>-0.555730</td>\n    </tr>\n    <tr>\n      <th>Texas</th>\n      <td> 0.769023</td>\n      <td> 0.092908</td>\n    </tr>\n    <tr>\n      <th>Oregen</th>\n      <td> 1.246435</td>\n      <td>-1.296221</td>\n    </tr>\n  </tbody>\n</table>\n<p>4 rows \u00d7 2 columns</p>\n</div>",
       "metadata": {},
       "output_type": "pyout",
       "prompt_number": 157,
       "text": "             min       max\nUtah    0.478943 -0.519439\nOhio    1.965781 -0.555730\nTexas   0.769023  0.092908\nOregen  1.246435 -1.296221\n\n[4 rows x 2 columns]"
      }
     ],
     "prompt_number": 157
    },
    {
     "cell_type": "code",
     "collapsed": false,
     "input": "format = lambda x: '%.2f' % x\nframe6.applymap(format)",
     "language": "python",
     "metadata": {},
     "outputs": [
      {
       "html": "<div style=\"max-height:1000px;max-width:1500px;overflow:auto;\">\n<table border=\"1\" class=\"dataframe\">\n  <thead>\n    <tr style=\"text-align: right;\">\n      <th></th>\n      <th>b</th>\n      <th>d</th>\n      <th>e</th>\n    </tr>\n  </thead>\n  <tbody>\n    <tr>\n      <th>Utah</th>\n      <td> -0.20</td>\n      <td> 0.48</td>\n      <td> -0.52</td>\n    </tr>\n    <tr>\n      <th>Ohio</th>\n      <td> -0.56</td>\n      <td> 1.97</td>\n      <td>  1.39</td>\n    </tr>\n    <tr>\n      <th>Texas</th>\n      <td>  0.09</td>\n      <td> 0.28</td>\n      <td>  0.77</td>\n    </tr>\n    <tr>\n      <th>Oregen</th>\n      <td>  1.25</td>\n      <td> 1.01</td>\n      <td> -1.30</td>\n    </tr>\n  </tbody>\n</table>\n<p>4 rows \u00d7 3 columns</p>\n</div>",
       "metadata": {},
       "output_type": "pyout",
       "prompt_number": 158,
       "text": "            b     d      e\nUtah    -0.20  0.48  -0.52\nOhio    -0.56  1.97   1.39\nTexas    0.09  0.28   0.77\nOregen   1.25  1.01  -1.30\n\n[4 rows x 3 columns]"
      }
     ],
     "prompt_number": 158
    },
    {
     "cell_type": "code",
     "collapsed": false,
     "input": "frame6['e'].map(format)",
     "language": "python",
     "metadata": {},
     "outputs": [
      {
       "metadata": {},
       "output_type": "pyout",
       "prompt_number": 160,
       "text": "Utah      -0.52\nOhio       1.39\nTexas      0.77\nOregen    -1.30\nName: e, dtype: object"
      }
     ],
     "prompt_number": 160
    },
    {
     "cell_type": "heading",
     "level": 3,
     "metadata": {},
     "source": "Sorting and ranking"
    },
    {
     "cell_type": "code",
     "collapsed": false,
     "input": "obj12 = Series(range(4), index = ['a', 'a', 'b', 'c'])\nobj12",
     "language": "python",
     "metadata": {},
     "outputs": [
      {
       "metadata": {},
       "output_type": "pyout",
       "prompt_number": 161,
       "text": "a    0\na    1\nb    2\nc    3\ndtype: int64"
      }
     ],
     "prompt_number": 161
    },
    {
     "cell_type": "code",
     "collapsed": false,
     "input": "obj12.sort_index()",
     "language": "python",
     "metadata": {},
     "outputs": [
      {
       "metadata": {},
       "output_type": "pyout",
       "prompt_number": 162,
       "text": "a    0\na    1\nb    2\nc    3\ndtype: int64"
      }
     ],
     "prompt_number": 162
    },
    {
     "cell_type": "code",
     "collapsed": false,
     "input": "frame7 = DataFrame(np.arange(8).reshape((2, 4)), index = ['Three', 'one'],\n                   columns = ['d', 'a', 'b', 'c'])\nframe7",
     "language": "python",
     "metadata": {},
     "outputs": [
      {
       "html": "<div style=\"max-height:1000px;max-width:1500px;overflow:auto;\">\n<table border=\"1\" class=\"dataframe\">\n  <thead>\n    <tr style=\"text-align: right;\">\n      <th></th>\n      <th>d</th>\n      <th>a</th>\n      <th>b</th>\n      <th>c</th>\n    </tr>\n  </thead>\n  <tbody>\n    <tr>\n      <th>Three</th>\n      <td> 0</td>\n      <td> 1</td>\n      <td> 2</td>\n      <td> 3</td>\n    </tr>\n    <tr>\n      <th>one</th>\n      <td> 4</td>\n      <td> 5</td>\n      <td> 6</td>\n      <td> 7</td>\n    </tr>\n  </tbody>\n</table>\n<p>2 rows \u00d7 4 columns</p>\n</div>",
       "metadata": {},
       "output_type": "pyout",
       "prompt_number": 163,
       "text": "       d  a  b  c\nThree  0  1  2  3\none    4  5  6  7\n\n[2 rows x 4 columns]"
      }
     ],
     "prompt_number": 163
    },
    {
     "cell_type": "code",
     "collapsed": false,
     "input": "frame7.sort_index()",
     "language": "python",
     "metadata": {},
     "outputs": [
      {
       "html": "<div style=\"max-height:1000px;max-width:1500px;overflow:auto;\">\n<table border=\"1\" class=\"dataframe\">\n  <thead>\n    <tr style=\"text-align: right;\">\n      <th></th>\n      <th>d</th>\n      <th>a</th>\n      <th>b</th>\n      <th>c</th>\n    </tr>\n  </thead>\n  <tbody>\n    <tr>\n      <th>Three</th>\n      <td> 0</td>\n      <td> 1</td>\n      <td> 2</td>\n      <td> 3</td>\n    </tr>\n    <tr>\n      <th>one</th>\n      <td> 4</td>\n      <td> 5</td>\n      <td> 6</td>\n      <td> 7</td>\n    </tr>\n  </tbody>\n</table>\n<p>2 rows \u00d7 4 columns</p>\n</div>",
       "metadata": {},
       "output_type": "pyout",
       "prompt_number": 164,
       "text": "       d  a  b  c\nThree  0  1  2  3\none    4  5  6  7\n\n[2 rows x 4 columns]"
      }
     ],
     "prompt_number": 164
    },
    {
     "cell_type": "code",
     "collapsed": false,
     "input": "frame7.sort_index(axis = 1)",
     "language": "python",
     "metadata": {},
     "outputs": [
      {
       "html": "<div style=\"max-height:1000px;max-width:1500px;overflow:auto;\">\n<table border=\"1\" class=\"dataframe\">\n  <thead>\n    <tr style=\"text-align: right;\">\n      <th></th>\n      <th>a</th>\n      <th>b</th>\n      <th>c</th>\n      <th>d</th>\n    </tr>\n  </thead>\n  <tbody>\n    <tr>\n      <th>Three</th>\n      <td> 1</td>\n      <td> 2</td>\n      <td> 3</td>\n      <td> 0</td>\n    </tr>\n    <tr>\n      <th>one</th>\n      <td> 5</td>\n      <td> 6</td>\n      <td> 7</td>\n      <td> 4</td>\n    </tr>\n  </tbody>\n</table>\n<p>2 rows \u00d7 4 columns</p>\n</div>",
       "metadata": {},
       "output_type": "pyout",
       "prompt_number": 165,
       "text": "       a  b  c  d\nThree  1  2  3  0\none    5  6  7  4\n\n[2 rows x 4 columns]"
      }
     ],
     "prompt_number": 165
    },
    {
     "cell_type": "code",
     "collapsed": false,
     "input": "frame7.sort_index(axis = 1, ascending = False)",
     "language": "python",
     "metadata": {},
     "outputs": [
      {
       "html": "<div style=\"max-height:1000px;max-width:1500px;overflow:auto;\">\n<table border=\"1\" class=\"dataframe\">\n  <thead>\n    <tr style=\"text-align: right;\">\n      <th></th>\n      <th>d</th>\n      <th>c</th>\n      <th>b</th>\n      <th>a</th>\n    </tr>\n  </thead>\n  <tbody>\n    <tr>\n      <th>Three</th>\n      <td> 0</td>\n      <td> 3</td>\n      <td> 2</td>\n      <td> 1</td>\n    </tr>\n    <tr>\n      <th>one</th>\n      <td> 4</td>\n      <td> 7</td>\n      <td> 6</td>\n      <td> 5</td>\n    </tr>\n  </tbody>\n</table>\n<p>2 rows \u00d7 4 columns</p>\n</div>",
       "metadata": {},
       "output_type": "pyout",
       "prompt_number": 167,
       "text": "       d  c  b  a\nThree  0  3  2  1\none    4  7  6  5\n\n[2 rows x 4 columns]"
      }
     ],
     "prompt_number": 167
    },
    {
     "cell_type": "code",
     "collapsed": false,
     "input": "obj13 = Series([4, 7, -3, 2])\nobj13",
     "language": "python",
     "metadata": {},
     "outputs": [
      {
       "metadata": {},
       "output_type": "pyout",
       "prompt_number": 168,
       "text": "0    4\n1    7\n2   -3\n3    2\ndtype: int64"
      }
     ],
     "prompt_number": 168
    },
    {
     "cell_type": "code",
     "collapsed": false,
     "input": "obj13.order()",
     "language": "python",
     "metadata": {},
     "outputs": [
      {
       "metadata": {},
       "output_type": "pyout",
       "prompt_number": 169,
       "text": "2   -3\n3    2\n0    4\n1    7\ndtype: int64"
      }
     ],
     "prompt_number": 169
    },
    {
     "cell_type": "code",
     "collapsed": false,
     "input": "obj14 = Series([4, np.nan, 7, np.nan, -3, 2])\nobj14",
     "language": "python",
     "metadata": {},
     "outputs": [
      {
       "metadata": {},
       "output_type": "pyout",
       "prompt_number": 170,
       "text": "0     4\n1   NaN\n2     7\n3   NaN\n4    -3\n5     2\ndtype: float64"
      }
     ],
     "prompt_number": 170
    },
    {
     "cell_type": "code",
     "collapsed": false,
     "input": "frame8 = DataFrame({'b': [4, 7, -3, 2],\n                    'a': [0, 1, 0, 1]})\nframe8",
     "language": "python",
     "metadata": {},
     "outputs": [
      {
       "html": "<div style=\"max-height:1000px;max-width:1500px;overflow:auto;\">\n<table border=\"1\" class=\"dataframe\">\n  <thead>\n    <tr style=\"text-align: right;\">\n      <th></th>\n      <th>a</th>\n      <th>b</th>\n    </tr>\n  </thead>\n  <tbody>\n    <tr>\n      <th>0</th>\n      <td> 0</td>\n      <td> 4</td>\n    </tr>\n    <tr>\n      <th>1</th>\n      <td> 1</td>\n      <td> 7</td>\n    </tr>\n    <tr>\n      <th>2</th>\n      <td> 0</td>\n      <td>-3</td>\n    </tr>\n    <tr>\n      <th>3</th>\n      <td> 1</td>\n      <td> 2</td>\n    </tr>\n  </tbody>\n</table>\n<p>4 rows \u00d7 2 columns</p>\n</div>",
       "metadata": {},
       "output_type": "pyout",
       "prompt_number": 171,
       "text": "   a  b\n0  0  4\n1  1  7\n2  0 -3\n3  1  2\n\n[4 rows x 2 columns]"
      }
     ],
     "prompt_number": 171
    },
    {
     "cell_type": "code",
     "collapsed": false,
     "input": "frame8.sort_index(by = 'b')",
     "language": "python",
     "metadata": {},
     "outputs": [
      {
       "html": "<div style=\"max-height:1000px;max-width:1500px;overflow:auto;\">\n<table border=\"1\" class=\"dataframe\">\n  <thead>\n    <tr style=\"text-align: right;\">\n      <th></th>\n      <th>a</th>\n      <th>b</th>\n    </tr>\n  </thead>\n  <tbody>\n    <tr>\n      <th>2</th>\n      <td> 0</td>\n      <td>-3</td>\n    </tr>\n    <tr>\n      <th>3</th>\n      <td> 1</td>\n      <td> 2</td>\n    </tr>\n    <tr>\n      <th>0</th>\n      <td> 0</td>\n      <td> 4</td>\n    </tr>\n    <tr>\n      <th>1</th>\n      <td> 1</td>\n      <td> 7</td>\n    </tr>\n  </tbody>\n</table>\n<p>4 rows \u00d7 2 columns</p>\n</div>",
       "metadata": {},
       "output_type": "pyout",
       "prompt_number": 172,
       "text": "   a  b\n2  0 -3\n3  1  2\n0  0  4\n1  1  7\n\n[4 rows x 2 columns]"
      }
     ],
     "prompt_number": 172
    },
    {
     "cell_type": "code",
     "collapsed": false,
     "input": "frame8.sort_index(by = ['a', 'b'])",
     "language": "python",
     "metadata": {},
     "outputs": [
      {
       "html": "<div style=\"max-height:1000px;max-width:1500px;overflow:auto;\">\n<table border=\"1\" class=\"dataframe\">\n  <thead>\n    <tr style=\"text-align: right;\">\n      <th></th>\n      <th>a</th>\n      <th>b</th>\n    </tr>\n  </thead>\n  <tbody>\n    <tr>\n      <th>2</th>\n      <td> 0</td>\n      <td>-3</td>\n    </tr>\n    <tr>\n      <th>0</th>\n      <td> 0</td>\n      <td> 4</td>\n    </tr>\n    <tr>\n      <th>3</th>\n      <td> 1</td>\n      <td> 2</td>\n    </tr>\n    <tr>\n      <th>1</th>\n      <td> 1</td>\n      <td> 7</td>\n    </tr>\n  </tbody>\n</table>\n<p>4 rows \u00d7 2 columns</p>\n</div>",
       "metadata": {},
       "output_type": "pyout",
       "prompt_number": 173,
       "text": "   a  b\n2  0 -3\n0  0  4\n3  1  2\n1  1  7\n\n[4 rows x 2 columns]"
      }
     ],
     "prompt_number": 173
    },
    {
     "cell_type": "code",
     "collapsed": false,
     "input": "obj15 = Series([7, -5, 7, 4, 2, 0, 4])\nobj15",
     "language": "python",
     "metadata": {},
     "outputs": [
      {
       "metadata": {},
       "output_type": "pyout",
       "prompt_number": 174,
       "text": "0    7\n1   -5\n2    7\n3    4\n4    2\n5    0\n6    4\ndtype: int64"
      }
     ],
     "prompt_number": 174
    },
    {
     "cell_type": "code",
     "collapsed": false,
     "input": "obj15.rank()",
     "language": "python",
     "metadata": {},
     "outputs": [
      {
       "metadata": {},
       "output_type": "pyout",
       "prompt_number": 175,
       "text": "0    6.5\n1    1.0\n2    6.5\n3    4.5\n4    3.0\n5    2.0\n6    4.5\ndtype: float64"
      }
     ],
     "prompt_number": 175
    },
    {
     "cell_type": "code",
     "collapsed": false,
     "input": "obj15.rank(method = 'first')",
     "language": "python",
     "metadata": {},
     "outputs": [
      {
       "metadata": {},
       "output_type": "pyout",
       "prompt_number": 176,
       "text": "0    6\n1    1\n2    7\n3    4\n4    3\n5    2\n6    5\ndtype: float64"
      }
     ],
     "prompt_number": 176
    },
    {
     "cell_type": "code",
     "collapsed": false,
     "input": "obj15.rank(ascending = False, method = 'max')",
     "language": "python",
     "metadata": {},
     "outputs": [
      {
       "metadata": {},
       "output_type": "pyout",
       "prompt_number": 177,
       "text": "0    2\n1    7\n2    2\n3    4\n4    5\n5    6\n6    4\ndtype: float64"
      }
     ],
     "prompt_number": 177
    },
    {
     "cell_type": "code",
     "collapsed": false,
     "input": "frame9 = DataFrame({'b': [4.3, 7, -3, 2], 'a': [0, 1, 0, 1],\n                   'c': [-2, 5, 8, -2.5]})\nframe9",
     "language": "python",
     "metadata": {},
     "outputs": [
      {
       "html": "<div style=\"max-height:1000px;max-width:1500px;overflow:auto;\">\n<table border=\"1\" class=\"dataframe\">\n  <thead>\n    <tr style=\"text-align: right;\">\n      <th></th>\n      <th>a</th>\n      <th>b</th>\n      <th>c</th>\n    </tr>\n  </thead>\n  <tbody>\n    <tr>\n      <th>0</th>\n      <td> 0</td>\n      <td> 4.3</td>\n      <td>-2.0</td>\n    </tr>\n    <tr>\n      <th>1</th>\n      <td> 1</td>\n      <td> 7.0</td>\n      <td> 5.0</td>\n    </tr>\n    <tr>\n      <th>2</th>\n      <td> 0</td>\n      <td>-3.0</td>\n      <td> 8.0</td>\n    </tr>\n    <tr>\n      <th>3</th>\n      <td> 1</td>\n      <td> 2.0</td>\n      <td>-2.5</td>\n    </tr>\n  </tbody>\n</table>\n<p>4 rows \u00d7 3 columns</p>\n</div>",
       "metadata": {},
       "output_type": "pyout",
       "prompt_number": 178,
       "text": "   a    b    c\n0  0  4.3 -2.0\n1  1  7.0  5.0\n2  0 -3.0  8.0\n3  1  2.0 -2.5\n\n[4 rows x 3 columns]"
      }
     ],
     "prompt_number": 178
    },
    {
     "cell_type": "code",
     "collapsed": false,
     "input": "frame9.rank(axis = 1)",
     "language": "python",
     "metadata": {},
     "outputs": [
      {
       "html": "<div style=\"max-height:1000px;max-width:1500px;overflow:auto;\">\n<table border=\"1\" class=\"dataframe\">\n  <thead>\n    <tr style=\"text-align: right;\">\n      <th></th>\n      <th>a</th>\n      <th>b</th>\n      <th>c</th>\n    </tr>\n  </thead>\n  <tbody>\n    <tr>\n      <th>0</th>\n      <td> 2</td>\n      <td> 3</td>\n      <td> 1</td>\n    </tr>\n    <tr>\n      <th>1</th>\n      <td> 1</td>\n      <td> 3</td>\n      <td> 2</td>\n    </tr>\n    <tr>\n      <th>2</th>\n      <td> 2</td>\n      <td> 1</td>\n      <td> 3</td>\n    </tr>\n    <tr>\n      <th>3</th>\n      <td> 2</td>\n      <td> 3</td>\n      <td> 1</td>\n    </tr>\n  </tbody>\n</table>\n<p>4 rows \u00d7 3 columns</p>\n</div>",
       "metadata": {},
       "output_type": "pyout",
       "prompt_number": 179,
       "text": "   a  b  c\n0  2  3  1\n1  1  3  2\n2  2  1  3\n3  2  3  1\n\n[4 rows x 3 columns]"
      }
     ],
     "prompt_number": 179
    },
    {
     "cell_type": "heading",
     "level": 3,
     "metadata": {},
     "source": "Axis indexes with duplicate values"
    },
    {
     "cell_type": "code",
     "collapsed": false,
     "input": "obj16 = Series(range(5), index = ['a', 'a', 'b', 'b', 'c'])\nobj16",
     "language": "python",
     "metadata": {},
     "outputs": [
      {
       "metadata": {},
       "output_type": "pyout",
       "prompt_number": 181,
       "text": "a    0\na    1\nb    2\nb    3\nc    4\ndtype: int64"
      }
     ],
     "prompt_number": 181
    },
    {
     "cell_type": "code",
     "collapsed": false,
     "input": "obj16.index.is_unique",
     "language": "python",
     "metadata": {},
     "outputs": [
      {
       "metadata": {},
       "output_type": "pyout",
       "prompt_number": 183,
       "text": "False"
      }
     ],
     "prompt_number": 183
    },
    {
     "cell_type": "code",
     "collapsed": false,
     "input": "obj16['a']",
     "language": "python",
     "metadata": {},
     "outputs": [
      {
       "metadata": {},
       "output_type": "pyout",
       "prompt_number": 184,
       "text": "a    0\na    1\ndtype: int64"
      }
     ],
     "prompt_number": 184
    },
    {
     "cell_type": "code",
     "collapsed": false,
     "input": "obj16['c']",
     "language": "python",
     "metadata": {},
     "outputs": [
      {
       "metadata": {},
       "output_type": "pyout",
       "prompt_number": 185,
       "text": "4"
      }
     ],
     "prompt_number": 185
    },
    {
     "cell_type": "code",
     "collapsed": false,
     "input": "df3 = DataFrame(np.random.randn(4, 3), index=['a', 'a', 'b', 'b'])\ndf3",
     "language": "python",
     "metadata": {},
     "outputs": [
      {
       "html": "<div style=\"max-height:1000px;max-width:1500px;overflow:auto;\">\n<table border=\"1\" class=\"dataframe\">\n  <thead>\n    <tr style=\"text-align: right;\">\n      <th></th>\n      <th>0</th>\n      <th>1</th>\n      <th>2</th>\n    </tr>\n  </thead>\n  <tbody>\n    <tr>\n      <th>a</th>\n      <td> 0.274992</td>\n      <td> 0.228913</td>\n      <td> 1.352917</td>\n    </tr>\n    <tr>\n      <th>a</th>\n      <td> 0.886429</td>\n      <td>-2.001637</td>\n      <td>-0.371843</td>\n    </tr>\n    <tr>\n      <th>b</th>\n      <td> 1.669025</td>\n      <td>-0.438570</td>\n      <td>-0.539741</td>\n    </tr>\n    <tr>\n      <th>b</th>\n      <td> 0.476985</td>\n      <td> 3.248944</td>\n      <td>-1.021228</td>\n    </tr>\n  </tbody>\n</table>\n<p>4 rows \u00d7 3 columns</p>\n</div>",
       "metadata": {},
       "output_type": "pyout",
       "prompt_number": 186,
       "text": "          0         1         2\na  0.274992  0.228913  1.352917\na  0.886429 -2.001637 -0.371843\nb  1.669025 -0.438570 -0.539741\nb  0.476985  3.248944 -1.021228\n\n[4 rows x 3 columns]"
      }
     ],
     "prompt_number": 186
    },
    {
     "cell_type": "code",
     "collapsed": false,
     "input": "df3.ix['b']",
     "language": "python",
     "metadata": {},
     "outputs": [
      {
       "html": "<div style=\"max-height:1000px;max-width:1500px;overflow:auto;\">\n<table border=\"1\" class=\"dataframe\">\n  <thead>\n    <tr style=\"text-align: right;\">\n      <th></th>\n      <th>0</th>\n      <th>1</th>\n      <th>2</th>\n    </tr>\n  </thead>\n  <tbody>\n    <tr>\n      <th>b</th>\n      <td> 1.669025</td>\n      <td>-0.438570</td>\n      <td>-0.539741</td>\n    </tr>\n    <tr>\n      <th>b</th>\n      <td> 0.476985</td>\n      <td> 3.248944</td>\n      <td>-1.021228</td>\n    </tr>\n  </tbody>\n</table>\n<p>2 rows \u00d7 3 columns</p>\n</div>",
       "metadata": {},
       "output_type": "pyout",
       "prompt_number": 187,
       "text": "          0         1         2\nb  1.669025 -0.438570 -0.539741\nb  0.476985  3.248944 -1.021228\n\n[2 rows x 3 columns]"
      }
     ],
     "prompt_number": 187
    },
    {
     "cell_type": "heading",
     "level": 2,
     "metadata": {},
     "source": "Summarizing and computing descriptive statistics"
    },
    {
     "cell_type": "code",
     "collapsed": false,
     "input": "df4 = DataFrame([[1.4, np.nan], [7.1, -4.5],\n                [np.nan, np.nan], [0.75, -1.3]],\n               index=['a', 'b', 'c', 'd'],\n               columns=['one', 'two'])\ndf4",
     "language": "python",
     "metadata": {},
     "outputs": [
      {
       "html": "<div style=\"max-height:1000px;max-width:1500px;overflow:auto;\">\n<table border=\"1\" class=\"dataframe\">\n  <thead>\n    <tr style=\"text-align: right;\">\n      <th></th>\n      <th>one</th>\n      <th>two</th>\n    </tr>\n  </thead>\n  <tbody>\n    <tr>\n      <th>a</th>\n      <td> 1.40</td>\n      <td> NaN</td>\n    </tr>\n    <tr>\n      <th>b</th>\n      <td> 7.10</td>\n      <td>-4.5</td>\n    </tr>\n    <tr>\n      <th>c</th>\n      <td>  NaN</td>\n      <td> NaN</td>\n    </tr>\n    <tr>\n      <th>d</th>\n      <td> 0.75</td>\n      <td>-1.3</td>\n    </tr>\n  </tbody>\n</table>\n<p>4 rows \u00d7 2 columns</p>\n</div>",
       "metadata": {},
       "output_type": "pyout",
       "prompt_number": 188,
       "text": "    one  two\na  1.40  NaN\nb  7.10 -4.5\nc   NaN  NaN\nd  0.75 -1.3\n\n[4 rows x 2 columns]"
      }
     ],
     "prompt_number": 188
    },
    {
     "cell_type": "code",
     "collapsed": false,
     "input": "df4.sum()",
     "language": "python",
     "metadata": {},
     "outputs": [
      {
       "metadata": {},
       "output_type": "pyout",
       "prompt_number": 189,
       "text": "one    9.25\ntwo   -5.80\ndtype: float64"
      }
     ],
     "prompt_number": 189
    },
    {
     "cell_type": "code",
     "collapsed": false,
     "input": "df4.sum(axis = 1)",
     "language": "python",
     "metadata": {},
     "outputs": [
      {
       "metadata": {},
       "output_type": "pyout",
       "prompt_number": 190,
       "text": "a    1.40\nb    2.60\nc     NaN\nd   -0.55\ndtype: float64"
      }
     ],
     "prompt_number": 190
    },
    {
     "cell_type": "code",
     "collapsed": false,
     "input": "df4.mean(axis = 1, skipna = False)",
     "language": "python",
     "metadata": {},
     "outputs": [
      {
       "metadata": {},
       "output_type": "pyout",
       "prompt_number": 191,
       "text": "a      NaN\nb    1.300\nc      NaN\nd   -0.275\ndtype: float64"
      }
     ],
     "prompt_number": 191
    },
    {
     "cell_type": "code",
     "collapsed": false,
     "input": "df4.idxmax()",
     "language": "python",
     "metadata": {},
     "outputs": [
      {
       "metadata": {},
       "output_type": "pyout",
       "prompt_number": 192,
       "text": "one    b\ntwo    d\ndtype: object"
      }
     ],
     "prompt_number": 192
    },
    {
     "cell_type": "code",
     "collapsed": false,
     "input": "df4.cumsum()",
     "language": "python",
     "metadata": {},
     "outputs": [
      {
       "html": "<div style=\"max-height:1000px;max-width:1500px;overflow:auto;\">\n<table border=\"1\" class=\"dataframe\">\n  <thead>\n    <tr style=\"text-align: right;\">\n      <th></th>\n      <th>one</th>\n      <th>two</th>\n    </tr>\n  </thead>\n  <tbody>\n    <tr>\n      <th>a</th>\n      <td> 1.40</td>\n      <td> NaN</td>\n    </tr>\n    <tr>\n      <th>b</th>\n      <td> 8.50</td>\n      <td>-4.5</td>\n    </tr>\n    <tr>\n      <th>c</th>\n      <td>  NaN</td>\n      <td> NaN</td>\n    </tr>\n    <tr>\n      <th>d</th>\n      <td> 9.25</td>\n      <td>-5.8</td>\n    </tr>\n  </tbody>\n</table>\n<p>4 rows \u00d7 2 columns</p>\n</div>",
       "metadata": {},
       "output_type": "pyout",
       "prompt_number": 193,
       "text": "    one  two\na  1.40  NaN\nb  8.50 -4.5\nc   NaN  NaN\nd  9.25 -5.8\n\n[4 rows x 2 columns]"
      }
     ],
     "prompt_number": 193
    },
    {
     "cell_type": "code",
     "collapsed": false,
     "input": "df4.describe()",
     "language": "python",
     "metadata": {},
     "outputs": [
      {
       "html": "<div style=\"max-height:1000px;max-width:1500px;overflow:auto;\">\n<table border=\"1\" class=\"dataframe\">\n  <thead>\n    <tr style=\"text-align: right;\">\n      <th></th>\n      <th>one</th>\n      <th>two</th>\n    </tr>\n  </thead>\n  <tbody>\n    <tr>\n      <th>count</th>\n      <td> 3.000000</td>\n      <td> 2.000000</td>\n    </tr>\n    <tr>\n      <th>mean</th>\n      <td> 3.083333</td>\n      <td>-2.900000</td>\n    </tr>\n    <tr>\n      <th>std</th>\n      <td> 3.493685</td>\n      <td> 2.262742</td>\n    </tr>\n    <tr>\n      <th>min</th>\n      <td> 0.750000</td>\n      <td>-4.500000</td>\n    </tr>\n    <tr>\n      <th>25%</th>\n      <td> 1.075000</td>\n      <td>-3.700000</td>\n    </tr>\n    <tr>\n      <th>50%</th>\n      <td> 1.400000</td>\n      <td>-2.900000</td>\n    </tr>\n    <tr>\n      <th>75%</th>\n      <td> 4.250000</td>\n      <td>-2.100000</td>\n    </tr>\n    <tr>\n      <th>max</th>\n      <td> 7.100000</td>\n      <td>-1.300000</td>\n    </tr>\n  </tbody>\n</table>\n<p>8 rows \u00d7 2 columns</p>\n</div>",
       "metadata": {},
       "output_type": "pyout",
       "prompt_number": 194,
       "text": "            one       two\ncount  3.000000  2.000000\nmean   3.083333 -2.900000\nstd    3.493685  2.262742\nmin    0.750000 -4.500000\n25%    1.075000 -3.700000\n50%    1.400000 -2.900000\n75%    4.250000 -2.100000\nmax    7.100000 -1.300000\n\n[8 rows x 2 columns]"
      }
     ],
     "prompt_number": 194
    },
    {
     "cell_type": "code",
     "collapsed": false,
     "input": "obj17 = Series(['a', 'b', 'c', 'd'] * 4)\nobj17",
     "language": "python",
     "metadata": {},
     "outputs": [
      {
       "metadata": {},
       "output_type": "pyout",
       "prompt_number": 195,
       "text": "0     a\n1     b\n2     c\n3     d\n4     a\n5     b\n6     c\n7     d\n8     a\n9     b\n10    c\n11    d\n12    a\n13    b\n14    c\n15    d\ndtype: object"
      }
     ],
     "prompt_number": 195
    },
    {
     "cell_type": "code",
     "collapsed": false,
     "input": "obj17.describe()",
     "language": "python",
     "metadata": {},
     "outputs": [
      {
       "metadata": {},
       "output_type": "pyout",
       "prompt_number": 197,
       "text": "count     16\nunique     4\ntop        a\nfreq       4\ndtype: object"
      }
     ],
     "prompt_number": 197
    },
    {
     "cell_type": "heading",
     "level": 3,
     "metadata": {},
     "source": "Correlation and covariance"
    },
    {
     "cell_type": "code",
     "collapsed": false,
     "input": "import pandas.io.data as web\n\nall_data = {}\nfor ticker in ['AAPL', 'IBM', 'MSFT', 'GOOG']:\n    all_data[ticker] = web.get_data_yahoo(ticker)\n\nprice = DataFrame({tic: data['Adj Close']\n                   for tic, data in all_data.iteritems()})\nvolume = DataFrame({tic: data['Volume']\n                    for tic, data in all_data.iteritems()})",
     "language": "python",
     "metadata": {},
     "outputs": [
      {
       "ename": "KeyboardInterrupt",
       "evalue": "",
       "output_type": "pyerr",
       "traceback": [
        "\u001b[0;31m---------------------------------------------------------------------------\u001b[0m\n\u001b[0;31mKeyboardInterrupt\u001b[0m                         Traceback (most recent call last)",
        "\u001b[0;32m<ipython-input-200-ba85df84e210>\u001b[0m in \u001b[0;36m<module>\u001b[0;34m()\u001b[0m\n\u001b[1;32m      3\u001b[0m \u001b[0mall_data\u001b[0m \u001b[0;34m=\u001b[0m \u001b[0;34m{\u001b[0m\u001b[0;34m}\u001b[0m\u001b[0;34m\u001b[0m\u001b[0m\n\u001b[1;32m      4\u001b[0m \u001b[0;32mfor\u001b[0m \u001b[0mticker\u001b[0m \u001b[0;32min\u001b[0m \u001b[0;34m[\u001b[0m\u001b[0;34m'AAPL'\u001b[0m\u001b[0;34m,\u001b[0m \u001b[0;34m'IBM'\u001b[0m\u001b[0;34m,\u001b[0m \u001b[0;34m'MSFT'\u001b[0m\u001b[0;34m,\u001b[0m \u001b[0;34m'GOOG'\u001b[0m\u001b[0;34m]\u001b[0m\u001b[0;34m:\u001b[0m\u001b[0;34m\u001b[0m\u001b[0m\n\u001b[0;32m----> 5\u001b[0;31m     \u001b[0mall_data\u001b[0m\u001b[0;34m[\u001b[0m\u001b[0mticker\u001b[0m\u001b[0;34m]\u001b[0m \u001b[0;34m=\u001b[0m \u001b[0mweb\u001b[0m\u001b[0;34m.\u001b[0m\u001b[0mget_data_yahoo\u001b[0m\u001b[0;34m(\u001b[0m\u001b[0mticker\u001b[0m\u001b[0;34m)\u001b[0m\u001b[0;34m\u001b[0m\u001b[0m\n\u001b[0m\u001b[1;32m      6\u001b[0m \u001b[0;34m\u001b[0m\u001b[0m\n\u001b[1;32m      7\u001b[0m price = DataFrame({tic: data['Adj Close']\n",
        "\u001b[0;32m/usr/lib/python2.7/dist-packages/pandas/io/data.pyc\u001b[0m in \u001b[0;36mget_data_yahoo\u001b[0;34m(symbols, start, end, retry_count, pause, adjust_price, ret_index, chunksize, name)\u001b[0m\n\u001b[1;32m    403\u001b[0m     \"\"\"\n\u001b[1;32m    404\u001b[0m     return _get_data_from(symbols, start, end, retry_count, pause,\n\u001b[0;32m--> 405\u001b[0;31m                           adjust_price, ret_index, chunksize, 'yahoo', name)\n\u001b[0m\u001b[1;32m    406\u001b[0m \u001b[0;34m\u001b[0m\u001b[0m\n\u001b[1;32m    407\u001b[0m \u001b[0;34m\u001b[0m\u001b[0m\n",
        "\u001b[0;32m/usr/lib/python2.7/dist-packages/pandas/io/data.pyc\u001b[0m in \u001b[0;36m_get_data_from\u001b[0;34m(symbols, start, end, retry_count, pause, adjust_price, ret_index, chunksize, source, name)\u001b[0m\n\u001b[1;32m    349\u001b[0m     \u001b[0;31m# If a single symbol, (e.g., 'GOOG')\u001b[0m\u001b[0;34m\u001b[0m\u001b[0;34m\u001b[0m\u001b[0m\n\u001b[1;32m    350\u001b[0m     \u001b[0;32mif\u001b[0m \u001b[0misinstance\u001b[0m\u001b[0;34m(\u001b[0m\u001b[0msymbols\u001b[0m\u001b[0;34m,\u001b[0m \u001b[0;34m(\u001b[0m\u001b[0mcompat\u001b[0m\u001b[0;34m.\u001b[0m\u001b[0mstring_types\u001b[0m\u001b[0;34m,\u001b[0m \u001b[0mint\u001b[0m\u001b[0;34m)\u001b[0m\u001b[0;34m)\u001b[0m\u001b[0;34m:\u001b[0m\u001b[0;34m\u001b[0m\u001b[0m\n\u001b[0;32m--> 351\u001b[0;31m         \u001b[0mhist_data\u001b[0m \u001b[0;34m=\u001b[0m \u001b[0msrc_fn\u001b[0m\u001b[0;34m(\u001b[0m\u001b[0msymbols\u001b[0m\u001b[0;34m,\u001b[0m \u001b[0mstart\u001b[0m\u001b[0;34m,\u001b[0m \u001b[0mend\u001b[0m\u001b[0;34m,\u001b[0m \u001b[0mretry_count\u001b[0m\u001b[0;34m,\u001b[0m \u001b[0mpause\u001b[0m\u001b[0;34m)\u001b[0m\u001b[0;34m\u001b[0m\u001b[0m\n\u001b[0m\u001b[1;32m    352\u001b[0m     \u001b[0;31m# Or multiple symbols, (e.g., ['GOOG', 'AAPL', 'MSFT'])\u001b[0m\u001b[0;34m\u001b[0m\u001b[0;34m\u001b[0m\u001b[0m\n\u001b[1;32m    353\u001b[0m     \u001b[0;32melif\u001b[0m \u001b[0misinstance\u001b[0m\u001b[0;34m(\u001b[0m\u001b[0msymbols\u001b[0m\u001b[0;34m,\u001b[0m \u001b[0mDataFrame\u001b[0m\u001b[0;34m)\u001b[0m\u001b[0;34m:\u001b[0m\u001b[0;34m\u001b[0m\u001b[0m\n",
        "\u001b[0;32m/usr/lib/python2.7/dist-packages/pandas/io/data.pyc\u001b[0m in \u001b[0;36m_get_hist_yahoo\u001b[0;34m(sym, start, end, retry_count, pause)\u001b[0m\n\u001b[1;32m    198\u001b[0m            \u001b[0;34m'&g=d'\u001b[0m \u001b[0;34m+\u001b[0m\u001b[0;34m\u001b[0m\u001b[0m\n\u001b[1;32m    199\u001b[0m            '&ignore=.csv')\n\u001b[0;32m--> 200\u001b[0;31m     \u001b[0;32mreturn\u001b[0m \u001b[0m_retry_read_url\u001b[0m\u001b[0;34m(\u001b[0m\u001b[0murl\u001b[0m\u001b[0;34m,\u001b[0m \u001b[0mretry_count\u001b[0m\u001b[0;34m,\u001b[0m \u001b[0mpause\u001b[0m\u001b[0;34m,\u001b[0m \u001b[0;34m'Yahoo!'\u001b[0m\u001b[0;34m)\u001b[0m\u001b[0;34m\u001b[0m\u001b[0m\n\u001b[0m\u001b[1;32m    201\u001b[0m \u001b[0;34m\u001b[0m\u001b[0m\n\u001b[1;32m    202\u001b[0m \u001b[0;34m\u001b[0m\u001b[0m\n",
        "\u001b[0;32m/usr/lib/python2.7/dist-packages/pandas/io/data.pyc\u001b[0m in \u001b[0;36m_retry_read_url\u001b[0;34m(url, retry_count, pause, name)\u001b[0m\n\u001b[1;32m    161\u001b[0m         \u001b[0;31m# kludge to close the socket ASAP\u001b[0m\u001b[0;34m\u001b[0m\u001b[0;34m\u001b[0m\u001b[0m\n\u001b[1;32m    162\u001b[0m         \u001b[0;32mtry\u001b[0m\u001b[0;34m:\u001b[0m\u001b[0;34m\u001b[0m\u001b[0m\n\u001b[0;32m--> 163\u001b[0;31m             \u001b[0;32mwith\u001b[0m \u001b[0murlopen\u001b[0m\u001b[0;34m(\u001b[0m\u001b[0murl\u001b[0m\u001b[0;34m)\u001b[0m \u001b[0;32mas\u001b[0m \u001b[0mresp\u001b[0m\u001b[0;34m:\u001b[0m\u001b[0;34m\u001b[0m\u001b[0m\n\u001b[0m\u001b[1;32m    164\u001b[0m                 \u001b[0mlines\u001b[0m \u001b[0;34m=\u001b[0m \u001b[0mresp\u001b[0m\u001b[0;34m.\u001b[0m\u001b[0mread\u001b[0m\u001b[0;34m(\u001b[0m\u001b[0;34m)\u001b[0m\u001b[0;34m\u001b[0m\u001b[0m\n\u001b[1;32m    165\u001b[0m         \u001b[0;32mexcept\u001b[0m \u001b[0m_network_error_classes\u001b[0m\u001b[0;34m:\u001b[0m\u001b[0;34m\u001b[0m\u001b[0m\n",
        "\u001b[0;32m/usr/lib/python2.7/contextlib.pyc\u001b[0m in \u001b[0;36m__enter__\u001b[0;34m(self)\u001b[0m\n\u001b[1;32m     15\u001b[0m     \u001b[0;32mdef\u001b[0m \u001b[0m__enter__\u001b[0m\u001b[0;34m(\u001b[0m\u001b[0mself\u001b[0m\u001b[0;34m)\u001b[0m\u001b[0;34m:\u001b[0m\u001b[0;34m\u001b[0m\u001b[0m\n\u001b[1;32m     16\u001b[0m         \u001b[0;32mtry\u001b[0m\u001b[0;34m:\u001b[0m\u001b[0;34m\u001b[0m\u001b[0m\n\u001b[0;32m---> 17\u001b[0;31m             \u001b[0;32mreturn\u001b[0m \u001b[0mself\u001b[0m\u001b[0;34m.\u001b[0m\u001b[0mgen\u001b[0m\u001b[0;34m.\u001b[0m\u001b[0mnext\u001b[0m\u001b[0;34m(\u001b[0m\u001b[0;34m)\u001b[0m\u001b[0;34m\u001b[0m\u001b[0m\n\u001b[0m\u001b[1;32m     18\u001b[0m         \u001b[0;32mexcept\u001b[0m \u001b[0mStopIteration\u001b[0m\u001b[0;34m:\u001b[0m\u001b[0;34m\u001b[0m\u001b[0m\n\u001b[1;32m     19\u001b[0m             \u001b[0;32mraise\u001b[0m \u001b[0mRuntimeError\u001b[0m\u001b[0;34m(\u001b[0m\u001b[0;34m\"generator didn't yield\"\u001b[0m\u001b[0;34m)\u001b[0m\u001b[0;34m\u001b[0m\u001b[0m\n",
        "\u001b[0;32m/usr/lib/python2.7/dist-packages/pandas/io/common.pyc\u001b[0m in \u001b[0;36murlopen\u001b[0;34m(*args, **kwargs)\u001b[0m\n\u001b[1;32m     31\u001b[0m     \u001b[0;34m@\u001b[0m\u001b[0mcontextmanager\u001b[0m\u001b[0;34m\u001b[0m\u001b[0m\n\u001b[1;32m     32\u001b[0m     \u001b[0;32mdef\u001b[0m \u001b[0murlopen\u001b[0m\u001b[0;34m(\u001b[0m\u001b[0;34m*\u001b[0m\u001b[0margs\u001b[0m\u001b[0;34m,\u001b[0m \u001b[0;34m**\u001b[0m\u001b[0mkwargs\u001b[0m\u001b[0;34m)\u001b[0m\u001b[0;34m:\u001b[0m\u001b[0;34m\u001b[0m\u001b[0m\n\u001b[0;32m---> 33\u001b[0;31m         \u001b[0;32mwith\u001b[0m \u001b[0mclosing\u001b[0m\u001b[0;34m(\u001b[0m\u001b[0m_urlopen\u001b[0m\u001b[0;34m(\u001b[0m\u001b[0;34m*\u001b[0m\u001b[0margs\u001b[0m\u001b[0;34m,\u001b[0m \u001b[0;34m**\u001b[0m\u001b[0mkwargs\u001b[0m\u001b[0;34m)\u001b[0m\u001b[0;34m)\u001b[0m \u001b[0;32mas\u001b[0m \u001b[0mf\u001b[0m\u001b[0;34m:\u001b[0m\u001b[0;34m\u001b[0m\u001b[0m\n\u001b[0m\u001b[1;32m     34\u001b[0m             \u001b[0;32myield\u001b[0m \u001b[0mf\u001b[0m\u001b[0;34m\u001b[0m\u001b[0m\n\u001b[1;32m     35\u001b[0m \u001b[0;34m\u001b[0m\u001b[0m\n",
        "\u001b[0;32m/usr/lib/python2.7/urllib2.pyc\u001b[0m in \u001b[0;36murlopen\u001b[0;34m(url, data, timeout)\u001b[0m\n\u001b[1;32m    125\u001b[0m     \u001b[0;32mif\u001b[0m \u001b[0m_opener\u001b[0m \u001b[0;32mis\u001b[0m \u001b[0mNone\u001b[0m\u001b[0;34m:\u001b[0m\u001b[0;34m\u001b[0m\u001b[0m\n\u001b[1;32m    126\u001b[0m         \u001b[0m_opener\u001b[0m \u001b[0;34m=\u001b[0m \u001b[0mbuild_opener\u001b[0m\u001b[0;34m(\u001b[0m\u001b[0;34m)\u001b[0m\u001b[0;34m\u001b[0m\u001b[0m\n\u001b[0;32m--> 127\u001b[0;31m     \u001b[0;32mreturn\u001b[0m \u001b[0m_opener\u001b[0m\u001b[0;34m.\u001b[0m\u001b[0mopen\u001b[0m\u001b[0;34m(\u001b[0m\u001b[0murl\u001b[0m\u001b[0;34m,\u001b[0m \u001b[0mdata\u001b[0m\u001b[0;34m,\u001b[0m \u001b[0mtimeout\u001b[0m\u001b[0;34m)\u001b[0m\u001b[0;34m\u001b[0m\u001b[0m\n\u001b[0m\u001b[1;32m    128\u001b[0m \u001b[0;34m\u001b[0m\u001b[0m\n\u001b[1;32m    129\u001b[0m \u001b[0;32mdef\u001b[0m \u001b[0minstall_opener\u001b[0m\u001b[0;34m(\u001b[0m\u001b[0mopener\u001b[0m\u001b[0;34m)\u001b[0m\u001b[0;34m:\u001b[0m\u001b[0;34m\u001b[0m\u001b[0m\n",
        "\u001b[0;32m/usr/lib/python2.7/urllib2.pyc\u001b[0m in \u001b[0;36mopen\u001b[0;34m(self, fullurl, data, timeout)\u001b[0m\n\u001b[1;32m    402\u001b[0m             \u001b[0mreq\u001b[0m \u001b[0;34m=\u001b[0m \u001b[0mmeth\u001b[0m\u001b[0;34m(\u001b[0m\u001b[0mreq\u001b[0m\u001b[0;34m)\u001b[0m\u001b[0;34m\u001b[0m\u001b[0m\n\u001b[1;32m    403\u001b[0m \u001b[0;34m\u001b[0m\u001b[0m\n\u001b[0;32m--> 404\u001b[0;31m         \u001b[0mresponse\u001b[0m \u001b[0;34m=\u001b[0m \u001b[0mself\u001b[0m\u001b[0;34m.\u001b[0m\u001b[0m_open\u001b[0m\u001b[0;34m(\u001b[0m\u001b[0mreq\u001b[0m\u001b[0;34m,\u001b[0m \u001b[0mdata\u001b[0m\u001b[0;34m)\u001b[0m\u001b[0;34m\u001b[0m\u001b[0m\n\u001b[0m\u001b[1;32m    405\u001b[0m \u001b[0;34m\u001b[0m\u001b[0m\n\u001b[1;32m    406\u001b[0m         \u001b[0;31m# post-process response\u001b[0m\u001b[0;34m\u001b[0m\u001b[0;34m\u001b[0m\u001b[0m\n",
        "\u001b[0;32m/usr/lib/python2.7/urllib2.pyc\u001b[0m in \u001b[0;36m_open\u001b[0;34m(self, req, data)\u001b[0m\n\u001b[1;32m    420\u001b[0m         \u001b[0mprotocol\u001b[0m \u001b[0;34m=\u001b[0m \u001b[0mreq\u001b[0m\u001b[0;34m.\u001b[0m\u001b[0mget_type\u001b[0m\u001b[0;34m(\u001b[0m\u001b[0;34m)\u001b[0m\u001b[0;34m\u001b[0m\u001b[0m\n\u001b[1;32m    421\u001b[0m         result = self._call_chain(self.handle_open, protocol, protocol +\n\u001b[0;32m--> 422\u001b[0;31m                                   '_open', req)\n\u001b[0m\u001b[1;32m    423\u001b[0m         \u001b[0;32mif\u001b[0m \u001b[0mresult\u001b[0m\u001b[0;34m:\u001b[0m\u001b[0;34m\u001b[0m\u001b[0m\n\u001b[1;32m    424\u001b[0m             \u001b[0;32mreturn\u001b[0m \u001b[0mresult\u001b[0m\u001b[0;34m\u001b[0m\u001b[0m\n",
        "\u001b[0;32m/usr/lib/python2.7/urllib2.pyc\u001b[0m in \u001b[0;36m_call_chain\u001b[0;34m(self, chain, kind, meth_name, *args)\u001b[0m\n\u001b[1;32m    380\u001b[0m             \u001b[0mfunc\u001b[0m \u001b[0;34m=\u001b[0m \u001b[0mgetattr\u001b[0m\u001b[0;34m(\u001b[0m\u001b[0mhandler\u001b[0m\u001b[0;34m,\u001b[0m \u001b[0mmeth_name\u001b[0m\u001b[0;34m)\u001b[0m\u001b[0;34m\u001b[0m\u001b[0m\n\u001b[1;32m    381\u001b[0m \u001b[0;34m\u001b[0m\u001b[0m\n\u001b[0;32m--> 382\u001b[0;31m             \u001b[0mresult\u001b[0m \u001b[0;34m=\u001b[0m \u001b[0mfunc\u001b[0m\u001b[0;34m(\u001b[0m\u001b[0;34m*\u001b[0m\u001b[0margs\u001b[0m\u001b[0;34m)\u001b[0m\u001b[0;34m\u001b[0m\u001b[0m\n\u001b[0m\u001b[1;32m    383\u001b[0m             \u001b[0;32mif\u001b[0m \u001b[0mresult\u001b[0m \u001b[0;32mis\u001b[0m \u001b[0;32mnot\u001b[0m \u001b[0mNone\u001b[0m\u001b[0;34m:\u001b[0m\u001b[0;34m\u001b[0m\u001b[0m\n\u001b[1;32m    384\u001b[0m                 \u001b[0;32mreturn\u001b[0m \u001b[0mresult\u001b[0m\u001b[0;34m\u001b[0m\u001b[0m\n",
        "\u001b[0;32m/usr/lib/python2.7/urllib2.pyc\u001b[0m in \u001b[0;36mhttp_open\u001b[0;34m(self, req)\u001b[0m\n\u001b[1;32m   1212\u001b[0m \u001b[0;34m\u001b[0m\u001b[0m\n\u001b[1;32m   1213\u001b[0m     \u001b[0;32mdef\u001b[0m \u001b[0mhttp_open\u001b[0m\u001b[0;34m(\u001b[0m\u001b[0mself\u001b[0m\u001b[0;34m,\u001b[0m \u001b[0mreq\u001b[0m\u001b[0;34m)\u001b[0m\u001b[0;34m:\u001b[0m\u001b[0;34m\u001b[0m\u001b[0m\n\u001b[0;32m-> 1214\u001b[0;31m         \u001b[0;32mreturn\u001b[0m \u001b[0mself\u001b[0m\u001b[0;34m.\u001b[0m\u001b[0mdo_open\u001b[0m\u001b[0;34m(\u001b[0m\u001b[0mhttplib\u001b[0m\u001b[0;34m.\u001b[0m\u001b[0mHTTPConnection\u001b[0m\u001b[0;34m,\u001b[0m \u001b[0mreq\u001b[0m\u001b[0;34m)\u001b[0m\u001b[0;34m\u001b[0m\u001b[0m\n\u001b[0m\u001b[1;32m   1215\u001b[0m \u001b[0;34m\u001b[0m\u001b[0m\n\u001b[1;32m   1216\u001b[0m     \u001b[0mhttp_request\u001b[0m \u001b[0;34m=\u001b[0m \u001b[0mAbstractHTTPHandler\u001b[0m\u001b[0;34m.\u001b[0m\u001b[0mdo_request_\u001b[0m\u001b[0;34m\u001b[0m\u001b[0m\n",
        "\u001b[0;32m/usr/lib/python2.7/urllib2.pyc\u001b[0m in \u001b[0;36mdo_open\u001b[0;34m(self, http_class, req)\u001b[0m\n\u001b[1;32m   1179\u001b[0m \u001b[0;34m\u001b[0m\u001b[0m\n\u001b[1;32m   1180\u001b[0m         \u001b[0;32mtry\u001b[0m\u001b[0;34m:\u001b[0m\u001b[0;34m\u001b[0m\u001b[0m\n\u001b[0;32m-> 1181\u001b[0;31m             \u001b[0mh\u001b[0m\u001b[0;34m.\u001b[0m\u001b[0mrequest\u001b[0m\u001b[0;34m(\u001b[0m\u001b[0mreq\u001b[0m\u001b[0;34m.\u001b[0m\u001b[0mget_method\u001b[0m\u001b[0;34m(\u001b[0m\u001b[0;34m)\u001b[0m\u001b[0;34m,\u001b[0m \u001b[0mreq\u001b[0m\u001b[0;34m.\u001b[0m\u001b[0mget_selector\u001b[0m\u001b[0;34m(\u001b[0m\u001b[0;34m)\u001b[0m\u001b[0;34m,\u001b[0m \u001b[0mreq\u001b[0m\u001b[0;34m.\u001b[0m\u001b[0mdata\u001b[0m\u001b[0;34m,\u001b[0m \u001b[0mheaders\u001b[0m\u001b[0;34m)\u001b[0m\u001b[0;34m\u001b[0m\u001b[0m\n\u001b[0m\u001b[1;32m   1182\u001b[0m         \u001b[0;32mexcept\u001b[0m \u001b[0msocket\u001b[0m\u001b[0;34m.\u001b[0m\u001b[0merror\u001b[0m\u001b[0;34m,\u001b[0m \u001b[0merr\u001b[0m\u001b[0;34m:\u001b[0m \u001b[0;31m# XXX what error?\u001b[0m\u001b[0;34m\u001b[0m\u001b[0m\n\u001b[1;32m   1183\u001b[0m             \u001b[0mh\u001b[0m\u001b[0;34m.\u001b[0m\u001b[0mclose\u001b[0m\u001b[0;34m(\u001b[0m\u001b[0;34m)\u001b[0m\u001b[0;34m\u001b[0m\u001b[0m\n",
        "\u001b[0;32m/usr/lib/python2.7/httplib.pyc\u001b[0m in \u001b[0;36mrequest\u001b[0;34m(self, method, url, body, headers)\u001b[0m\n\u001b[1;32m    971\u001b[0m     \u001b[0;32mdef\u001b[0m \u001b[0mrequest\u001b[0m\u001b[0;34m(\u001b[0m\u001b[0mself\u001b[0m\u001b[0;34m,\u001b[0m \u001b[0mmethod\u001b[0m\u001b[0;34m,\u001b[0m \u001b[0murl\u001b[0m\u001b[0;34m,\u001b[0m \u001b[0mbody\u001b[0m\u001b[0;34m=\u001b[0m\u001b[0mNone\u001b[0m\u001b[0;34m,\u001b[0m \u001b[0mheaders\u001b[0m\u001b[0;34m=\u001b[0m\u001b[0;34m{\u001b[0m\u001b[0;34m}\u001b[0m\u001b[0;34m)\u001b[0m\u001b[0;34m:\u001b[0m\u001b[0;34m\u001b[0m\u001b[0m\n\u001b[1;32m    972\u001b[0m         \u001b[0;34m\"\"\"Send a complete request to the server.\"\"\"\u001b[0m\u001b[0;34m\u001b[0m\u001b[0m\n\u001b[0;32m--> 973\u001b[0;31m         \u001b[0mself\u001b[0m\u001b[0;34m.\u001b[0m\u001b[0m_send_request\u001b[0m\u001b[0;34m(\u001b[0m\u001b[0mmethod\u001b[0m\u001b[0;34m,\u001b[0m \u001b[0murl\u001b[0m\u001b[0;34m,\u001b[0m \u001b[0mbody\u001b[0m\u001b[0;34m,\u001b[0m \u001b[0mheaders\u001b[0m\u001b[0;34m)\u001b[0m\u001b[0;34m\u001b[0m\u001b[0m\n\u001b[0m\u001b[1;32m    974\u001b[0m \u001b[0;34m\u001b[0m\u001b[0m\n\u001b[1;32m    975\u001b[0m     \u001b[0;32mdef\u001b[0m \u001b[0m_set_content_length\u001b[0m\u001b[0;34m(\u001b[0m\u001b[0mself\u001b[0m\u001b[0;34m,\u001b[0m \u001b[0mbody\u001b[0m\u001b[0;34m)\u001b[0m\u001b[0;34m:\u001b[0m\u001b[0;34m\u001b[0m\u001b[0m\n",
        "\u001b[0;32m/usr/lib/python2.7/httplib.pyc\u001b[0m in \u001b[0;36m_send_request\u001b[0;34m(self, method, url, body, headers)\u001b[0m\n\u001b[1;32m   1005\u001b[0m         \u001b[0;32mfor\u001b[0m \u001b[0mhdr\u001b[0m\u001b[0;34m,\u001b[0m \u001b[0mvalue\u001b[0m \u001b[0;32min\u001b[0m \u001b[0mheaders\u001b[0m\u001b[0;34m.\u001b[0m\u001b[0miteritems\u001b[0m\u001b[0;34m(\u001b[0m\u001b[0;34m)\u001b[0m\u001b[0;34m:\u001b[0m\u001b[0;34m\u001b[0m\u001b[0m\n\u001b[1;32m   1006\u001b[0m             \u001b[0mself\u001b[0m\u001b[0;34m.\u001b[0m\u001b[0mputheader\u001b[0m\u001b[0;34m(\u001b[0m\u001b[0mhdr\u001b[0m\u001b[0;34m,\u001b[0m \u001b[0mvalue\u001b[0m\u001b[0;34m)\u001b[0m\u001b[0;34m\u001b[0m\u001b[0m\n\u001b[0;32m-> 1007\u001b[0;31m         \u001b[0mself\u001b[0m\u001b[0;34m.\u001b[0m\u001b[0mendheaders\u001b[0m\u001b[0;34m(\u001b[0m\u001b[0mbody\u001b[0m\u001b[0;34m)\u001b[0m\u001b[0;34m\u001b[0m\u001b[0m\n\u001b[0m\u001b[1;32m   1008\u001b[0m \u001b[0;34m\u001b[0m\u001b[0m\n\u001b[1;32m   1009\u001b[0m     \u001b[0;32mdef\u001b[0m \u001b[0mgetresponse\u001b[0m\u001b[0;34m(\u001b[0m\u001b[0mself\u001b[0m\u001b[0;34m,\u001b[0m \u001b[0mbuffering\u001b[0m\u001b[0;34m=\u001b[0m\u001b[0mFalse\u001b[0m\u001b[0;34m)\u001b[0m\u001b[0;34m:\u001b[0m\u001b[0;34m\u001b[0m\u001b[0m\n",
        "\u001b[0;32m/usr/lib/python2.7/httplib.pyc\u001b[0m in \u001b[0;36mendheaders\u001b[0;34m(self, message_body)\u001b[0m\n\u001b[1;32m    967\u001b[0m         \u001b[0;32melse\u001b[0m\u001b[0;34m:\u001b[0m\u001b[0;34m\u001b[0m\u001b[0m\n\u001b[1;32m    968\u001b[0m             \u001b[0;32mraise\u001b[0m \u001b[0mCannotSendHeader\u001b[0m\u001b[0;34m(\u001b[0m\u001b[0;34m)\u001b[0m\u001b[0;34m\u001b[0m\u001b[0m\n\u001b[0;32m--> 969\u001b[0;31m         \u001b[0mself\u001b[0m\u001b[0;34m.\u001b[0m\u001b[0m_send_output\u001b[0m\u001b[0;34m(\u001b[0m\u001b[0mmessage_body\u001b[0m\u001b[0;34m)\u001b[0m\u001b[0;34m\u001b[0m\u001b[0m\n\u001b[0m\u001b[1;32m    970\u001b[0m \u001b[0;34m\u001b[0m\u001b[0m\n\u001b[1;32m    971\u001b[0m     \u001b[0;32mdef\u001b[0m \u001b[0mrequest\u001b[0m\u001b[0;34m(\u001b[0m\u001b[0mself\u001b[0m\u001b[0;34m,\u001b[0m \u001b[0mmethod\u001b[0m\u001b[0;34m,\u001b[0m \u001b[0murl\u001b[0m\u001b[0;34m,\u001b[0m \u001b[0mbody\u001b[0m\u001b[0;34m=\u001b[0m\u001b[0mNone\u001b[0m\u001b[0;34m,\u001b[0m \u001b[0mheaders\u001b[0m\u001b[0;34m=\u001b[0m\u001b[0;34m{\u001b[0m\u001b[0;34m}\u001b[0m\u001b[0;34m)\u001b[0m\u001b[0;34m:\u001b[0m\u001b[0;34m\u001b[0m\u001b[0m\n",
        "\u001b[0;32m/usr/lib/python2.7/httplib.pyc\u001b[0m in \u001b[0;36m_send_output\u001b[0;34m(self, message_body)\u001b[0m\n\u001b[1;32m    827\u001b[0m             \u001b[0mmsg\u001b[0m \u001b[0;34m+=\u001b[0m \u001b[0mmessage_body\u001b[0m\u001b[0;34m\u001b[0m\u001b[0m\n\u001b[1;32m    828\u001b[0m             \u001b[0mmessage_body\u001b[0m \u001b[0;34m=\u001b[0m \u001b[0mNone\u001b[0m\u001b[0;34m\u001b[0m\u001b[0m\n\u001b[0;32m--> 829\u001b[0;31m         \u001b[0mself\u001b[0m\u001b[0;34m.\u001b[0m\u001b[0msend\u001b[0m\u001b[0;34m(\u001b[0m\u001b[0mmsg\u001b[0m\u001b[0;34m)\u001b[0m\u001b[0;34m\u001b[0m\u001b[0m\n\u001b[0m\u001b[1;32m    830\u001b[0m         \u001b[0;32mif\u001b[0m \u001b[0mmessage_body\u001b[0m \u001b[0;32mis\u001b[0m \u001b[0;32mnot\u001b[0m \u001b[0mNone\u001b[0m\u001b[0;34m:\u001b[0m\u001b[0;34m\u001b[0m\u001b[0m\n\u001b[1;32m    831\u001b[0m             \u001b[0;31m#message_body was not a string (i.e. it is a file) and\u001b[0m\u001b[0;34m\u001b[0m\u001b[0;34m\u001b[0m\u001b[0m\n",
        "\u001b[0;32m/usr/lib/python2.7/httplib.pyc\u001b[0m in \u001b[0;36msend\u001b[0;34m(self, data)\u001b[0m\n\u001b[1;32m    789\u001b[0m         \u001b[0;32mif\u001b[0m \u001b[0mself\u001b[0m\u001b[0;34m.\u001b[0m\u001b[0msock\u001b[0m \u001b[0;32mis\u001b[0m \u001b[0mNone\u001b[0m\u001b[0;34m:\u001b[0m\u001b[0;34m\u001b[0m\u001b[0m\n\u001b[1;32m    790\u001b[0m             \u001b[0;32mif\u001b[0m \u001b[0mself\u001b[0m\u001b[0;34m.\u001b[0m\u001b[0mauto_open\u001b[0m\u001b[0;34m:\u001b[0m\u001b[0;34m\u001b[0m\u001b[0m\n\u001b[0;32m--> 791\u001b[0;31m                 \u001b[0mself\u001b[0m\u001b[0;34m.\u001b[0m\u001b[0mconnect\u001b[0m\u001b[0;34m(\u001b[0m\u001b[0;34m)\u001b[0m\u001b[0;34m\u001b[0m\u001b[0m\n\u001b[0m\u001b[1;32m    792\u001b[0m             \u001b[0;32melse\u001b[0m\u001b[0;34m:\u001b[0m\u001b[0;34m\u001b[0m\u001b[0m\n\u001b[1;32m    793\u001b[0m                 \u001b[0;32mraise\u001b[0m \u001b[0mNotConnected\u001b[0m\u001b[0;34m(\u001b[0m\u001b[0;34m)\u001b[0m\u001b[0;34m\u001b[0m\u001b[0m\n",
        "\u001b[0;32m/usr/lib/python2.7/httplib.pyc\u001b[0m in \u001b[0;36mconnect\u001b[0;34m(self)\u001b[0m\n\u001b[1;32m    770\u001b[0m         \u001b[0;34m\"\"\"Connect to the host and port specified in __init__.\"\"\"\u001b[0m\u001b[0;34m\u001b[0m\u001b[0m\n\u001b[1;32m    771\u001b[0m         self.sock = socket.create_connection((self.host,self.port),\n\u001b[0;32m--> 772\u001b[0;31m                                              self.timeout, self.source_address)\n\u001b[0m\u001b[1;32m    773\u001b[0m \u001b[0;34m\u001b[0m\u001b[0m\n\u001b[1;32m    774\u001b[0m         \u001b[0;32mif\u001b[0m \u001b[0mself\u001b[0m\u001b[0;34m.\u001b[0m\u001b[0m_tunnel_host\u001b[0m\u001b[0;34m:\u001b[0m\u001b[0;34m\u001b[0m\u001b[0m\n",
        "\u001b[0;32m/usr/lib/python2.7/socket.pyc\u001b[0m in \u001b[0;36mcreate_connection\u001b[0;34m(address, timeout, source_address)\u001b[0m\n\u001b[1;32m    551\u001b[0m     \u001b[0mhost\u001b[0m\u001b[0;34m,\u001b[0m \u001b[0mport\u001b[0m \u001b[0;34m=\u001b[0m \u001b[0maddress\u001b[0m\u001b[0;34m\u001b[0m\u001b[0m\n\u001b[1;32m    552\u001b[0m     \u001b[0merr\u001b[0m \u001b[0;34m=\u001b[0m \u001b[0mNone\u001b[0m\u001b[0;34m\u001b[0m\u001b[0m\n\u001b[0;32m--> 553\u001b[0;31m     \u001b[0;32mfor\u001b[0m \u001b[0mres\u001b[0m \u001b[0;32min\u001b[0m \u001b[0mgetaddrinfo\u001b[0m\u001b[0;34m(\u001b[0m\u001b[0mhost\u001b[0m\u001b[0;34m,\u001b[0m \u001b[0mport\u001b[0m\u001b[0;34m,\u001b[0m \u001b[0;36m0\u001b[0m\u001b[0;34m,\u001b[0m \u001b[0mSOCK_STREAM\u001b[0m\u001b[0;34m)\u001b[0m\u001b[0;34m:\u001b[0m\u001b[0;34m\u001b[0m\u001b[0m\n\u001b[0m\u001b[1;32m    554\u001b[0m         \u001b[0maf\u001b[0m\u001b[0;34m,\u001b[0m \u001b[0msocktype\u001b[0m\u001b[0;34m,\u001b[0m \u001b[0mproto\u001b[0m\u001b[0;34m,\u001b[0m \u001b[0mcanonname\u001b[0m\u001b[0;34m,\u001b[0m \u001b[0msa\u001b[0m \u001b[0;34m=\u001b[0m \u001b[0mres\u001b[0m\u001b[0;34m\u001b[0m\u001b[0m\n\u001b[1;32m    555\u001b[0m         \u001b[0msock\u001b[0m \u001b[0;34m=\u001b[0m \u001b[0mNone\u001b[0m\u001b[0;34m\u001b[0m\u001b[0m\n",
        "\u001b[0;31mKeyboardInterrupt\u001b[0m: "
       ]
      }
     ],
     "prompt_number": 200
    },
    {
     "cell_type": "code",
     "collapsed": false,
     "input": "price",
     "language": "python",
     "metadata": {},
     "outputs": [
      {
       "html": "<div style=\"max-height:1000px;max-width:1500px;overflow:auto;\">\n<table border=\"1\" class=\"dataframe\">\n  <thead>\n    <tr style=\"text-align: right;\">\n      <th></th>\n      <th>AAPL</th>\n      <th>GOOG</th>\n      <th>IBM</th>\n      <th>MSFT</th>\n    </tr>\n    <tr>\n      <th>Date</th>\n      <th></th>\n      <th></th>\n      <th></th>\n      <th></th>\n    </tr>\n  </thead>\n  <tbody>\n    <tr>\n      <th>2010-01-04</th>\n      <td> 28.84</td>\n      <td>NaN</td>\n      <td> 119.53</td>\n      <td> 26.94</td>\n    </tr>\n    <tr>\n      <th>2010-01-05</th>\n      <td> 28.89</td>\n      <td>NaN</td>\n      <td> 118.09</td>\n      <td> 26.95</td>\n    </tr>\n    <tr>\n      <th>2010-01-06</th>\n      <td> 28.43</td>\n      <td>NaN</td>\n      <td> 117.32</td>\n      <td> 26.79</td>\n    </tr>\n    <tr>\n      <th>2010-01-07</th>\n      <td> 28.38</td>\n      <td>NaN</td>\n      <td> 116.92</td>\n      <td> 26.51</td>\n    </tr>\n    <tr>\n      <th>2010-01-08</th>\n      <td> 28.56</td>\n      <td>NaN</td>\n      <td> 118.09</td>\n      <td> 26.69</td>\n    </tr>\n    <tr>\n      <th>2010-01-11</th>\n      <td> 28.31</td>\n      <td>NaN</td>\n      <td> 116.85</td>\n      <td> 26.35</td>\n    </tr>\n    <tr>\n      <th>2010-01-12</th>\n      <td> 27.99</td>\n      <td>NaN</td>\n      <td> 117.78</td>\n      <td> 26.18</td>\n    </tr>\n    <tr>\n      <th>2010-01-13</th>\n      <td> 28.39</td>\n      <td>NaN</td>\n      <td> 117.53</td>\n      <td> 26.42</td>\n    </tr>\n    <tr>\n      <th>2010-01-14</th>\n      <td> 28.22</td>\n      <td>NaN</td>\n      <td> 119.41</td>\n      <td> 26.95</td>\n    </tr>\n    <tr>\n      <th>2010-01-15</th>\n      <td> 27.75</td>\n      <td>NaN</td>\n      <td> 118.93</td>\n      <td> 26.86</td>\n    </tr>\n    <tr>\n      <th>2010-01-19</th>\n      <td> 28.98</td>\n      <td>NaN</td>\n      <td> 121.06</td>\n      <td> 27.07</td>\n    </tr>\n    <tr>\n      <th>2010-01-20</th>\n      <td> 28.53</td>\n      <td>NaN</td>\n      <td> 117.55</td>\n      <td> 26.63</td>\n    </tr>\n    <tr>\n      <th>2010-01-21</th>\n      <td> 28.04</td>\n      <td>NaN</td>\n      <td> 116.42</td>\n      <td> 26.12</td>\n    </tr>\n    <tr>\n      <th>2010-01-22</th>\n      <td> 26.65</td>\n      <td>NaN</td>\n      <td> 113.26</td>\n      <td> 25.21</td>\n    </tr>\n    <tr>\n      <th>2010-01-25</th>\n      <td> 27.36</td>\n      <td>NaN</td>\n      <td> 113.82</td>\n      <td> 25.52</td>\n    </tr>\n    <tr>\n      <th>2010-01-26</th>\n      <td> 27.75</td>\n      <td>NaN</td>\n      <td> 113.49</td>\n      <td> 25.68</td>\n    </tr>\n    <tr>\n      <th>2010-01-27</th>\n      <td> 28.01</td>\n      <td>NaN</td>\n      <td> 114.01</td>\n      <td> 25.83</td>\n    </tr>\n    <tr>\n      <th>2010-01-28</th>\n      <td> 26.85</td>\n      <td>NaN</td>\n      <td> 111.68</td>\n      <td> 25.39</td>\n    </tr>\n    <tr>\n      <th>2010-01-29</th>\n      <td> 25.88</td>\n      <td>NaN</td>\n      <td> 110.45</td>\n      <td> 24.53</td>\n    </tr>\n    <tr>\n      <th>2010-02-01</th>\n      <td> 26.24</td>\n      <td>NaN</td>\n      <td> 112.51</td>\n      <td> 24.73</td>\n    </tr>\n    <tr>\n      <th>2010-02-02</th>\n      <td> 26.39</td>\n      <td>NaN</td>\n      <td> 113.29</td>\n      <td> 24.78</td>\n    </tr>\n    <tr>\n      <th>2010-02-03</th>\n      <td> 26.85</td>\n      <td>NaN</td>\n      <td> 113.40</td>\n      <td> 24.92</td>\n    </tr>\n    <tr>\n      <th>2010-02-04</th>\n      <td> 25.88</td>\n      <td>NaN</td>\n      <td> 111.00</td>\n      <td> 24.24</td>\n    </tr>\n    <tr>\n      <th>2010-02-05</th>\n      <td> 26.34</td>\n      <td>NaN</td>\n      <td> 111.47</td>\n      <td> 24.39</td>\n    </tr>\n    <tr>\n      <th>2010-02-08</th>\n      <td> 26.16</td>\n      <td>NaN</td>\n      <td> 110.49</td>\n      <td> 24.13</td>\n    </tr>\n    <tr>\n      <th>2010-02-09</th>\n      <td> 26.44</td>\n      <td>NaN</td>\n      <td> 111.69</td>\n      <td> 24.38</td>\n    </tr>\n    <tr>\n      <th>2010-02-10</th>\n      <td> 26.29</td>\n      <td>NaN</td>\n      <td> 111.33</td>\n      <td> 24.37</td>\n    </tr>\n    <tr>\n      <th>2010-02-11</th>\n      <td> 26.77</td>\n      <td>NaN</td>\n      <td> 112.16</td>\n      <td> 24.48</td>\n    </tr>\n    <tr>\n      <th>2010-02-12</th>\n      <td> 27.00</td>\n      <td>NaN</td>\n      <td> 112.41</td>\n      <td> 24.31</td>\n    </tr>\n    <tr>\n      <th>2010-02-16</th>\n      <td> 27.41</td>\n      <td>NaN</td>\n      <td> 113.52</td>\n      <td> 24.80</td>\n    </tr>\n    <tr>\n      <th>2010-02-17</th>\n      <td> 27.29</td>\n      <td>NaN</td>\n      <td> 114.52</td>\n      <td> 25.01</td>\n    </tr>\n    <tr>\n      <th>2010-02-18</th>\n      <td> 27.35</td>\n      <td>NaN</td>\n      <td> 115.86</td>\n      <td> 25.34</td>\n    </tr>\n    <tr>\n      <th>2010-02-19</th>\n      <td> 27.18</td>\n      <td>NaN</td>\n      <td> 115.30</td>\n      <td> 25.16</td>\n    </tr>\n    <tr>\n      <th>2010-02-22</th>\n      <td> 27.01</td>\n      <td>NaN</td>\n      <td> 114.99</td>\n      <td> 25.13</td>\n    </tr>\n    <tr>\n      <th>2010-02-23</th>\n      <td> 26.55</td>\n      <td>NaN</td>\n      <td> 114.64</td>\n      <td> 24.78</td>\n    </tr>\n    <tr>\n      <th>2010-02-24</th>\n      <td> 27.04</td>\n      <td>NaN</td>\n      <td> 115.66</td>\n      <td> 25.04</td>\n    </tr>\n    <tr>\n      <th>2010-02-25</th>\n      <td> 27.22</td>\n      <td>NaN</td>\n      <td> 115.19</td>\n      <td> 25.01</td>\n    </tr>\n    <tr>\n      <th>2010-02-26</th>\n      <td> 27.57</td>\n      <td>NaN</td>\n      <td> 115.27</td>\n      <td> 25.08</td>\n    </tr>\n    <tr>\n      <th>2010-03-01</th>\n      <td> 28.16</td>\n      <td>NaN</td>\n      <td> 116.55</td>\n      <td> 25.38</td>\n    </tr>\n    <tr>\n      <th>2010-03-02</th>\n      <td> 28.14</td>\n      <td>NaN</td>\n      <td> 115.51</td>\n      <td> 24.89</td>\n    </tr>\n    <tr>\n      <th>2010-03-03</th>\n      <td> 28.21</td>\n      <td>NaN</td>\n      <td> 115.02</td>\n      <td> 24.89</td>\n    </tr>\n    <tr>\n      <th>2010-03-04</th>\n      <td> 28.39</td>\n      <td>NaN</td>\n      <td> 114.87</td>\n      <td> 25.04</td>\n    </tr>\n    <tr>\n      <th>2010-03-05</th>\n      <td> 29.50</td>\n      <td>NaN</td>\n      <td> 115.35</td>\n      <td> 25.01</td>\n    </tr>\n    <tr>\n      <th>2010-03-08</th>\n      <td> 29.52</td>\n      <td>NaN</td>\n      <td> 114.59</td>\n      <td> 25.04</td>\n    </tr>\n    <tr>\n      <th>2010-03-09</th>\n      <td> 30.05</td>\n      <td>NaN</td>\n      <td> 113.81</td>\n      <td> 25.19</td>\n    </tr>\n    <tr>\n      <th>2010-03-10</th>\n      <td> 30.30</td>\n      <td>NaN</td>\n      <td> 113.88</td>\n      <td> 25.34</td>\n    </tr>\n    <tr>\n      <th>2010-03-11</th>\n      <td> 30.39</td>\n      <td>NaN</td>\n      <td> 115.67</td>\n      <td> 25.52</td>\n    </tr>\n    <tr>\n      <th>2010-03-12</th>\n      <td> 30.53</td>\n      <td>NaN</td>\n      <td> 115.98</td>\n      <td> 25.60</td>\n    </tr>\n    <tr>\n      <th>2010-03-15</th>\n      <td> 30.16</td>\n      <td>NaN</td>\n      <td> 115.88</td>\n      <td> 25.62</td>\n    </tr>\n    <tr>\n      <th>2010-03-16</th>\n      <td> 30.24</td>\n      <td>NaN</td>\n      <td> 116.64</td>\n      <td> 25.69</td>\n    </tr>\n    <tr>\n      <th>2010-03-17</th>\n      <td> 30.20</td>\n      <td>NaN</td>\n      <td> 115.82</td>\n      <td> 25.91</td>\n    </tr>\n    <tr>\n      <th>2010-03-18</th>\n      <td> 30.27</td>\n      <td>NaN</td>\n      <td> 116.38</td>\n      <td> 25.90</td>\n    </tr>\n    <tr>\n      <th>2010-03-19</th>\n      <td> 29.95</td>\n      <td>NaN</td>\n      <td> 115.77</td>\n      <td> 25.88</td>\n    </tr>\n    <tr>\n      <th>2010-03-22</th>\n      <td> 30.29</td>\n      <td>NaN</td>\n      <td> 116.02</td>\n      <td> 25.89</td>\n    </tr>\n    <tr>\n      <th>2010-03-23</th>\n      <td> 30.77</td>\n      <td>NaN</td>\n      <td> 117.28</td>\n      <td> 26.13</td>\n    </tr>\n    <tr>\n      <th>2010-03-24</th>\n      <td> 30.91</td>\n      <td>NaN</td>\n      <td> 116.51</td>\n      <td> 25.93</td>\n    </tr>\n    <tr>\n      <th>2010-03-25</th>\n      <td> 30.54</td>\n      <td>NaN</td>\n      <td> 117.16</td>\n      <td> 26.25</td>\n    </tr>\n    <tr>\n      <th>2010-03-26</th>\n      <td> 31.11</td>\n      <td>NaN</td>\n      <td> 117.18</td>\n      <td> 25.94</td>\n    </tr>\n    <tr>\n      <th>2010-03-29</th>\n      <td> 31.31</td>\n      <td>NaN</td>\n      <td> 116.57</td>\n      <td> 25.88</td>\n    </tr>\n    <tr>\n      <th>2010-03-30</th>\n      <td> 31.78</td>\n      <td>NaN</td>\n      <td> 116.73</td>\n      <td> 26.04</td>\n    </tr>\n    <tr>\n      <th></th>\n      <td>...</td>\n      <td>...</td>\n      <td>...</td>\n      <td>...</td>\n    </tr>\n  </tbody>\n</table>\n<p>1326 rows \u00d7 4 columns</p>\n</div>",
       "metadata": {},
       "output_type": "pyout",
       "prompt_number": 199,
       "text": "             AAPL  GOOG     IBM   MSFT\nDate                                  \n2010-01-04  28.84   NaN  119.53  26.94\n2010-01-05  28.89   NaN  118.09  26.95\n2010-01-06  28.43   NaN  117.32  26.79\n2010-01-07  28.38   NaN  116.92  26.51\n2010-01-08  28.56   NaN  118.09  26.69\n2010-01-11  28.31   NaN  116.85  26.35\n2010-01-12  27.99   NaN  117.78  26.18\n2010-01-13  28.39   NaN  117.53  26.42\n2010-01-14  28.22   NaN  119.41  26.95\n2010-01-15  27.75   NaN  118.93  26.86\n2010-01-19  28.98   NaN  121.06  27.07\n2010-01-20  28.53   NaN  117.55  26.63\n2010-01-21  28.04   NaN  116.42  26.12\n2010-01-22  26.65   NaN  113.26  25.21\n2010-01-25  27.36   NaN  113.82  25.52\n2010-01-26  27.75   NaN  113.49  25.68\n2010-01-27  28.01   NaN  114.01  25.83\n2010-01-28  26.85   NaN  111.68  25.39\n2010-01-29  25.88   NaN  110.45  24.53\n2010-02-01  26.24   NaN  112.51  24.73\n2010-02-02  26.39   NaN  113.29  24.78\n2010-02-03  26.85   NaN  113.40  24.92\n2010-02-04  25.88   NaN  111.00  24.24\n2010-02-05  26.34   NaN  111.47  24.39\n2010-02-08  26.16   NaN  110.49  24.13\n2010-02-09  26.44   NaN  111.69  24.38\n2010-02-10  26.29   NaN  111.33  24.37\n2010-02-11  26.77   NaN  112.16  24.48\n2010-02-12  27.00   NaN  112.41  24.31\n2010-02-16  27.41   NaN  113.52  24.80\n2010-02-17  27.29   NaN  114.52  25.01\n2010-02-18  27.35   NaN  115.86  25.34\n2010-02-19  27.18   NaN  115.30  25.16\n2010-02-22  27.01   NaN  114.99  25.13\n2010-02-23  26.55   NaN  114.64  24.78\n2010-02-24  27.04   NaN  115.66  25.04\n2010-02-25  27.22   NaN  115.19  25.01\n2010-02-26  27.57   NaN  115.27  25.08\n2010-03-01  28.16   NaN  116.55  25.38\n2010-03-02  28.14   NaN  115.51  24.89\n2010-03-03  28.21   NaN  115.02  24.89\n2010-03-04  28.39   NaN  114.87  25.04\n2010-03-05  29.50   NaN  115.35  25.01\n2010-03-08  29.52   NaN  114.59  25.04\n2010-03-09  30.05   NaN  113.81  25.19\n2010-03-10  30.30   NaN  113.88  25.34\n2010-03-11  30.39   NaN  115.67  25.52\n2010-03-12  30.53   NaN  115.98  25.60\n2010-03-15  30.16   NaN  115.88  25.62\n2010-03-16  30.24   NaN  116.64  25.69\n2010-03-17  30.20   NaN  115.82  25.91\n2010-03-18  30.27   NaN  116.38  25.90\n2010-03-19  29.95   NaN  115.77  25.88\n2010-03-22  30.29   NaN  116.02  25.89\n2010-03-23  30.77   NaN  117.28  26.13\n2010-03-24  30.91   NaN  116.51  25.93\n2010-03-25  30.54   NaN  117.16  26.25\n2010-03-26  31.11   NaN  117.18  25.94\n2010-03-29  31.31   NaN  116.57  25.88\n2010-03-30  31.78   NaN  116.73  26.04\n              ...   ...     ...    ...\n\n[1326 rows x 4 columns]"
      }
     ],
     "prompt_number": 199
    },
    {
     "cell_type": "code",
     "collapsed": false,
     "input": "volume",
     "language": "python",
     "metadata": {},
     "outputs": []
    },
    {
     "cell_type": "code",
     "collapsed": false,
     "input": "returns = price.pct_change()\nreturns.tail()",
     "language": "python",
     "metadata": {},
     "outputs": []
    },
    {
     "cell_type": "code",
     "collapsed": false,
     "input": "returns.MSFT.corr(returns.IBM)",
     "language": "python",
     "metadata": {},
     "outputs": []
    },
    {
     "cell_type": "code",
     "collapsed": false,
     "input": "returns.NSFT.cov(returns.IBM)",
     "language": "python",
     "metadata": {},
     "outputs": []
    },
    {
     "cell_type": "code",
     "collapsed": false,
     "input": "returns.corr()",
     "language": "python",
     "metadata": {},
     "outputs": []
    },
    {
     "cell_type": "code",
     "collapsed": false,
     "input": "returns.cov()",
     "language": "python",
     "metadata": {},
     "outputs": []
    },
    {
     "cell_type": "code",
     "collapsed": false,
     "input": "returns.corrwith(returns.IBM)",
     "language": "python",
     "metadata": {},
     "outputs": []
    },
    {
     "cell_type": "code",
     "collapsed": false,
     "input": "returns.corrwith(volume)",
     "language": "python",
     "metadata": {},
     "outputs": []
    },
    {
     "cell_type": "heading",
     "level": 3,
     "metadata": {},
     "source": "Unique values, value counts, and membership"
    },
    {
     "cell_type": "code",
     "collapsed": false,
     "input": "obj18 = Series(['c', 'a', 'd', 'a', 'a', 'b', 'b', 'c', 'c'])",
     "language": "python",
     "metadata": {},
     "outputs": [],
     "prompt_number": 201
    },
    {
     "cell_type": "code",
     "collapsed": false,
     "input": "uniques = obj18.unique()\nuniques",
     "language": "python",
     "metadata": {},
     "outputs": [
      {
       "metadata": {},
       "output_type": "pyout",
       "prompt_number": 202,
       "text": "array(['c', 'a', 'd', 'b'], dtype=object)"
      }
     ],
     "prompt_number": 202
    },
    {
     "cell_type": "code",
     "collapsed": false,
     "input": "obj18.value_counts()",
     "language": "python",
     "metadata": {},
     "outputs": [
      {
       "metadata": {},
       "output_type": "pyout",
       "prompt_number": 204,
       "text": "c    3\na    3\nb    2\nd    1\ndtype: int64"
      }
     ],
     "prompt_number": 204
    },
    {
     "cell_type": "code",
     "collapsed": false,
     "input": "pd.value_counts(obj18.values, sort = False)",
     "language": "python",
     "metadata": {},
     "outputs": [
      {
       "metadata": {},
       "output_type": "pyout",
       "prompt_number": 205,
       "text": "a    3\nc    3\nb    2\nd    1\ndtype: int64"
      }
     ],
     "prompt_number": 205
    },
    {
     "cell_type": "code",
     "collapsed": false,
     "input": "mask = obj18.isin(['b', 'c'])\nmask",
     "language": "python",
     "metadata": {},
     "outputs": [
      {
       "metadata": {},
       "output_type": "pyout",
       "prompt_number": 206,
       "text": "0     True\n1    False\n2    False\n3    False\n4    False\n5     True\n6     True\n7     True\n8     True\ndtype: bool"
      }
     ],
     "prompt_number": 206
    },
    {
     "cell_type": "code",
     "collapsed": false,
     "input": "obj18[mask]",
     "language": "python",
     "metadata": {},
     "outputs": [
      {
       "metadata": {},
       "output_type": "pyout",
       "prompt_number": 208,
       "text": "0    c\n5    b\n6    b\n7    c\n8    c\ndtype: object"
      }
     ],
     "prompt_number": 208
    },
    {
     "cell_type": "code",
     "collapsed": false,
     "input": "data = DataFrame({'Qu1': [1, 3, 4, 3, 4],\n                  'Qu2': [2, 3, 1, 2, 3],\n                  'Qu3': [1, 5, 2, 4, 4]})\ndata",
     "language": "python",
     "metadata": {},
     "outputs": [
      {
       "html": "<div style=\"max-height:1000px;max-width:1500px;overflow:auto;\">\n<table border=\"1\" class=\"dataframe\">\n  <thead>\n    <tr style=\"text-align: right;\">\n      <th></th>\n      <th>Qu1</th>\n      <th>Qu2</th>\n      <th>Qu3</th>\n    </tr>\n  </thead>\n  <tbody>\n    <tr>\n      <th>0</th>\n      <td> 1</td>\n      <td> 2</td>\n      <td> 1</td>\n    </tr>\n    <tr>\n      <th>1</th>\n      <td> 3</td>\n      <td> 3</td>\n      <td> 5</td>\n    </tr>\n    <tr>\n      <th>2</th>\n      <td> 4</td>\n      <td> 1</td>\n      <td> 2</td>\n    </tr>\n    <tr>\n      <th>3</th>\n      <td> 3</td>\n      <td> 2</td>\n      <td> 4</td>\n    </tr>\n    <tr>\n      <th>4</th>\n      <td> 4</td>\n      <td> 3</td>\n      <td> 4</td>\n    </tr>\n  </tbody>\n</table>\n<p>5 rows \u00d7 3 columns</p>\n</div>",
       "metadata": {},
       "output_type": "pyout",
       "prompt_number": 209,
       "text": "   Qu1  Qu2  Qu3\n0    1    2    1\n1    3    3    5\n2    4    1    2\n3    3    2    4\n4    4    3    4\n\n[5 rows x 3 columns]"
      }
     ],
     "prompt_number": 209
    },
    {
     "cell_type": "code",
     "collapsed": false,
     "input": "result = data.apply(pd.value_counts).fillna(0)\nresult",
     "language": "python",
     "metadata": {},
     "outputs": [
      {
       "html": "<div style=\"max-height:1000px;max-width:1500px;overflow:auto;\">\n<table border=\"1\" class=\"dataframe\">\n  <thead>\n    <tr style=\"text-align: right;\">\n      <th></th>\n      <th>Qu1</th>\n      <th>Qu2</th>\n      <th>Qu3</th>\n    </tr>\n  </thead>\n  <tbody>\n    <tr>\n      <th>1</th>\n      <td> 1</td>\n      <td> 1</td>\n      <td> 1</td>\n    </tr>\n    <tr>\n      <th>2</th>\n      <td> 0</td>\n      <td> 2</td>\n      <td> 1</td>\n    </tr>\n    <tr>\n      <th>3</th>\n      <td> 2</td>\n      <td> 2</td>\n      <td> 0</td>\n    </tr>\n    <tr>\n      <th>4</th>\n      <td> 2</td>\n      <td> 0</td>\n      <td> 2</td>\n    </tr>\n    <tr>\n      <th>5</th>\n      <td> 0</td>\n      <td> 0</td>\n      <td> 1</td>\n    </tr>\n  </tbody>\n</table>\n<p>5 rows \u00d7 3 columns</p>\n</div>",
       "metadata": {},
       "output_type": "pyout",
       "prompt_number": 210,
       "text": "   Qu1  Qu2  Qu3\n1    1    1    1\n2    0    2    1\n3    2    2    0\n4    2    0    2\n5    0    0    1\n\n[5 rows x 3 columns]"
      }
     ],
     "prompt_number": 210
    },
    {
     "cell_type": "heading",
     "level": 3,
     "metadata": {},
     "source": "Handling missing data"
    },
    {
     "cell_type": "code",
     "collapsed": false,
     "input": "string_data = Series(['aardvark', 'artichoke', np.nan, 'avocado'])\nstring_data",
     "language": "python",
     "metadata": {},
     "outputs": [
      {
       "metadata": {},
       "output_type": "pyout",
       "prompt_number": 211,
       "text": "0     aardvark\n1    artichoke\n2          NaN\n3      avocado\ndtype: object"
      }
     ],
     "prompt_number": 211
    },
    {
     "cell_type": "code",
     "collapsed": false,
     "input": "string_data.isnull()",
     "language": "python",
     "metadata": {},
     "outputs": [
      {
       "metadata": {},
       "output_type": "pyout",
       "prompt_number": 212,
       "text": "0    False\n1    False\n2     True\n3    False\ndtype: bool"
      }
     ],
     "prompt_number": 212
    },
    {
     "cell_type": "code",
     "collapsed": false,
     "input": "string_data[0] = None\nstring_data.isnull()",
     "language": "python",
     "metadata": {},
     "outputs": [
      {
       "metadata": {},
       "output_type": "pyout",
       "prompt_number": 214,
       "text": "0     True\n1    False\n2     True\n3    False\ndtype: bool"
      }
     ],
     "prompt_number": 214
    },
    {
     "cell_type": "heading",
     "level": 3,
     "metadata": {},
     "source": "Filtering out missing data"
    },
    {
     "cell_type": "code",
     "collapsed": false,
     "input": "from numpy import nan as NA\ndata = Series([1, NA, 3.5, NA, 7])\ndata.dropna()",
     "language": "python",
     "metadata": {},
     "outputs": [
      {
       "metadata": {},
       "output_type": "pyout",
       "prompt_number": 215,
       "text": "0    1.0\n2    3.5\n4    7.0\ndtype: float64"
      }
     ],
     "prompt_number": 215
    },
    {
     "cell_type": "code",
     "collapsed": false,
     "input": "data[data.isnull()]",
     "language": "python",
     "metadata": {},
     "outputs": [
      {
       "metadata": {},
       "output_type": "pyout",
       "prompt_number": 216,
       "text": "1   NaN\n3   NaN\ndtype: float64"
      }
     ],
     "prompt_number": 216
    },
    {
     "cell_type": "code",
     "collapsed": false,
     "input": "data = DataFrame([[1., 6.5, 3.], [1., NA, NA],\n                  [NA, NA, NA], [NA, 6.5, 3.]])\ndata",
     "language": "python",
     "metadata": {},
     "outputs": [
      {
       "html": "<div style=\"max-height:1000px;max-width:1500px;overflow:auto;\">\n<table border=\"1\" class=\"dataframe\">\n  <thead>\n    <tr style=\"text-align: right;\">\n      <th></th>\n      <th>0</th>\n      <th>1</th>\n      <th>2</th>\n    </tr>\n  </thead>\n  <tbody>\n    <tr>\n      <th>0</th>\n      <td>  1</td>\n      <td> 6.5</td>\n      <td>  3</td>\n    </tr>\n    <tr>\n      <th>1</th>\n      <td>  1</td>\n      <td> NaN</td>\n      <td>NaN</td>\n    </tr>\n    <tr>\n      <th>2</th>\n      <td>NaN</td>\n      <td> NaN</td>\n      <td>NaN</td>\n    </tr>\n    <tr>\n      <th>3</th>\n      <td>NaN</td>\n      <td> 6.5</td>\n      <td>  3</td>\n    </tr>\n  </tbody>\n</table>\n<p>4 rows \u00d7 3 columns</p>\n</div>",
       "metadata": {},
       "output_type": "pyout",
       "prompt_number": 217,
       "text": "    0    1   2\n0   1  6.5   3\n1   1  NaN NaN\n2 NaN  NaN NaN\n3 NaN  6.5   3\n\n[4 rows x 3 columns]"
      }
     ],
     "prompt_number": 217
    },
    {
     "cell_type": "code",
     "collapsed": false,
     "input": "cleaned = data.dropna()\ncleaned",
     "language": "python",
     "metadata": {},
     "outputs": [
      {
       "html": "<div style=\"max-height:1000px;max-width:1500px;overflow:auto;\">\n<table border=\"1\" class=\"dataframe\">\n  <thead>\n    <tr style=\"text-align: right;\">\n      <th></th>\n      <th>0</th>\n      <th>1</th>\n      <th>2</th>\n    </tr>\n  </thead>\n  <tbody>\n    <tr>\n      <th>0</th>\n      <td> 1</td>\n      <td> 6.5</td>\n      <td> 3</td>\n    </tr>\n  </tbody>\n</table>\n<p>1 rows \u00d7 3 columns</p>\n</div>",
       "metadata": {},
       "output_type": "pyout",
       "prompt_number": 218,
       "text": "   0    1  2\n0  1  6.5  3\n\n[1 rows x 3 columns]"
      }
     ],
     "prompt_number": 218
    },
    {
     "cell_type": "code",
     "collapsed": false,
     "input": "data.dropna(how = 'all')",
     "language": "python",
     "metadata": {},
     "outputs": [
      {
       "html": "<div style=\"max-height:1000px;max-width:1500px;overflow:auto;\">\n<table border=\"1\" class=\"dataframe\">\n  <thead>\n    <tr style=\"text-align: right;\">\n      <th></th>\n      <th>0</th>\n      <th>1</th>\n      <th>2</th>\n    </tr>\n  </thead>\n  <tbody>\n    <tr>\n      <th>0</th>\n      <td>  1</td>\n      <td> 6.5</td>\n      <td>  3</td>\n    </tr>\n    <tr>\n      <th>1</th>\n      <td>  1</td>\n      <td> NaN</td>\n      <td>NaN</td>\n    </tr>\n    <tr>\n      <th>3</th>\n      <td>NaN</td>\n      <td> 6.5</td>\n      <td>  3</td>\n    </tr>\n  </tbody>\n</table>\n<p>3 rows \u00d7 3 columns</p>\n</div>",
       "metadata": {},
       "output_type": "pyout",
       "prompt_number": 219,
       "text": "    0    1   2\n0   1  6.5   3\n1   1  NaN NaN\n3 NaN  6.5   3\n\n[3 rows x 3 columns]"
      }
     ],
     "prompt_number": 219
    },
    {
     "cell_type": "code",
     "collapsed": false,
     "input": "data[4] = NA\ndata",
     "language": "python",
     "metadata": {},
     "outputs": [
      {
       "html": "<div style=\"max-height:1000px;max-width:1500px;overflow:auto;\">\n<table border=\"1\" class=\"dataframe\">\n  <thead>\n    <tr style=\"text-align: right;\">\n      <th></th>\n      <th>0</th>\n      <th>1</th>\n      <th>2</th>\n      <th>4</th>\n    </tr>\n  </thead>\n  <tbody>\n    <tr>\n      <th>0</th>\n      <td>  1</td>\n      <td> 6.5</td>\n      <td>  3</td>\n      <td>NaN</td>\n    </tr>\n    <tr>\n      <th>1</th>\n      <td>  1</td>\n      <td> NaN</td>\n      <td>NaN</td>\n      <td>NaN</td>\n    </tr>\n    <tr>\n      <th>2</th>\n      <td>NaN</td>\n      <td> NaN</td>\n      <td>NaN</td>\n      <td>NaN</td>\n    </tr>\n    <tr>\n      <th>3</th>\n      <td>NaN</td>\n      <td> 6.5</td>\n      <td>  3</td>\n      <td>NaN</td>\n    </tr>\n  </tbody>\n</table>\n<p>4 rows \u00d7 4 columns</p>\n</div>",
       "metadata": {},
       "output_type": "pyout",
       "prompt_number": 222,
       "text": "    0    1   2   4\n0   1  6.5   3 NaN\n1   1  NaN NaN NaN\n2 NaN  NaN NaN NaN\n3 NaN  6.5   3 NaN\n\n[4 rows x 4 columns]"
      }
     ],
     "prompt_number": 222
    },
    {
     "cell_type": "code",
     "collapsed": false,
     "input": "data.dropna(axis = 1, how = 'all')",
     "language": "python",
     "metadata": {},
     "outputs": [
      {
       "html": "<div style=\"max-height:1000px;max-width:1500px;overflow:auto;\">\n<table border=\"1\" class=\"dataframe\">\n  <thead>\n    <tr style=\"text-align: right;\">\n      <th></th>\n      <th>0</th>\n      <th>1</th>\n      <th>2</th>\n    </tr>\n  </thead>\n  <tbody>\n    <tr>\n      <th>0</th>\n      <td>  1</td>\n      <td> 6.5</td>\n      <td>  3</td>\n    </tr>\n    <tr>\n      <th>1</th>\n      <td>  1</td>\n      <td> NaN</td>\n      <td>NaN</td>\n    </tr>\n    <tr>\n      <th>2</th>\n      <td>NaN</td>\n      <td> NaN</td>\n      <td>NaN</td>\n    </tr>\n    <tr>\n      <th>3</th>\n      <td>NaN</td>\n      <td> 6.5</td>\n      <td>  3</td>\n    </tr>\n  </tbody>\n</table>\n<p>4 rows \u00d7 3 columns</p>\n</div>",
       "metadata": {},
       "output_type": "pyout",
       "prompt_number": 224,
       "text": "    0    1   2\n0   1  6.5   3\n1   1  NaN NaN\n2 NaN  NaN NaN\n3 NaN  6.5   3\n\n[4 rows x 3 columns]"
      }
     ],
     "prompt_number": 224
    },
    {
     "cell_type": "code",
     "collapsed": false,
     "input": "df5 = DataFrame(np.random.randn(7, 3))\ndf5",
     "language": "python",
     "metadata": {},
     "outputs": [
      {
       "html": "<div style=\"max-height:1000px;max-width:1500px;overflow:auto;\">\n<table border=\"1\" class=\"dataframe\">\n  <thead>\n    <tr style=\"text-align: right;\">\n      <th></th>\n      <th>0</th>\n      <th>1</th>\n      <th>2</th>\n    </tr>\n  </thead>\n  <tbody>\n    <tr>\n      <th>0</th>\n      <td>-0.577087</td>\n      <td> 0.124121</td>\n      <td> 0.302614</td>\n    </tr>\n    <tr>\n      <th>1</th>\n      <td> 0.523772</td>\n      <td> 0.000940</td>\n      <td> 1.343810</td>\n    </tr>\n    <tr>\n      <th>2</th>\n      <td>-0.713544</td>\n      <td>-0.831154</td>\n      <td>-2.370232</td>\n    </tr>\n    <tr>\n      <th>3</th>\n      <td>-1.860761</td>\n      <td>-0.860757</td>\n      <td> 0.560145</td>\n    </tr>\n    <tr>\n      <th>4</th>\n      <td>-1.265934</td>\n      <td> 0.119827</td>\n      <td>-1.063512</td>\n    </tr>\n    <tr>\n      <th>5</th>\n      <td> 0.332883</td>\n      <td>-2.359419</td>\n      <td>-0.199543</td>\n    </tr>\n    <tr>\n      <th>6</th>\n      <td>-1.541996</td>\n      <td>-0.970736</td>\n      <td>-1.307030</td>\n    </tr>\n  </tbody>\n</table>\n<p>7 rows \u00d7 3 columns</p>\n</div>",
       "metadata": {},
       "output_type": "pyout",
       "prompt_number": 225,
       "text": "          0         1         2\n0 -0.577087  0.124121  0.302614\n1  0.523772  0.000940  1.343810\n2 -0.713544 -0.831154 -2.370232\n3 -1.860761 -0.860757  0.560145\n4 -1.265934  0.119827 -1.063512\n5  0.332883 -2.359419 -0.199543\n6 -1.541996 -0.970736 -1.307030\n\n[7 rows x 3 columns]"
      }
     ],
     "prompt_number": 225
    },
    {
     "cell_type": "code",
     "collapsed": false,
     "input": "df5.ix[:4, 1] = NA; df5.ix[:2, 2] = NA\ndf5",
     "language": "python",
     "metadata": {},
     "outputs": [
      {
       "html": "<div style=\"max-height:1000px;max-width:1500px;overflow:auto;\">\n<table border=\"1\" class=\"dataframe\">\n  <thead>\n    <tr style=\"text-align: right;\">\n      <th></th>\n      <th>0</th>\n      <th>1</th>\n      <th>2</th>\n    </tr>\n  </thead>\n  <tbody>\n    <tr>\n      <th>0</th>\n      <td>-0.577087</td>\n      <td>      NaN</td>\n      <td>      NaN</td>\n    </tr>\n    <tr>\n      <th>1</th>\n      <td> 0.523772</td>\n      <td>      NaN</td>\n      <td>      NaN</td>\n    </tr>\n    <tr>\n      <th>2</th>\n      <td>-0.713544</td>\n      <td>      NaN</td>\n      <td>      NaN</td>\n    </tr>\n    <tr>\n      <th>3</th>\n      <td>-1.860761</td>\n      <td>      NaN</td>\n      <td> 0.560145</td>\n    </tr>\n    <tr>\n      <th>4</th>\n      <td>-1.265934</td>\n      <td>      NaN</td>\n      <td>-1.063512</td>\n    </tr>\n    <tr>\n      <th>5</th>\n      <td> 0.332883</td>\n      <td>-2.359419</td>\n      <td>-0.199543</td>\n    </tr>\n    <tr>\n      <th>6</th>\n      <td>-1.541996</td>\n      <td>-0.970736</td>\n      <td>-1.307030</td>\n    </tr>\n  </tbody>\n</table>\n<p>7 rows \u00d7 3 columns</p>\n</div>",
       "metadata": {},
       "output_type": "pyout",
       "prompt_number": 226,
       "text": "          0         1         2\n0 -0.577087       NaN       NaN\n1  0.523772       NaN       NaN\n2 -0.713544       NaN       NaN\n3 -1.860761       NaN  0.560145\n4 -1.265934       NaN -1.063512\n5  0.332883 -2.359419 -0.199543\n6 -1.541996 -0.970736 -1.307030\n\n[7 rows x 3 columns]"
      }
     ],
     "prompt_number": 226
    },
    {
     "cell_type": "code",
     "collapsed": false,
     "input": "df5.dropna(thresh = 3)",
     "language": "python",
     "metadata": {},
     "outputs": [
      {
       "html": "<div style=\"max-height:1000px;max-width:1500px;overflow:auto;\">\n<table border=\"1\" class=\"dataframe\">\n  <thead>\n    <tr style=\"text-align: right;\">\n      <th></th>\n      <th>0</th>\n      <th>1</th>\n      <th>2</th>\n    </tr>\n  </thead>\n  <tbody>\n    <tr>\n      <th>5</th>\n      <td> 0.332883</td>\n      <td>-2.359419</td>\n      <td>-0.199543</td>\n    </tr>\n    <tr>\n      <th>6</th>\n      <td>-1.541996</td>\n      <td>-0.970736</td>\n      <td>-1.307030</td>\n    </tr>\n  </tbody>\n</table>\n<p>2 rows \u00d7 3 columns</p>\n</div>",
       "metadata": {},
       "output_type": "pyout",
       "prompt_number": 227,
       "text": "          0         1         2\n5  0.332883 -2.359419 -0.199543\n6 -1.541996 -0.970736 -1.307030\n\n[2 rows x 3 columns]"
      }
     ],
     "prompt_number": 227
    },
    {
     "cell_type": "code",
     "collapsed": false,
     "input": "df5.dropna(thresh = 2)",
     "language": "python",
     "metadata": {},
     "outputs": [
      {
       "html": "<div style=\"max-height:1000px;max-width:1500px;overflow:auto;\">\n<table border=\"1\" class=\"dataframe\">\n  <thead>\n    <tr style=\"text-align: right;\">\n      <th></th>\n      <th>0</th>\n      <th>1</th>\n      <th>2</th>\n    </tr>\n  </thead>\n  <tbody>\n    <tr>\n      <th>3</th>\n      <td>-1.860761</td>\n      <td>      NaN</td>\n      <td> 0.560145</td>\n    </tr>\n    <tr>\n      <th>4</th>\n      <td>-1.265934</td>\n      <td>      NaN</td>\n      <td>-1.063512</td>\n    </tr>\n    <tr>\n      <th>5</th>\n      <td> 0.332883</td>\n      <td>-2.359419</td>\n      <td>-0.199543</td>\n    </tr>\n    <tr>\n      <th>6</th>\n      <td>-1.541996</td>\n      <td>-0.970736</td>\n      <td>-1.307030</td>\n    </tr>\n  </tbody>\n</table>\n<p>4 rows \u00d7 3 columns</p>\n</div>",
       "metadata": {},
       "output_type": "pyout",
       "prompt_number": 229,
       "text": "          0         1         2\n3 -1.860761       NaN  0.560145\n4 -1.265934       NaN -1.063512\n5  0.332883 -2.359419 -0.199543\n6 -1.541996 -0.970736 -1.307030\n\n[4 rows x 3 columns]"
      }
     ],
     "prompt_number": 229
    },
    {
     "cell_type": "heading",
     "level": 3,
     "metadata": {},
     "source": "Filling in missing data"
    },
    {
     "cell_type": "code",
     "collapsed": false,
     "input": "df5.fillna(0)",
     "language": "python",
     "metadata": {},
     "outputs": [
      {
       "html": "<div style=\"max-height:1000px;max-width:1500px;overflow:auto;\">\n<table border=\"1\" class=\"dataframe\">\n  <thead>\n    <tr style=\"text-align: right;\">\n      <th></th>\n      <th>0</th>\n      <th>1</th>\n      <th>2</th>\n    </tr>\n  </thead>\n  <tbody>\n    <tr>\n      <th>0</th>\n      <td>-0.577087</td>\n      <td> 0.000000</td>\n      <td> 0.000000</td>\n    </tr>\n    <tr>\n      <th>1</th>\n      <td> 0.523772</td>\n      <td> 0.000000</td>\n      <td> 0.000000</td>\n    </tr>\n    <tr>\n      <th>2</th>\n      <td>-0.713544</td>\n      <td> 0.000000</td>\n      <td> 0.000000</td>\n    </tr>\n    <tr>\n      <th>3</th>\n      <td>-1.860761</td>\n      <td> 0.000000</td>\n      <td> 0.560145</td>\n    </tr>\n    <tr>\n      <th>4</th>\n      <td>-1.265934</td>\n      <td> 0.000000</td>\n      <td>-1.063512</td>\n    </tr>\n    <tr>\n      <th>5</th>\n      <td> 0.332883</td>\n      <td>-2.359419</td>\n      <td>-0.199543</td>\n    </tr>\n    <tr>\n      <th>6</th>\n      <td>-1.541996</td>\n      <td>-0.970736</td>\n      <td>-1.307030</td>\n    </tr>\n  </tbody>\n</table>\n<p>7 rows \u00d7 3 columns</p>\n</div>",
       "metadata": {},
       "output_type": "pyout",
       "prompt_number": 230,
       "text": "          0         1         2\n0 -0.577087  0.000000  0.000000\n1  0.523772  0.000000  0.000000\n2 -0.713544  0.000000  0.000000\n3 -1.860761  0.000000  0.560145\n4 -1.265934  0.000000 -1.063512\n5  0.332883 -2.359419 -0.199543\n6 -1.541996 -0.970736 -1.307030\n\n[7 rows x 3 columns]"
      }
     ],
     "prompt_number": 230
    },
    {
     "cell_type": "code",
     "collapsed": false,
     "input": "df5.fillna({1: 0.5, 3: -1})",
     "language": "python",
     "metadata": {},
     "outputs": [
      {
       "html": "<div style=\"max-height:1000px;max-width:1500px;overflow:auto;\">\n<table border=\"1\" class=\"dataframe\">\n  <thead>\n    <tr style=\"text-align: right;\">\n      <th></th>\n      <th>0</th>\n      <th>1</th>\n      <th>2</th>\n    </tr>\n  </thead>\n  <tbody>\n    <tr>\n      <th>0</th>\n      <td>-0.577087</td>\n      <td> 0.500000</td>\n      <td>      NaN</td>\n    </tr>\n    <tr>\n      <th>1</th>\n      <td> 0.523772</td>\n      <td> 0.500000</td>\n      <td>      NaN</td>\n    </tr>\n    <tr>\n      <th>2</th>\n      <td>-0.713544</td>\n      <td> 0.500000</td>\n      <td>      NaN</td>\n    </tr>\n    <tr>\n      <th>3</th>\n      <td>-1.860761</td>\n      <td> 0.500000</td>\n      <td> 0.560145</td>\n    </tr>\n    <tr>\n      <th>4</th>\n      <td>-1.265934</td>\n      <td> 0.500000</td>\n      <td>-1.063512</td>\n    </tr>\n    <tr>\n      <th>5</th>\n      <td> 0.332883</td>\n      <td>-2.359419</td>\n      <td>-0.199543</td>\n    </tr>\n    <tr>\n      <th>6</th>\n      <td>-1.541996</td>\n      <td>-0.970736</td>\n      <td>-1.307030</td>\n    </tr>\n  </tbody>\n</table>\n<p>7 rows \u00d7 3 columns</p>\n</div>",
       "metadata": {},
       "output_type": "pyout",
       "prompt_number": 231,
       "text": "          0         1         2\n0 -0.577087  0.500000       NaN\n1  0.523772  0.500000       NaN\n2 -0.713544  0.500000       NaN\n3 -1.860761  0.500000  0.560145\n4 -1.265934  0.500000 -1.063512\n5  0.332883 -2.359419 -0.199543\n6 -1.541996 -0.970736 -1.307030\n\n[7 rows x 3 columns]"
      }
     ],
     "prompt_number": 231
    },
    {
     "cell_type": "code",
     "collapsed": false,
     "input": "df5.fillna({1: 0.5, 2: -1})",
     "language": "python",
     "metadata": {},
     "outputs": [
      {
       "html": "<div style=\"max-height:1000px;max-width:1500px;overflow:auto;\">\n<table border=\"1\" class=\"dataframe\">\n  <thead>\n    <tr style=\"text-align: right;\">\n      <th></th>\n      <th>0</th>\n      <th>1</th>\n      <th>2</th>\n    </tr>\n  </thead>\n  <tbody>\n    <tr>\n      <th>0</th>\n      <td>-0.577087</td>\n      <td> 0.500000</td>\n      <td>-1.000000</td>\n    </tr>\n    <tr>\n      <th>1</th>\n      <td> 0.523772</td>\n      <td> 0.500000</td>\n      <td>-1.000000</td>\n    </tr>\n    <tr>\n      <th>2</th>\n      <td>-0.713544</td>\n      <td> 0.500000</td>\n      <td>-1.000000</td>\n    </tr>\n    <tr>\n      <th>3</th>\n      <td>-1.860761</td>\n      <td> 0.500000</td>\n      <td> 0.560145</td>\n    </tr>\n    <tr>\n      <th>4</th>\n      <td>-1.265934</td>\n      <td> 0.500000</td>\n      <td>-1.063512</td>\n    </tr>\n    <tr>\n      <th>5</th>\n      <td> 0.332883</td>\n      <td>-2.359419</td>\n      <td>-0.199543</td>\n    </tr>\n    <tr>\n      <th>6</th>\n      <td>-1.541996</td>\n      <td>-0.970736</td>\n      <td>-1.307030</td>\n    </tr>\n  </tbody>\n</table>\n<p>7 rows \u00d7 3 columns</p>\n</div>",
       "metadata": {},
       "output_type": "pyout",
       "prompt_number": 232,
       "text": "          0         1         2\n0 -0.577087  0.500000 -1.000000\n1  0.523772  0.500000 -1.000000\n2 -0.713544  0.500000 -1.000000\n3 -1.860761  0.500000  0.560145\n4 -1.265934  0.500000 -1.063512\n5  0.332883 -2.359419 -0.199543\n6 -1.541996 -0.970736 -1.307030\n\n[7 rows x 3 columns]"
      }
     ],
     "prompt_number": 232
    },
    {
     "cell_type": "code",
     "collapsed": false,
     "input": "# always return a reference to the filled object\n_ = df5.fillna(0, inplace = True)\ndf5",
     "language": "python",
     "metadata": {},
     "outputs": [
      {
       "html": "<div style=\"max-height:1000px;max-width:1500px;overflow:auto;\">\n<table border=\"1\" class=\"dataframe\">\n  <thead>\n    <tr style=\"text-align: right;\">\n      <th></th>\n      <th>0</th>\n      <th>1</th>\n      <th>2</th>\n    </tr>\n  </thead>\n  <tbody>\n    <tr>\n      <th>0</th>\n      <td>-0.577087</td>\n      <td> 0.000000</td>\n      <td> 0.000000</td>\n    </tr>\n    <tr>\n      <th>1</th>\n      <td> 0.523772</td>\n      <td> 0.000000</td>\n      <td> 0.000000</td>\n    </tr>\n    <tr>\n      <th>2</th>\n      <td>-0.713544</td>\n      <td> 0.000000</td>\n      <td> 0.000000</td>\n    </tr>\n    <tr>\n      <th>3</th>\n      <td>-1.860761</td>\n      <td> 0.000000</td>\n      <td> 0.560145</td>\n    </tr>\n    <tr>\n      <th>4</th>\n      <td>-1.265934</td>\n      <td> 0.000000</td>\n      <td>-1.063512</td>\n    </tr>\n    <tr>\n      <th>5</th>\n      <td> 0.332883</td>\n      <td>-2.359419</td>\n      <td>-0.199543</td>\n    </tr>\n    <tr>\n      <th>6</th>\n      <td>-1.541996</td>\n      <td>-0.970736</td>\n      <td>-1.307030</td>\n    </tr>\n  </tbody>\n</table>\n<p>7 rows \u00d7 3 columns</p>\n</div>",
       "metadata": {},
       "output_type": "pyout",
       "prompt_number": 233,
       "text": "          0         1         2\n0 -0.577087  0.000000  0.000000\n1  0.523772  0.000000  0.000000\n2 -0.713544  0.000000  0.000000\n3 -1.860761  0.000000  0.560145\n4 -1.265934  0.000000 -1.063512\n5  0.332883 -2.359419 -0.199543\n6 -1.541996 -0.970736 -1.307030\n\n[7 rows x 3 columns]"
      }
     ],
     "prompt_number": 233
    },
    {
     "cell_type": "code",
     "collapsed": false,
     "input": "df5.fillna(method = 'ffill')",
     "language": "python",
     "metadata": {},
     "outputs": [
      {
       "html": "<div style=\"max-height:1000px;max-width:1500px;overflow:auto;\">\n<table border=\"1\" class=\"dataframe\">\n  <thead>\n    <tr style=\"text-align: right;\">\n      <th></th>\n      <th>0</th>\n      <th>1</th>\n      <th>2</th>\n    </tr>\n  </thead>\n  <tbody>\n    <tr>\n      <th>0</th>\n      <td>-0.577087</td>\n      <td> 0.000000</td>\n      <td> 0.000000</td>\n    </tr>\n    <tr>\n      <th>1</th>\n      <td> 0.523772</td>\n      <td> 0.000000</td>\n      <td> 0.000000</td>\n    </tr>\n    <tr>\n      <th>2</th>\n      <td>-0.713544</td>\n      <td> 0.000000</td>\n      <td> 0.000000</td>\n    </tr>\n    <tr>\n      <th>3</th>\n      <td>-1.860761</td>\n      <td> 0.000000</td>\n      <td> 0.560145</td>\n    </tr>\n    <tr>\n      <th>4</th>\n      <td>-1.265934</td>\n      <td> 0.000000</td>\n      <td>-1.063512</td>\n    </tr>\n    <tr>\n      <th>5</th>\n      <td> 0.332883</td>\n      <td>-2.359419</td>\n      <td>-0.199543</td>\n    </tr>\n    <tr>\n      <th>6</th>\n      <td>-1.541996</td>\n      <td>-0.970736</td>\n      <td>-1.307030</td>\n    </tr>\n  </tbody>\n</table>\n<p>7 rows \u00d7 3 columns</p>\n</div>",
       "metadata": {},
       "output_type": "pyout",
       "prompt_number": 234,
       "text": "          0         1         2\n0 -0.577087  0.000000  0.000000\n1  0.523772  0.000000  0.000000\n2 -0.713544  0.000000  0.000000\n3 -1.860761  0.000000  0.560145\n4 -1.265934  0.000000 -1.063512\n5  0.332883 -2.359419 -0.199543\n6 -1.541996 -0.970736 -1.307030\n\n[7 rows x 3 columns]"
      }
     ],
     "prompt_number": 234
    },
    {
     "cell_type": "code",
     "collapsed": false,
     "input": "df5.fillna(method = 'ffill', limit = 2)",
     "language": "python",
     "metadata": {},
     "outputs": [
      {
       "html": "<div style=\"max-height:1000px;max-width:1500px;overflow:auto;\">\n<table border=\"1\" class=\"dataframe\">\n  <thead>\n    <tr style=\"text-align: right;\">\n      <th></th>\n      <th>0</th>\n      <th>1</th>\n      <th>2</th>\n    </tr>\n  </thead>\n  <tbody>\n    <tr>\n      <th>0</th>\n      <td>-0.577087</td>\n      <td> 0.000000</td>\n      <td> 0.000000</td>\n    </tr>\n    <tr>\n      <th>1</th>\n      <td> 0.523772</td>\n      <td> 0.000000</td>\n      <td> 0.000000</td>\n    </tr>\n    <tr>\n      <th>2</th>\n      <td>-0.713544</td>\n      <td> 0.000000</td>\n      <td> 0.000000</td>\n    </tr>\n    <tr>\n      <th>3</th>\n      <td>-1.860761</td>\n      <td> 0.000000</td>\n      <td> 0.560145</td>\n    </tr>\n    <tr>\n      <th>4</th>\n      <td>-1.265934</td>\n      <td> 0.000000</td>\n      <td>-1.063512</td>\n    </tr>\n    <tr>\n      <th>5</th>\n      <td> 0.332883</td>\n      <td>-2.359419</td>\n      <td>-0.199543</td>\n    </tr>\n    <tr>\n      <th>6</th>\n      <td>-1.541996</td>\n      <td>-0.970736</td>\n      <td>-1.307030</td>\n    </tr>\n  </tbody>\n</table>\n<p>7 rows \u00d7 3 columns</p>\n</div>",
       "metadata": {},
       "output_type": "pyout",
       "prompt_number": 235,
       "text": "          0         1         2\n0 -0.577087  0.000000  0.000000\n1  0.523772  0.000000  0.000000\n2 -0.713544  0.000000  0.000000\n3 -1.860761  0.000000  0.560145\n4 -1.265934  0.000000 -1.063512\n5  0.332883 -2.359419 -0.199543\n6 -1.541996 -0.970736 -1.307030\n\n[7 rows x 3 columns]"
      }
     ],
     "prompt_number": 235
    },
    {
     "cell_type": "code",
     "collapsed": false,
     "input": "data = Series([1, NA, 3.5, NA, 7])\ndata.fillna(data.mean())",
     "language": "python",
     "metadata": {},
     "outputs": [
      {
       "metadata": {},
       "output_type": "pyout",
       "prompt_number": 236,
       "text": "0    1.000000\n1    3.833333\n2    3.500000\n3    3.833333\n4    7.000000\ndtype: float64"
      }
     ],
     "prompt_number": 236
    },
    {
     "cell_type": "heading",
     "level": 3,
     "metadata": {},
     "source": "Hierarchical indexing"
    },
    {
     "cell_type": "code",
     "collapsed": false,
     "input": "data = Series(np.random.randn(10),\n              index=[['a', 'a', 'a', 'b', 'b', 'b', 'c', 'c', 'd', 'd'],\n                     [1, 2, 3, 1, 2, 3, 1, 2, 2, 3]])\ndata",
     "language": "python",
     "metadata": {},
     "outputs": [
      {
       "metadata": {},
       "output_type": "pyout",
       "prompt_number": 237,
       "text": "a  1    0.286350\n   2    0.377984\n   3   -0.753887\nb  1    0.331286\n   2    1.349742\n   3    0.069877\nc  1    0.246674\n   2   -0.011862\nd  2    1.004812\n   3    1.327195\ndtype: float64"
      }
     ],
     "prompt_number": 237
    },
    {
     "cell_type": "code",
     "collapsed": false,
     "input": "data.index",
     "language": "python",
     "metadata": {},
     "outputs": [
      {
       "metadata": {},
       "output_type": "pyout",
       "prompt_number": 238,
       "text": "MultiIndex(levels=[[u'a', u'b', u'c', u'd'], [1, 2, 3]],\n           labels=[[0, 0, 0, 1, 1, 1, 2, 2, 3, 3], [0, 1, 2, 0, 1, 2, 0, 1, 1, 2]])"
      }
     ],
     "prompt_number": 238
    },
    {
     "cell_type": "code",
     "collapsed": false,
     "input": "data['b']",
     "language": "python",
     "metadata": {},
     "outputs": [
      {
       "metadata": {},
       "output_type": "pyout",
       "prompt_number": 239,
       "text": "1    0.331286\n2    1.349742\n3    0.069877\ndtype: float64"
      }
     ],
     "prompt_number": 239
    },
    {
     "cell_type": "code",
     "collapsed": false,
     "input": "data['b': 'c']",
     "language": "python",
     "metadata": {},
     "outputs": [
      {
       "metadata": {},
       "output_type": "pyout",
       "prompt_number": 240,
       "text": "b  1    0.331286\n   2    1.349742\n   3    0.069877\nc  1    0.246674\n   2   -0.011862\ndtype: float64"
      }
     ],
     "prompt_number": 240
    },
    {
     "cell_type": "code",
     "collapsed": false,
     "input": "data.ix[['b', 'd']]",
     "language": "python",
     "metadata": {},
     "outputs": [
      {
       "metadata": {},
       "output_type": "pyout",
       "prompt_number": 241,
       "text": "b  1    0.331286\n   2    1.349742\n   3    0.069877\nd  2    1.004812\n   3    1.327195\ndtype: float64"
      }
     ],
     "prompt_number": 241
    },
    {
     "cell_type": "code",
     "collapsed": false,
     "input": "data[:, 2]",
     "language": "python",
     "metadata": {},
     "outputs": [
      {
       "metadata": {},
       "output_type": "pyout",
       "prompt_number": 242,
       "text": "a    0.377984\nb    1.349742\nc   -0.011862\nd    1.004812\ndtype: float64"
      }
     ],
     "prompt_number": 242
    },
    {
     "cell_type": "code",
     "collapsed": false,
     "input": "data.unstack()",
     "language": "python",
     "metadata": {},
     "outputs": [
      {
       "html": "<div style=\"max-height:1000px;max-width:1500px;overflow:auto;\">\n<table border=\"1\" class=\"dataframe\">\n  <thead>\n    <tr style=\"text-align: right;\">\n      <th></th>\n      <th>1</th>\n      <th>2</th>\n      <th>3</th>\n    </tr>\n  </thead>\n  <tbody>\n    <tr>\n      <th>a</th>\n      <td> 0.286350</td>\n      <td> 0.377984</td>\n      <td>-0.753887</td>\n    </tr>\n    <tr>\n      <th>b</th>\n      <td> 0.331286</td>\n      <td> 1.349742</td>\n      <td> 0.069877</td>\n    </tr>\n    <tr>\n      <th>c</th>\n      <td> 0.246674</td>\n      <td>-0.011862</td>\n      <td>      NaN</td>\n    </tr>\n    <tr>\n      <th>d</th>\n      <td>      NaN</td>\n      <td> 1.004812</td>\n      <td> 1.327195</td>\n    </tr>\n  </tbody>\n</table>\n<p>4 rows \u00d7 3 columns</p>\n</div>",
       "metadata": {},
       "output_type": "pyout",
       "prompt_number": 243,
       "text": "          1         2         3\na  0.286350  0.377984 -0.753887\nb  0.331286  1.349742  0.069877\nc  0.246674 -0.011862       NaN\nd       NaN  1.004812  1.327195\n\n[4 rows x 3 columns]"
      }
     ],
     "prompt_number": 243
    },
    {
     "cell_type": "code",
     "collapsed": false,
     "input": "data.unstack().stack()",
     "language": "python",
     "metadata": {},
     "outputs": [
      {
       "metadata": {},
       "output_type": "pyout",
       "prompt_number": 244,
       "text": "a  1    0.286350\n   2    0.377984\n   3   -0.753887\nb  1    0.331286\n   2    1.349742\n   3    0.069877\nc  1    0.246674\n   2   -0.011862\nd  2    1.004812\n   3    1.327195\ndtype: float64"
      }
     ],
     "prompt_number": 244
    },
    {
     "cell_type": "code",
     "collapsed": false,
     "input": "frame9 = DataFrame(np.arange(12).reshape((4, 3)),\n                  index=[['a', 'a', 'b', 'b'], [1, 2, 1, 2]],\n                  columns=[['Ohio', 'Ohio', 'Colorado'],\n                           ['Green', 'Red', 'Green']])\nframe9",
     "language": "python",
     "metadata": {},
     "outputs": [
      {
       "html": "<div style=\"max-height:1000px;max-width:1500px;overflow:auto;\">\n<table border=\"1\" class=\"dataframe\">\n  <thead>\n    <tr>\n      <th></th>\n      <th></th>\n      <th colspan=\"2\" halign=\"left\">Ohio</th>\n      <th>Colorado</th>\n    </tr>\n    <tr>\n      <th></th>\n      <th></th>\n      <th>Green</th>\n      <th>Red</th>\n      <th>Green</th>\n    </tr>\n  </thead>\n  <tbody>\n    <tr>\n      <th rowspan=\"2\" valign=\"top\">a</th>\n      <th>1</th>\n      <td> 0</td>\n      <td>  1</td>\n      <td>  2</td>\n    </tr>\n    <tr>\n      <th>2</th>\n      <td> 3</td>\n      <td>  4</td>\n      <td>  5</td>\n    </tr>\n    <tr>\n      <th rowspan=\"2\" valign=\"top\">b</th>\n      <th>1</th>\n      <td> 6</td>\n      <td>  7</td>\n      <td>  8</td>\n    </tr>\n    <tr>\n      <th>2</th>\n      <td> 9</td>\n      <td> 10</td>\n      <td> 11</td>\n    </tr>\n  </tbody>\n</table>\n<p>4 rows \u00d7 3 columns</p>\n</div>",
       "metadata": {},
       "output_type": "pyout",
       "prompt_number": 245,
       "text": "      Ohio       Colorado\n     Green  Red     Green\na 1      0    1         2\n  2      3    4         5\nb 1      6    7         8\n  2      9   10        11\n\n[4 rows x 3 columns]"
      }
     ],
     "prompt_number": 245
    },
    {
     "cell_type": "code",
     "collapsed": false,
     "input": "frame9.index.names = ['key1', 'key2']\nframe9.columns.names = ['state', 'color']\nframe9",
     "language": "python",
     "metadata": {},
     "outputs": [
      {
       "html": "<div style=\"max-height:1000px;max-width:1500px;overflow:auto;\">\n<table border=\"1\" class=\"dataframe\">\n  <thead>\n    <tr>\n      <th></th>\n      <th>state</th>\n      <th colspan=\"2\" halign=\"left\">Ohio</th>\n      <th>Colorado</th>\n    </tr>\n    <tr>\n      <th></th>\n      <th>color</th>\n      <th>Green</th>\n      <th>Red</th>\n      <th>Green</th>\n    </tr>\n    <tr>\n      <th>key1</th>\n      <th>key2</th>\n      <th></th>\n      <th></th>\n      <th></th>\n    </tr>\n  </thead>\n  <tbody>\n    <tr>\n      <th rowspan=\"2\" valign=\"top\">a</th>\n      <th>1</th>\n      <td> 0</td>\n      <td>  1</td>\n      <td>  2</td>\n    </tr>\n    <tr>\n      <th>2</th>\n      <td> 3</td>\n      <td>  4</td>\n      <td>  5</td>\n    </tr>\n    <tr>\n      <th rowspan=\"2\" valign=\"top\">b</th>\n      <th>1</th>\n      <td> 6</td>\n      <td>  7</td>\n      <td>  8</td>\n    </tr>\n    <tr>\n      <th>2</th>\n      <td> 9</td>\n      <td> 10</td>\n      <td> 11</td>\n    </tr>\n  </tbody>\n</table>\n<p>4 rows \u00d7 3 columns</p>\n</div>",
       "metadata": {},
       "output_type": "pyout",
       "prompt_number": 250,
       "text": "state       Ohio       Colorado\ncolor      Green  Red     Green\nkey1 key2                      \na    1         0    1         2\n     2         3    4         5\nb    1         6    7         8\n     2         9   10        11\n\n[4 rows x 3 columns]"
      }
     ],
     "prompt_number": 250
    },
    {
     "cell_type": "code",
     "collapsed": false,
     "input": "frame9['Ohio']",
     "language": "python",
     "metadata": {},
     "outputs": [
      {
       "html": "<div style=\"max-height:1000px;max-width:1500px;overflow:auto;\">\n<table border=\"1\" class=\"dataframe\">\n  <thead>\n    <tr style=\"text-align: right;\">\n      <th></th>\n      <th>color</th>\n      <th>Green</th>\n      <th>Red</th>\n    </tr>\n    <tr>\n      <th>key1</th>\n      <th>key2</th>\n      <th></th>\n      <th></th>\n    </tr>\n  </thead>\n  <tbody>\n    <tr>\n      <th rowspan=\"2\" valign=\"top\">a</th>\n      <th>1</th>\n      <td> 0</td>\n      <td>  1</td>\n    </tr>\n    <tr>\n      <th>2</th>\n      <td> 3</td>\n      <td>  4</td>\n    </tr>\n    <tr>\n      <th rowspan=\"2\" valign=\"top\">b</th>\n      <th>1</th>\n      <td> 6</td>\n      <td>  7</td>\n    </tr>\n    <tr>\n      <th>2</th>\n      <td> 9</td>\n      <td> 10</td>\n    </tr>\n  </tbody>\n</table>\n<p>4 rows \u00d7 2 columns</p>\n</div>",
       "metadata": {},
       "output_type": "pyout",
       "prompt_number": 251,
       "text": "color      Green  Red\nkey1 key2            \na    1         0    1\n     2         3    4\nb    1         6    7\n     2         9   10\n\n[4 rows x 2 columns]"
      }
     ],
     "prompt_number": 251
    },
    {
     "cell_type": "heading",
     "level": 3,
     "metadata": {},
     "source": "Reordering and sorting levels"
    },
    {
     "cell_type": "code",
     "collapsed": false,
     "input": "frame9.swaplevel('key1', 'key2')",
     "language": "python",
     "metadata": {},
     "outputs": [
      {
       "html": "<div style=\"max-height:1000px;max-width:1500px;overflow:auto;\">\n<table border=\"1\" class=\"dataframe\">\n  <thead>\n    <tr>\n      <th></th>\n      <th>state</th>\n      <th colspan=\"2\" halign=\"left\">Ohio</th>\n      <th>Colorado</th>\n    </tr>\n    <tr>\n      <th></th>\n      <th>color</th>\n      <th>Green</th>\n      <th>Red</th>\n      <th>Green</th>\n    </tr>\n    <tr>\n      <th>key2</th>\n      <th>key1</th>\n      <th></th>\n      <th></th>\n      <th></th>\n    </tr>\n  </thead>\n  <tbody>\n    <tr>\n      <th>1</th>\n      <th>a</th>\n      <td> 0</td>\n      <td>  1</td>\n      <td>  2</td>\n    </tr>\n    <tr>\n      <th>2</th>\n      <th>a</th>\n      <td> 3</td>\n      <td>  4</td>\n      <td>  5</td>\n    </tr>\n    <tr>\n      <th>1</th>\n      <th>b</th>\n      <td> 6</td>\n      <td>  7</td>\n      <td>  8</td>\n    </tr>\n    <tr>\n      <th>2</th>\n      <th>b</th>\n      <td> 9</td>\n      <td> 10</td>\n      <td> 11</td>\n    </tr>\n  </tbody>\n</table>\n<p>4 rows \u00d7 3 columns</p>\n</div>",
       "metadata": {},
       "output_type": "pyout",
       "prompt_number": 253,
       "text": "state       Ohio       Colorado\ncolor      Green  Red     Green\nkey2 key1                      \n1    a         0    1         2\n2    a         3    4         5\n1    b         6    7         8\n2    b         9   10        11\n\n[4 rows x 3 columns]"
      }
     ],
     "prompt_number": 253
    },
    {
     "cell_type": "code",
     "collapsed": false,
     "input": "frame9.sortlevel(1)",
     "language": "python",
     "metadata": {},
     "outputs": [
      {
       "html": "<div style=\"max-height:1000px;max-width:1500px;overflow:auto;\">\n<table border=\"1\" class=\"dataframe\">\n  <thead>\n    <tr>\n      <th></th>\n      <th>state</th>\n      <th colspan=\"2\" halign=\"left\">Ohio</th>\n      <th>Colorado</th>\n    </tr>\n    <tr>\n      <th></th>\n      <th>color</th>\n      <th>Green</th>\n      <th>Red</th>\n      <th>Green</th>\n    </tr>\n    <tr>\n      <th>key1</th>\n      <th>key2</th>\n      <th></th>\n      <th></th>\n      <th></th>\n    </tr>\n  </thead>\n  <tbody>\n    <tr>\n      <th>a</th>\n      <th>1</th>\n      <td> 0</td>\n      <td>  1</td>\n      <td>  2</td>\n    </tr>\n    <tr>\n      <th>b</th>\n      <th>1</th>\n      <td> 6</td>\n      <td>  7</td>\n      <td>  8</td>\n    </tr>\n    <tr>\n      <th>a</th>\n      <th>2</th>\n      <td> 3</td>\n      <td>  4</td>\n      <td>  5</td>\n    </tr>\n    <tr>\n      <th>b</th>\n      <th>2</th>\n      <td> 9</td>\n      <td> 10</td>\n      <td> 11</td>\n    </tr>\n  </tbody>\n</table>\n<p>4 rows \u00d7 3 columns</p>\n</div>",
       "metadata": {},
       "output_type": "pyout",
       "prompt_number": 254,
       "text": "state       Ohio       Colorado\ncolor      Green  Red     Green\nkey1 key2                      \na    1         0    1         2\nb    1         6    7         8\na    2         3    4         5\nb    2         9   10        11\n\n[4 rows x 3 columns]"
      }
     ],
     "prompt_number": 254
    },
    {
     "cell_type": "code",
     "collapsed": false,
     "input": "frame9.swaplevel(0, 1).sortlevel(0)",
     "language": "python",
     "metadata": {},
     "outputs": [
      {
       "html": "<div style=\"max-height:1000px;max-width:1500px;overflow:auto;\">\n<table border=\"1\" class=\"dataframe\">\n  <thead>\n    <tr>\n      <th></th>\n      <th>state</th>\n      <th colspan=\"2\" halign=\"left\">Ohio</th>\n      <th>Colorado</th>\n    </tr>\n    <tr>\n      <th></th>\n      <th>color</th>\n      <th>Green</th>\n      <th>Red</th>\n      <th>Green</th>\n    </tr>\n    <tr>\n      <th>key2</th>\n      <th>key1</th>\n      <th></th>\n      <th></th>\n      <th></th>\n    </tr>\n  </thead>\n  <tbody>\n    <tr>\n      <th rowspan=\"2\" valign=\"top\">1</th>\n      <th>a</th>\n      <td> 0</td>\n      <td>  1</td>\n      <td>  2</td>\n    </tr>\n    <tr>\n      <th>b</th>\n      <td> 6</td>\n      <td>  7</td>\n      <td>  8</td>\n    </tr>\n    <tr>\n      <th rowspan=\"2\" valign=\"top\">2</th>\n      <th>a</th>\n      <td> 3</td>\n      <td>  4</td>\n      <td>  5</td>\n    </tr>\n    <tr>\n      <th>b</th>\n      <td> 9</td>\n      <td> 10</td>\n      <td> 11</td>\n    </tr>\n  </tbody>\n</table>\n<p>4 rows \u00d7 3 columns</p>\n</div>",
       "metadata": {},
       "output_type": "pyout",
       "prompt_number": 256,
       "text": "state       Ohio       Colorado\ncolor      Green  Red     Green\nkey2 key1                      \n1    a         0    1         2\n     b         6    7         8\n2    a         3    4         5\n     b         9   10        11\n\n[4 rows x 3 columns]"
      }
     ],
     "prompt_number": 256
    },
    {
     "cell_type": "heading",
     "level": 3,
     "metadata": {},
     "source": "Summary statistics by level"
    },
    {
     "cell_type": "code",
     "collapsed": false,
     "input": "frame9.sum(level='key2')",
     "language": "python",
     "metadata": {},
     "outputs": [
      {
       "html": "<div style=\"max-height:1000px;max-width:1500px;overflow:auto;\">\n<table border=\"1\" class=\"dataframe\">\n  <thead>\n    <tr>\n      <th>state</th>\n      <th colspan=\"2\" halign=\"left\">Ohio</th>\n      <th>Colorado</th>\n    </tr>\n    <tr>\n      <th>color</th>\n      <th>Green</th>\n      <th>Red</th>\n      <th>Green</th>\n    </tr>\n    <tr>\n      <th>key2</th>\n      <th></th>\n      <th></th>\n      <th></th>\n    </tr>\n  </thead>\n  <tbody>\n    <tr>\n      <th>1</th>\n      <td>  6</td>\n      <td>  8</td>\n      <td> 10</td>\n    </tr>\n    <tr>\n      <th>2</th>\n      <td> 12</td>\n      <td> 14</td>\n      <td> 16</td>\n    </tr>\n  </tbody>\n</table>\n<p>2 rows \u00d7 3 columns</p>\n</div>",
       "metadata": {},
       "output_type": "pyout",
       "prompt_number": 257,
       "text": "state   Ohio       Colorado\ncolor  Green  Red     Green\nkey2                       \n1          6    8        10\n2         12   14        16\n\n[2 rows x 3 columns]"
      }
     ],
     "prompt_number": 257
    },
    {
     "cell_type": "code",
     "collapsed": false,
     "input": "frame9.sum(level='color', axis=1)",
     "language": "python",
     "metadata": {},
     "outputs": [
      {
       "html": "<div style=\"max-height:1000px;max-width:1500px;overflow:auto;\">\n<table border=\"1\" class=\"dataframe\">\n  <thead>\n    <tr style=\"text-align: right;\">\n      <th></th>\n      <th>color</th>\n      <th>Green</th>\n      <th>Red</th>\n    </tr>\n    <tr>\n      <th>key1</th>\n      <th>key2</th>\n      <th></th>\n      <th></th>\n    </tr>\n  </thead>\n  <tbody>\n    <tr>\n      <th rowspan=\"2\" valign=\"top\">a</th>\n      <th>1</th>\n      <td>  2</td>\n      <td>  1</td>\n    </tr>\n    <tr>\n      <th>2</th>\n      <td>  8</td>\n      <td>  4</td>\n    </tr>\n    <tr>\n      <th rowspan=\"2\" valign=\"top\">b</th>\n      <th>1</th>\n      <td> 14</td>\n      <td>  7</td>\n    </tr>\n    <tr>\n      <th>2</th>\n      <td> 20</td>\n      <td> 10</td>\n    </tr>\n  </tbody>\n</table>\n<p>4 rows \u00d7 2 columns</p>\n</div>",
       "metadata": {},
       "output_type": "pyout",
       "prompt_number": 259,
       "text": "color      Green  Red\nkey1 key2            \na    1         2    1\n     2         8    4\nb    1        14    7\n     2        20   10\n\n[4 rows x 2 columns]"
      }
     ],
     "prompt_number": 259
    },
    {
     "cell_type": "heading",
     "level": 3,
     "metadata": {},
     "source": "Using a DataFrame's columns"
    },
    {
     "cell_type": "code",
     "collapsed": false,
     "input": "frame10 = DataFrame({'a': range(7), 'b': range(7, 0, -1),\n                   'c': ['one', 'one', 'one', 'two', 'two', 'two', 'two'],\n                   'd': [0, 1, 2, 0, 1, 2, 3]})\nframe10",
     "language": "python",
     "metadata": {},
     "outputs": [
      {
       "html": "<div style=\"max-height:1000px;max-width:1500px;overflow:auto;\">\n<table border=\"1\" class=\"dataframe\">\n  <thead>\n    <tr style=\"text-align: right;\">\n      <th></th>\n      <th>a</th>\n      <th>b</th>\n      <th>c</th>\n      <th>d</th>\n    </tr>\n  </thead>\n  <tbody>\n    <tr>\n      <th>0</th>\n      <td> 0</td>\n      <td> 7</td>\n      <td> one</td>\n      <td> 0</td>\n    </tr>\n    <tr>\n      <th>1</th>\n      <td> 1</td>\n      <td> 6</td>\n      <td> one</td>\n      <td> 1</td>\n    </tr>\n    <tr>\n      <th>2</th>\n      <td> 2</td>\n      <td> 5</td>\n      <td> one</td>\n      <td> 2</td>\n    </tr>\n    <tr>\n      <th>3</th>\n      <td> 3</td>\n      <td> 4</td>\n      <td> two</td>\n      <td> 0</td>\n    </tr>\n    <tr>\n      <th>4</th>\n      <td> 4</td>\n      <td> 3</td>\n      <td> two</td>\n      <td> 1</td>\n    </tr>\n    <tr>\n      <th>5</th>\n      <td> 5</td>\n      <td> 2</td>\n      <td> two</td>\n      <td> 2</td>\n    </tr>\n    <tr>\n      <th>6</th>\n      <td> 6</td>\n      <td> 1</td>\n      <td> two</td>\n      <td> 3</td>\n    </tr>\n  </tbody>\n</table>\n<p>7 rows \u00d7 4 columns</p>\n</div>",
       "metadata": {},
       "output_type": "pyout",
       "prompt_number": 261,
       "text": "   a  b    c  d\n0  0  7  one  0\n1  1  6  one  1\n2  2  5  one  2\n3  3  4  two  0\n4  4  3  two  1\n5  5  2  two  2\n6  6  1  two  3\n\n[7 rows x 4 columns]"
      }
     ],
     "prompt_number": 261
    },
    {
     "cell_type": "code",
     "collapsed": false,
     "input": "frame11 = frame10.set_index(['c', 'd'])\nframe11",
     "language": "python",
     "metadata": {},
     "outputs": [
      {
       "html": "<div style=\"max-height:1000px;max-width:1500px;overflow:auto;\">\n<table border=\"1\" class=\"dataframe\">\n  <thead>\n    <tr style=\"text-align: right;\">\n      <th></th>\n      <th></th>\n      <th>a</th>\n      <th>b</th>\n    </tr>\n    <tr>\n      <th>c</th>\n      <th>d</th>\n      <th></th>\n      <th></th>\n    </tr>\n  </thead>\n  <tbody>\n    <tr>\n      <th rowspan=\"3\" valign=\"top\">one</th>\n      <th>0</th>\n      <td> 0</td>\n      <td> 7</td>\n    </tr>\n    <tr>\n      <th>1</th>\n      <td> 1</td>\n      <td> 6</td>\n    </tr>\n    <tr>\n      <th>2</th>\n      <td> 2</td>\n      <td> 5</td>\n    </tr>\n    <tr>\n      <th rowspan=\"4\" valign=\"top\">two</th>\n      <th>0</th>\n      <td> 3</td>\n      <td> 4</td>\n    </tr>\n    <tr>\n      <th>1</th>\n      <td> 4</td>\n      <td> 3</td>\n    </tr>\n    <tr>\n      <th>2</th>\n      <td> 5</td>\n      <td> 2</td>\n    </tr>\n    <tr>\n      <th>3</th>\n      <td> 6</td>\n      <td> 1</td>\n    </tr>\n  </tbody>\n</table>\n<p>7 rows \u00d7 2 columns</p>\n</div>",
       "metadata": {},
       "output_type": "pyout",
       "prompt_number": 262,
       "text": "       a  b\nc   d      \none 0  0  7\n    1  1  6\n    2  2  5\ntwo 0  3  4\n    1  4  3\n    2  5  2\n    3  6  1\n\n[7 rows x 2 columns]"
      }
     ],
     "prompt_number": 262
    },
    {
     "cell_type": "code",
     "collapsed": false,
     "input": "frame12 = frame10.set_index(['c', 'd'], drop = False)\nframe12",
     "language": "python",
     "metadata": {},
     "outputs": [
      {
       "html": "<div style=\"max-height:1000px;max-width:1500px;overflow:auto;\">\n<table border=\"1\" class=\"dataframe\">\n  <thead>\n    <tr style=\"text-align: right;\">\n      <th></th>\n      <th></th>\n      <th>a</th>\n      <th>b</th>\n      <th>c</th>\n      <th>d</th>\n    </tr>\n    <tr>\n      <th>c</th>\n      <th>d</th>\n      <th></th>\n      <th></th>\n      <th></th>\n      <th></th>\n    </tr>\n  </thead>\n  <tbody>\n    <tr>\n      <th rowspan=\"3\" valign=\"top\">one</th>\n      <th>0</th>\n      <td> 0</td>\n      <td> 7</td>\n      <td> one</td>\n      <td> 0</td>\n    </tr>\n    <tr>\n      <th>1</th>\n      <td> 1</td>\n      <td> 6</td>\n      <td> one</td>\n      <td> 1</td>\n    </tr>\n    <tr>\n      <th>2</th>\n      <td> 2</td>\n      <td> 5</td>\n      <td> one</td>\n      <td> 2</td>\n    </tr>\n    <tr>\n      <th rowspan=\"4\" valign=\"top\">two</th>\n      <th>0</th>\n      <td> 3</td>\n      <td> 4</td>\n      <td> two</td>\n      <td> 0</td>\n    </tr>\n    <tr>\n      <th>1</th>\n      <td> 4</td>\n      <td> 3</td>\n      <td> two</td>\n      <td> 1</td>\n    </tr>\n    <tr>\n      <th>2</th>\n      <td> 5</td>\n      <td> 2</td>\n      <td> two</td>\n      <td> 2</td>\n    </tr>\n    <tr>\n      <th>3</th>\n      <td> 6</td>\n      <td> 1</td>\n      <td> two</td>\n      <td> 3</td>\n    </tr>\n  </tbody>\n</table>\n<p>7 rows \u00d7 4 columns</p>\n</div>",
       "metadata": {},
       "output_type": "pyout",
       "prompt_number": 263,
       "text": "       a  b    c  d\nc   d              \none 0  0  7  one  0\n    1  1  6  one  1\n    2  2  5  one  2\ntwo 0  3  4  two  0\n    1  4  3  two  1\n    2  5  2  two  2\n    3  6  1  two  3\n\n[7 rows x 4 columns]"
      }
     ],
     "prompt_number": 263
    },
    {
     "cell_type": "code",
     "collapsed": false,
     "input": "frame11.reset_index()",
     "language": "python",
     "metadata": {},
     "outputs": [
      {
       "html": "<div style=\"max-height:1000px;max-width:1500px;overflow:auto;\">\n<table border=\"1\" class=\"dataframe\">\n  <thead>\n    <tr style=\"text-align: right;\">\n      <th></th>\n      <th>c</th>\n      <th>d</th>\n      <th>a</th>\n      <th>b</th>\n    </tr>\n  </thead>\n  <tbody>\n    <tr>\n      <th>0</th>\n      <td> one</td>\n      <td> 0</td>\n      <td> 0</td>\n      <td> 7</td>\n    </tr>\n    <tr>\n      <th>1</th>\n      <td> one</td>\n      <td> 1</td>\n      <td> 1</td>\n      <td> 6</td>\n    </tr>\n    <tr>\n      <th>2</th>\n      <td> one</td>\n      <td> 2</td>\n      <td> 2</td>\n      <td> 5</td>\n    </tr>\n    <tr>\n      <th>3</th>\n      <td> two</td>\n      <td> 0</td>\n      <td> 3</td>\n      <td> 4</td>\n    </tr>\n    <tr>\n      <th>4</th>\n      <td> two</td>\n      <td> 1</td>\n      <td> 4</td>\n      <td> 3</td>\n    </tr>\n    <tr>\n      <th>5</th>\n      <td> two</td>\n      <td> 2</td>\n      <td> 5</td>\n      <td> 2</td>\n    </tr>\n    <tr>\n      <th>6</th>\n      <td> two</td>\n      <td> 3</td>\n      <td> 6</td>\n      <td> 1</td>\n    </tr>\n  </tbody>\n</table>\n<p>7 rows \u00d7 4 columns</p>\n</div>",
       "metadata": {},
       "output_type": "pyout",
       "prompt_number": 264,
       "text": "     c  d  a  b\n0  one  0  0  7\n1  one  1  1  6\n2  one  2  2  5\n3  two  0  3  4\n4  two  1  4  3\n5  two  2  5  2\n6  two  3  6  1\n\n[7 rows x 4 columns]"
      }
     ],
     "prompt_number": 264
    },
    {
     "cell_type": "heading",
     "level": 2,
     "metadata": {},
     "source": "Other pandas topics"
    },
    {
     "cell_type": "heading",
     "level": 3,
     "metadata": {},
     "source": "Integer indexing"
    },
    {
     "cell_type": "code",
     "collapsed": false,
     "input": "ser = Series(np.arange(3.))\nser",
     "language": "python",
     "metadata": {},
     "outputs": [
      {
       "metadata": {},
       "output_type": "pyout",
       "prompt_number": 266,
       "text": "0    0\n1    1\n2    2\ndtype: float64"
      }
     ],
     "prompt_number": 266
    },
    {
     "cell_type": "code",
     "collapsed": false,
     "input": "ser.iloc[-1]\nser",
     "language": "python",
     "metadata": {},
     "outputs": [
      {
       "metadata": {},
       "output_type": "pyout",
       "prompt_number": 267,
       "text": "0    0\n1    1\n2    2\ndtype: float64"
      }
     ],
     "prompt_number": 267
    },
    {
     "cell_type": "code",
     "collapsed": false,
     "input": "ser2 = Series(np.arange(3.), index = ['a', 'b', 'c'])\nser2",
     "language": "python",
     "metadata": {},
     "outputs": [
      {
       "metadata": {},
       "output_type": "pyout",
       "prompt_number": 268,
       "text": "a    0\nb    1\nc    2\ndtype: float64"
      }
     ],
     "prompt_number": 268
    },
    {
     "cell_type": "code",
     "collapsed": false,
     "input": "ser2[-1]",
     "language": "python",
     "metadata": {},
     "outputs": [
      {
       "metadata": {},
       "output_type": "pyout",
       "prompt_number": 269,
       "text": "2.0"
      }
     ],
     "prompt_number": 269
    },
    {
     "cell_type": "code",
     "collapsed": false,
     "input": "ser.ix[:1]",
     "language": "python",
     "metadata": {},
     "outputs": [
      {
       "metadata": {},
       "output_type": "pyout",
       "prompt_number": 271,
       "text": "0    0\n1    1\ndtype: float64"
      }
     ],
     "prompt_number": 271
    },
    {
     "cell_type": "code",
     "collapsed": false,
     "input": "ser3 = Series(range(3), index = [-5, 1, 3])\nser3",
     "language": "python",
     "metadata": {},
     "outputs": [
      {
       "metadata": {},
       "output_type": "pyout",
       "prompt_number": 272,
       "text": "-5    0\n 1    1\n 3    2\ndtype: int64"
      }
     ],
     "prompt_number": 272
    },
    {
     "cell_type": "code",
     "collapsed": false,
     "input": "ser.iloc[-2]",
     "language": "python",
     "metadata": {},
     "outputs": [
      {
       "metadata": {},
       "output_type": "pyout",
       "prompt_number": 273,
       "text": "1.0"
      }
     ],
     "prompt_number": 273
    },
    {
     "cell_type": "code",
     "collapsed": false,
     "input": "frame12 = DataFrame(np.arange(6).reshape((3, 2)), index = [2, 0, 1])\nframe12",
     "language": "python",
     "metadata": {},
     "outputs": [
      {
       "html": "<div style=\"max-height:1000px;max-width:1500px;overflow:auto;\">\n<table border=\"1\" class=\"dataframe\">\n  <thead>\n    <tr style=\"text-align: right;\">\n      <th></th>\n      <th>0</th>\n      <th>1</th>\n    </tr>\n  </thead>\n  <tbody>\n    <tr>\n      <th>2</th>\n      <td> 0</td>\n      <td> 1</td>\n    </tr>\n    <tr>\n      <th>0</th>\n      <td> 2</td>\n      <td> 3</td>\n    </tr>\n    <tr>\n      <th>1</th>\n      <td> 4</td>\n      <td> 5</td>\n    </tr>\n  </tbody>\n</table>\n<p>3 rows \u00d7 2 columns</p>\n</div>",
       "metadata": {},
       "output_type": "pyout",
       "prompt_number": 274,
       "text": "   0  1\n2  0  1\n0  2  3\n1  4  5\n\n[3 rows x 2 columns]"
      }
     ],
     "prompt_number": 274
    },
    {
     "cell_type": "code",
     "collapsed": false,
     "input": "frame12.iloc[0]",
     "language": "python",
     "metadata": {},
     "outputs": [
      {
       "metadata": {},
       "output_type": "pyout",
       "prompt_number": 275,
       "text": "0    0\n1    1\nName: 2, dtype: int64"
      }
     ],
     "prompt_number": 275
    },
    {
     "cell_type": "heading",
     "level": 3,
     "metadata": {},
     "source": "Panel data"
    },
    {
     "cell_type": "code",
     "collapsed": false,
     "input": "import pandas.io.data as web\n\npdata = pd.Panel(dict((stk, web.get_data_yahoo(stk))\n                       for stk in ['AAPL', 'GOOG', 'MSFT', 'DELL']))\npdata",
     "language": "python",
     "metadata": {},
     "outputs": [
      {
       "metadata": {},
       "output_type": "pyout",
       "prompt_number": 276,
       "text": "<class 'pandas.core.panel.Panel'>\nDimensions: 4 (items) x 1346 (major_axis) x 6 (minor_axis)\nItems axis: AAPL to MSFT\nMajor_axis axis: 2010-01-04 00:00:00 to 2015-04-10 00:00:00\nMinor_axis axis: Open to Adj Close"
      }
     ],
     "prompt_number": 276
    },
    {
     "cell_type": "code",
     "collapsed": false,
     "input": "pdata = pdata.swapaxes('items', 'minor')\npdata['Adj Close']",
     "language": "python",
     "metadata": {},
     "outputs": [
      {
       "html": "<div style=\"max-height:1000px;max-width:1500px;overflow:auto;\">\n<table border=\"1\" class=\"dataframe\">\n  <thead>\n    <tr style=\"text-align: right;\">\n      <th></th>\n      <th>AAPL</th>\n      <th>DELL</th>\n      <th>GOOG</th>\n      <th>MSFT</th>\n    </tr>\n    <tr>\n      <th>Date</th>\n      <th></th>\n      <th></th>\n      <th></th>\n      <th></th>\n    </tr>\n  </thead>\n  <tbody>\n    <tr>\n      <th>2010-01-04</th>\n      <td> 28.84</td>\n      <td> 14.07</td>\n      <td>NaN</td>\n      <td> 26.94</td>\n    </tr>\n    <tr>\n      <th>2010-01-05</th>\n      <td> 28.89</td>\n      <td> 14.38</td>\n      <td>NaN</td>\n      <td> 26.95</td>\n    </tr>\n    <tr>\n      <th>2010-01-06</th>\n      <td> 28.43</td>\n      <td> 14.10</td>\n      <td>NaN</td>\n      <td> 26.79</td>\n    </tr>\n    <tr>\n      <th>2010-01-07</th>\n      <td> 28.38</td>\n      <td> 14.24</td>\n      <td>NaN</td>\n      <td> 26.51</td>\n    </tr>\n    <tr>\n      <th>2010-01-08</th>\n      <td> 28.56</td>\n      <td> 14.37</td>\n      <td>NaN</td>\n      <td> 26.69</td>\n    </tr>\n    <tr>\n      <th>2010-01-11</th>\n      <td> 28.31</td>\n      <td> 14.37</td>\n      <td>NaN</td>\n      <td> 26.35</td>\n    </tr>\n    <tr>\n      <th>2010-01-12</th>\n      <td> 27.99</td>\n      <td> 14.57</td>\n      <td>NaN</td>\n      <td> 26.18</td>\n    </tr>\n    <tr>\n      <th>2010-01-13</th>\n      <td> 28.39</td>\n      <td> 14.58</td>\n      <td>NaN</td>\n      <td> 26.42</td>\n    </tr>\n    <tr>\n      <th>2010-01-14</th>\n      <td> 28.22</td>\n      <td> 14.22</td>\n      <td>NaN</td>\n      <td> 26.95</td>\n    </tr>\n    <tr>\n      <th>2010-01-15</th>\n      <td> 27.75</td>\n      <td> 13.93</td>\n      <td>NaN</td>\n      <td> 26.86</td>\n    </tr>\n    <tr>\n      <th>2010-01-19</th>\n      <td> 28.98</td>\n      <td> 14.33</td>\n      <td>NaN</td>\n      <td> 27.07</td>\n    </tr>\n    <tr>\n      <th>2010-01-20</th>\n      <td> 28.53</td>\n      <td> 14.04</td>\n      <td>NaN</td>\n      <td> 26.63</td>\n    </tr>\n    <tr>\n      <th>2010-01-21</th>\n      <td> 28.04</td>\n      <td> 13.92</td>\n      <td>NaN</td>\n      <td> 26.12</td>\n    </tr>\n    <tr>\n      <th>2010-01-22</th>\n      <td> 26.65</td>\n      <td> 13.19</td>\n      <td>NaN</td>\n      <td> 25.21</td>\n    </tr>\n    <tr>\n      <th>2010-01-25</th>\n      <td> 27.36</td>\n      <td> 13.44</td>\n      <td>NaN</td>\n      <td> 25.52</td>\n    </tr>\n    <tr>\n      <th>2010-01-26</th>\n      <td> 27.75</td>\n      <td> 13.14</td>\n      <td>NaN</td>\n      <td> 25.68</td>\n    </tr>\n    <tr>\n      <th>2010-01-27</th>\n      <td> 28.01</td>\n      <td> 13.09</td>\n      <td>NaN</td>\n      <td> 25.83</td>\n    </tr>\n    <tr>\n      <th>2010-01-28</th>\n      <td> 26.85</td>\n      <td> 12.85</td>\n      <td>NaN</td>\n      <td> 25.39</td>\n    </tr>\n    <tr>\n      <th>2010-01-29</th>\n      <td> 25.88</td>\n      <td> 12.48</td>\n      <td>NaN</td>\n      <td> 24.53</td>\n    </tr>\n    <tr>\n      <th>2010-02-01</th>\n      <td> 26.24</td>\n      <td> 12.79</td>\n      <td>NaN</td>\n      <td> 24.73</td>\n    </tr>\n    <tr>\n      <th>2010-02-02</th>\n      <td> 26.39</td>\n      <td> 12.87</td>\n      <td>NaN</td>\n      <td> 24.78</td>\n    </tr>\n    <tr>\n      <th>2010-02-03</th>\n      <td> 26.85</td>\n      <td> 12.92</td>\n      <td>NaN</td>\n      <td> 24.92</td>\n    </tr>\n    <tr>\n      <th>2010-02-04</th>\n      <td> 25.88</td>\n      <td> 12.59</td>\n      <td>NaN</td>\n      <td> 24.24</td>\n    </tr>\n    <tr>\n      <th>2010-02-05</th>\n      <td> 26.34</td>\n      <td> 12.81</td>\n      <td>NaN</td>\n      <td> 24.39</td>\n    </tr>\n    <tr>\n      <th>2010-02-08</th>\n      <td> 26.16</td>\n      <td> 12.95</td>\n      <td>NaN</td>\n      <td> 24.13</td>\n    </tr>\n    <tr>\n      <th>2010-02-09</th>\n      <td> 26.44</td>\n      <td> 13.11</td>\n      <td>NaN</td>\n      <td> 24.38</td>\n    </tr>\n    <tr>\n      <th>2010-02-10</th>\n      <td> 26.29</td>\n      <td> 13.30</td>\n      <td>NaN</td>\n      <td> 24.37</td>\n    </tr>\n    <tr>\n      <th>2010-02-11</th>\n      <td> 26.77</td>\n      <td> 13.49</td>\n      <td>NaN</td>\n      <td> 24.48</td>\n    </tr>\n    <tr>\n      <th>2010-02-12</th>\n      <td> 27.00</td>\n      <td> 13.39</td>\n      <td>NaN</td>\n      <td> 24.31</td>\n    </tr>\n    <tr>\n      <th>2010-02-16</th>\n      <td> 27.41</td>\n      <td> 13.68</td>\n      <td>NaN</td>\n      <td> 24.80</td>\n    </tr>\n    <tr>\n      <th>2010-02-17</th>\n      <td> 27.29</td>\n      <td> 13.65</td>\n      <td>NaN</td>\n      <td> 25.01</td>\n    </tr>\n    <tr>\n      <th>2010-02-18</th>\n      <td> 27.35</td>\n      <td> 13.96</td>\n      <td>NaN</td>\n      <td> 25.34</td>\n    </tr>\n    <tr>\n      <th>2010-02-19</th>\n      <td> 27.18</td>\n      <td> 13.03</td>\n      <td>NaN</td>\n      <td> 25.16</td>\n    </tr>\n    <tr>\n      <th>2010-02-22</th>\n      <td> 27.01</td>\n      <td> 12.92</td>\n      <td>NaN</td>\n      <td> 25.13</td>\n    </tr>\n    <tr>\n      <th>2010-02-23</th>\n      <td> 26.55</td>\n      <td> 12.78</td>\n      <td>NaN</td>\n      <td> 24.78</td>\n    </tr>\n    <tr>\n      <th>2010-02-24</th>\n      <td> 27.04</td>\n      <td> 12.95</td>\n      <td>NaN</td>\n      <td> 25.04</td>\n    </tr>\n    <tr>\n      <th>2010-02-25</th>\n      <td> 27.22</td>\n      <td> 12.86</td>\n      <td>NaN</td>\n      <td> 25.01</td>\n    </tr>\n    <tr>\n      <th>2010-02-26</th>\n      <td> 27.57</td>\n      <td> 12.81</td>\n      <td>NaN</td>\n      <td> 25.08</td>\n    </tr>\n    <tr>\n      <th>2010-03-01</th>\n      <td> 28.16</td>\n      <td> 13.13</td>\n      <td>NaN</td>\n      <td> 25.38</td>\n    </tr>\n    <tr>\n      <th>2010-03-02</th>\n      <td> 28.14</td>\n      <td> 13.23</td>\n      <td>NaN</td>\n      <td> 24.89</td>\n    </tr>\n    <tr>\n      <th>2010-03-03</th>\n      <td> 28.21</td>\n      <td> 13.26</td>\n      <td>NaN</td>\n      <td> 24.89</td>\n    </tr>\n    <tr>\n      <th>2010-03-04</th>\n      <td> 28.39</td>\n      <td> 13.22</td>\n      <td>NaN</td>\n      <td> 25.04</td>\n    </tr>\n    <tr>\n      <th>2010-03-05</th>\n      <td> 29.50</td>\n      <td> 13.43</td>\n      <td>NaN</td>\n      <td> 25.01</td>\n    </tr>\n    <tr>\n      <th>2010-03-08</th>\n      <td> 29.52</td>\n      <td> 13.55</td>\n      <td>NaN</td>\n      <td> 25.04</td>\n    </tr>\n    <tr>\n      <th>2010-03-09</th>\n      <td> 30.05</td>\n      <td> 13.72</td>\n      <td>NaN</td>\n      <td> 25.19</td>\n    </tr>\n    <tr>\n      <th>2010-03-10</th>\n      <td> 30.30</td>\n      <td> 13.84</td>\n      <td>NaN</td>\n      <td> 25.34</td>\n    </tr>\n    <tr>\n      <th>2010-03-11</th>\n      <td> 30.39</td>\n      <td> 13.75</td>\n      <td>NaN</td>\n      <td> 25.52</td>\n    </tr>\n    <tr>\n      <th>2010-03-12</th>\n      <td> 30.53</td>\n      <td> 13.79</td>\n      <td>NaN</td>\n      <td> 25.60</td>\n    </tr>\n    <tr>\n      <th>2010-03-15</th>\n      <td> 30.16</td>\n      <td> 13.79</td>\n      <td>NaN</td>\n      <td> 25.62</td>\n    </tr>\n    <tr>\n      <th>2010-03-16</th>\n      <td> 30.24</td>\n      <td> 13.83</td>\n      <td>NaN</td>\n      <td> 25.69</td>\n    </tr>\n    <tr>\n      <th>2010-03-17</th>\n      <td> 30.20</td>\n      <td> 14.11</td>\n      <td>NaN</td>\n      <td> 25.91</td>\n    </tr>\n    <tr>\n      <th>2010-03-18</th>\n      <td> 30.27</td>\n      <td> 14.07</td>\n      <td>NaN</td>\n      <td> 25.90</td>\n    </tr>\n    <tr>\n      <th>2010-03-19</th>\n      <td> 29.95</td>\n      <td> 13.94</td>\n      <td>NaN</td>\n      <td> 25.88</td>\n    </tr>\n    <tr>\n      <th>2010-03-22</th>\n      <td> 30.29</td>\n      <td> 14.14</td>\n      <td>NaN</td>\n      <td> 25.89</td>\n    </tr>\n    <tr>\n      <th>2010-03-23</th>\n      <td> 30.77</td>\n      <td> 14.72</td>\n      <td>NaN</td>\n      <td> 26.13</td>\n    </tr>\n    <tr>\n      <th>2010-03-24</th>\n      <td> 30.91</td>\n      <td> 14.50</td>\n      <td>NaN</td>\n      <td> 25.93</td>\n    </tr>\n    <tr>\n      <th>2010-03-25</th>\n      <td> 30.54</td>\n      <td> 14.38</td>\n      <td>NaN</td>\n      <td> 26.25</td>\n    </tr>\n    <tr>\n      <th>2010-03-26</th>\n      <td> 31.11</td>\n      <td> 14.50</td>\n      <td>NaN</td>\n      <td> 25.94</td>\n    </tr>\n    <tr>\n      <th>2010-03-29</th>\n      <td> 31.31</td>\n      <td> 14.47</td>\n      <td>NaN</td>\n      <td> 25.88</td>\n    </tr>\n    <tr>\n      <th>2010-03-30</th>\n      <td> 31.78</td>\n      <td> 14.48</td>\n      <td>NaN</td>\n      <td> 26.04</td>\n    </tr>\n    <tr>\n      <th></th>\n      <td>...</td>\n      <td>...</td>\n      <td>...</td>\n      <td>...</td>\n    </tr>\n  </tbody>\n</table>\n<p>1346 rows \u00d7 4 columns</p>\n</div>",
       "metadata": {},
       "output_type": "pyout",
       "prompt_number": 277,
       "text": "             AAPL   DELL  GOOG   MSFT\nDate                                 \n2010-01-04  28.84  14.07   NaN  26.94\n2010-01-05  28.89  14.38   NaN  26.95\n2010-01-06  28.43  14.10   NaN  26.79\n2010-01-07  28.38  14.24   NaN  26.51\n2010-01-08  28.56  14.37   NaN  26.69\n2010-01-11  28.31  14.37   NaN  26.35\n2010-01-12  27.99  14.57   NaN  26.18\n2010-01-13  28.39  14.58   NaN  26.42\n2010-01-14  28.22  14.22   NaN  26.95\n2010-01-15  27.75  13.93   NaN  26.86\n2010-01-19  28.98  14.33   NaN  27.07\n2010-01-20  28.53  14.04   NaN  26.63\n2010-01-21  28.04  13.92   NaN  26.12\n2010-01-22  26.65  13.19   NaN  25.21\n2010-01-25  27.36  13.44   NaN  25.52\n2010-01-26  27.75  13.14   NaN  25.68\n2010-01-27  28.01  13.09   NaN  25.83\n2010-01-28  26.85  12.85   NaN  25.39\n2010-01-29  25.88  12.48   NaN  24.53\n2010-02-01  26.24  12.79   NaN  24.73\n2010-02-02  26.39  12.87   NaN  24.78\n2010-02-03  26.85  12.92   NaN  24.92\n2010-02-04  25.88  12.59   NaN  24.24\n2010-02-05  26.34  12.81   NaN  24.39\n2010-02-08  26.16  12.95   NaN  24.13\n2010-02-09  26.44  13.11   NaN  24.38\n2010-02-10  26.29  13.30   NaN  24.37\n2010-02-11  26.77  13.49   NaN  24.48\n2010-02-12  27.00  13.39   NaN  24.31\n2010-02-16  27.41  13.68   NaN  24.80\n2010-02-17  27.29  13.65   NaN  25.01\n2010-02-18  27.35  13.96   NaN  25.34\n2010-02-19  27.18  13.03   NaN  25.16\n2010-02-22  27.01  12.92   NaN  25.13\n2010-02-23  26.55  12.78   NaN  24.78\n2010-02-24  27.04  12.95   NaN  25.04\n2010-02-25  27.22  12.86   NaN  25.01\n2010-02-26  27.57  12.81   NaN  25.08\n2010-03-01  28.16  13.13   NaN  25.38\n2010-03-02  28.14  13.23   NaN  24.89\n2010-03-03  28.21  13.26   NaN  24.89\n2010-03-04  28.39  13.22   NaN  25.04\n2010-03-05  29.50  13.43   NaN  25.01\n2010-03-08  29.52  13.55   NaN  25.04\n2010-03-09  30.05  13.72   NaN  25.19\n2010-03-10  30.30  13.84   NaN  25.34\n2010-03-11  30.39  13.75   NaN  25.52\n2010-03-12  30.53  13.79   NaN  25.60\n2010-03-15  30.16  13.79   NaN  25.62\n2010-03-16  30.24  13.83   NaN  25.69\n2010-03-17  30.20  14.11   NaN  25.91\n2010-03-18  30.27  14.07   NaN  25.90\n2010-03-19  29.95  13.94   NaN  25.88\n2010-03-22  30.29  14.14   NaN  25.89\n2010-03-23  30.77  14.72   NaN  26.13\n2010-03-24  30.91  14.50   NaN  25.93\n2010-03-25  30.54  14.38   NaN  26.25\n2010-03-26  31.11  14.50   NaN  25.94\n2010-03-29  31.31  14.47   NaN  25.88\n2010-03-30  31.78  14.48   NaN  26.04\n              ...    ...   ...    ...\n\n[1346 rows x 4 columns]"
      }
     ],
     "prompt_number": 277
    },
    {
     "cell_type": "code",
     "collapsed": false,
     "input": "pdata.ix[:, '6/1/2012', :]",
     "language": "python",
     "metadata": {},
     "outputs": [
      {
       "html": "<div style=\"max-height:1000px;max-width:1500px;overflow:auto;\">\n<table border=\"1\" class=\"dataframe\">\n  <thead>\n    <tr style=\"text-align: right;\">\n      <th></th>\n      <th>Open</th>\n      <th>High</th>\n      <th>Low</th>\n      <th>Close</th>\n      <th>Volume</th>\n      <th>Adj Close</th>\n    </tr>\n  </thead>\n  <tbody>\n    <tr>\n      <th>AAPL</th>\n      <td> 569.16</td>\n      <td> 572.65</td>\n      <td> 560.52</td>\n      <td> 560.99</td>\n      <td> 130246900</td>\n      <td> 75.59</td>\n    </tr>\n    <tr>\n      <th>DELL</th>\n      <td>  12.15</td>\n      <td>  12.30</td>\n      <td>  12.05</td>\n      <td>  12.07</td>\n      <td>  19397600</td>\n      <td> 11.68</td>\n    </tr>\n    <tr>\n      <th>GOOG</th>\n      <td>    NaN</td>\n      <td>    NaN</td>\n      <td>    NaN</td>\n      <td>    NaN</td>\n      <td>       NaN</td>\n      <td>   NaN</td>\n    </tr>\n    <tr>\n      <th>MSFT</th>\n      <td>  28.76</td>\n      <td>  28.96</td>\n      <td>  28.44</td>\n      <td>  28.45</td>\n      <td>  56634300</td>\n      <td> 26.30</td>\n    </tr>\n  </tbody>\n</table>\n<p>4 rows \u00d7 6 columns</p>\n</div>",
       "metadata": {},
       "output_type": "pyout",
       "prompt_number": 278,
       "text": "        Open    High     Low   Close     Volume  Adj Close\nAAPL  569.16  572.65  560.52  560.99  130246900      75.59\nDELL   12.15   12.30   12.05   12.07   19397600      11.68\nGOOG     NaN     NaN     NaN     NaN        NaN        NaN\nMSFT   28.76   28.96   28.44   28.45   56634300      26.30\n\n[4 rows x 6 columns]"
      }
     ],
     "prompt_number": 278
    },
    {
     "cell_type": "code",
     "collapsed": false,
     "input": "pdata.ix['Adj Close', '5/22/2012':, :]",
     "language": "python",
     "metadata": {},
     "outputs": [
      {
       "html": "<div style=\"max-height:1000px;max-width:1500px;overflow:auto;\">\n<table border=\"1\" class=\"dataframe\">\n  <thead>\n    <tr style=\"text-align: right;\">\n      <th></th>\n      <th>AAPL</th>\n      <th>DELL</th>\n      <th>GOOG</th>\n      <th>MSFT</th>\n    </tr>\n    <tr>\n      <th>Date</th>\n      <th></th>\n      <th></th>\n      <th></th>\n      <th></th>\n    </tr>\n  </thead>\n  <tbody>\n    <tr>\n      <th>2012-05-22</th>\n      <td> 75.05</td>\n      <td> 14.59</td>\n      <td>NaN</td>\n      <td> 27.51</td>\n    </tr>\n    <tr>\n      <th>2012-05-23</th>\n      <td> 76.88</td>\n      <td> 12.08</td>\n      <td>NaN</td>\n      <td> 26.91</td>\n    </tr>\n    <tr>\n      <th>2012-05-24</th>\n      <td> 76.18</td>\n      <td> 12.04</td>\n      <td>NaN</td>\n      <td> 26.87</td>\n    </tr>\n    <tr>\n      <th>2012-05-25</th>\n      <td> 75.77</td>\n      <td> 12.05</td>\n      <td>NaN</td>\n      <td> 26.86</td>\n    </tr>\n    <tr>\n      <th>2012-05-28</th>\n      <td>   NaN</td>\n      <td> 12.05</td>\n      <td>NaN</td>\n      <td>   NaN</td>\n    </tr>\n    <tr>\n      <th>2012-05-29</th>\n      <td> 77.11</td>\n      <td> 12.25</td>\n      <td>NaN</td>\n      <td> 27.32</td>\n    </tr>\n    <tr>\n      <th>2012-05-30</th>\n      <td> 78.04</td>\n      <td> 12.15</td>\n      <td>NaN</td>\n      <td> 27.12</td>\n    </tr>\n    <tr>\n      <th>2012-05-31</th>\n      <td> 77.85</td>\n      <td> 11.93</td>\n      <td>NaN</td>\n      <td> 26.98</td>\n    </tr>\n    <tr>\n      <th>2012-06-01</th>\n      <td> 75.59</td>\n      <td> 11.68</td>\n      <td>NaN</td>\n      <td> 26.30</td>\n    </tr>\n    <tr>\n      <th>2012-06-04</th>\n      <td> 76.04</td>\n      <td> 11.61</td>\n      <td>NaN</td>\n      <td> 26.39</td>\n    </tr>\n    <tr>\n      <th>2012-06-05</th>\n      <td> 75.84</td>\n      <td> 11.76</td>\n      <td>NaN</td>\n      <td> 26.35</td>\n    </tr>\n    <tr>\n      <th>2012-06-06</th>\n      <td> 77.00</td>\n      <td> 11.82</td>\n      <td>NaN</td>\n      <td> 27.13</td>\n    </tr>\n    <tr>\n      <th>2012-06-07</th>\n      <td> 77.04</td>\n      <td> 11.73</td>\n      <td>NaN</td>\n      <td> 27.02</td>\n    </tr>\n    <tr>\n      <th>2012-06-08</th>\n      <td> 78.20</td>\n      <td> 11.72</td>\n      <td>NaN</td>\n      <td> 27.41</td>\n    </tr>\n    <tr>\n      <th>2012-06-11</th>\n      <td> 76.97</td>\n      <td> 11.47</td>\n      <td>NaN</td>\n      <td> 26.71</td>\n    </tr>\n    <tr>\n      <th>2012-06-12</th>\n      <td> 77.64</td>\n      <td> 11.58</td>\n      <td>NaN</td>\n      <td> 27.07</td>\n    </tr>\n    <tr>\n      <th>2012-06-13</th>\n      <td> 77.10</td>\n      <td> 11.87</td>\n      <td>NaN</td>\n      <td> 26.93</td>\n    </tr>\n    <tr>\n      <th>2012-06-14</th>\n      <td> 77.01</td>\n      <td> 11.94</td>\n      <td>NaN</td>\n      <td> 27.12</td>\n    </tr>\n    <tr>\n      <th>2012-06-15</th>\n      <td> 77.36</td>\n      <td> 11.90</td>\n      <td>NaN</td>\n      <td> 27.75</td>\n    </tr>\n    <tr>\n      <th>2012-06-18</th>\n      <td> 78.93</td>\n      <td> 12.01</td>\n      <td>NaN</td>\n      <td> 27.58</td>\n    </tr>\n    <tr>\n      <th>2012-06-19</th>\n      <td> 79.15</td>\n      <td> 11.78</td>\n      <td>NaN</td>\n      <td> 28.38</td>\n    </tr>\n    <tr>\n      <th>2012-06-20</th>\n      <td> 78.93</td>\n      <td> 11.90</td>\n      <td>NaN</td>\n      <td> 28.59</td>\n    </tr>\n    <tr>\n      <th>2012-06-21</th>\n      <td> 77.84</td>\n      <td> 11.61</td>\n      <td>NaN</td>\n      <td> 27.86</td>\n    </tr>\n    <tr>\n      <th>2012-06-22</th>\n      <td> 78.44</td>\n      <td> 11.80</td>\n      <td>NaN</td>\n      <td> 28.38</td>\n    </tr>\n    <tr>\n      <th>2012-06-25</th>\n      <td> 76.91</td>\n      <td> 11.56</td>\n      <td>NaN</td>\n      <td> 27.61</td>\n    </tr>\n    <tr>\n      <th>2012-06-26</th>\n      <td> 77.08</td>\n      <td> 11.54</td>\n      <td>NaN</td>\n      <td> 27.75</td>\n    </tr>\n    <tr>\n      <th>2012-06-27</th>\n      <td> 77.41</td>\n      <td> 11.93</td>\n      <td>NaN</td>\n      <td> 27.89</td>\n    </tr>\n    <tr>\n      <th>2012-06-28</th>\n      <td> 76.68</td>\n      <td> 11.56</td>\n      <td>NaN</td>\n      <td> 27.65</td>\n    </tr>\n    <tr>\n      <th>2012-06-29</th>\n      <td> 78.69</td>\n      <td> 12.10</td>\n      <td>NaN</td>\n      <td> 28.27</td>\n    </tr>\n    <tr>\n      <th>2012-07-02</th>\n      <td> 79.84</td>\n      <td> 11.98</td>\n      <td>NaN</td>\n      <td> 28.25</td>\n    </tr>\n    <tr>\n      <th>2012-07-03</th>\n      <td> 80.77</td>\n      <td> 12.27</td>\n      <td>NaN</td>\n      <td> 28.43</td>\n    </tr>\n    <tr>\n      <th>2012-07-04</th>\n      <td>   NaN</td>\n      <td> 12.27</td>\n      <td>NaN</td>\n      <td>   NaN</td>\n    </tr>\n    <tr>\n      <th>2012-07-05</th>\n      <td> 82.19</td>\n      <td> 12.22</td>\n      <td>NaN</td>\n      <td> 28.38</td>\n    </tr>\n    <tr>\n      <th>2012-07-06</th>\n      <td> 81.64</td>\n      <td> 12.15</td>\n      <td>NaN</td>\n      <td> 27.91</td>\n    </tr>\n    <tr>\n      <th>2012-07-09</th>\n      <td> 82.72</td>\n      <td> 11.87</td>\n      <td>NaN</td>\n      <td> 27.73</td>\n    </tr>\n    <tr>\n      <th>2012-07-10</th>\n      <td> 81.96</td>\n      <td> 11.90</td>\n      <td>NaN</td>\n      <td> 27.49</td>\n    </tr>\n    <tr>\n      <th>2012-07-11</th>\n      <td> 81.45</td>\n      <td> 11.88</td>\n      <td>NaN</td>\n      <td> 27.08</td>\n    </tr>\n    <tr>\n      <th>2012-07-12</th>\n      <td> 80.70</td>\n      <td> 11.73</td>\n      <td>NaN</td>\n      <td> 26.46</td>\n    </tr>\n    <tr>\n      <th>2012-07-13</th>\n      <td> 81.52</td>\n      <td> 11.92</td>\n      <td>NaN</td>\n      <td> 27.17</td>\n    </tr>\n    <tr>\n      <th>2012-07-16</th>\n      <td> 81.78</td>\n      <td> 11.79</td>\n      <td>NaN</td>\n      <td> 27.21</td>\n    </tr>\n    <tr>\n      <th>2012-07-17</th>\n      <td> 81.79</td>\n      <td> 11.72</td>\n      <td>NaN</td>\n      <td> 27.42</td>\n    </tr>\n    <tr>\n      <th>2012-07-18</th>\n      <td> 81.69</td>\n      <td> 11.68</td>\n      <td>NaN</td>\n      <td> 28.15</td>\n    </tr>\n    <tr>\n      <th>2012-07-19</th>\n      <td> 82.78</td>\n      <td> 11.83</td>\n      <td>NaN</td>\n      <td> 28.35</td>\n    </tr>\n    <tr>\n      <th>2012-07-20</th>\n      <td> 81.43</td>\n      <td> 11.61</td>\n      <td>NaN</td>\n      <td> 27.84</td>\n    </tr>\n    <tr>\n      <th>2012-07-23</th>\n      <td> 81.37</td>\n      <td> 11.41</td>\n      <td>NaN</td>\n      <td> 27.06</td>\n    </tr>\n    <tr>\n      <th>2012-07-24</th>\n      <td> 80.97</td>\n      <td> 11.19</td>\n      <td>NaN</td>\n      <td> 26.94</td>\n    </tr>\n    <tr>\n      <th>2012-07-25</th>\n      <td> 77.48</td>\n      <td> 11.11</td>\n      <td>NaN</td>\n      <td> 26.65</td>\n    </tr>\n    <tr>\n      <th>2012-07-26</th>\n      <td> 77.47</td>\n      <td> 11.44</td>\n      <td>NaN</td>\n      <td> 26.95</td>\n    </tr>\n    <tr>\n      <th>2012-07-27</th>\n      <td> 78.85</td>\n      <td> 11.63</td>\n      <td>NaN</td>\n      <td> 27.51</td>\n    </tr>\n    <tr>\n      <th>2012-07-30</th>\n      <td> 80.18</td>\n      <td> 11.46</td>\n      <td>NaN</td>\n      <td> 27.40</td>\n    </tr>\n    <tr>\n      <th>2012-07-31</th>\n      <td> 82.30</td>\n      <td> 11.49</td>\n      <td>NaN</td>\n      <td> 27.24</td>\n    </tr>\n    <tr>\n      <th>2012-08-01</th>\n      <td> 81.77</td>\n      <td> 11.41</td>\n      <td>NaN</td>\n      <td> 27.18</td>\n    </tr>\n    <tr>\n      <th>2012-08-02</th>\n      <td> 81.90</td>\n      <td> 11.10</td>\n      <td>NaN</td>\n      <td> 26.98</td>\n    </tr>\n    <tr>\n      <th>2012-08-03</th>\n      <td> 82.97</td>\n      <td> 11.32</td>\n      <td>NaN</td>\n      <td> 27.50</td>\n    </tr>\n    <tr>\n      <th>2012-08-06</th>\n      <td> 83.89</td>\n      <td> 11.41</td>\n      <td>NaN</td>\n      <td> 27.68</td>\n    </tr>\n    <tr>\n      <th>2012-08-07</th>\n      <td> 83.67</td>\n      <td> 11.75</td>\n      <td>NaN</td>\n      <td> 27.97</td>\n    </tr>\n    <tr>\n      <th>2012-08-08</th>\n      <td> 83.53</td>\n      <td> 11.90</td>\n      <td>NaN</td>\n      <td> 28.03</td>\n    </tr>\n    <tr>\n      <th>2012-08-09</th>\n      <td> 84.00</td>\n      <td> 11.99</td>\n      <td>NaN</td>\n      <td> 28.19</td>\n    </tr>\n    <tr>\n      <th>2012-08-10</th>\n      <td> 84.13</td>\n      <td> 12.00</td>\n      <td>NaN</td>\n      <td> 28.12</td>\n    </tr>\n    <tr>\n      <th>2012-08-13</th>\n      <td> 85.26</td>\n      <td> 11.93</td>\n      <td>NaN</td>\n      <td> 28.09</td>\n    </tr>\n    <tr>\n      <th></th>\n      <td>...</td>\n      <td>...</td>\n      <td>...</td>\n      <td>...</td>\n    </tr>\n  </tbody>\n</table>\n<p>739 rows \u00d7 4 columns</p>\n</div>",
       "metadata": {},
       "output_type": "pyout",
       "prompt_number": 279,
       "text": "             AAPL   DELL  GOOG   MSFT\nDate                                 \n2012-05-22  75.05  14.59   NaN  27.51\n2012-05-23  76.88  12.08   NaN  26.91\n2012-05-24  76.18  12.04   NaN  26.87\n2012-05-25  75.77  12.05   NaN  26.86\n2012-05-28    NaN  12.05   NaN    NaN\n2012-05-29  77.11  12.25   NaN  27.32\n2012-05-30  78.04  12.15   NaN  27.12\n2012-05-31  77.85  11.93   NaN  26.98\n2012-06-01  75.59  11.68   NaN  26.30\n2012-06-04  76.04  11.61   NaN  26.39\n2012-06-05  75.84  11.76   NaN  26.35\n2012-06-06  77.00  11.82   NaN  27.13\n2012-06-07  77.04  11.73   NaN  27.02\n2012-06-08  78.20  11.72   NaN  27.41\n2012-06-11  76.97  11.47   NaN  26.71\n2012-06-12  77.64  11.58   NaN  27.07\n2012-06-13  77.10  11.87   NaN  26.93\n2012-06-14  77.01  11.94   NaN  27.12\n2012-06-15  77.36  11.90   NaN  27.75\n2012-06-18  78.93  12.01   NaN  27.58\n2012-06-19  79.15  11.78   NaN  28.38\n2012-06-20  78.93  11.90   NaN  28.59\n2012-06-21  77.84  11.61   NaN  27.86\n2012-06-22  78.44  11.80   NaN  28.38\n2012-06-25  76.91  11.56   NaN  27.61\n2012-06-26  77.08  11.54   NaN  27.75\n2012-06-27  77.41  11.93   NaN  27.89\n2012-06-28  76.68  11.56   NaN  27.65\n2012-06-29  78.69  12.10   NaN  28.27\n2012-07-02  79.84  11.98   NaN  28.25\n2012-07-03  80.77  12.27   NaN  28.43\n2012-07-04    NaN  12.27   NaN    NaN\n2012-07-05  82.19  12.22   NaN  28.38\n2012-07-06  81.64  12.15   NaN  27.91\n2012-07-09  82.72  11.87   NaN  27.73\n2012-07-10  81.96  11.90   NaN  27.49\n2012-07-11  81.45  11.88   NaN  27.08\n2012-07-12  80.70  11.73   NaN  26.46\n2012-07-13  81.52  11.92   NaN  27.17\n2012-07-16  81.78  11.79   NaN  27.21\n2012-07-17  81.79  11.72   NaN  27.42\n2012-07-18  81.69  11.68   NaN  28.15\n2012-07-19  82.78  11.83   NaN  28.35\n2012-07-20  81.43  11.61   NaN  27.84\n2012-07-23  81.37  11.41   NaN  27.06\n2012-07-24  80.97  11.19   NaN  26.94\n2012-07-25  77.48  11.11   NaN  26.65\n2012-07-26  77.47  11.44   NaN  26.95\n2012-07-27  78.85  11.63   NaN  27.51\n2012-07-30  80.18  11.46   NaN  27.40\n2012-07-31  82.30  11.49   NaN  27.24\n2012-08-01  81.77  11.41   NaN  27.18\n2012-08-02  81.90  11.10   NaN  26.98\n2012-08-03  82.97  11.32   NaN  27.50\n2012-08-06  83.89  11.41   NaN  27.68\n2012-08-07  83.67  11.75   NaN  27.97\n2012-08-08  83.53  11.90   NaN  28.03\n2012-08-09  84.00  11.99   NaN  28.19\n2012-08-10  84.13  12.00   NaN  28.12\n2012-08-13  85.26  11.93   NaN  28.09\n              ...    ...   ...    ...\n\n[739 rows x 4 columns]"
      }
     ],
     "prompt_number": 279
    },
    {
     "cell_type": "code",
     "collapsed": false,
     "input": "stacked = pdata.ix[:, '5/30/2012':, :].to_frame()\nstacked",
     "language": "python",
     "metadata": {},
     "outputs": [
      {
       "html": "<div style=\"max-height:1000px;max-width:1500px;overflow:auto;\">\n<table border=\"1\" class=\"dataframe\">\n  <thead>\n    <tr style=\"text-align: right;\">\n      <th></th>\n      <th></th>\n      <th>Open</th>\n      <th>High</th>\n      <th>Low</th>\n      <th>Close</th>\n      <th>Volume</th>\n      <th>Adj Close</th>\n    </tr>\n    <tr>\n      <th>Date</th>\n      <th>minor</th>\n      <th></th>\n      <th></th>\n      <th></th>\n      <th></th>\n      <th></th>\n      <th></th>\n    </tr>\n  </thead>\n  <tbody>\n    <tr>\n      <th rowspan=\"3\" valign=\"top\">2012-05-30</th>\n      <th>AAPL</th>\n      <td> 569.20</td>\n      <td> 579.99</td>\n      <td> 566.56</td>\n      <td> 579.17</td>\n      <td> 132357400</td>\n      <td> 78.04</td>\n    </tr>\n    <tr>\n      <th>DELL</th>\n      <td>  12.59</td>\n      <td>  12.70</td>\n      <td>  12.46</td>\n      <td>  12.56</td>\n      <td>  19787800</td>\n      <td> 12.15</td>\n    </tr>\n    <tr>\n      <th>MSFT</th>\n      <td>  29.35</td>\n      <td>  29.48</td>\n      <td>  29.12</td>\n      <td>  29.34</td>\n      <td>  41585500</td>\n      <td> 27.12</td>\n    </tr>\n    <tr>\n      <th rowspan=\"3\" valign=\"top\">2012-05-31</th>\n      <th>AAPL</th>\n      <td> 580.74</td>\n      <td> 581.50</td>\n      <td> 571.46</td>\n      <td> 577.73</td>\n      <td> 122918600</td>\n      <td> 77.85</td>\n    </tr>\n    <tr>\n      <th>DELL</th>\n      <td>  12.53</td>\n      <td>  12.54</td>\n      <td>  12.33</td>\n      <td>  12.33</td>\n      <td>  19955600</td>\n      <td> 11.93</td>\n    </tr>\n    <tr>\n      <th>MSFT</th>\n      <td>  29.30</td>\n      <td>  29.42</td>\n      <td>  28.94</td>\n      <td>  29.19</td>\n      <td>  39134000</td>\n      <td> 26.98</td>\n    </tr>\n    <tr>\n      <th rowspan=\"3\" valign=\"top\">2012-06-01</th>\n      <th>AAPL</th>\n      <td> 569.16</td>\n      <td> 572.65</td>\n      <td> 560.52</td>\n      <td> 560.99</td>\n      <td> 130246900</td>\n      <td> 75.59</td>\n    </tr>\n    <tr>\n      <th>DELL</th>\n      <td>  12.15</td>\n      <td>  12.30</td>\n      <td>  12.05</td>\n      <td>  12.07</td>\n      <td>  19397600</td>\n      <td> 11.68</td>\n    </tr>\n    <tr>\n      <th>MSFT</th>\n      <td>  28.76</td>\n      <td>  28.96</td>\n      <td>  28.44</td>\n      <td>  28.45</td>\n      <td>  56634300</td>\n      <td> 26.30</td>\n    </tr>\n    <tr>\n      <th rowspan=\"3\" valign=\"top\">2012-06-04</th>\n      <th>AAPL</th>\n      <td> 561.50</td>\n      <td> 567.50</td>\n      <td> 548.50</td>\n      <td> 564.29</td>\n      <td> 139248900</td>\n      <td> 76.04</td>\n    </tr>\n    <tr>\n      <th>DELL</th>\n      <td>  12.11</td>\n      <td>  12.11</td>\n      <td>  11.80</td>\n      <td>  12.00</td>\n      <td>  17015700</td>\n      <td> 11.61</td>\n    </tr>\n    <tr>\n      <th>MSFT</th>\n      <td>  28.62</td>\n      <td>  28.78</td>\n      <td>  28.32</td>\n      <td>  28.55</td>\n      <td>  47926300</td>\n      <td> 26.39</td>\n    </tr>\n    <tr>\n      <th rowspan=\"3\" valign=\"top\">2012-06-05</th>\n      <th>AAPL</th>\n      <td> 561.27</td>\n      <td> 566.47</td>\n      <td> 558.33</td>\n      <td> 562.83</td>\n      <td>  97053600</td>\n      <td> 75.84</td>\n    </tr>\n    <tr>\n      <th>DELL</th>\n      <td>  11.95</td>\n      <td>  12.24</td>\n      <td>  11.95</td>\n      <td>  12.16</td>\n      <td>  15620900</td>\n      <td> 11.76</td>\n    </tr>\n    <tr>\n      <th>MSFT</th>\n      <td>  28.51</td>\n      <td>  28.75</td>\n      <td>  28.39</td>\n      <td>  28.51</td>\n      <td>  45715400</td>\n      <td> 26.35</td>\n    </tr>\n    <tr>\n      <th rowspan=\"3\" valign=\"top\">2012-06-06</th>\n      <th>AAPL</th>\n      <td> 567.77</td>\n      <td> 573.85</td>\n      <td> 565.50</td>\n      <td> 571.46</td>\n      <td> 100363900</td>\n      <td> 77.00</td>\n    </tr>\n    <tr>\n      <th>DELL</th>\n      <td>  12.21</td>\n      <td>  12.28</td>\n      <td>  12.09</td>\n      <td>  12.22</td>\n      <td>  20779900</td>\n      <td> 11.82</td>\n    </tr>\n    <tr>\n      <th>MSFT</th>\n      <td>  28.88</td>\n      <td>  29.37</td>\n      <td>  28.81</td>\n      <td>  29.35</td>\n      <td>  46860500</td>\n      <td> 27.13</td>\n    </tr>\n    <tr>\n      <th rowspan=\"3\" valign=\"top\">2012-06-07</th>\n      <th>AAPL</th>\n      <td> 577.29</td>\n      <td> 577.32</td>\n      <td> 570.50</td>\n      <td> 571.72</td>\n      <td>  94941700</td>\n      <td> 77.04</td>\n    </tr>\n    <tr>\n      <th>DELL</th>\n      <td>  12.32</td>\n      <td>  12.41</td>\n      <td>  12.12</td>\n      <td>  12.13</td>\n      <td>  20074000</td>\n      <td> 11.73</td>\n    </tr>\n    <tr>\n      <th>MSFT</th>\n      <td>  29.64</td>\n      <td>  29.70</td>\n      <td>  29.17</td>\n      <td>  29.23</td>\n      <td>  37792800</td>\n      <td> 27.02</td>\n    </tr>\n    <tr>\n      <th rowspan=\"3\" valign=\"top\">2012-06-08</th>\n      <th>AAPL</th>\n      <td> 571.60</td>\n      <td> 580.58</td>\n      <td> 569.00</td>\n      <td> 580.32</td>\n      <td>  86879100</td>\n      <td> 78.20</td>\n    </tr>\n    <tr>\n      <th>DELL</th>\n      <td>  12.13</td>\n      <td>  12.23</td>\n      <td>  12.02</td>\n      <td>  12.12</td>\n      <td>  18155600</td>\n      <td> 11.72</td>\n    </tr>\n    <tr>\n      <th>MSFT</th>\n      <td>  29.21</td>\n      <td>  29.68</td>\n      <td>  29.05</td>\n      <td>  29.65</td>\n      <td>  42551100</td>\n      <td> 27.41</td>\n    </tr>\n    <tr>\n      <th rowspan=\"3\" valign=\"top\">2012-06-11</th>\n      <th>AAPL</th>\n      <td> 587.72</td>\n      <td> 588.50</td>\n      <td> 570.63</td>\n      <td> 571.17</td>\n      <td> 147816200</td>\n      <td> 76.97</td>\n    </tr>\n    <tr>\n      <th>DELL</th>\n      <td>  12.15</td>\n      <td>  12.20</td>\n      <td>  11.82</td>\n      <td>  11.86</td>\n      <td>  16931900</td>\n      <td> 11.47</td>\n    </tr>\n    <tr>\n      <th>MSFT</th>\n      <td>  29.73</td>\n      <td>  29.81</td>\n      <td>  28.82</td>\n      <td>  28.90</td>\n      <td>  46361900</td>\n      <td> 26.71</td>\n    </tr>\n    <tr>\n      <th rowspan=\"3\" valign=\"top\">2012-06-12</th>\n      <th>AAPL</th>\n      <td> 574.46</td>\n      <td> 576.62</td>\n      <td> 566.70</td>\n      <td> 576.16</td>\n      <td> 108845100</td>\n      <td> 77.64</td>\n    </tr>\n    <tr>\n      <th>DELL</th>\n      <td>  11.91</td>\n      <td>  12.01</td>\n      <td>  11.68</td>\n      <td>  11.97</td>\n      <td>  17608100</td>\n      <td> 11.58</td>\n    </tr>\n    <tr>\n      <th>MSFT</th>\n      <td>  29.10</td>\n      <td>  29.30</td>\n      <td>  28.84</td>\n      <td>  29.29</td>\n      <td>  35337900</td>\n      <td> 27.07</td>\n    </tr>\n    <tr>\n      <th rowspan=\"3\" valign=\"top\">2012-06-13</th>\n      <th>AAPL</th>\n      <td> 574.52</td>\n      <td> 578.48</td>\n      <td> 570.38</td>\n      <td> 572.16</td>\n      <td>  73395000</td>\n      <td> 77.10</td>\n    </tr>\n    <tr>\n      <th>DELL</th>\n      <td>  12.36</td>\n      <td>  12.59</td>\n      <td>  12.21</td>\n      <td>  12.27</td>\n      <td>  42142200</td>\n      <td> 11.87</td>\n    </tr>\n    <tr>\n      <th>MSFT</th>\n      <td>  29.22</td>\n      <td>  29.44</td>\n      <td>  29.05</td>\n      <td>  29.13</td>\n      <td>  32984600</td>\n      <td> 26.93</td>\n    </tr>\n    <tr>\n      <th rowspan=\"3\" valign=\"top\">2012-06-14</th>\n      <th>AAPL</th>\n      <td> 571.24</td>\n      <td> 573.50</td>\n      <td> 567.26</td>\n      <td> 571.53</td>\n      <td>  86393300</td>\n      <td> 77.01</td>\n    </tr>\n    <tr>\n      <th>DELL</th>\n      <td>  12.29</td>\n      <td>  12.39</td>\n      <td>  12.20</td>\n      <td>  12.34</td>\n      <td>  19283800</td>\n      <td> 11.94</td>\n    </tr>\n    <tr>\n      <th>MSFT</th>\n      <td>  29.33</td>\n      <td>  29.46</td>\n      <td>  28.88</td>\n      <td>  29.34</td>\n      <td>  39458900</td>\n      <td> 27.12</td>\n    </tr>\n    <tr>\n      <th rowspan=\"3\" valign=\"top\">2012-06-15</th>\n      <th>AAPL</th>\n      <td> 571.00</td>\n      <td> 574.62</td>\n      <td> 569.55</td>\n      <td> 574.13</td>\n      <td>  83813800</td>\n      <td> 77.36</td>\n    </tr>\n    <tr>\n      <th>DELL</th>\n      <td>  12.40</td>\n      <td>  12.41</td>\n      <td>  12.18</td>\n      <td>  12.30</td>\n      <td>  25100000</td>\n      <td> 11.90</td>\n    </tr>\n    <tr>\n      <th>MSFT</th>\n      <td>  29.59</td>\n      <td>  30.08</td>\n      <td>  29.49</td>\n      <td>  30.02</td>\n      <td>  62314400</td>\n      <td> 27.75</td>\n    </tr>\n    <tr>\n      <th rowspan=\"3\" valign=\"top\">2012-06-18</th>\n      <th>AAPL</th>\n      <td> 570.96</td>\n      <td> 587.89</td>\n      <td> 570.37</td>\n      <td> 585.78</td>\n      <td> 110103000</td>\n      <td> 78.93</td>\n    </tr>\n    <tr>\n      <th>DELL</th>\n      <td>  12.28</td>\n      <td>  12.45</td>\n      <td>  12.16</td>\n      <td>  12.42</td>\n      <td>  15743500</td>\n      <td> 12.01</td>\n    </tr>\n    <tr>\n      <th>MSFT</th>\n      <td>  29.99</td>\n      <td>  30.03</td>\n      <td>  29.71</td>\n      <td>  29.84</td>\n      <td>  58679900</td>\n      <td> 27.58</td>\n    </tr>\n    <tr>\n      <th rowspan=\"3\" valign=\"top\">2012-06-19</th>\n      <th>AAPL</th>\n      <td> 583.40</td>\n      <td> 590.00</td>\n      <td> 583.10</td>\n      <td> 587.41</td>\n      <td>  90351100</td>\n      <td> 79.15</td>\n    </tr>\n    <tr>\n      <th>DELL</th>\n      <td>  12.43</td>\n      <td>  12.44</td>\n      <td>  12.04</td>\n      <td>  12.18</td>\n      <td>  34717800</td>\n      <td> 11.78</td>\n    </tr>\n    <tr>\n      <th>MSFT</th>\n      <td>  30.19</td>\n      <td>  31.11</td>\n      <td>  30.05</td>\n      <td>  30.70</td>\n      <td>  75725800</td>\n      <td> 28.38</td>\n    </tr>\n    <tr>\n      <th rowspan=\"3\" valign=\"top\">2012-06-20</th>\n      <th>AAPL</th>\n      <td> 588.21</td>\n      <td> 589.25</td>\n      <td> 580.80</td>\n      <td> 585.74</td>\n      <td>  89735800</td>\n      <td> 78.93</td>\n    </tr>\n    <tr>\n      <th>DELL</th>\n      <td>  12.20</td>\n      <td>  12.31</td>\n      <td>  12.12</td>\n      <td>  12.30</td>\n      <td>  21403000</td>\n      <td> 11.90</td>\n    </tr>\n    <tr>\n      <th>MSFT</th>\n      <td>  30.93</td>\n      <td>  31.05</td>\n      <td>  30.64</td>\n      <td>  30.93</td>\n      <td>  36257100</td>\n      <td> 28.59</td>\n    </tr>\n    <tr>\n      <th rowspan=\"3\" valign=\"top\">2012-06-21</th>\n      <th>AAPL</th>\n      <td> 585.44</td>\n      <td> 588.22</td>\n      <td> 577.44</td>\n      <td> 577.67</td>\n      <td>  81587800</td>\n      <td> 77.84</td>\n    </tr>\n    <tr>\n      <th>DELL</th>\n      <td>  12.27</td>\n      <td>  12.30</td>\n      <td>  11.96</td>\n      <td>  12.00</td>\n      <td>  21904200</td>\n      <td> 11.61</td>\n    </tr>\n    <tr>\n      <th>MSFT</th>\n      <td>  30.96</td>\n      <td>  31.14</td>\n      <td>  30.06</td>\n      <td>  30.14</td>\n      <td>  48456600</td>\n      <td> 27.86</td>\n    </tr>\n    <tr>\n      <th rowspan=\"3\" valign=\"top\">2012-06-22</th>\n      <th>AAPL</th>\n      <td> 579.04</td>\n      <td> 582.19</td>\n      <td> 575.42</td>\n      <td> 582.10</td>\n      <td>  71117900</td>\n      <td> 78.44</td>\n    </tr>\n    <tr>\n      <th>DELL</th>\n      <td>  12.01</td>\n      <td>  12.23</td>\n      <td>  12.01</td>\n      <td>  12.20</td>\n      <td>  37018100</td>\n      <td> 11.80</td>\n    </tr>\n    <tr>\n      <th>MSFT</th>\n      <td>  30.30</td>\n      <td>  30.73</td>\n      <td>  30.03</td>\n      <td>  30.70</td>\n      <td>  45098100</td>\n      <td> 28.38</td>\n    </tr>\n    <tr>\n      <th rowspan=\"3\" valign=\"top\">2012-06-25</th>\n      <th>AAPL</th>\n      <td> 577.30</td>\n      <td> 579.80</td>\n      <td> 570.37</td>\n      <td> 570.77</td>\n      <td>  76095600</td>\n      <td> 76.91</td>\n    </tr>\n    <tr>\n      <th>DELL</th>\n      <td>  12.09</td>\n      <td>  12.10</td>\n      <td>  11.85</td>\n      <td>  11.94</td>\n      <td>  21144300</td>\n      <td> 11.56</td>\n    </tr>\n    <tr>\n      <th>MSFT</th>\n      <td>  30.30</td>\n      <td>  30.32</td>\n      <td>  29.62</td>\n      <td>  29.87</td>\n      <td>  42217200</td>\n      <td> 27.61</td>\n    </tr>\n    <tr>\n      <th rowspan=\"3\" valign=\"top\">2012-06-26</th>\n      <th>AAPL</th>\n      <td> 571.33</td>\n      <td> 574.49</td>\n      <td> 567.33</td>\n      <td> 572.03</td>\n      <td>  69134100</td>\n      <td> 77.08</td>\n    </tr>\n    <tr>\n      <th>DELL</th>\n      <td>  11.97</td>\n      <td>  12.06</td>\n      <td>  11.75</td>\n      <td>  11.93</td>\n      <td>  22628900</td>\n      <td> 11.54</td>\n    </tr>\n    <tr>\n      <th>MSFT</th>\n      <td>  30.00</td>\n      <td>  30.27</td>\n      <td>  29.94</td>\n      <td>  30.02</td>\n      <td>  38421300</td>\n      <td> 27.75</td>\n    </tr>\n    <tr>\n      <td></td>\n      <td></td>\n      <td>...</td>\n      <td>...</td>\n      <td>...</td>\n      <td>...</td>\n      <td>...</td>\n      <td>...</td>\n    </tr>\n  </tbody>\n</table>\n<p>2072 rows \u00d7 6 columns</p>\n</div>",
       "metadata": {},
       "output_type": "pyout",
       "prompt_number": 280,
       "text": "                    Open    High     Low   Close     Volume  Adj Close\nDate       minor                                                      \n2012-05-30 AAPL   569.20  579.99  566.56  579.17  132357400      78.04\n           DELL    12.59   12.70   12.46   12.56   19787800      12.15\n           MSFT    29.35   29.48   29.12   29.34   41585500      27.12\n2012-05-31 AAPL   580.74  581.50  571.46  577.73  122918600      77.85\n           DELL    12.53   12.54   12.33   12.33   19955600      11.93\n           MSFT    29.30   29.42   28.94   29.19   39134000      26.98\n2012-06-01 AAPL   569.16  572.65  560.52  560.99  130246900      75.59\n           DELL    12.15   12.30   12.05   12.07   19397600      11.68\n           MSFT    28.76   28.96   28.44   28.45   56634300      26.30\n2012-06-04 AAPL   561.50  567.50  548.50  564.29  139248900      76.04\n           DELL    12.11   12.11   11.80   12.00   17015700      11.61\n           MSFT    28.62   28.78   28.32   28.55   47926300      26.39\n2012-06-05 AAPL   561.27  566.47  558.33  562.83   97053600      75.84\n           DELL    11.95   12.24   11.95   12.16   15620900      11.76\n           MSFT    28.51   28.75   28.39   28.51   45715400      26.35\n2012-06-06 AAPL   567.77  573.85  565.50  571.46  100363900      77.00\n           DELL    12.21   12.28   12.09   12.22   20779900      11.82\n           MSFT    28.88   29.37   28.81   29.35   46860500      27.13\n2012-06-07 AAPL   577.29  577.32  570.50  571.72   94941700      77.04\n           DELL    12.32   12.41   12.12   12.13   20074000      11.73\n           MSFT    29.64   29.70   29.17   29.23   37792800      27.02\n2012-06-08 AAPL   571.60  580.58  569.00  580.32   86879100      78.20\n           DELL    12.13   12.23   12.02   12.12   18155600      11.72\n           MSFT    29.21   29.68   29.05   29.65   42551100      27.41\n2012-06-11 AAPL   587.72  588.50  570.63  571.17  147816200      76.97\n           DELL    12.15   12.20   11.82   11.86   16931900      11.47\n           MSFT    29.73   29.81   28.82   28.90   46361900      26.71\n2012-06-12 AAPL   574.46  576.62  566.70  576.16  108845100      77.64\n           DELL    11.91   12.01   11.68   11.97   17608100      11.58\n           MSFT    29.10   29.30   28.84   29.29   35337900      27.07\n2012-06-13 AAPL   574.52  578.48  570.38  572.16   73395000      77.10\n           DELL    12.36   12.59   12.21   12.27   42142200      11.87\n           MSFT    29.22   29.44   29.05   29.13   32984600      26.93\n2012-06-14 AAPL   571.24  573.50  567.26  571.53   86393300      77.01\n           DELL    12.29   12.39   12.20   12.34   19283800      11.94\n           MSFT    29.33   29.46   28.88   29.34   39458900      27.12\n2012-06-15 AAPL   571.00  574.62  569.55  574.13   83813800      77.36\n           DELL    12.40   12.41   12.18   12.30   25100000      11.90\n           MSFT    29.59   30.08   29.49   30.02   62314400      27.75\n2012-06-18 AAPL   570.96  587.89  570.37  585.78  110103000      78.93\n           DELL    12.28   12.45   12.16   12.42   15743500      12.01\n           MSFT    29.99   30.03   29.71   29.84   58679900      27.58\n2012-06-19 AAPL   583.40  590.00  583.10  587.41   90351100      79.15\n           DELL    12.43   12.44   12.04   12.18   34717800      11.78\n           MSFT    30.19   31.11   30.05   30.70   75725800      28.38\n2012-06-20 AAPL   588.21  589.25  580.80  585.74   89735800      78.93\n           DELL    12.20   12.31   12.12   12.30   21403000      11.90\n           MSFT    30.93   31.05   30.64   30.93   36257100      28.59\n2012-06-21 AAPL   585.44  588.22  577.44  577.67   81587800      77.84\n           DELL    12.27   12.30   11.96   12.00   21904200      11.61\n           MSFT    30.96   31.14   30.06   30.14   48456600      27.86\n2012-06-22 AAPL   579.04  582.19  575.42  582.10   71117900      78.44\n           DELL    12.01   12.23   12.01   12.20   37018100      11.80\n           MSFT    30.30   30.73   30.03   30.70   45098100      28.38\n2012-06-25 AAPL   577.30  579.80  570.37  570.77   76095600      76.91\n           DELL    12.09   12.10   11.85   11.94   21144300      11.56\n           MSFT    30.30   30.32   29.62   29.87   42217200      27.61\n2012-06-26 AAPL   571.33  574.49  567.33  572.03   69134100      77.08\n           DELL    11.97   12.06   11.75   11.93   22628900      11.54\n           MSFT    30.00   30.27   29.94   30.02   38421300      27.75\n                     ...     ...     ...     ...        ...        ...\n\n[2072 rows x 6 columns]"
      }
     ],
     "prompt_number": 280
    },
    {
     "cell_type": "code",
     "collapsed": false,
     "input": "stacked.to_panel()",
     "language": "python",
     "metadata": {},
     "outputs": [
      {
       "metadata": {},
       "output_type": "pyout",
       "prompt_number": 281,
       "text": "<class 'pandas.core.panel.Panel'>\nDimensions: 6 (items) x 733 (major_axis) x 4 (minor_axis)\nItems axis: Open to Adj Close\nMajor_axis axis: 2012-05-30 00:00:00 to 2015-04-10 00:00:00\nMinor_axis axis: AAPL to MSFT"
      }
     ],
     "prompt_number": 281
    },
    {
     "cell_type": "code",
     "collapsed": false,
     "input": "",
     "language": "python",
     "metadata": {},
     "outputs": []
    }
   ],
   "metadata": {}
  }
 ]
}