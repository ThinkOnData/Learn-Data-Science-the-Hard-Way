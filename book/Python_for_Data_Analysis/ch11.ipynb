{
 "metadata": {
  "name": "",
  "signature": "sha256:baa096e1f9a09c64456f9f484bbb75cf928c2fd3ab6887fbdbb6114b8cf1e796"
 },
 "nbformat": 3,
 "nbformat_minor": 0,
 "worksheets": [
  {
   "cells": [
    {
     "cell_type": "markdown",
     "metadata": {},
     "source": [
      "# CHAPTER 11"
     ]
    },
    {
     "cell_type": "markdown",
     "metadata": {},
     "source": [
      "# Financial and Economic Data Application"
     ]
    },
    {
     "cell_type": "markdown",
     "metadata": {},
     "source": [
      "## Data Munging Topics"
     ]
    },
    {
     "cell_type": "markdown",
     "metadata": {},
     "source": [
      "###Time Series and Cross-Section Alignment"
     ]
    },
    {
     "cell_type": "code",
     "collapsed": false,
     "input": [
      "import numpy as np\n",
      "import pandas as pd\n",
      "from pandas import DataFrame, Series"
     ],
     "language": "python",
     "metadata": {},
     "outputs": [],
     "prompt_number": 1
    },
    {
     "cell_type": "code",
     "collapsed": false,
     "input": [
      "close_px = pd.read_csv('ch11/stock_px.csv', parse_dates=True, index_col=0)\n",
      "volume = pd.read_csv('ch11/volume.csv', parse_dates=True, index_col=0)\n",
      "prices = close_px.ix['2011-09-05':'2011-09-14', ['AAPL', 'JNJ', 'SPX', 'XOM']]\n",
      "volume = volume.ix['2011-09-05':'2011-09-12', ['AAPL', 'JNJ', 'XOM']]"
     ],
     "language": "python",
     "metadata": {},
     "outputs": [],
     "prompt_number": 2
    },
    {
     "cell_type": "code",
     "collapsed": false,
     "input": [
      "prices.head()"
     ],
     "language": "python",
     "metadata": {},
     "outputs": [
      {
       "html": [
        "<div style=\"max-height:1000px;max-width:1500px;overflow:auto;\">\n",
        "<table border=\"1\" class=\"dataframe\">\n",
        "  <thead>\n",
        "    <tr style=\"text-align: right;\">\n",
        "      <th></th>\n",
        "      <th>AAPL</th>\n",
        "      <th>JNJ</th>\n",
        "      <th>SPX</th>\n",
        "      <th>XOM</th>\n",
        "    </tr>\n",
        "  </thead>\n",
        "  <tbody>\n",
        "    <tr>\n",
        "      <th>2011-09-06</th>\n",
        "      <td> 379.74</td>\n",
        "      <td> 64.64</td>\n",
        "      <td> 1165.24</td>\n",
        "      <td> 71.15</td>\n",
        "    </tr>\n",
        "    <tr>\n",
        "      <th>2011-09-07</th>\n",
        "      <td> 383.93</td>\n",
        "      <td> 65.43</td>\n",
        "      <td> 1198.62</td>\n",
        "      <td> 73.65</td>\n",
        "    </tr>\n",
        "    <tr>\n",
        "      <th>2011-09-08</th>\n",
        "      <td> 384.14</td>\n",
        "      <td> 64.95</td>\n",
        "      <td> 1185.90</td>\n",
        "      <td> 72.82</td>\n",
        "    </tr>\n",
        "    <tr>\n",
        "      <th>2011-09-09</th>\n",
        "      <td> 377.48</td>\n",
        "      <td> 63.64</td>\n",
        "      <td> 1154.23</td>\n",
        "      <td> 71.01</td>\n",
        "    </tr>\n",
        "    <tr>\n",
        "      <th>2011-09-12</th>\n",
        "      <td> 379.94</td>\n",
        "      <td> 63.59</td>\n",
        "      <td> 1162.27</td>\n",
        "      <td> 71.84</td>\n",
        "    </tr>\n",
        "  </tbody>\n",
        "</table>\n",
        "</div>"
       ],
       "metadata": {},
       "output_type": "pyout",
       "prompt_number": 3,
       "text": [
        "              AAPL    JNJ      SPX    XOM\n",
        "2011-09-06  379.74  64.64  1165.24  71.15\n",
        "2011-09-07  383.93  65.43  1198.62  73.65\n",
        "2011-09-08  384.14  64.95  1185.90  72.82\n",
        "2011-09-09  377.48  63.64  1154.23  71.01\n",
        "2011-09-12  379.94  63.59  1162.27  71.84"
       ]
      }
     ],
     "prompt_number": 3
    },
    {
     "cell_type": "code",
     "collapsed": false,
     "input": [
      "volume.head()"
     ],
     "language": "python",
     "metadata": {},
     "outputs": [
      {
       "html": [
        "<div style=\"max-height:1000px;max-width:1500px;overflow:auto;\">\n",
        "<table border=\"1\" class=\"dataframe\">\n",
        "  <thead>\n",
        "    <tr style=\"text-align: right;\">\n",
        "      <th></th>\n",
        "      <th>AAPL</th>\n",
        "      <th>JNJ</th>\n",
        "      <th>XOM</th>\n",
        "    </tr>\n",
        "  </thead>\n",
        "  <tbody>\n",
        "    <tr>\n",
        "      <th>2011-09-06</th>\n",
        "      <td> 18173500</td>\n",
        "      <td> 15848300</td>\n",
        "      <td> 25416300</td>\n",
        "    </tr>\n",
        "    <tr>\n",
        "      <th>2011-09-07</th>\n",
        "      <td> 12492000</td>\n",
        "      <td> 10759700</td>\n",
        "      <td> 23108400</td>\n",
        "    </tr>\n",
        "    <tr>\n",
        "      <th>2011-09-08</th>\n",
        "      <td> 14839800</td>\n",
        "      <td> 15551500</td>\n",
        "      <td> 22434800</td>\n",
        "    </tr>\n",
        "    <tr>\n",
        "      <th>2011-09-09</th>\n",
        "      <td> 20171900</td>\n",
        "      <td> 17008200</td>\n",
        "      <td> 27969100</td>\n",
        "    </tr>\n",
        "    <tr>\n",
        "      <th>2011-09-12</th>\n",
        "      <td> 16697300</td>\n",
        "      <td> 13448200</td>\n",
        "      <td> 26205800</td>\n",
        "    </tr>\n",
        "  </tbody>\n",
        "</table>\n",
        "</div>"
       ],
       "metadata": {},
       "output_type": "pyout",
       "prompt_number": 4,
       "text": [
        "                AAPL       JNJ       XOM\n",
        "2011-09-06  18173500  15848300  25416300\n",
        "2011-09-07  12492000  10759700  23108400\n",
        "2011-09-08  14839800  15551500  22434800\n",
        "2011-09-09  20171900  17008200  27969100\n",
        "2011-09-12  16697300  13448200  26205800"
       ]
      }
     ],
     "prompt_number": 4
    },
    {
     "cell_type": "code",
     "collapsed": false,
     "input": [
      "prices * volume"
     ],
     "language": "python",
     "metadata": {},
     "outputs": [
      {
       "html": [
        "<div style=\"max-height:1000px;max-width:1500px;overflow:auto;\">\n",
        "<table border=\"1\" class=\"dataframe\">\n",
        "  <thead>\n",
        "    <tr style=\"text-align: right;\">\n",
        "      <th></th>\n",
        "      <th>AAPL</th>\n",
        "      <th>JNJ</th>\n",
        "      <th>SPX</th>\n",
        "      <th>XOM</th>\n",
        "    </tr>\n",
        "  </thead>\n",
        "  <tbody>\n",
        "    <tr>\n",
        "      <th>2011-09-06</th>\n",
        "      <td> 6901204890</td>\n",
        "      <td> 1024434112</td>\n",
        "      <td>NaN</td>\n",
        "      <td> 1808369745</td>\n",
        "    </tr>\n",
        "    <tr>\n",
        "      <th>2011-09-07</th>\n",
        "      <td> 4796053560</td>\n",
        "      <td>  704007171</td>\n",
        "      <td>NaN</td>\n",
        "      <td> 1701933660</td>\n",
        "    </tr>\n",
        "    <tr>\n",
        "      <th>2011-09-08</th>\n",
        "      <td> 5700560772</td>\n",
        "      <td> 1010069925</td>\n",
        "      <td>NaN</td>\n",
        "      <td> 1633702136</td>\n",
        "    </tr>\n",
        "    <tr>\n",
        "      <th>2011-09-09</th>\n",
        "      <td> 7614488812</td>\n",
        "      <td> 1082401848</td>\n",
        "      <td>NaN</td>\n",
        "      <td> 1986085791</td>\n",
        "    </tr>\n",
        "    <tr>\n",
        "      <th>2011-09-12</th>\n",
        "      <td> 6343972162</td>\n",
        "      <td>  855171038</td>\n",
        "      <td>NaN</td>\n",
        "      <td> 1882624672</td>\n",
        "    </tr>\n",
        "    <tr>\n",
        "      <th>2011-09-13</th>\n",
        "      <td>        NaN</td>\n",
        "      <td>        NaN</td>\n",
        "      <td>NaN</td>\n",
        "      <td>        NaN</td>\n",
        "    </tr>\n",
        "    <tr>\n",
        "      <th>2011-09-14</th>\n",
        "      <td>        NaN</td>\n",
        "      <td>        NaN</td>\n",
        "      <td>NaN</td>\n",
        "      <td>        NaN</td>\n",
        "    </tr>\n",
        "  </tbody>\n",
        "</table>\n",
        "</div>"
       ],
       "metadata": {},
       "output_type": "pyout",
       "prompt_number": 5,
       "text": [
        "                  AAPL         JNJ  SPX         XOM\n",
        "2011-09-06  6901204890  1024434112  NaN  1808369745\n",
        "2011-09-07  4796053560   704007171  NaN  1701933660\n",
        "2011-09-08  5700560772  1010069925  NaN  1633702136\n",
        "2011-09-09  7614488812  1082401848  NaN  1986085791\n",
        "2011-09-12  6343972162   855171038  NaN  1882624672\n",
        "2011-09-13         NaN         NaN  NaN         NaN\n",
        "2011-09-14         NaN         NaN  NaN         NaN"
       ]
      }
     ],
     "prompt_number": 5
    },
    {
     "cell_type": "code",
     "collapsed": false,
     "input": [
      "vwap = (prices * volume).sum() / volume.sum()"
     ],
     "language": "python",
     "metadata": {},
     "outputs": [],
     "prompt_number": 6
    },
    {
     "cell_type": "code",
     "collapsed": false,
     "input": [
      "vwap"
     ],
     "language": "python",
     "metadata": {},
     "outputs": [
      {
       "metadata": {},
       "output_type": "pyout",
       "prompt_number": 7,
       "text": [
        "AAPL    380.655181\n",
        "JNJ      64.394769\n",
        "SPX            NaN\n",
        "XOM      72.024288\n",
        "dtype: float64"
       ]
      }
     ],
     "prompt_number": 7
    },
    {
     "cell_type": "code",
     "collapsed": false,
     "input": [
      "vwap.dropna()"
     ],
     "language": "python",
     "metadata": {},
     "outputs": [
      {
       "metadata": {},
       "output_type": "pyout",
       "prompt_number": 8,
       "text": [
        "AAPL    380.655181\n",
        "JNJ      64.394769\n",
        "XOM      72.024288\n",
        "dtype: float64"
       ]
      }
     ],
     "prompt_number": 8
    },
    {
     "cell_type": "code",
     "collapsed": false,
     "input": [
      "prices.align(volume, join='inner')"
     ],
     "language": "python",
     "metadata": {},
     "outputs": [
      {
       "metadata": {},
       "output_type": "pyout",
       "prompt_number": 9,
       "text": [
        "(              AAPL    JNJ    XOM\n",
        " 2011-09-06  379.74  64.64  71.15\n",
        " 2011-09-07  383.93  65.43  73.65\n",
        " 2011-09-08  384.14  64.95  72.82\n",
        " 2011-09-09  377.48  63.64  71.01\n",
        " 2011-09-12  379.94  63.59  71.84,                 AAPL       JNJ       XOM\n",
        " 2011-09-06  18173500  15848300  25416300\n",
        " 2011-09-07  12492000  10759700  23108400\n",
        " 2011-09-08  14839800  15551500  22434800\n",
        " 2011-09-09  20171900  17008200  27969100\n",
        " 2011-09-12  16697300  13448200  26205800)"
       ]
      }
     ],
     "prompt_number": 9
    },
    {
     "cell_type": "code",
     "collapsed": false,
     "input": [
      "s1 = Series(range(3), index = ['a', 'b', 'c'])\n",
      "s2 = Series(range(4), index = ['d', 'b', 'c', 'e'])\n",
      "s3 = Series(range(3), index = ['f', 'a', 'c'])"
     ],
     "language": "python",
     "metadata": {},
     "outputs": [],
     "prompt_number": 10
    },
    {
     "cell_type": "code",
     "collapsed": false,
     "input": [
      "DataFrame({'one': s1, 'two': s2, 'three': s3})"
     ],
     "language": "python",
     "metadata": {},
     "outputs": [
      {
       "html": [
        "<div style=\"max-height:1000px;max-width:1500px;overflow:auto;\">\n",
        "<table border=\"1\" class=\"dataframe\">\n",
        "  <thead>\n",
        "    <tr style=\"text-align: right;\">\n",
        "      <th></th>\n",
        "      <th>one</th>\n",
        "      <th>three</th>\n",
        "      <th>two</th>\n",
        "    </tr>\n",
        "  </thead>\n",
        "  <tbody>\n",
        "    <tr>\n",
        "      <th>a</th>\n",
        "      <td>  0</td>\n",
        "      <td>  1</td>\n",
        "      <td>NaN</td>\n",
        "    </tr>\n",
        "    <tr>\n",
        "      <th>b</th>\n",
        "      <td>  1</td>\n",
        "      <td>NaN</td>\n",
        "      <td>  1</td>\n",
        "    </tr>\n",
        "    <tr>\n",
        "      <th>c</th>\n",
        "      <td>  2</td>\n",
        "      <td>  2</td>\n",
        "      <td>  2</td>\n",
        "    </tr>\n",
        "    <tr>\n",
        "      <th>d</th>\n",
        "      <td>NaN</td>\n",
        "      <td>NaN</td>\n",
        "      <td>  0</td>\n",
        "    </tr>\n",
        "    <tr>\n",
        "      <th>e</th>\n",
        "      <td>NaN</td>\n",
        "      <td>NaN</td>\n",
        "      <td>  3</td>\n",
        "    </tr>\n",
        "    <tr>\n",
        "      <th>f</th>\n",
        "      <td>NaN</td>\n",
        "      <td>  0</td>\n",
        "      <td>NaN</td>\n",
        "    </tr>\n",
        "  </tbody>\n",
        "</table>\n",
        "</div>"
       ],
       "metadata": {},
       "output_type": "pyout",
       "prompt_number": 11,
       "text": [
        "   one  three  two\n",
        "a    0      1  NaN\n",
        "b    1    NaN    1\n",
        "c    2      2    2\n",
        "d  NaN    NaN    0\n",
        "e  NaN    NaN    3\n",
        "f  NaN      0  NaN"
       ]
      }
     ],
     "prompt_number": 11
    },
    {
     "cell_type": "code",
     "collapsed": false,
     "input": [
      "DataFrame({'one': s1, 'two': s2, 'three': s3}, index = list('face'))"
     ],
     "language": "python",
     "metadata": {},
     "outputs": [
      {
       "html": [
        "<div style=\"max-height:1000px;max-width:1500px;overflow:auto;\">\n",
        "<table border=\"1\" class=\"dataframe\">\n",
        "  <thead>\n",
        "    <tr style=\"text-align: right;\">\n",
        "      <th></th>\n",
        "      <th>one</th>\n",
        "      <th>three</th>\n",
        "      <th>two</th>\n",
        "    </tr>\n",
        "  </thead>\n",
        "  <tbody>\n",
        "    <tr>\n",
        "      <th>f</th>\n",
        "      <td>NaN</td>\n",
        "      <td>  0</td>\n",
        "      <td>NaN</td>\n",
        "    </tr>\n",
        "    <tr>\n",
        "      <th>a</th>\n",
        "      <td>  0</td>\n",
        "      <td>  1</td>\n",
        "      <td>NaN</td>\n",
        "    </tr>\n",
        "    <tr>\n",
        "      <th>c</th>\n",
        "      <td>  2</td>\n",
        "      <td>  2</td>\n",
        "      <td>  2</td>\n",
        "    </tr>\n",
        "    <tr>\n",
        "      <th>e</th>\n",
        "      <td>NaN</td>\n",
        "      <td>NaN</td>\n",
        "      <td>  3</td>\n",
        "    </tr>\n",
        "  </tbody>\n",
        "</table>\n",
        "</div>"
       ],
       "metadata": {},
       "output_type": "pyout",
       "prompt_number": 13,
       "text": [
        "   one  three  two\n",
        "f  NaN      0  NaN\n",
        "a    0      1  NaN\n",
        "c    2      2    2\n",
        "e  NaN    NaN    3"
       ]
      }
     ],
     "prompt_number": 13
    },
    {
     "cell_type": "markdown",
     "metadata": {},
     "source": [
      "###Operations with Time Series of Different Frequencies"
     ]
    },
    {
     "cell_type": "code",
     "collapsed": false,
     "input": [
      "ts1 = Series(np.random.randn(3),\n",
      "             index = pd.date_range('2012-6-13', periods=3, freq='W-WED'))"
     ],
     "language": "python",
     "metadata": {},
     "outputs": [],
     "prompt_number": 14
    },
    {
     "cell_type": "code",
     "collapsed": false,
     "input": [
      "ts1"
     ],
     "language": "python",
     "metadata": {},
     "outputs": [
      {
       "metadata": {},
       "output_type": "pyout",
       "prompt_number": 15,
       "text": [
        "2012-06-13   -1.041964\n",
        "2012-06-20   -0.763274\n",
        "2012-06-27   -0.825116\n",
        "Freq: W-WED, dtype: float64"
       ]
      }
     ],
     "prompt_number": 15
    },
    {
     "cell_type": "code",
     "collapsed": false,
     "input": [
      "ts1.resample('B')"
     ],
     "language": "python",
     "metadata": {},
     "outputs": [
      {
       "metadata": {},
       "output_type": "pyout",
       "prompt_number": 16,
       "text": [
        "2012-06-13   -1.041964\n",
        "2012-06-14         NaN\n",
        "2012-06-15         NaN\n",
        "2012-06-18         NaN\n",
        "2012-06-19         NaN\n",
        "2012-06-20   -0.763274\n",
        "2012-06-21         NaN\n",
        "2012-06-22         NaN\n",
        "2012-06-25         NaN\n",
        "2012-06-26         NaN\n",
        "2012-06-27   -0.825116\n",
        "Freq: B, dtype: float64"
       ]
      }
     ],
     "prompt_number": 16
    },
    {
     "cell_type": "code",
     "collapsed": false,
     "input": [
      "ts1.resample('B', fill_method='ffill')"
     ],
     "language": "python",
     "metadata": {},
     "outputs": [
      {
       "metadata": {},
       "output_type": "pyout",
       "prompt_number": 17,
       "text": [
        "2012-06-13   -1.041964\n",
        "2012-06-14   -1.041964\n",
        "2012-06-15   -1.041964\n",
        "2012-06-18   -1.041964\n",
        "2012-06-19   -1.041964\n",
        "2012-06-20   -0.763274\n",
        "2012-06-21   -0.763274\n",
        "2012-06-22   -0.763274\n",
        "2012-06-25   -0.763274\n",
        "2012-06-26   -0.763274\n",
        "2012-06-27   -0.825116\n",
        "Freq: B, dtype: float64"
       ]
      }
     ],
     "prompt_number": 17
    },
    {
     "cell_type": "code",
     "collapsed": false,
     "input": [
      "dates = pd.DatetimeIndex(['2012-6-12', '2012-6-17', '2012-6-18', \n",
      "                         '2012-6-21', '2012-6-22', '2012-6-29'])"
     ],
     "language": "python",
     "metadata": {},
     "outputs": [],
     "prompt_number": 19
    },
    {
     "cell_type": "code",
     "collapsed": false,
     "input": [
      "ts2 = Series(np.random.randn(6), index=dates)"
     ],
     "language": "python",
     "metadata": {},
     "outputs": [],
     "prompt_number": 20
    },
    {
     "cell_type": "code",
     "collapsed": false,
     "input": [
      "ts2"
     ],
     "language": "python",
     "metadata": {},
     "outputs": [
      {
       "metadata": {},
       "output_type": "pyout",
       "prompt_number": 21,
       "text": [
        "2012-06-12   -1.701922\n",
        "2012-06-17    0.147372\n",
        "2012-06-18    1.395666\n",
        "2012-06-21    0.134715\n",
        "2012-06-22   -0.887945\n",
        "2012-06-29   -1.264524\n",
        "dtype: float64"
       ]
      }
     ],
     "prompt_number": 21
    },
    {
     "cell_type": "code",
     "collapsed": false,
     "input": [
      "ts1"
     ],
     "language": "python",
     "metadata": {},
     "outputs": [
      {
       "metadata": {},
       "output_type": "pyout",
       "prompt_number": 22,
       "text": [
        "2012-06-13   -1.041964\n",
        "2012-06-20   -0.763274\n",
        "2012-06-27   -0.825116\n",
        "Freq: W-WED, dtype: float64"
       ]
      }
     ],
     "prompt_number": 22
    },
    {
     "cell_type": "code",
     "collapsed": false,
     "input": [
      "ts1.reindex(ts2.index, method='ffill')"
     ],
     "language": "python",
     "metadata": {},
     "outputs": [
      {
       "metadata": {},
       "output_type": "pyout",
       "prompt_number": 23,
       "text": [
        "2012-06-12         NaN\n",
        "2012-06-17   -1.041964\n",
        "2012-06-18   -1.041964\n",
        "2012-06-21   -0.763274\n",
        "2012-06-22   -0.763274\n",
        "2012-06-29   -0.825116\n",
        "dtype: float64"
       ]
      }
     ],
     "prompt_number": 23
    },
    {
     "cell_type": "code",
     "collapsed": false,
     "input": [
      "ts2 + ts1.reindex(ts2.index, method='ffill')"
     ],
     "language": "python",
     "metadata": {},
     "outputs": [
      {
       "metadata": {},
       "output_type": "pyout",
       "prompt_number": 24,
       "text": [
        "2012-06-12         NaN\n",
        "2012-06-17   -0.894592\n",
        "2012-06-18    0.353702\n",
        "2012-06-21   -0.628559\n",
        "2012-06-22   -1.651219\n",
        "2012-06-29   -2.089640\n",
        "dtype: float64"
       ]
      }
     ],
     "prompt_number": 24
    },
    {
     "cell_type": "markdown",
     "metadata": {},
     "source": [
      "#### Using periods instead of timestamp"
     ]
    },
    {
     "cell_type": "code",
     "collapsed": false,
     "input": [
      "gdp = Series([1.78, 1.94, 2.08, 2.01, 2.15, 2.31, 2.46],\n",
      "             index = pd.period_range('1984Q2', periods=7, freq='Q-SEP'))"
     ],
     "language": "python",
     "metadata": {},
     "outputs": [],
     "prompt_number": 25
    },
    {
     "cell_type": "code",
     "collapsed": false,
     "input": [
      "gdp"
     ],
     "language": "python",
     "metadata": {},
     "outputs": [
      {
       "metadata": {},
       "output_type": "pyout",
       "prompt_number": 26,
       "text": [
        "1984Q2    1.78\n",
        "1984Q3    1.94\n",
        "1984Q4    2.08\n",
        "1985Q1    2.01\n",
        "1985Q2    2.15\n",
        "1985Q3    2.31\n",
        "1985Q4    2.46\n",
        "Freq: Q-SEP, dtype: float64"
       ]
      }
     ],
     "prompt_number": 26
    },
    {
     "cell_type": "code",
     "collapsed": false,
     "input": [
      "infl = Series([0.025, 0.045, 0.037, 0.04],\n",
      "              index = pd.period_range('1982', periods=4, freq='A-DEC'))"
     ],
     "language": "python",
     "metadata": {},
     "outputs": [],
     "prompt_number": 30
    },
    {
     "cell_type": "code",
     "collapsed": false,
     "input": [
      "infl"
     ],
     "language": "python",
     "metadata": {},
     "outputs": [
      {
       "metadata": {},
       "output_type": "pyout",
       "prompt_number": 31,
       "text": [
        "1982    0.025\n",
        "1983    0.045\n",
        "1984    0.037\n",
        "1985    0.040\n",
        "Freq: A-DEC, dtype: float64"
       ]
      }
     ],
     "prompt_number": 31
    },
    {
     "cell_type": "code",
     "collapsed": false,
     "input": [
      "infl_q = infl.asfreq('Q-SEP', how = 'end')"
     ],
     "language": "python",
     "metadata": {},
     "outputs": [],
     "prompt_number": 32
    },
    {
     "cell_type": "code",
     "collapsed": false,
     "input": [
      "infl_q"
     ],
     "language": "python",
     "metadata": {},
     "outputs": [
      {
       "metadata": {},
       "output_type": "pyout",
       "prompt_number": 33,
       "text": [
        "1983Q1    0.025\n",
        "1984Q1    0.045\n",
        "1985Q1    0.037\n",
        "1986Q1    0.040\n",
        "Freq: Q-SEP, dtype: float64"
       ]
      }
     ],
     "prompt_number": 33
    },
    {
     "cell_type": "code",
     "collapsed": false,
     "input": [
      "infl_q.reindex(gdp.index, method='ffill')"
     ],
     "language": "python",
     "metadata": {},
     "outputs": [
      {
       "metadata": {},
       "output_type": "pyout",
       "prompt_number": 34,
       "text": [
        "1984Q2    0.045\n",
        "1984Q3    0.045\n",
        "1984Q4    0.045\n",
        "1985Q1    0.037\n",
        "1985Q2    0.037\n",
        "1985Q3    0.037\n",
        "1985Q4    0.037\n",
        "Freq: Q-SEP, dtype: float64"
       ]
      }
     ],
     "prompt_number": 34
    },
    {
     "cell_type": "markdown",
     "metadata": {},
     "source": [
      "###Time of Day and \"as of\" Data Selection"
     ]
    },
    {
     "cell_type": "code",
     "collapsed": false,
     "input": [
      "rng = pd.date_range('2012-06-01 09:30', '2012-06-01 15:59', freq='T')"
     ],
     "language": "python",
     "metadata": {},
     "outputs": [],
     "prompt_number": 35
    },
    {
     "cell_type": "code",
     "collapsed": false,
     "input": [
      "rng = rng.append([rng + pd.offsets.BDay(i) for i in range(1, 4)])"
     ],
     "language": "python",
     "metadata": {},
     "outputs": [],
     "prompt_number": 36
    },
    {
     "cell_type": "code",
     "collapsed": false,
     "input": [
      "rng"
     ],
     "language": "python",
     "metadata": {},
     "outputs": [
      {
       "metadata": {},
       "output_type": "pyout",
       "prompt_number": 37,
       "text": [
        "<class 'pandas.tseries.index.DatetimeIndex'>\n",
        "[2012-06-01 09:30:00, ..., 2012-06-06 15:59:00]\n",
        "Length: 1560, Freq: None, Timezone: None"
       ]
      }
     ],
     "prompt_number": 37
    },
    {
     "cell_type": "code",
     "collapsed": false,
     "input": [
      "ts = Series(np.arange(len(rng), dtype = float), index = rng)"
     ],
     "language": "python",
     "metadata": {},
     "outputs": [],
     "prompt_number": 38
    },
    {
     "cell_type": "code",
     "collapsed": false,
     "input": [
      "ts"
     ],
     "language": "python",
     "metadata": {},
     "outputs": [
      {
       "metadata": {},
       "output_type": "pyout",
       "prompt_number": 39,
       "text": [
        "2012-06-01 09:30:00     0\n",
        "2012-06-01 09:31:00     1\n",
        "2012-06-01 09:32:00     2\n",
        "2012-06-01 09:33:00     3\n",
        "2012-06-01 09:34:00     4\n",
        "2012-06-01 09:35:00     5\n",
        "2012-06-01 09:36:00     6\n",
        "2012-06-01 09:37:00     7\n",
        "2012-06-01 09:38:00     8\n",
        "2012-06-01 09:39:00     9\n",
        "2012-06-01 09:40:00    10\n",
        "2012-06-01 09:41:00    11\n",
        "2012-06-01 09:42:00    12\n",
        "2012-06-01 09:43:00    13\n",
        "2012-06-01 09:44:00    14\n",
        "...\n",
        "2012-06-06 15:45:00    1545\n",
        "2012-06-06 15:46:00    1546\n",
        "2012-06-06 15:47:00    1547\n",
        "2012-06-06 15:48:00    1548\n",
        "2012-06-06 15:49:00    1549\n",
        "2012-06-06 15:50:00    1550\n",
        "2012-06-06 15:51:00    1551\n",
        "2012-06-06 15:52:00    1552\n",
        "2012-06-06 15:53:00    1553\n",
        "2012-06-06 15:54:00    1554\n",
        "2012-06-06 15:55:00    1555\n",
        "2012-06-06 15:56:00    1556\n",
        "2012-06-06 15:57:00    1557\n",
        "2012-06-06 15:58:00    1558\n",
        "2012-06-06 15:59:00    1559\n",
        "Length: 1560"
       ]
      }
     ],
     "prompt_number": 39
    },
    {
     "cell_type": "code",
     "collapsed": false,
     "input": [
      "from datetime import time"
     ],
     "language": "python",
     "metadata": {},
     "outputs": [],
     "prompt_number": 40
    },
    {
     "cell_type": "code",
     "collapsed": false,
     "input": [
      "ts[time(10, 0)]"
     ],
     "language": "python",
     "metadata": {},
     "outputs": [
      {
       "metadata": {},
       "output_type": "pyout",
       "prompt_number": 41,
       "text": [
        "2012-06-01 10:00:00      30\n",
        "2012-06-04 10:00:00     420\n",
        "2012-06-05 10:00:00     810\n",
        "2012-06-06 10:00:00    1200\n",
        "dtype: float64"
       ]
      }
     ],
     "prompt_number": 41
    },
    {
     "cell_type": "code",
     "collapsed": false,
     "input": [
      "ts.at_time(time(10, 0))"
     ],
     "language": "python",
     "metadata": {},
     "outputs": [
      {
       "metadata": {},
       "output_type": "pyout",
       "prompt_number": 42,
       "text": [
        "2012-06-01 10:00:00      30\n",
        "2012-06-04 10:00:00     420\n",
        "2012-06-05 10:00:00     810\n",
        "2012-06-06 10:00:00    1200\n",
        "dtype: float64"
       ]
      }
     ],
     "prompt_number": 42
    },
    {
     "cell_type": "code",
     "collapsed": false,
     "input": [
      "ts.between_time(time(10, 0), time(10, 1))"
     ],
     "language": "python",
     "metadata": {},
     "outputs": [
      {
       "metadata": {},
       "output_type": "pyout",
       "prompt_number": 43,
       "text": [
        "2012-06-01 10:00:00      30\n",
        "2012-06-01 10:01:00      31\n",
        "2012-06-04 10:00:00     420\n",
        "2012-06-04 10:01:00     421\n",
        "2012-06-05 10:00:00     810\n",
        "2012-06-05 10:01:00     811\n",
        "2012-06-06 10:00:00    1200\n",
        "2012-06-06 10:01:00    1201\n",
        "dtype: float64"
       ]
      }
     ],
     "prompt_number": 43
    },
    {
     "cell_type": "code",
     "collapsed": false,
     "input": [
      "indexer = np.sort(np.random.permutation(len(ts))[700:])"
     ],
     "language": "python",
     "metadata": {},
     "outputs": [],
     "prompt_number": 45
    },
    {
     "cell_type": "code",
     "collapsed": false,
     "input": [
      "irr_ts = ts.copy()"
     ],
     "language": "python",
     "metadata": {},
     "outputs": [],
     "prompt_number": 48
    },
    {
     "cell_type": "code",
     "collapsed": false,
     "input": [
      "irr_ts[indexer] = np.nan"
     ],
     "language": "python",
     "metadata": {},
     "outputs": [],
     "prompt_number": 49
    },
    {
     "cell_type": "code",
     "collapsed": false,
     "input": [
      "irr_ts['2012-06-01 09:50': '2012-06-01 10:00']"
     ],
     "language": "python",
     "metadata": {},
     "outputs": [
      {
       "metadata": {},
       "output_type": "pyout",
       "prompt_number": 50,
       "text": [
        "2012-06-01 09:50:00    20\n",
        "2012-06-01 09:51:00    21\n",
        "2012-06-01 09:52:00   NaN\n",
        "2012-06-01 09:53:00   NaN\n",
        "2012-06-01 09:54:00    24\n",
        "2012-06-01 09:55:00    25\n",
        "2012-06-01 09:56:00    26\n",
        "2012-06-01 09:57:00    27\n",
        "2012-06-01 09:58:00   NaN\n",
        "2012-06-01 09:59:00   NaN\n",
        "2012-06-01 10:00:00    30\n",
        "dtype: float64"
       ]
      }
     ],
     "prompt_number": 50
    },
    {
     "cell_type": "code",
     "collapsed": false,
     "input": [
      "selection = pd.date_range('2012-06-01 10:00', periods=4, freq='B')"
     ],
     "language": "python",
     "metadata": {},
     "outputs": [],
     "prompt_number": 51
    },
    {
     "cell_type": "code",
     "collapsed": false,
     "input": [
      "irr_ts.asof(selection)"
     ],
     "language": "python",
     "metadata": {},
     "outputs": [
      {
       "metadata": {},
       "output_type": "pyout",
       "prompt_number": 52,
       "text": [
        "2012-06-01 10:00:00      30\n",
        "2012-06-04 10:00:00     419\n",
        "2012-06-05 10:00:00     809\n",
        "2012-06-06 10:00:00    1199\n",
        "Freq: B, dtype: float64"
       ]
      }
     ],
     "prompt_number": 52
    },
    {
     "cell_type": "markdown",
     "metadata": {},
     "source": [
      "###Splicing Together Data Sources"
     ]
    },
    {
     "cell_type": "code",
     "collapsed": false,
     "input": [
      "data1 = DataFrame(np.ones((6, 3), dtype = float),\n",
      "                  columns = ['a', 'b', 'c'],\n",
      "                  index = pd.date_range('6/12/2012', periods=6))"
     ],
     "language": "python",
     "metadata": {},
     "outputs": [],
     "prompt_number": 4
    },
    {
     "cell_type": "code",
     "collapsed": false,
     "input": [
      "data1"
     ],
     "language": "python",
     "metadata": {},
     "outputs": [
      {
       "html": [
        "<div style=\"max-height:1000px;max-width:1500px;overflow:auto;\">\n",
        "<table border=\"1\" class=\"dataframe\">\n",
        "  <thead>\n",
        "    <tr style=\"text-align: right;\">\n",
        "      <th></th>\n",
        "      <th>a</th>\n",
        "      <th>b</th>\n",
        "      <th>c</th>\n",
        "    </tr>\n",
        "  </thead>\n",
        "  <tbody>\n",
        "    <tr>\n",
        "      <th>2012-06-12</th>\n",
        "      <td> 1</td>\n",
        "      <td> 1</td>\n",
        "      <td> 1</td>\n",
        "    </tr>\n",
        "    <tr>\n",
        "      <th>2012-06-13</th>\n",
        "      <td> 1</td>\n",
        "      <td> 1</td>\n",
        "      <td> 1</td>\n",
        "    </tr>\n",
        "    <tr>\n",
        "      <th>2012-06-14</th>\n",
        "      <td> 1</td>\n",
        "      <td> 1</td>\n",
        "      <td> 1</td>\n",
        "    </tr>\n",
        "    <tr>\n",
        "      <th>2012-06-15</th>\n",
        "      <td> 1</td>\n",
        "      <td> 1</td>\n",
        "      <td> 1</td>\n",
        "    </tr>\n",
        "    <tr>\n",
        "      <th>2012-06-16</th>\n",
        "      <td> 1</td>\n",
        "      <td> 1</td>\n",
        "      <td> 1</td>\n",
        "    </tr>\n",
        "    <tr>\n",
        "      <th>2012-06-17</th>\n",
        "      <td> 1</td>\n",
        "      <td> 1</td>\n",
        "      <td> 1</td>\n",
        "    </tr>\n",
        "  </tbody>\n",
        "</table>\n",
        "</div>"
       ],
       "metadata": {},
       "output_type": "pyout",
       "prompt_number": 8,
       "text": [
        "            a  b  c\n",
        "2012-06-12  1  1  1\n",
        "2012-06-13  1  1  1\n",
        "2012-06-14  1  1  1\n",
        "2012-06-15  1  1  1\n",
        "2012-06-16  1  1  1\n",
        "2012-06-17  1  1  1"
       ]
      }
     ],
     "prompt_number": 8
    },
    {
     "cell_type": "code",
     "collapsed": false,
     "input": [
      "data1.ix[:'2012-06-14']"
     ],
     "language": "python",
     "metadata": {},
     "outputs": [
      {
       "html": [
        "<div style=\"max-height:1000px;max-width:1500px;overflow:auto;\">\n",
        "<table border=\"1\" class=\"dataframe\">\n",
        "  <thead>\n",
        "    <tr style=\"text-align: right;\">\n",
        "      <th></th>\n",
        "      <th>a</th>\n",
        "      <th>b</th>\n",
        "      <th>c</th>\n",
        "    </tr>\n",
        "  </thead>\n",
        "  <tbody>\n",
        "    <tr>\n",
        "      <th>2012-06-12</th>\n",
        "      <td> 1</td>\n",
        "      <td> 1</td>\n",
        "      <td> 1</td>\n",
        "    </tr>\n",
        "    <tr>\n",
        "      <th>2012-06-13</th>\n",
        "      <td> 1</td>\n",
        "      <td> 1</td>\n",
        "      <td> 1</td>\n",
        "    </tr>\n",
        "    <tr>\n",
        "      <th>2012-06-14</th>\n",
        "      <td> 1</td>\n",
        "      <td> 1</td>\n",
        "      <td> 1</td>\n",
        "    </tr>\n",
        "  </tbody>\n",
        "</table>\n",
        "</div>"
       ],
       "metadata": {},
       "output_type": "pyout",
       "prompt_number": 10,
       "text": [
        "            a  b  c\n",
        "2012-06-12  1  1  1\n",
        "2012-06-13  1  1  1\n",
        "2012-06-14  1  1  1"
       ]
      }
     ],
     "prompt_number": 10
    },
    {
     "cell_type": "code",
     "collapsed": false,
     "input": [
      "data2 = DataFrame(np.ones((6, 3), dtype = float)*2,\n",
      "                  columns = ['a', 'b', 'c'],\n",
      "                  index = pd.date_range('6/13/2012', periods=6))"
     ],
     "language": "python",
     "metadata": {},
     "outputs": [],
     "prompt_number": 5
    },
    {
     "cell_type": "code",
     "collapsed": false,
     "input": [
      "data2"
     ],
     "language": "python",
     "metadata": {},
     "outputs": [
      {
       "html": [
        "<div style=\"max-height:1000px;max-width:1500px;overflow:auto;\">\n",
        "<table border=\"1\" class=\"dataframe\">\n",
        "  <thead>\n",
        "    <tr style=\"text-align: right;\">\n",
        "      <th></th>\n",
        "      <th>a</th>\n",
        "      <th>b</th>\n",
        "      <th>c</th>\n",
        "    </tr>\n",
        "  </thead>\n",
        "  <tbody>\n",
        "    <tr>\n",
        "      <th>2012-06-13</th>\n",
        "      <td> 2</td>\n",
        "      <td> 2</td>\n",
        "      <td> 2</td>\n",
        "    </tr>\n",
        "    <tr>\n",
        "      <th>2012-06-14</th>\n",
        "      <td> 2</td>\n",
        "      <td> 2</td>\n",
        "      <td> 2</td>\n",
        "    </tr>\n",
        "    <tr>\n",
        "      <th>2012-06-15</th>\n",
        "      <td> 2</td>\n",
        "      <td> 2</td>\n",
        "      <td> 2</td>\n",
        "    </tr>\n",
        "    <tr>\n",
        "      <th>2012-06-16</th>\n",
        "      <td> 2</td>\n",
        "      <td> 2</td>\n",
        "      <td> 2</td>\n",
        "    </tr>\n",
        "    <tr>\n",
        "      <th>2012-06-17</th>\n",
        "      <td> 2</td>\n",
        "      <td> 2</td>\n",
        "      <td> 2</td>\n",
        "    </tr>\n",
        "    <tr>\n",
        "      <th>2012-06-18</th>\n",
        "      <td> 2</td>\n",
        "      <td> 2</td>\n",
        "      <td> 2</td>\n",
        "    </tr>\n",
        "  </tbody>\n",
        "</table>\n",
        "</div>"
       ],
       "metadata": {},
       "output_type": "pyout",
       "prompt_number": 9,
       "text": [
        "            a  b  c\n",
        "2012-06-13  2  2  2\n",
        "2012-06-14  2  2  2\n",
        "2012-06-15  2  2  2\n",
        "2012-06-16  2  2  2\n",
        "2012-06-17  2  2  2\n",
        "2012-06-18  2  2  2"
       ]
      }
     ],
     "prompt_number": 9
    },
    {
     "cell_type": "code",
     "collapsed": false,
     "input": [
      "data2.ix['2012-06-15':]"
     ],
     "language": "python",
     "metadata": {},
     "outputs": [
      {
       "html": [
        "<div style=\"max-height:1000px;max-width:1500px;overflow:auto;\">\n",
        "<table border=\"1\" class=\"dataframe\">\n",
        "  <thead>\n",
        "    <tr style=\"text-align: right;\">\n",
        "      <th></th>\n",
        "      <th>a</th>\n",
        "      <th>b</th>\n",
        "      <th>c</th>\n",
        "    </tr>\n",
        "  </thead>\n",
        "  <tbody>\n",
        "    <tr>\n",
        "      <th>2012-06-15</th>\n",
        "      <td> 2</td>\n",
        "      <td> 2</td>\n",
        "      <td> 2</td>\n",
        "    </tr>\n",
        "    <tr>\n",
        "      <th>2012-06-16</th>\n",
        "      <td> 2</td>\n",
        "      <td> 2</td>\n",
        "      <td> 2</td>\n",
        "    </tr>\n",
        "    <tr>\n",
        "      <th>2012-06-17</th>\n",
        "      <td> 2</td>\n",
        "      <td> 2</td>\n",
        "      <td> 2</td>\n",
        "    </tr>\n",
        "    <tr>\n",
        "      <th>2012-06-18</th>\n",
        "      <td> 2</td>\n",
        "      <td> 2</td>\n",
        "      <td> 2</td>\n",
        "    </tr>\n",
        "  </tbody>\n",
        "</table>\n",
        "</div>"
       ],
       "metadata": {},
       "output_type": "pyout",
       "prompt_number": 11,
       "text": [
        "            a  b  c\n",
        "2012-06-15  2  2  2\n",
        "2012-06-16  2  2  2\n",
        "2012-06-17  2  2  2\n",
        "2012-06-18  2  2  2"
       ]
      }
     ],
     "prompt_number": 11
    },
    {
     "cell_type": "code",
     "collapsed": false,
     "input": [
      "spliced = pd.concat([data1.ix[:'2012-06-14'], data2.ix['2012-06-15':]])"
     ],
     "language": "python",
     "metadata": {},
     "outputs": [],
     "prompt_number": 6
    },
    {
     "cell_type": "code",
     "collapsed": false,
     "input": [
      "spliced"
     ],
     "language": "python",
     "metadata": {},
     "outputs": [
      {
       "html": [
        "<div style=\"max-height:1000px;max-width:1500px;overflow:auto;\">\n",
        "<table border=\"1\" class=\"dataframe\">\n",
        "  <thead>\n",
        "    <tr style=\"text-align: right;\">\n",
        "      <th></th>\n",
        "      <th>a</th>\n",
        "      <th>b</th>\n",
        "      <th>c</th>\n",
        "    </tr>\n",
        "  </thead>\n",
        "  <tbody>\n",
        "    <tr>\n",
        "      <th>2012-06-12</th>\n",
        "      <td> 1</td>\n",
        "      <td> 1</td>\n",
        "      <td> 1</td>\n",
        "    </tr>\n",
        "    <tr>\n",
        "      <th>2012-06-13</th>\n",
        "      <td> 1</td>\n",
        "      <td> 1</td>\n",
        "      <td> 1</td>\n",
        "    </tr>\n",
        "    <tr>\n",
        "      <th>2012-06-14</th>\n",
        "      <td> 1</td>\n",
        "      <td> 1</td>\n",
        "      <td> 1</td>\n",
        "    </tr>\n",
        "    <tr>\n",
        "      <th>2012-06-15</th>\n",
        "      <td> 2</td>\n",
        "      <td> 2</td>\n",
        "      <td> 2</td>\n",
        "    </tr>\n",
        "    <tr>\n",
        "      <th>2012-06-16</th>\n",
        "      <td> 2</td>\n",
        "      <td> 2</td>\n",
        "      <td> 2</td>\n",
        "    </tr>\n",
        "    <tr>\n",
        "      <th>2012-06-17</th>\n",
        "      <td> 2</td>\n",
        "      <td> 2</td>\n",
        "      <td> 2</td>\n",
        "    </tr>\n",
        "    <tr>\n",
        "      <th>2012-06-18</th>\n",
        "      <td> 2</td>\n",
        "      <td> 2</td>\n",
        "      <td> 2</td>\n",
        "    </tr>\n",
        "  </tbody>\n",
        "</table>\n",
        "</div>"
       ],
       "metadata": {},
       "output_type": "pyout",
       "prompt_number": 7,
       "text": [
        "            a  b  c\n",
        "2012-06-12  1  1  1\n",
        "2012-06-13  1  1  1\n",
        "2012-06-14  1  1  1\n",
        "2012-06-15  2  2  2\n",
        "2012-06-16  2  2  2\n",
        "2012-06-17  2  2  2\n",
        "2012-06-18  2  2  2"
       ]
      }
     ],
     "prompt_number": 7
    },
    {
     "cell_type": "code",
     "collapsed": false,
     "input": [
      "data2 = DataFrame(np.ones((6, 4), dtype = float)*2,\n",
      "                  columns = ['a', 'b', 'c', 'd'],\n",
      "                  index = pd.date_range('6/13/2012', periods=6))"
     ],
     "language": "python",
     "metadata": {},
     "outputs": [],
     "prompt_number": 12
    },
    {
     "cell_type": "code",
     "collapsed": false,
     "input": [
      "data2"
     ],
     "language": "python",
     "metadata": {},
     "outputs": [
      {
       "html": [
        "<div style=\"max-height:1000px;max-width:1500px;overflow:auto;\">\n",
        "<table border=\"1\" class=\"dataframe\">\n",
        "  <thead>\n",
        "    <tr style=\"text-align: right;\">\n",
        "      <th></th>\n",
        "      <th>a</th>\n",
        "      <th>b</th>\n",
        "      <th>c</th>\n",
        "      <th>d</th>\n",
        "    </tr>\n",
        "  </thead>\n",
        "  <tbody>\n",
        "    <tr>\n",
        "      <th>2012-06-13</th>\n",
        "      <td> 2</td>\n",
        "      <td> 2</td>\n",
        "      <td> 2</td>\n",
        "      <td> 2</td>\n",
        "    </tr>\n",
        "    <tr>\n",
        "      <th>2012-06-14</th>\n",
        "      <td> 2</td>\n",
        "      <td> 2</td>\n",
        "      <td> 2</td>\n",
        "      <td> 2</td>\n",
        "    </tr>\n",
        "    <tr>\n",
        "      <th>2012-06-15</th>\n",
        "      <td> 2</td>\n",
        "      <td> 2</td>\n",
        "      <td> 2</td>\n",
        "      <td> 2</td>\n",
        "    </tr>\n",
        "    <tr>\n",
        "      <th>2012-06-16</th>\n",
        "      <td> 2</td>\n",
        "      <td> 2</td>\n",
        "      <td> 2</td>\n",
        "      <td> 2</td>\n",
        "    </tr>\n",
        "    <tr>\n",
        "      <th>2012-06-17</th>\n",
        "      <td> 2</td>\n",
        "      <td> 2</td>\n",
        "      <td> 2</td>\n",
        "      <td> 2</td>\n",
        "    </tr>\n",
        "    <tr>\n",
        "      <th>2012-06-18</th>\n",
        "      <td> 2</td>\n",
        "      <td> 2</td>\n",
        "      <td> 2</td>\n",
        "      <td> 2</td>\n",
        "    </tr>\n",
        "  </tbody>\n",
        "</table>\n",
        "</div>"
       ],
       "metadata": {},
       "output_type": "pyout",
       "prompt_number": 13,
       "text": [
        "            a  b  c  d\n",
        "2012-06-13  2  2  2  2\n",
        "2012-06-14  2  2  2  2\n",
        "2012-06-15  2  2  2  2\n",
        "2012-06-16  2  2  2  2\n",
        "2012-06-17  2  2  2  2\n",
        "2012-06-18  2  2  2  2"
       ]
      }
     ],
     "prompt_number": 13
    },
    {
     "cell_type": "code",
     "collapsed": false,
     "input": [
      "spliced = pd.concat([data1.ix[:'2012-06-14'], data2.ix['2012-06-15':]])"
     ],
     "language": "python",
     "metadata": {},
     "outputs": [],
     "prompt_number": 14
    },
    {
     "cell_type": "code",
     "collapsed": false,
     "input": [
      "spliced"
     ],
     "language": "python",
     "metadata": {},
     "outputs": [
      {
       "html": [
        "<div style=\"max-height:1000px;max-width:1500px;overflow:auto;\">\n",
        "<table border=\"1\" class=\"dataframe\">\n",
        "  <thead>\n",
        "    <tr style=\"text-align: right;\">\n",
        "      <th></th>\n",
        "      <th>a</th>\n",
        "      <th>b</th>\n",
        "      <th>c</th>\n",
        "      <th>d</th>\n",
        "    </tr>\n",
        "  </thead>\n",
        "  <tbody>\n",
        "    <tr>\n",
        "      <th>2012-06-12</th>\n",
        "      <td> 1</td>\n",
        "      <td> 1</td>\n",
        "      <td> 1</td>\n",
        "      <td>NaN</td>\n",
        "    </tr>\n",
        "    <tr>\n",
        "      <th>2012-06-13</th>\n",
        "      <td> 1</td>\n",
        "      <td> 1</td>\n",
        "      <td> 1</td>\n",
        "      <td>NaN</td>\n",
        "    </tr>\n",
        "    <tr>\n",
        "      <th>2012-06-14</th>\n",
        "      <td> 1</td>\n",
        "      <td> 1</td>\n",
        "      <td> 1</td>\n",
        "      <td>NaN</td>\n",
        "    </tr>\n",
        "    <tr>\n",
        "      <th>2012-06-15</th>\n",
        "      <td> 2</td>\n",
        "      <td> 2</td>\n",
        "      <td> 2</td>\n",
        "      <td>  2</td>\n",
        "    </tr>\n",
        "    <tr>\n",
        "      <th>2012-06-16</th>\n",
        "      <td> 2</td>\n",
        "      <td> 2</td>\n",
        "      <td> 2</td>\n",
        "      <td>  2</td>\n",
        "    </tr>\n",
        "    <tr>\n",
        "      <th>2012-06-17</th>\n",
        "      <td> 2</td>\n",
        "      <td> 2</td>\n",
        "      <td> 2</td>\n",
        "      <td>  2</td>\n",
        "    </tr>\n",
        "    <tr>\n",
        "      <th>2012-06-18</th>\n",
        "      <td> 2</td>\n",
        "      <td> 2</td>\n",
        "      <td> 2</td>\n",
        "      <td>  2</td>\n",
        "    </tr>\n",
        "  </tbody>\n",
        "</table>\n",
        "</div>"
       ],
       "metadata": {},
       "output_type": "pyout",
       "prompt_number": 15,
       "text": [
        "            a  b  c   d\n",
        "2012-06-12  1  1  1 NaN\n",
        "2012-06-13  1  1  1 NaN\n",
        "2012-06-14  1  1  1 NaN\n",
        "2012-06-15  2  2  2   2\n",
        "2012-06-16  2  2  2   2\n",
        "2012-06-17  2  2  2   2\n",
        "2012-06-18  2  2  2   2"
       ]
      }
     ],
     "prompt_number": 15
    },
    {
     "cell_type": "code",
     "collapsed": false,
     "input": [
      "spliced_filled = spliced.combine_first(data2)\n",
      "spliced_filled"
     ],
     "language": "python",
     "metadata": {},
     "outputs": [
      {
       "html": [
        "<div style=\"max-height:1000px;max-width:1500px;overflow:auto;\">\n",
        "<table border=\"1\" class=\"dataframe\">\n",
        "  <thead>\n",
        "    <tr style=\"text-align: right;\">\n",
        "      <th></th>\n",
        "      <th>a</th>\n",
        "      <th>b</th>\n",
        "      <th>c</th>\n",
        "      <th>d</th>\n",
        "    </tr>\n",
        "  </thead>\n",
        "  <tbody>\n",
        "    <tr>\n",
        "      <th>2012-06-12</th>\n",
        "      <td> 1</td>\n",
        "      <td> 1</td>\n",
        "      <td> 1</td>\n",
        "      <td>NaN</td>\n",
        "    </tr>\n",
        "    <tr>\n",
        "      <th>2012-06-13</th>\n",
        "      <td> 1</td>\n",
        "      <td> 1</td>\n",
        "      <td> 1</td>\n",
        "      <td>  2</td>\n",
        "    </tr>\n",
        "    <tr>\n",
        "      <th>2012-06-14</th>\n",
        "      <td> 1</td>\n",
        "      <td> 1</td>\n",
        "      <td> 1</td>\n",
        "      <td>  2</td>\n",
        "    </tr>\n",
        "    <tr>\n",
        "      <th>2012-06-15</th>\n",
        "      <td> 2</td>\n",
        "      <td> 2</td>\n",
        "      <td> 2</td>\n",
        "      <td>  2</td>\n",
        "    </tr>\n",
        "    <tr>\n",
        "      <th>2012-06-16</th>\n",
        "      <td> 2</td>\n",
        "      <td> 2</td>\n",
        "      <td> 2</td>\n",
        "      <td>  2</td>\n",
        "    </tr>\n",
        "    <tr>\n",
        "      <th>2012-06-17</th>\n",
        "      <td> 2</td>\n",
        "      <td> 2</td>\n",
        "      <td> 2</td>\n",
        "      <td>  2</td>\n",
        "    </tr>\n",
        "    <tr>\n",
        "      <th>2012-06-18</th>\n",
        "      <td> 2</td>\n",
        "      <td> 2</td>\n",
        "      <td> 2</td>\n",
        "      <td>  2</td>\n",
        "    </tr>\n",
        "  </tbody>\n",
        "</table>\n",
        "</div>"
       ],
       "metadata": {},
       "output_type": "pyout",
       "prompt_number": 16,
       "text": [
        "            a  b  c   d\n",
        "2012-06-12  1  1  1 NaN\n",
        "2012-06-13  1  1  1   2\n",
        "2012-06-14  1  1  1   2\n",
        "2012-06-15  2  2  2   2\n",
        "2012-06-16  2  2  2   2\n",
        "2012-06-17  2  2  2   2\n",
        "2012-06-18  2  2  2   2"
       ]
      }
     ],
     "prompt_number": 16
    },
    {
     "cell_type": "code",
     "collapsed": false,
     "input": [
      "spliced.update(data2, overwrite=False)"
     ],
     "language": "python",
     "metadata": {},
     "outputs": [],
     "prompt_number": 17
    },
    {
     "cell_type": "code",
     "collapsed": false,
     "input": [
      "spliced"
     ],
     "language": "python",
     "metadata": {},
     "outputs": [
      {
       "html": [
        "<div style=\"max-height:1000px;max-width:1500px;overflow:auto;\">\n",
        "<table border=\"1\" class=\"dataframe\">\n",
        "  <thead>\n",
        "    <tr style=\"text-align: right;\">\n",
        "      <th></th>\n",
        "      <th>a</th>\n",
        "      <th>b</th>\n",
        "      <th>c</th>\n",
        "      <th>d</th>\n",
        "    </tr>\n",
        "  </thead>\n",
        "  <tbody>\n",
        "    <tr>\n",
        "      <th>2012-06-12</th>\n",
        "      <td> 1</td>\n",
        "      <td> 1</td>\n",
        "      <td> 1</td>\n",
        "      <td>NaN</td>\n",
        "    </tr>\n",
        "    <tr>\n",
        "      <th>2012-06-13</th>\n",
        "      <td> 1</td>\n",
        "      <td> 1</td>\n",
        "      <td> 1</td>\n",
        "      <td>  2</td>\n",
        "    </tr>\n",
        "    <tr>\n",
        "      <th>2012-06-14</th>\n",
        "      <td> 1</td>\n",
        "      <td> 1</td>\n",
        "      <td> 1</td>\n",
        "      <td>  2</td>\n",
        "    </tr>\n",
        "    <tr>\n",
        "      <th>2012-06-15</th>\n",
        "      <td> 2</td>\n",
        "      <td> 2</td>\n",
        "      <td> 2</td>\n",
        "      <td>  2</td>\n",
        "    </tr>\n",
        "    <tr>\n",
        "      <th>2012-06-16</th>\n",
        "      <td> 2</td>\n",
        "      <td> 2</td>\n",
        "      <td> 2</td>\n",
        "      <td>  2</td>\n",
        "    </tr>\n",
        "    <tr>\n",
        "      <th>2012-06-17</th>\n",
        "      <td> 2</td>\n",
        "      <td> 2</td>\n",
        "      <td> 2</td>\n",
        "      <td>  2</td>\n",
        "    </tr>\n",
        "    <tr>\n",
        "      <th>2012-06-18</th>\n",
        "      <td> 2</td>\n",
        "      <td> 2</td>\n",
        "      <td> 2</td>\n",
        "      <td>  2</td>\n",
        "    </tr>\n",
        "  </tbody>\n",
        "</table>\n",
        "</div>"
       ],
       "metadata": {},
       "output_type": "pyout",
       "prompt_number": 18,
       "text": [
        "            a  b  c   d\n",
        "2012-06-12  1  1  1 NaN\n",
        "2012-06-13  1  1  1   2\n",
        "2012-06-14  1  1  1   2\n",
        "2012-06-15  2  2  2   2\n",
        "2012-06-16  2  2  2   2\n",
        "2012-06-17  2  2  2   2\n",
        "2012-06-18  2  2  2   2"
       ]
      }
     ],
     "prompt_number": 18
    },
    {
     "cell_type": "code",
     "collapsed": false,
     "input": [
      "cp_spliced = spliced.copy()\n",
      "cp_spliced"
     ],
     "language": "python",
     "metadata": {},
     "outputs": [
      {
       "html": [
        "<div style=\"max-height:1000px;max-width:1500px;overflow:auto;\">\n",
        "<table border=\"1\" class=\"dataframe\">\n",
        "  <thead>\n",
        "    <tr style=\"text-align: right;\">\n",
        "      <th></th>\n",
        "      <th>a</th>\n",
        "      <th>b</th>\n",
        "      <th>c</th>\n",
        "      <th>d</th>\n",
        "    </tr>\n",
        "  </thead>\n",
        "  <tbody>\n",
        "    <tr>\n",
        "      <th>2012-06-12</th>\n",
        "      <td> 1</td>\n",
        "      <td> 1</td>\n",
        "      <td> 1</td>\n",
        "      <td>NaN</td>\n",
        "    </tr>\n",
        "    <tr>\n",
        "      <th>2012-06-13</th>\n",
        "      <td> 1</td>\n",
        "      <td> 1</td>\n",
        "      <td> 1</td>\n",
        "      <td>  2</td>\n",
        "    </tr>\n",
        "    <tr>\n",
        "      <th>2012-06-14</th>\n",
        "      <td> 1</td>\n",
        "      <td> 1</td>\n",
        "      <td> 1</td>\n",
        "      <td>  2</td>\n",
        "    </tr>\n",
        "    <tr>\n",
        "      <th>2012-06-15</th>\n",
        "      <td> 2</td>\n",
        "      <td> 2</td>\n",
        "      <td> 2</td>\n",
        "      <td>  2</td>\n",
        "    </tr>\n",
        "    <tr>\n",
        "      <th>2012-06-16</th>\n",
        "      <td> 2</td>\n",
        "      <td> 2</td>\n",
        "      <td> 2</td>\n",
        "      <td>  2</td>\n",
        "    </tr>\n",
        "    <tr>\n",
        "      <th>2012-06-17</th>\n",
        "      <td> 2</td>\n",
        "      <td> 2</td>\n",
        "      <td> 2</td>\n",
        "      <td>  2</td>\n",
        "    </tr>\n",
        "    <tr>\n",
        "      <th>2012-06-18</th>\n",
        "      <td> 2</td>\n",
        "      <td> 2</td>\n",
        "      <td> 2</td>\n",
        "      <td>  2</td>\n",
        "    </tr>\n",
        "  </tbody>\n",
        "</table>\n",
        "</div>"
       ],
       "metadata": {},
       "output_type": "pyout",
       "prompt_number": 19,
       "text": [
        "            a  b  c   d\n",
        "2012-06-12  1  1  1 NaN\n",
        "2012-06-13  1  1  1   2\n",
        "2012-06-14  1  1  1   2\n",
        "2012-06-15  2  2  2   2\n",
        "2012-06-16  2  2  2   2\n",
        "2012-06-17  2  2  2   2\n",
        "2012-06-18  2  2  2   2"
       ]
      }
     ],
     "prompt_number": 19
    },
    {
     "cell_type": "code",
     "collapsed": false,
     "input": [
      "cp_spliced[['a', 'c']] = data1[['a', 'c']]"
     ],
     "language": "python",
     "metadata": {},
     "outputs": [],
     "prompt_number": 20
    },
    {
     "cell_type": "code",
     "collapsed": false,
     "input": [
      "cp_spliced"
     ],
     "language": "python",
     "metadata": {},
     "outputs": [
      {
       "html": [
        "<div style=\"max-height:1000px;max-width:1500px;overflow:auto;\">\n",
        "<table border=\"1\" class=\"dataframe\">\n",
        "  <thead>\n",
        "    <tr style=\"text-align: right;\">\n",
        "      <th></th>\n",
        "      <th>a</th>\n",
        "      <th>b</th>\n",
        "      <th>c</th>\n",
        "      <th>d</th>\n",
        "    </tr>\n",
        "  </thead>\n",
        "  <tbody>\n",
        "    <tr>\n",
        "      <th>2012-06-12</th>\n",
        "      <td>  1</td>\n",
        "      <td> 1</td>\n",
        "      <td>  1</td>\n",
        "      <td>NaN</td>\n",
        "    </tr>\n",
        "    <tr>\n",
        "      <th>2012-06-13</th>\n",
        "      <td>  1</td>\n",
        "      <td> 1</td>\n",
        "      <td>  1</td>\n",
        "      <td>  2</td>\n",
        "    </tr>\n",
        "    <tr>\n",
        "      <th>2012-06-14</th>\n",
        "      <td>  1</td>\n",
        "      <td> 1</td>\n",
        "      <td>  1</td>\n",
        "      <td>  2</td>\n",
        "    </tr>\n",
        "    <tr>\n",
        "      <th>2012-06-15</th>\n",
        "      <td>  1</td>\n",
        "      <td> 2</td>\n",
        "      <td>  1</td>\n",
        "      <td>  2</td>\n",
        "    </tr>\n",
        "    <tr>\n",
        "      <th>2012-06-16</th>\n",
        "      <td>  1</td>\n",
        "      <td> 2</td>\n",
        "      <td>  1</td>\n",
        "      <td>  2</td>\n",
        "    </tr>\n",
        "    <tr>\n",
        "      <th>2012-06-17</th>\n",
        "      <td>  1</td>\n",
        "      <td> 2</td>\n",
        "      <td>  1</td>\n",
        "      <td>  2</td>\n",
        "    </tr>\n",
        "    <tr>\n",
        "      <th>2012-06-18</th>\n",
        "      <td>NaN</td>\n",
        "      <td> 2</td>\n",
        "      <td>NaN</td>\n",
        "      <td>  2</td>\n",
        "    </tr>\n",
        "  </tbody>\n",
        "</table>\n",
        "</div>"
       ],
       "metadata": {},
       "output_type": "pyout",
       "prompt_number": 21,
       "text": [
        "             a  b   c   d\n",
        "2012-06-12   1  1   1 NaN\n",
        "2012-06-13   1  1   1   2\n",
        "2012-06-14   1  1   1   2\n",
        "2012-06-15   1  2   1   2\n",
        "2012-06-16   1  2   1   2\n",
        "2012-06-17   1  2   1   2\n",
        "2012-06-18 NaN  2 NaN   2"
       ]
      }
     ],
     "prompt_number": 21
    },
    {
     "cell_type": "markdown",
     "metadata": {},
     "source": [
      "###Return Indexes and Comulative Returns"
     ]
    },
    {
     "cell_type": "code",
     "collapsed": false,
     "input": [
      "import pandas.io.data as web"
     ],
     "language": "python",
     "metadata": {},
     "outputs": [],
     "prompt_number": 22
    },
    {
     "cell_type": "code",
     "collapsed": false,
     "input": [
      "price = web.get_data_yahoo('AAPL', '2011-01-01')['Adj Close']"
     ],
     "language": "python",
     "metadata": {},
     "outputs": [],
     "prompt_number": 23
    },
    {
     "cell_type": "code",
     "collapsed": false,
     "input": [
      "price[-5: ]"
     ],
     "language": "python",
     "metadata": {},
     "outputs": [
      {
       "metadata": {},
       "output_type": "pyout",
       "prompt_number": 24,
       "text": [
        "Date\n",
        "2015-06-15    126.919998\n",
        "2015-06-16    127.599998\n",
        "2015-06-17    127.300003\n",
        "2015-06-18    127.879997\n",
        "2015-06-19    126.599998\n",
        "Name: Adj Close, dtype: float64"
       ]
      }
     ],
     "prompt_number": 24
    },
    {
     "cell_type": "code",
     "collapsed": false,
     "input": [
      "price['2015-06-19'] / price['2015-05-19'] - 1"
     ],
     "language": "python",
     "metadata": {},
     "outputs": [
      {
       "metadata": {},
       "output_type": "pyout",
       "prompt_number": 29,
       "text": [
        "-0.026678010404043495"
       ]
      }
     ],
     "prompt_number": 29
    },
    {
     "cell_type": "code",
     "collapsed": false,
     "input": [
      "returns = price.pct_change()"
     ],
     "language": "python",
     "metadata": {},
     "outputs": [],
     "prompt_number": 30
    },
    {
     "cell_type": "code",
     "collapsed": false,
     "input": [
      "ret_index  = (1 + returns).cumprod()"
     ],
     "language": "python",
     "metadata": {},
     "outputs": [],
     "prompt_number": 31
    },
    {
     "cell_type": "code",
     "collapsed": false,
     "input": [
      "ret_index[0] = 1"
     ],
     "language": "python",
     "metadata": {},
     "outputs": [],
     "prompt_number": 32
    },
    {
     "cell_type": "code",
     "collapsed": false,
     "input": [
      "ret_index"
     ],
     "language": "python",
     "metadata": {},
     "outputs": [
      {
       "metadata": {},
       "output_type": "pyout",
       "prompt_number": 33,
       "text": [
        "Date\n",
        "2011-01-03    1.000000\n",
        "2011-01-04    1.005219\n",
        "2011-01-05    1.013442\n",
        "2011-01-06    1.012622\n",
        "2011-01-07    1.019874\n",
        "2011-01-10    1.039081\n",
        "2011-01-11    1.036623\n",
        "2011-01-12    1.045059\n",
        "2011-01-13    1.048882\n",
        "2011-01-14    1.057378\n",
        "2011-01-18    1.033620\n",
        "2011-01-19    1.028127\n",
        "2011-01-20    1.009436\n",
        "2011-01-21    0.991352\n",
        "2011-01-24    1.023910\n",
        "...\n",
        "2015-06-01    2.951715\n",
        "2015-06-02    2.938601\n",
        "2015-06-03    2.942218\n",
        "2015-06-04    2.925033\n",
        "2015-06-05    2.908979\n",
        "2015-06-08    2.889759\n",
        "2015-06-09    2.881167\n",
        "2015-06-10    2.914180\n",
        "2015-06-11    2.907622\n",
        "2015-06-12    2.875514\n",
        "2015-06-15    2.869861\n",
        "2015-06-16    2.885237\n",
        "2015-06-17    2.878454\n",
        "2015-06-18    2.891568\n",
        "2015-06-19    2.862625\n",
        "Name: Adj Close, Length: 1123"
       ]
      }
     ],
     "prompt_number": 33
    },
    {
     "cell_type": "code",
     "collapsed": false,
     "input": [
      "m_returns =ret_index.resample('BM', how = 'last').pct_change()"
     ],
     "language": "python",
     "metadata": {},
     "outputs": [],
     "prompt_number": 34
    },
    {
     "cell_type": "code",
     "collapsed": false,
     "input": [
      "m_returns['2014']"
     ],
     "language": "python",
     "metadata": {},
     "outputs": [
      {
       "metadata": {},
       "output_type": "pyout",
       "prompt_number": 35,
       "text": [
        "Date\n",
        "2014-01-31   -0.107697\n",
        "2014-02-28    0.057511\n",
        "2014-03-31    0.019953\n",
        "2014-04-30    0.099396\n",
        "2014-05-30    0.078709\n",
        "2014-06-30    0.027662\n",
        "2014-07-31    0.028731\n",
        "2014-08-29    0.077509\n",
        "2014-09-30   -0.017073\n",
        "2014-10-31    0.071960\n",
        "2014-11-28    0.105979\n",
        "2014-12-31   -0.071891\n",
        "Freq: BM, Name: Adj Close, dtype: float64"
       ]
      }
     ],
     "prompt_number": 35
    },
    {
     "cell_type": "code",
     "collapsed": false,
     "input": [
      "m_rets = (1 + returns).resample('M', how = 'prod', kind = 'period') - 1"
     ],
     "language": "python",
     "metadata": {},
     "outputs": [],
     "prompt_number": 36
    },
    {
     "cell_type": "code",
     "collapsed": false,
     "input": [
      "m_rets['2012']"
     ],
     "language": "python",
     "metadata": {},
     "outputs": [
      {
       "metadata": {},
       "output_type": "pyout",
       "prompt_number": 37,
       "text": [
        "Date\n",
        "2012-01    0.127111\n",
        "2012-02    0.188311\n",
        "2012-03    0.105284\n",
        "2012-04   -0.025970\n",
        "2012-05   -0.010702\n",
        "2012-06    0.010853\n",
        "2012-07    0.045822\n",
        "2012-08    0.093877\n",
        "2012-09    0.002796\n",
        "2012-10   -0.107600\n",
        "2012-11   -0.012374\n",
        "2012-12   -0.090743\n",
        "Freq: M, Name: Adj Close, dtype: float64"
       ]
      }
     ],
     "prompt_number": 37
    },
    {
     "cell_type": "markdown",
     "metadata": {},
     "source": [
      "##Group Transforms and Analysis"
     ]
    },
    {
     "cell_type": "code",
     "collapsed": false,
     "input": [
      "import random\n",
      "random.seed(0)\n",
      "import string"
     ],
     "language": "python",
     "metadata": {},
     "outputs": [],
     "prompt_number": 39
    },
    {
     "cell_type": "code",
     "collapsed": false,
     "input": [
      "N = 1000\n",
      "def rands(n):\n",
      "    choices = string.ascii_uppercase\n",
      "    return ''.join([random.choice(choices) for _ in xrange(n)])\n",
      "tickers = np.array([rands(5) for _ in xrange(N)])"
     ],
     "language": "python",
     "metadata": {},
     "outputs": [],
     "prompt_number": 43
    },
    {
     "cell_type": "code",
     "collapsed": false,
     "input": [
      "M = 500\n",
      "df = DataFrame({'Momentum': np.random.randn(M) / 200 + 0.03,\n",
      "                'Value': np.random.randn(M) / 200 + 0.08,\n",
      "                'ShortInterest': np.random.randn(M) / 200 - 0.02},\n",
      "               index = tickers[:M])"
     ],
     "language": "python",
     "metadata": {},
     "outputs": [],
     "prompt_number": 44
    },
    {
     "cell_type": "code",
     "collapsed": false,
     "input": [
      "ind_names = np.array(['FINANCIAL', 'TECH'])\n",
      "sampler = np.random.randint(0, len(ind_names), N)\n",
      "industries = Series(ind_names[sampler],\n",
      "                    index = tickers,\n",
      "                    name = 'industry')"
     ],
     "language": "python",
     "metadata": {},
     "outputs": [],
     "prompt_number": 45
    },
    {
     "cell_type": "code",
     "collapsed": false,
     "input": [
      "industries.head()"
     ],
     "language": "python",
     "metadata": {},
     "outputs": [
      {
       "metadata": {},
       "output_type": "pyout",
       "prompt_number": 46,
       "text": [
        "HIXSD    FINANCIAL\n",
        "UFFPF         TECH\n",
        "JERPX    FINANCIAL\n",
        "CZIAJ         TECH\n",
        "YHMHR         TECH\n",
        "Name: industry, dtype: object"
       ]
      }
     ],
     "prompt_number": 46
    },
    {
     "cell_type": "code",
     "collapsed": false,
     "input": [
      "by_industry = df.groupby(industries)"
     ],
     "language": "python",
     "metadata": {},
     "outputs": [],
     "prompt_number": 47
    },
    {
     "cell_type": "code",
     "collapsed": false,
     "input": [
      "by_industry.mean()"
     ],
     "language": "python",
     "metadata": {},
     "outputs": [
      {
       "html": [
        "<div style=\"max-height:1000px;max-width:1500px;overflow:auto;\">\n",
        "<table border=\"1\" class=\"dataframe\">\n",
        "  <thead>\n",
        "    <tr style=\"text-align: right;\">\n",
        "      <th></th>\n",
        "      <th>Momentum</th>\n",
        "      <th>ShortInterest</th>\n",
        "      <th>Value</th>\n",
        "    </tr>\n",
        "    <tr>\n",
        "      <th>industry</th>\n",
        "      <th></th>\n",
        "      <th></th>\n",
        "      <th></th>\n",
        "    </tr>\n",
        "  </thead>\n",
        "  <tbody>\n",
        "    <tr>\n",
        "      <th>FINANCIAL</th>\n",
        "      <td> 0.029831</td>\n",
        "      <td>-0.020261</td>\n",
        "      <td> 0.079600</td>\n",
        "    </tr>\n",
        "    <tr>\n",
        "      <th>TECH</th>\n",
        "      <td> 0.030726</td>\n",
        "      <td>-0.019976</td>\n",
        "      <td> 0.080009</td>\n",
        "    </tr>\n",
        "  </tbody>\n",
        "</table>\n",
        "</div>"
       ],
       "metadata": {},
       "output_type": "pyout",
       "prompt_number": 48,
       "text": [
        "           Momentum  ShortInterest     Value\n",
        "industry                                    \n",
        "FINANCIAL  0.029831      -0.020261  0.079600\n",
        "TECH       0.030726      -0.019976  0.080009"
       ]
      }
     ],
     "prompt_number": 48
    },
    {
     "cell_type": "code",
     "collapsed": false,
     "input": [
      "by_industry.describe()"
     ],
     "language": "python",
     "metadata": {},
     "outputs": [
      {
       "html": [
        "<div style=\"max-height:1000px;max-width:1500px;overflow:auto;\">\n",
        "<table border=\"1\" class=\"dataframe\">\n",
        "  <thead>\n",
        "    <tr style=\"text-align: right;\">\n",
        "      <th></th>\n",
        "      <th></th>\n",
        "      <th>Momentum</th>\n",
        "      <th>ShortInterest</th>\n",
        "      <th>Value</th>\n",
        "    </tr>\n",
        "    <tr>\n",
        "      <th>industry</th>\n",
        "      <th></th>\n",
        "      <th></th>\n",
        "      <th></th>\n",
        "      <th></th>\n",
        "    </tr>\n",
        "  </thead>\n",
        "  <tbody>\n",
        "    <tr>\n",
        "      <th rowspan=\"8\" valign=\"top\">FINANCIAL</th>\n",
        "      <th>count</th>\n",
        "      <td> 225.000000</td>\n",
        "      <td> 225.000000</td>\n",
        "      <td> 225.000000</td>\n",
        "    </tr>\n",
        "    <tr>\n",
        "      <th>mean</th>\n",
        "      <td>   0.029831</td>\n",
        "      <td>  -0.020261</td>\n",
        "      <td>   0.079600</td>\n",
        "    </tr>\n",
        "    <tr>\n",
        "      <th>std</th>\n",
        "      <td>   0.005416</td>\n",
        "      <td>   0.005570</td>\n",
        "      <td>   0.004913</td>\n",
        "    </tr>\n",
        "    <tr>\n",
        "      <th>min</th>\n",
        "      <td>   0.015293</td>\n",
        "      <td>  -0.035351</td>\n",
        "      <td>   0.068202</td>\n",
        "    </tr>\n",
        "    <tr>\n",
        "      <th>25%</th>\n",
        "      <td>   0.025752</td>\n",
        "      <td>  -0.024251</td>\n",
        "      <td>   0.076357</td>\n",
        "    </tr>\n",
        "    <tr>\n",
        "      <th>50%</th>\n",
        "      <td>   0.029653</td>\n",
        "      <td>  -0.020198</td>\n",
        "      <td>   0.079530</td>\n",
        "    </tr>\n",
        "    <tr>\n",
        "      <th>75%</th>\n",
        "      <td>   0.033805</td>\n",
        "      <td>  -0.016301</td>\n",
        "      <td>   0.082729</td>\n",
        "    </tr>\n",
        "    <tr>\n",
        "      <th>max</th>\n",
        "      <td>   0.045024</td>\n",
        "      <td>  -0.000961</td>\n",
        "      <td>   0.094095</td>\n",
        "    </tr>\n",
        "    <tr>\n",
        "      <th rowspan=\"8\" valign=\"top\">TECH</th>\n",
        "      <th>count</th>\n",
        "      <td> 275.000000</td>\n",
        "      <td> 275.000000</td>\n",
        "      <td> 275.000000</td>\n",
        "    </tr>\n",
        "    <tr>\n",
        "      <th>mean</th>\n",
        "      <td>   0.030726</td>\n",
        "      <td>  -0.019976</td>\n",
        "      <td>   0.080009</td>\n",
        "    </tr>\n",
        "    <tr>\n",
        "      <th>std</th>\n",
        "      <td>   0.005153</td>\n",
        "      <td>   0.004935</td>\n",
        "      <td>   0.004660</td>\n",
        "    </tr>\n",
        "    <tr>\n",
        "      <th>min</th>\n",
        "      <td>   0.016501</td>\n",
        "      <td>  -0.031278</td>\n",
        "      <td>   0.067850</td>\n",
        "    </tr>\n",
        "    <tr>\n",
        "      <th>25%</th>\n",
        "      <td>   0.027426</td>\n",
        "      <td>  -0.023079</td>\n",
        "      <td>   0.077070</td>\n",
        "    </tr>\n",
        "    <tr>\n",
        "      <th>50%</th>\n",
        "      <td>   0.030889</td>\n",
        "      <td>  -0.020413</td>\n",
        "      <td>   0.079867</td>\n",
        "    </tr>\n",
        "    <tr>\n",
        "      <th>75%</th>\n",
        "      <td>   0.033966</td>\n",
        "      <td>  -0.016291</td>\n",
        "      <td>   0.083192</td>\n",
        "    </tr>\n",
        "    <tr>\n",
        "      <th>max</th>\n",
        "      <td>   0.044939</td>\n",
        "      <td>  -0.005587</td>\n",
        "      <td>   0.092569</td>\n",
        "    </tr>\n",
        "  </tbody>\n",
        "</table>\n",
        "</div>"
       ],
       "metadata": {},
       "output_type": "pyout",
       "prompt_number": 49,
       "text": [
        "                   Momentum  ShortInterest       Value\n",
        "industry                                              \n",
        "FINANCIAL count  225.000000     225.000000  225.000000\n",
        "          mean     0.029831      -0.020261    0.079600\n",
        "          std      0.005416       0.005570    0.004913\n",
        "          min      0.015293      -0.035351    0.068202\n",
        "          25%      0.025752      -0.024251    0.076357\n",
        "          50%      0.029653      -0.020198    0.079530\n",
        "          75%      0.033805      -0.016301    0.082729\n",
        "          max      0.045024      -0.000961    0.094095\n",
        "TECH      count  275.000000     275.000000  275.000000\n",
        "          mean     0.030726      -0.019976    0.080009\n",
        "          std      0.005153       0.004935    0.004660\n",
        "          min      0.016501      -0.031278    0.067850\n",
        "          25%      0.027426      -0.023079    0.077070\n",
        "          50%      0.030889      -0.020413    0.079867\n",
        "          75%      0.033966      -0.016291    0.083192\n",
        "          max      0.044939      -0.005587    0.092569"
       ]
      }
     ],
     "prompt_number": 49
    },
    {
     "cell_type": "code",
     "collapsed": false,
     "input": [
      "def zscore(group):\n",
      "    return (group - group.mean())/group.std()"
     ],
     "language": "python",
     "metadata": {},
     "outputs": [],
     "prompt_number": 50
    },
    {
     "cell_type": "code",
     "collapsed": false,
     "input": [
      "df_stand= by_industry.apply(zscore)"
     ],
     "language": "python",
     "metadata": {},
     "outputs": [],
     "prompt_number": 51
    },
    {
     "cell_type": "code",
     "collapsed": false,
     "input": [
      "df_stand.groupby(industries).agg(['mean', 'std'])"
     ],
     "language": "python",
     "metadata": {},
     "outputs": [
      {
       "html": [
        "<div style=\"max-height:1000px;max-width:1500px;overflow:auto;\">\n",
        "<table border=\"1\" class=\"dataframe\">\n",
        "  <thead>\n",
        "    <tr>\n",
        "      <th></th>\n",
        "      <th colspan=\"2\" halign=\"left\">Momentum</th>\n",
        "      <th colspan=\"2\" halign=\"left\">ShortInterest</th>\n",
        "      <th colspan=\"2\" halign=\"left\">Value</th>\n",
        "    </tr>\n",
        "    <tr>\n",
        "      <th></th>\n",
        "      <th>mean</th>\n",
        "      <th>std</th>\n",
        "      <th>mean</th>\n",
        "      <th>std</th>\n",
        "      <th>mean</th>\n",
        "      <th>std</th>\n",
        "    </tr>\n",
        "    <tr>\n",
        "      <th>industry</th>\n",
        "      <th></th>\n",
        "      <th></th>\n",
        "      <th></th>\n",
        "      <th></th>\n",
        "      <th></th>\n",
        "      <th></th>\n",
        "    </tr>\n",
        "  </thead>\n",
        "  <tbody>\n",
        "    <tr>\n",
        "      <th>FINANCIAL</th>\n",
        "      <td> 2.696177e-15</td>\n",
        "      <td> 1</td>\n",
        "      <td>-4.041212e-16</td>\n",
        "      <td> 1</td>\n",
        "      <td> 6.809368e-16</td>\n",
        "      <td> 1</td>\n",
        "    </tr>\n",
        "    <tr>\n",
        "      <th>TECH</th>\n",
        "      <td> 4.774363e-15</td>\n",
        "      <td> 1</td>\n",
        "      <td>-1.453383e-16</td>\n",
        "      <td> 1</td>\n",
        "      <td>-1.253765e-14</td>\n",
        "      <td> 1</td>\n",
        "    </tr>\n",
        "  </tbody>\n",
        "</table>\n",
        "</div>"
       ],
       "metadata": {},
       "output_type": "pyout",
       "prompt_number": 52,
       "text": [
        "               Momentum     ShortInterest             Value    \n",
        "                   mean std          mean std          mean std\n",
        "industry                                                       \n",
        "FINANCIAL  2.696177e-15   1 -4.041212e-16   1  6.809368e-16   1\n",
        "TECH       4.774363e-15   1 -1.453383e-16   1 -1.253765e-14   1"
       ]
      }
     ],
     "prompt_number": 52
    },
    {
     "cell_type": "code",
     "collapsed": false,
     "input": [
      "ind_rank = by_industry.rank(ascending=False)"
     ],
     "language": "python",
     "metadata": {},
     "outputs": [],
     "prompt_number": 53
    },
    {
     "cell_type": "code",
     "collapsed": false,
     "input": [
      "ind_rank.groupby(industries).agg(['min', 'max'])"
     ],
     "language": "python",
     "metadata": {},
     "outputs": [
      {
       "html": [
        "<div style=\"max-height:1000px;max-width:1500px;overflow:auto;\">\n",
        "<table border=\"1\" class=\"dataframe\">\n",
        "  <thead>\n",
        "    <tr>\n",
        "      <th></th>\n",
        "      <th colspan=\"2\" halign=\"left\">Momentum</th>\n",
        "      <th colspan=\"2\" halign=\"left\">ShortInterest</th>\n",
        "      <th colspan=\"2\" halign=\"left\">Value</th>\n",
        "    </tr>\n",
        "    <tr>\n",
        "      <th></th>\n",
        "      <th>min</th>\n",
        "      <th>max</th>\n",
        "      <th>min</th>\n",
        "      <th>max</th>\n",
        "      <th>min</th>\n",
        "      <th>max</th>\n",
        "    </tr>\n",
        "    <tr>\n",
        "      <th>industry</th>\n",
        "      <th></th>\n",
        "      <th></th>\n",
        "      <th></th>\n",
        "      <th></th>\n",
        "      <th></th>\n",
        "      <th></th>\n",
        "    </tr>\n",
        "  </thead>\n",
        "  <tbody>\n",
        "    <tr>\n",
        "      <th>FINANCIAL</th>\n",
        "      <td> 1</td>\n",
        "      <td> 225</td>\n",
        "      <td> 1</td>\n",
        "      <td> 225</td>\n",
        "      <td> 1</td>\n",
        "      <td> 225</td>\n",
        "    </tr>\n",
        "    <tr>\n",
        "      <th>TECH</th>\n",
        "      <td> 1</td>\n",
        "      <td> 275</td>\n",
        "      <td> 1</td>\n",
        "      <td> 275</td>\n",
        "      <td> 1</td>\n",
        "      <td> 275</td>\n",
        "    </tr>\n",
        "  </tbody>\n",
        "</table>\n",
        "</div>"
       ],
       "metadata": {},
       "output_type": "pyout",
       "prompt_number": 54,
       "text": [
        "          Momentum      ShortInterest      Value     \n",
        "               min  max           min  max   min  max\n",
        "industry                                             \n",
        "FINANCIAL        1  225             1  225     1  225\n",
        "TECH             1  275             1  275     1  275"
       ]
      }
     ],
     "prompt_number": 54
    },
    {
     "cell_type": "code",
     "collapsed": false,
     "input": [
      "by_industry.apply(lambda x: zscore(x.rank()))"
     ],
     "language": "python",
     "metadata": {},
     "outputs": [
      {
       "html": [
        "<div style=\"max-height:1000px;max-width:1500px;overflow:auto;\">\n",
        "<table border=\"1\" class=\"dataframe\">\n",
        "  <thead>\n",
        "    <tr style=\"text-align: right;\">\n",
        "      <th></th>\n",
        "      <th>Momentum</th>\n",
        "      <th>ShortInterest</th>\n",
        "      <th>Value</th>\n",
        "    </tr>\n",
        "  </thead>\n",
        "  <tbody>\n",
        "    <tr>\n",
        "      <th>HIXSD</th>\n",
        "      <td> 1.520829</td>\n",
        "      <td> 0.015362</td>\n",
        "      <td>-1.244315</td>\n",
        "    </tr>\n",
        "    <tr>\n",
        "      <th>UFFPF</th>\n",
        "      <td> 0.980764</td>\n",
        "      <td> 1.169372</td>\n",
        "      <td>-0.653842</td>\n",
        "    </tr>\n",
        "    <tr>\n",
        "      <th>JERPX</th>\n",
        "      <td>-0.998524</td>\n",
        "      <td>-1.428657</td>\n",
        "      <td>-0.737372</td>\n",
        "    </tr>\n",
        "    <tr>\n",
        "      <th>CZIAJ</th>\n",
        "      <td> 0.955616</td>\n",
        "      <td> 0.653842</td>\n",
        "      <td> 1.207094</td>\n",
        "    </tr>\n",
        "    <tr>\n",
        "      <th>YHMHR</th>\n",
        "      <td>-1.622032</td>\n",
        "      <td>-1.144224</td>\n",
        "      <td>-0.125739</td>\n",
        "    </tr>\n",
        "    <tr>\n",
        "      <th>JYCQZ</th>\n",
        "      <td> 0.000000</td>\n",
        "      <td> 1.584310</td>\n",
        "      <td> 0.326921</td>\n",
        "    </tr>\n",
        "    <tr>\n",
        "      <th>JNUDM</th>\n",
        "      <td>-0.452660</td>\n",
        "      <td>-0.138313</td>\n",
        "      <td> 1.307685</td>\n",
        "    </tr>\n",
        "    <tr>\n",
        "      <th>WWNUN</th>\n",
        "      <td> 1.351848</td>\n",
        "      <td>-0.691286</td>\n",
        "      <td> 0.967800</td>\n",
        "    </tr>\n",
        "    <tr>\n",
        "      <th>RVBCB</th>\n",
        "      <td>-1.613000</td>\n",
        "      <td> 1.720534</td>\n",
        "      <td>-0.353324</td>\n",
        "    </tr>\n",
        "    <tr>\n",
        "      <th>XFNJK</th>\n",
        "      <td>-0.062869</td>\n",
        "      <td>-1.559163</td>\n",
        "      <td> 1.169372</td>\n",
        "    </tr>\n",
        "    <tr>\n",
        "      <th>JWCTN</th>\n",
        "      <td> 1.169372</td>\n",
        "      <td> 1.068781</td>\n",
        "      <td>-1.219668</td>\n",
        "    </tr>\n",
        "    <tr>\n",
        "      <th>PMUOK</th>\n",
        "      <td>-0.337962</td>\n",
        "      <td> 0.184343</td>\n",
        "      <td>-1.551553</td>\n",
        "    </tr>\n",
        "    <tr>\n",
        "      <th>KLOGZ</th>\n",
        "      <td> 1.081355</td>\n",
        "      <td> 0.176034</td>\n",
        "      <td> 0.968190</td>\n",
        "    </tr>\n",
        "    <tr>\n",
        "      <th>WINQM</th>\n",
        "      <td> 0.153619</td>\n",
        "      <td> 0.583752</td>\n",
        "      <td>-1.428657</td>\n",
        "    </tr>\n",
        "    <tr>\n",
        "      <th>EQRPN</th>\n",
        "      <td>-0.645200</td>\n",
        "      <td>-1.290400</td>\n",
        "      <td> 0.660562</td>\n",
        "    </tr>\n",
        "    <tr>\n",
        "      <th>MZCXA</th>\n",
        "      <td> 0.599114</td>\n",
        "      <td> 0.230429</td>\n",
        "      <td>-1.182867</td>\n",
        "    </tr>\n",
        "    <tr>\n",
        "      <th>TLNBY</th>\n",
        "      <td> 0.291876</td>\n",
        "      <td> 0.430133</td>\n",
        "      <td>-1.029248</td>\n",
        "    </tr>\n",
        "    <tr>\n",
        "      <th>EVZXQ</th>\n",
        "      <td>-1.458572</td>\n",
        "      <td>-1.496293</td>\n",
        "      <td>-1.508867</td>\n",
        "    </tr>\n",
        "    <tr>\n",
        "      <th>DPRYR</th>\n",
        "      <td> 1.332833</td>\n",
        "      <td>-1.068781</td>\n",
        "      <td> 0.502956</td>\n",
        "    </tr>\n",
        "    <tr>\n",
        "      <th>EAUJI</th>\n",
        "      <td>-0.150887</td>\n",
        "      <td> 1.031059</td>\n",
        "      <td> 1.596884</td>\n",
        "    </tr>\n",
        "    <tr>\n",
        "      <th>JXVUM</th>\n",
        "      <td> 0.716712</td>\n",
        "      <td>-0.528103</td>\n",
        "      <td> 0.804729</td>\n",
        "    </tr>\n",
        "    <tr>\n",
        "      <th>ZPXZP</th>\n",
        "      <td> 0.238904</td>\n",
        "      <td> 0.666416</td>\n",
        "      <td> 0.980764</td>\n",
        "    </tr>\n",
        "    <tr>\n",
        "      <th>PZAOD</th>\n",
        "      <td>-0.814181</td>\n",
        "      <td> 1.121419</td>\n",
        "      <td>-0.522305</td>\n",
        "    </tr>\n",
        "    <tr>\n",
        "      <th>VYOHX</th>\n",
        "      <td> 0.855025</td>\n",
        "      <td>-0.125739</td>\n",
        "      <td> 1.584310</td>\n",
        "    </tr>\n",
        "    <tr>\n",
        "      <th>CUBUT</th>\n",
        "      <td> 0.452660</td>\n",
        "      <td> 1.420850</td>\n",
        "      <td>-0.767007</td>\n",
        "    </tr>\n",
        "    <tr>\n",
        "      <th>UREVF</th>\n",
        "      <td>-0.767007</td>\n",
        "      <td>-0.880172</td>\n",
        "      <td> 0.779581</td>\n",
        "    </tr>\n",
        "    <tr>\n",
        "      <th>VQVNA</th>\n",
        "      <td>-1.628362</td>\n",
        "      <td>-0.138257</td>\n",
        "      <td>-1.013886</td>\n",
        "    </tr>\n",
        "    <tr>\n",
        "      <th>YOLLO</th>\n",
        "      <td>-1.295111</td>\n",
        "      <td> 1.194520</td>\n",
        "      <td>-0.326921</td>\n",
        "    </tr>\n",
        "    <tr>\n",
        "      <th>UILEM</th>\n",
        "      <td> 0.968190</td>\n",
        "      <td>-0.704138</td>\n",
        "      <td>-1.357980</td>\n",
        "    </tr>\n",
        "    <tr>\n",
        "      <th>UBWEE</th>\n",
        "      <td>-1.228953</td>\n",
        "      <td>-0.568391</td>\n",
        "      <td>-0.660562</td>\n",
        "    </tr>\n",
        "    <tr>\n",
        "      <th>...</th>\n",
        "      <td>...</td>\n",
        "      <td>...</td>\n",
        "      <td>...</td>\n",
        "    </tr>\n",
        "    <tr>\n",
        "      <th>MKDJZ</th>\n",
        "      <td>-1.546589</td>\n",
        "      <td> 1.483719</td>\n",
        "      <td> 1.559163</td>\n",
        "    </tr>\n",
        "    <tr>\n",
        "      <th>BDWWC</th>\n",
        "      <td>-0.980764</td>\n",
        "      <td> 0.880172</td>\n",
        "      <td>-0.427512</td>\n",
        "    </tr>\n",
        "    <tr>\n",
        "      <th>WWMEM</th>\n",
        "      <td> 0.629838</td>\n",
        "      <td>-0.046086</td>\n",
        "      <td> 0.153619</td>\n",
        "    </tr>\n",
        "    <tr>\n",
        "      <th>AUFIP</th>\n",
        "      <td>-0.706648</td>\n",
        "      <td>-1.597638</td>\n",
        "      <td>-0.752733</td>\n",
        "    </tr>\n",
        "    <tr>\n",
        "      <th>QGKPG</th>\n",
        "      <td>-0.537667</td>\n",
        "      <td> 0.860267</td>\n",
        "      <td>-0.015362</td>\n",
        "    </tr>\n",
        "    <tr>\n",
        "      <th>WNQWC</th>\n",
        "      <td> 0.122895</td>\n",
        "      <td> 0.998524</td>\n",
        "      <td>-1.059972</td>\n",
        "    </tr>\n",
        "    <tr>\n",
        "      <th>VGFRL</th>\n",
        "      <td> 1.194520</td>\n",
        "      <td>-0.226330</td>\n",
        "      <td>-0.704138</td>\n",
        "    </tr>\n",
        "    <tr>\n",
        "      <th>TCQMT</th>\n",
        "      <td>-0.389791</td>\n",
        "      <td> 0.943042</td>\n",
        "      <td> 1.131650</td>\n",
        "    </tr>\n",
        "    <tr>\n",
        "      <th>ABQZC</th>\n",
        "      <td> 0.675924</td>\n",
        "      <td> 0.276514</td>\n",
        "      <td>-1.566915</td>\n",
        "    </tr>\n",
        "    <tr>\n",
        "      <th>GBVCS</th>\n",
        "      <td>-1.536191</td>\n",
        "      <td> 1.075334</td>\n",
        "      <td>-1.689810</td>\n",
        "    </tr>\n",
        "    <tr>\n",
        "      <th>JNJFW</th>\n",
        "      <td>-0.215067</td>\n",
        "      <td>-1.136781</td>\n",
        "      <td>-1.628362</td>\n",
        "    </tr>\n",
        "    <tr>\n",
        "      <th>BJUNN</th>\n",
        "      <td>-0.553029</td>\n",
        "      <td> 1.474743</td>\n",
        "      <td>-1.075334</td>\n",
        "    </tr>\n",
        "    <tr>\n",
        "      <th>CFTIT</th>\n",
        "      <td> 1.156798</td>\n",
        "      <td> 0.829877</td>\n",
        "      <td>-1.307685</td>\n",
        "    </tr>\n",
        "    <tr>\n",
        "      <th>PSHKW</th>\n",
        "      <td>-0.829877</td>\n",
        "      <td> 0.326921</td>\n",
        "      <td>-0.050296</td>\n",
        "    </tr>\n",
        "    <tr>\n",
        "      <th>EBUWE</th>\n",
        "      <td> 0.752733</td>\n",
        "      <td>-0.276514</td>\n",
        "      <td> 0.138257</td>\n",
        "    </tr>\n",
        "    <tr>\n",
        "      <th>VFURM</th>\n",
        "      <td>-1.259676</td>\n",
        "      <td> 1.290400</td>\n",
        "      <td> 0.184343</td>\n",
        "    </tr>\n",
        "    <tr>\n",
        "      <th>KWFPE</th>\n",
        "      <td>-0.125739</td>\n",
        "      <td> 1.332833</td>\n",
        "      <td> 1.345406</td>\n",
        "    </tr>\n",
        "    <tr>\n",
        "      <th>YCYXZ</th>\n",
        "      <td>-0.502956</td>\n",
        "      <td>-0.213756</td>\n",
        "      <td>-1.383128</td>\n",
        "    </tr>\n",
        "    <tr>\n",
        "      <th>SYAJN</th>\n",
        "      <td> 1.321124</td>\n",
        "      <td>-1.413295</td>\n",
        "      <td> 0.860267</td>\n",
        "    </tr>\n",
        "    <tr>\n",
        "      <th>OAWDD</th>\n",
        "      <td> 0.088017</td>\n",
        "      <td> 0.955616</td>\n",
        "      <td> 1.534015</td>\n",
        "    </tr>\n",
        "    <tr>\n",
        "      <th>BXFQX</th>\n",
        "      <td> 0.537667</td>\n",
        "      <td>-1.213591</td>\n",
        "      <td> 0.384048</td>\n",
        "    </tr>\n",
        "    <tr>\n",
        "      <th>SRVCR</th>\n",
        "      <td>-0.188608</td>\n",
        "      <td>-0.188608</td>\n",
        "      <td> 1.219668</td>\n",
        "    </tr>\n",
        "    <tr>\n",
        "      <th>KSQIO</th>\n",
        "      <td> 0.276514</td>\n",
        "      <td> 0.553029</td>\n",
        "      <td>-1.659086</td>\n",
        "    </tr>\n",
        "    <tr>\n",
        "      <th>TXXEK</th>\n",
        "      <td>-0.691286</td>\n",
        "      <td> 0.768095</td>\n",
        "      <td> 1.536191</td>\n",
        "    </tr>\n",
        "    <tr>\n",
        "      <th>YPCGH</th>\n",
        "      <td>-0.364643</td>\n",
        "      <td> 0.930468</td>\n",
        "      <td> 0.226330</td>\n",
        "    </tr>\n",
        "    <tr>\n",
        "      <th>SLKUB</th>\n",
        "      <td> 0.905320</td>\n",
        "      <td>-0.276626</td>\n",
        "      <td> 0.653842</td>\n",
        "    </tr>\n",
        "    <tr>\n",
        "      <th>KZUUC</th>\n",
        "      <td> 1.505467</td>\n",
        "      <td>-0.245791</td>\n",
        "      <td>-1.582276</td>\n",
        "    </tr>\n",
        "    <tr>\n",
        "      <th>CABZY</th>\n",
        "      <td>-0.025148</td>\n",
        "      <td> 1.357980</td>\n",
        "      <td>-1.320259</td>\n",
        "    </tr>\n",
        "    <tr>\n",
        "      <th>YODCV</th>\n",
        "      <td> 0.528103</td>\n",
        "      <td> 1.609458</td>\n",
        "      <td> 0.477808</td>\n",
        "    </tr>\n",
        "    <tr>\n",
        "      <th>OZFGU</th>\n",
        "      <td>-0.015362</td>\n",
        "      <td>-0.798819</td>\n",
        "      <td>-1.336486</td>\n",
        "    </tr>\n",
        "  </tbody>\n",
        "</table>\n",
        "<p>500 rows \u00d7 3 columns</p>\n",
        "</div>"
       ],
       "metadata": {},
       "output_type": "pyout",
       "prompt_number": 55,
       "text": [
        "       Momentum  ShortInterest     Value\n",
        "HIXSD  1.520829       0.015362 -1.244315\n",
        "UFFPF  0.980764       1.169372 -0.653842\n",
        "JERPX -0.998524      -1.428657 -0.737372\n",
        "CZIAJ  0.955616       0.653842  1.207094\n",
        "YHMHR -1.622032      -1.144224 -0.125739\n",
        "JYCQZ  0.000000       1.584310  0.326921\n",
        "JNUDM -0.452660      -0.138313  1.307685\n",
        "WWNUN  1.351848      -0.691286  0.967800\n",
        "RVBCB -1.613000       1.720534 -0.353324\n",
        "XFNJK -0.062869      -1.559163  1.169372\n",
        "JWCTN  1.169372       1.068781 -1.219668\n",
        "PMUOK -0.337962       0.184343 -1.551553\n",
        "KLOGZ  1.081355       0.176034  0.968190\n",
        "WINQM  0.153619       0.583752 -1.428657\n",
        "EQRPN -0.645200      -1.290400  0.660562\n",
        "MZCXA  0.599114       0.230429 -1.182867\n",
        "TLNBY  0.291876       0.430133 -1.029248\n",
        "EVZXQ -1.458572      -1.496293 -1.508867\n",
        "DPRYR  1.332833      -1.068781  0.502956\n",
        "EAUJI -0.150887       1.031059  1.596884\n",
        "JXVUM  0.716712      -0.528103  0.804729\n",
        "ZPXZP  0.238904       0.666416  0.980764\n",
        "PZAOD -0.814181       1.121419 -0.522305\n",
        "VYOHX  0.855025      -0.125739  1.584310\n",
        "CUBUT  0.452660       1.420850 -0.767007\n",
        "UREVF -0.767007      -0.880172  0.779581\n",
        "VQVNA -1.628362      -0.138257 -1.013886\n",
        "YOLLO -1.295111       1.194520 -0.326921\n",
        "UILEM  0.968190      -0.704138 -1.357980\n",
        "UBWEE -1.228953      -0.568391 -0.660562\n",
        "...         ...            ...       ...\n",
        "MKDJZ -1.546589       1.483719  1.559163\n",
        "BDWWC -0.980764       0.880172 -0.427512\n",
        "WWMEM  0.629838      -0.046086  0.153619\n",
        "AUFIP -0.706648      -1.597638 -0.752733\n",
        "QGKPG -0.537667       0.860267 -0.015362\n",
        "WNQWC  0.122895       0.998524 -1.059972\n",
        "VGFRL  1.194520      -0.226330 -0.704138\n",
        "TCQMT -0.389791       0.943042  1.131650\n",
        "ABQZC  0.675924       0.276514 -1.566915\n",
        "GBVCS -1.536191       1.075334 -1.689810\n",
        "JNJFW -0.215067      -1.136781 -1.628362\n",
        "BJUNN -0.553029       1.474743 -1.075334\n",
        "CFTIT  1.156798       0.829877 -1.307685\n",
        "PSHKW -0.829877       0.326921 -0.050296\n",
        "EBUWE  0.752733      -0.276514  0.138257\n",
        "VFURM -1.259676       1.290400  0.184343\n",
        "KWFPE -0.125739       1.332833  1.345406\n",
        "YCYXZ -0.502956      -0.213756 -1.383128\n",
        "SYAJN  1.321124      -1.413295  0.860267\n",
        "OAWDD  0.088017       0.955616  1.534015\n",
        "BXFQX  0.537667      -1.213591  0.384048\n",
        "SRVCR -0.188608      -0.188608  1.219668\n",
        "KSQIO  0.276514       0.553029 -1.659086\n",
        "TXXEK -0.691286       0.768095  1.536191\n",
        "YPCGH -0.364643       0.930468  0.226330\n",
        "SLKUB  0.905320      -0.276626  0.653842\n",
        "KZUUC  1.505467      -0.245791 -1.582276\n",
        "CABZY -0.025148       1.357980 -1.320259\n",
        "YODCV  0.528103       1.609458  0.477808\n",
        "OZFGU -0.015362      -0.798819 -1.336486\n",
        "\n",
        "[500 rows x 3 columns]"
       ]
      }
     ],
     "prompt_number": 55
    },
    {
     "cell_type": "markdown",
     "metadata": {},
     "source": [
      "### Group Factor Exposures"
     ]
    },
    {
     "cell_type": "code",
     "collapsed": false,
     "input": [
      "from numpy.random import rand"
     ],
     "language": "python",
     "metadata": {},
     "outputs": [],
     "prompt_number": 56
    },
    {
     "cell_type": "code",
     "collapsed": false,
     "input": [
      "fac1, fac2, fac3 = rand(3, 1000)"
     ],
     "language": "python",
     "metadata": {},
     "outputs": [],
     "prompt_number": 57
    },
    {
     "cell_type": "code",
     "collapsed": false,
     "input": [
      "ticker_subset = tickers.take(np.random.permutation(N)[:1000])"
     ],
     "language": "python",
     "metadata": {},
     "outputs": [],
     "prompt_number": 60
    },
    {
     "cell_type": "code",
     "collapsed": false,
     "input": [
      "port = Series(0.7 * fac1 - 1.2 * fac2 + 0.3 * fac3 + rand(1000),\n",
      "              index = ticker_subset)"
     ],
     "language": "python",
     "metadata": {},
     "outputs": [],
     "prompt_number": 61
    },
    {
     "cell_type": "code",
     "collapsed": false,
     "input": [
      "factors = DataFrame({'f1': fac1, 'f2': fac2, 'f3': fac3},\n",
      "                    index = ticker_subset)"
     ],
     "language": "python",
     "metadata": {},
     "outputs": [],
     "prompt_number": 62
    },
    {
     "cell_type": "code",
     "collapsed": false,
     "input": [
      "factors.corrwith(port)"
     ],
     "language": "python",
     "metadata": {},
     "outputs": [
      {
       "metadata": {},
       "output_type": "pyout",
       "prompt_number": 63,
       "text": [
        "f1    0.436572\n",
        "f2   -0.694963\n",
        "f3    0.206939\n",
        "dtype: float64"
       ]
      }
     ],
     "prompt_number": 63
    },
    {
     "cell_type": "code",
     "collapsed": false,
     "input": [
      "pd.ols(y = port, x = factors).beta"
     ],
     "language": "python",
     "metadata": {},
     "outputs": [
      {
       "metadata": {},
       "output_type": "pyout",
       "prompt_number": 64,
       "text": [
        "f1           0.712542\n",
        "f2          -1.207459\n",
        "f3           0.336589\n",
        "intercept    0.480159\n",
        "dtype: float64"
       ]
      }
     ],
     "prompt_number": 64
    },
    {
     "cell_type": "code",
     "collapsed": false,
     "input": [
      "def  beta_exposure(chunk, factors = None):\n",
      "    return pd.ols(y = chunk, x = factors).beta"
     ],
     "language": "python",
     "metadata": {},
     "outputs": [],
     "prompt_number": 65
    },
    {
     "cell_type": "code",
     "collapsed": false,
     "input": [
      "by_ind = port.groupby(industries)\n",
      "exposures = by_ind.apply(beta_exposure, factors = factors)"
     ],
     "language": "python",
     "metadata": {},
     "outputs": [],
     "prompt_number": 66
    },
    {
     "cell_type": "code",
     "collapsed": false,
     "input": [
      "exposures.unstack()"
     ],
     "language": "python",
     "metadata": {},
     "outputs": [
      {
       "html": [
        "<div style=\"max-height:1000px;max-width:1500px;overflow:auto;\">\n",
        "<table border=\"1\" class=\"dataframe\">\n",
        "  <thead>\n",
        "    <tr style=\"text-align: right;\">\n",
        "      <th></th>\n",
        "      <th>f1</th>\n",
        "      <th>f2</th>\n",
        "      <th>f3</th>\n",
        "      <th>intercept</th>\n",
        "    </tr>\n",
        "    <tr>\n",
        "      <th>industry</th>\n",
        "      <th></th>\n",
        "      <th></th>\n",
        "      <th></th>\n",
        "      <th></th>\n",
        "    </tr>\n",
        "  </thead>\n",
        "  <tbody>\n",
        "    <tr>\n",
        "      <th>FINANCIAL</th>\n",
        "      <td> 0.717397</td>\n",
        "      <td>-1.164933</td>\n",
        "      <td> 0.390406</td>\n",
        "      <td> 0.429862</td>\n",
        "    </tr>\n",
        "    <tr>\n",
        "      <th>TECH</th>\n",
        "      <td> 0.706986</td>\n",
        "      <td>-1.244177</td>\n",
        "      <td> 0.285228</td>\n",
        "      <td> 0.526242</td>\n",
        "    </tr>\n",
        "  </tbody>\n",
        "</table>\n",
        "</div>"
       ],
       "metadata": {},
       "output_type": "pyout",
       "prompt_number": 67,
       "text": [
        "                 f1        f2        f3  intercept\n",
        "industry                                          \n",
        "FINANCIAL  0.717397 -1.164933  0.390406   0.429862\n",
        "TECH       0.706986 -1.244177  0.285228   0.526242"
       ]
      }
     ],
     "prompt_number": 67
    },
    {
     "cell_type": "markdown",
     "metadata": {},
     "source": [
      "### Decile and Quartile Analysis"
     ]
    },
    {
     "cell_type": "code",
     "collapsed": false,
     "input": [
      "import pandas.io.data as web"
     ],
     "language": "python",
     "metadata": {},
     "outputs": [],
     "prompt_number": 68
    },
    {
     "cell_type": "code",
     "collapsed": false,
     "input": [
      "data = web.get_data_yahoo('SPY', '2006-01-01')"
     ],
     "language": "python",
     "metadata": {},
     "outputs": [],
     "prompt_number": 69
    },
    {
     "cell_type": "code",
     "collapsed": false,
     "input": [
      "data.head()"
     ],
     "language": "python",
     "metadata": {},
     "outputs": [
      {
       "html": [
        "<div style=\"max-height:1000px;max-width:1500px;overflow:auto;\">\n",
        "<table border=\"1\" class=\"dataframe\">\n",
        "  <thead>\n",
        "    <tr style=\"text-align: right;\">\n",
        "      <th></th>\n",
        "      <th>Open</th>\n",
        "      <th>High</th>\n",
        "      <th>Low</th>\n",
        "      <th>Close</th>\n",
        "      <th>Volume</th>\n",
        "      <th>Adj Close</th>\n",
        "    </tr>\n",
        "    <tr>\n",
        "      <th>Date</th>\n",
        "      <th></th>\n",
        "      <th></th>\n",
        "      <th></th>\n",
        "      <th></th>\n",
        "      <th></th>\n",
        "      <th></th>\n",
        "    </tr>\n",
        "  </thead>\n",
        "  <tbody>\n",
        "    <tr>\n",
        "      <th>2006-01-03</th>\n",
        "      <td> 125.190002</td>\n",
        "      <td> 127.000000</td>\n",
        "      <td> 124.389999</td>\n",
        "      <td> 126.699997</td>\n",
        "      <td> 73256700</td>\n",
        "      <td> 104.350532</td>\n",
        "    </tr>\n",
        "    <tr>\n",
        "      <th>2006-01-04</th>\n",
        "      <td> 126.860001</td>\n",
        "      <td> 127.489998</td>\n",
        "      <td> 126.699997</td>\n",
        "      <td> 127.300003</td>\n",
        "      <td> 51899600</td>\n",
        "      <td> 104.844699</td>\n",
        "    </tr>\n",
        "    <tr>\n",
        "      <th>2006-01-05</th>\n",
        "      <td> 127.150002</td>\n",
        "      <td> 127.589996</td>\n",
        "      <td> 126.879997</td>\n",
        "      <td> 127.379997</td>\n",
        "      <td> 47307500</td>\n",
        "      <td> 104.910583</td>\n",
        "    </tr>\n",
        "    <tr>\n",
        "      <th>2006-01-06</th>\n",
        "      <td> 128.020004</td>\n",
        "      <td> 128.580002</td>\n",
        "      <td> 127.360001</td>\n",
        "      <td> 128.440002</td>\n",
        "      <td> 62885900</td>\n",
        "      <td> 105.783606</td>\n",
        "    </tr>\n",
        "    <tr>\n",
        "      <th>2006-01-09</th>\n",
        "      <td> 128.419998</td>\n",
        "      <td> 129.059998</td>\n",
        "      <td> 128.380005</td>\n",
        "      <td> 128.770004</td>\n",
        "      <td> 43527400</td>\n",
        "      <td> 106.055397</td>\n",
        "    </tr>\n",
        "  </tbody>\n",
        "</table>\n",
        "</div>"
       ],
       "metadata": {},
       "output_type": "pyout",
       "prompt_number": 71,
       "text": [
        "                  Open        High         Low       Close    Volume  \\\n",
        "Date                                                                   \n",
        "2006-01-03  125.190002  127.000000  124.389999  126.699997  73256700   \n",
        "2006-01-04  126.860001  127.489998  126.699997  127.300003  51899600   \n",
        "2006-01-05  127.150002  127.589996  126.879997  127.379997  47307500   \n",
        "2006-01-06  128.020004  128.580002  127.360001  128.440002  62885900   \n",
        "2006-01-09  128.419998  129.059998  128.380005  128.770004  43527400   \n",
        "\n",
        "             Adj Close  \n",
        "Date                    \n",
        "2006-01-03  104.350532  \n",
        "2006-01-04  104.844699  \n",
        "2006-01-05  104.910583  \n",
        "2006-01-06  105.783606  \n",
        "2006-01-09  106.055397  "
       ]
      }
     ],
     "prompt_number": 71
    },
    {
     "cell_type": "code",
     "collapsed": false,
     "input": [
      "px = data['Adj Close']"
     ],
     "language": "python",
     "metadata": {},
     "outputs": [],
     "prompt_number": 72
    },
    {
     "cell_type": "code",
     "collapsed": false,
     "input": [
      "returns = px.pct_change()"
     ],
     "language": "python",
     "metadata": {},
     "outputs": [],
     "prompt_number": 73
    },
    {
     "cell_type": "code",
     "collapsed": false,
     "input": [
      "def to_index(rets):\n",
      "    index = (1 + rets).cumprod()\n",
      "    first_loc = max(index.notnull().argmax() - 1, 0)\n",
      "    index.values[first_loc] = 1\n",
      "    return index"
     ],
     "language": "python",
     "metadata": {},
     "outputs": [],
     "prompt_number": 80
    },
    {
     "cell_type": "code",
     "collapsed": false,
     "input": [
      "def trend_signal(rets, lookback, lag):\n",
      "    signal = pd.rolling_sum(rets, lookback, min_periods=lookback - 5)\n",
      "    return signal.shift(lag)"
     ],
     "language": "python",
     "metadata": {},
     "outputs": [],
     "prompt_number": 75
    },
    {
     "cell_type": "code",
     "collapsed": false,
     "input": [
      "signal = trend_signal(returns, 100, 3)"
     ],
     "language": "python",
     "metadata": {},
     "outputs": [],
     "prompt_number": 76
    },
    {
     "cell_type": "code",
     "collapsed": false,
     "input": [
      "trade_friday = signal.resample('W-FRI').resample('B', fill_method = 'ffill')"
     ],
     "language": "python",
     "metadata": {},
     "outputs": [],
     "prompt_number": 77
    },
    {
     "cell_type": "code",
     "collapsed": false,
     "input": [
      "trade_rets = trade_friday.shift(1) * returns"
     ],
     "language": "python",
     "metadata": {},
     "outputs": [],
     "prompt_number": 78
    },
    {
     "cell_type": "code",
     "collapsed": false,
     "input": [
      "to_index(trade_rets).plot()"
     ],
     "language": "python",
     "metadata": {},
     "outputs": [
      {
       "ename": "ValueError",
       "evalue": "Cannot add integral value to Timestamp without offset.",
       "output_type": "pyerr",
       "traceback": [
        "\u001b[0;31m---------------------------------------------------------------------------\u001b[0m\n\u001b[0;31mValueError\u001b[0m                                Traceback (most recent call last)",
        "\u001b[0;32m<ipython-input-81-d7a37e094783>\u001b[0m in \u001b[0;36m<module>\u001b[0;34m()\u001b[0m\n\u001b[0;32m----> 1\u001b[0;31m \u001b[0mto_index\u001b[0m\u001b[0;34m(\u001b[0m\u001b[0mtrade_rets\u001b[0m\u001b[0;34m)\u001b[0m\u001b[0;34m.\u001b[0m\u001b[0mplot\u001b[0m\u001b[0;34m(\u001b[0m\u001b[0;34m)\u001b[0m\u001b[0;34m\u001b[0m\u001b[0m\n\u001b[0m",
        "\u001b[0;32m<ipython-input-80-8dbcc626ede9>\u001b[0m in \u001b[0;36mto_index\u001b[0;34m(rets)\u001b[0m\n\u001b[1;32m      1\u001b[0m \u001b[0;32mdef\u001b[0m \u001b[0mto_index\u001b[0m\u001b[0;34m(\u001b[0m\u001b[0mrets\u001b[0m\u001b[0;34m)\u001b[0m\u001b[0;34m:\u001b[0m\u001b[0;34m\u001b[0m\u001b[0m\n\u001b[1;32m      2\u001b[0m     \u001b[0mindex\u001b[0m \u001b[0;34m=\u001b[0m \u001b[0;34m(\u001b[0m\u001b[0;36m1\u001b[0m \u001b[0;34m+\u001b[0m \u001b[0mrets\u001b[0m\u001b[0;34m)\u001b[0m\u001b[0;34m.\u001b[0m\u001b[0mcumprod\u001b[0m\u001b[0;34m(\u001b[0m\u001b[0;34m)\u001b[0m\u001b[0;34m\u001b[0m\u001b[0m\n\u001b[0;32m----> 3\u001b[0;31m     \u001b[0mfirst_loc\u001b[0m \u001b[0;34m=\u001b[0m \u001b[0mmax\u001b[0m\u001b[0;34m(\u001b[0m\u001b[0mindex\u001b[0m\u001b[0;34m.\u001b[0m\u001b[0mnotnull\u001b[0m\u001b[0;34m(\u001b[0m\u001b[0;34m)\u001b[0m\u001b[0;34m.\u001b[0m\u001b[0margmax\u001b[0m\u001b[0;34m(\u001b[0m\u001b[0;34m)\u001b[0m \u001b[0;34m-\u001b[0m \u001b[0;36m1\u001b[0m\u001b[0;34m,\u001b[0m \u001b[0;36m0\u001b[0m\u001b[0;34m)\u001b[0m\u001b[0;34m\u001b[0m\u001b[0m\n\u001b[0m\u001b[1;32m      4\u001b[0m     \u001b[0mindex\u001b[0m\u001b[0;34m.\u001b[0m\u001b[0mvalues\u001b[0m\u001b[0;34m[\u001b[0m\u001b[0mfirst_loc\u001b[0m\u001b[0;34m]\u001b[0m \u001b[0;34m=\u001b[0m \u001b[0;36m1\u001b[0m\u001b[0;34m\u001b[0m\u001b[0m\n\u001b[1;32m      5\u001b[0m     \u001b[0;32mreturn\u001b[0m \u001b[0mindex\u001b[0m\u001b[0;34m\u001b[0m\u001b[0m\n",
        "\u001b[0;32m/usr/local/lib/python2.7/dist-packages/pandas/tslib.so\u001b[0m in \u001b[0;36mpandas.tslib._Timestamp.__sub__ (pandas/tslib.c:15883)\u001b[0;34m()\u001b[0m\n",
        "\u001b[0;32m/usr/local/lib/python2.7/dist-packages/pandas/tslib.so\u001b[0m in \u001b[0;36mpandas.tslib._Timestamp.__add__ (pandas/tslib.c:15382)\u001b[0;34m()\u001b[0m\n",
        "\u001b[0;31mValueError\u001b[0m: Cannot add integral value to Timestamp without offset."
       ]
      }
     ],
     "prompt_number": 81
    },
    {
     "cell_type": "code",
     "collapsed": false,
     "input": [
      "vol = pd.rolling_std(returns, 250, min_periods=200) * np.sqrt(250)"
     ],
     "language": "python",
     "metadata": {},
     "outputs": [],
     "prompt_number": 82
    },
    {
     "cell_type": "code",
     "collapsed": false,
     "input": [
      "def sharpe(rets, ann = 250):\n",
      "    return rets.mean() / rets.std() * np.sqrt(ann)"
     ],
     "language": "python",
     "metadata": {},
     "outputs": [],
     "prompt_number": 83
    },
    {
     "cell_type": "code",
     "collapsed": false,
     "input": [
      "trade_rets.groupby(pd.qcut(vol, 4)).agg(sharpe)"
     ],
     "language": "python",
     "metadata": {},
     "outputs": [
      {
       "metadata": {},
       "output_type": "pyout",
       "prompt_number": 84,
       "text": [
        "[0.0954, 0.115]    0.419285\n",
        "(0.115, 0.171]     0.203311\n",
        "(0.171, 0.218]     0.062028\n",
        "(0.218, 0.457]     0.446697\n",
        "dtype: float64"
       ]
      }
     ],
     "prompt_number": 84
    },
    {
     "cell_type": "markdown",
     "metadata": {},
     "source": [
      "## More Example Application"
     ]
    },
    {
     "cell_type": "markdown",
     "metadata": {},
     "source": [
      "### Signal Frontier Analysis"
     ]
    },
    {
     "cell_type": "code",
     "collapsed": false,
     "input": [
      "names = ['AAPL', 'GOOG', 'MSFT', 'DELL', 'GS', 'MS', 'BAC', 'C']"
     ],
     "language": "python",
     "metadata": {},
     "outputs": [],
     "prompt_number": 86
    },
    {
     "cell_type": "code",
     "collapsed": false,
     "input": [
      "def get_px(stock, start, end):\n",
      "    return web.get_data_yahoo(stock, start, end)['Adj Close']\n",
      "px = DataFrame({n: get_px(n, '1/1/2012', '6/1/2012') for n in names})"
     ],
     "language": "python",
     "metadata": {},
     "outputs": [
      {
       "ename": "IOError",
       "evalue": "after 3 tries, Yahoo! did not return a 200 for url 'http://ichart.finance.yahoo.com/table.csv?s=GOOG&a=0&b=1&c=2012&d=5&e=1&f=2012&g=d&ignore=.csv'",
       "output_type": "pyerr",
       "traceback": [
        "\u001b[0;31m---------------------------------------------------------------------------\u001b[0m\n\u001b[0;31mIOError\u001b[0m                                   Traceback (most recent call last)",
        "\u001b[0;32m<ipython-input-88-bc73b0ef216e>\u001b[0m in \u001b[0;36m<module>\u001b[0;34m()\u001b[0m\n\u001b[1;32m      1\u001b[0m \u001b[0;32mdef\u001b[0m \u001b[0mget_px\u001b[0m\u001b[0;34m(\u001b[0m\u001b[0mstock\u001b[0m\u001b[0;34m,\u001b[0m \u001b[0mstart\u001b[0m\u001b[0;34m,\u001b[0m \u001b[0mend\u001b[0m\u001b[0;34m)\u001b[0m\u001b[0;34m:\u001b[0m\u001b[0;34m\u001b[0m\u001b[0m\n\u001b[1;32m      2\u001b[0m     \u001b[0;32mreturn\u001b[0m \u001b[0mweb\u001b[0m\u001b[0;34m.\u001b[0m\u001b[0mget_data_yahoo\u001b[0m\u001b[0;34m(\u001b[0m\u001b[0mstock\u001b[0m\u001b[0;34m,\u001b[0m \u001b[0mstart\u001b[0m\u001b[0;34m,\u001b[0m \u001b[0mend\u001b[0m\u001b[0;34m)\u001b[0m\u001b[0;34m[\u001b[0m\u001b[0;34m'Adj Close'\u001b[0m\u001b[0;34m]\u001b[0m\u001b[0;34m\u001b[0m\u001b[0m\n\u001b[0;32m----> 3\u001b[0;31m \u001b[0mpx\u001b[0m \u001b[0;34m=\u001b[0m \u001b[0mDataFrame\u001b[0m\u001b[0;34m(\u001b[0m\u001b[0;34m{\u001b[0m\u001b[0mn\u001b[0m\u001b[0;34m:\u001b[0m \u001b[0mget_px\u001b[0m\u001b[0;34m(\u001b[0m\u001b[0mn\u001b[0m\u001b[0;34m,\u001b[0m \u001b[0;34m'1/1/2012'\u001b[0m\u001b[0;34m,\u001b[0m \u001b[0;34m'6/1/2012'\u001b[0m\u001b[0;34m)\u001b[0m \u001b[0;32mfor\u001b[0m \u001b[0mn\u001b[0m \u001b[0;32min\u001b[0m \u001b[0mnames\u001b[0m\u001b[0;34m}\u001b[0m\u001b[0;34m)\u001b[0m\u001b[0;34m\u001b[0m\u001b[0m\n\u001b[0m",
        "\u001b[0;32m<ipython-input-88-bc73b0ef216e>\u001b[0m in \u001b[0;36m<dictcomp>\u001b[0;34m((n,))\u001b[0m\n\u001b[1;32m      1\u001b[0m \u001b[0;32mdef\u001b[0m \u001b[0mget_px\u001b[0m\u001b[0;34m(\u001b[0m\u001b[0mstock\u001b[0m\u001b[0;34m,\u001b[0m \u001b[0mstart\u001b[0m\u001b[0;34m,\u001b[0m \u001b[0mend\u001b[0m\u001b[0;34m)\u001b[0m\u001b[0;34m:\u001b[0m\u001b[0;34m\u001b[0m\u001b[0m\n\u001b[1;32m      2\u001b[0m     \u001b[0;32mreturn\u001b[0m \u001b[0mweb\u001b[0m\u001b[0;34m.\u001b[0m\u001b[0mget_data_yahoo\u001b[0m\u001b[0;34m(\u001b[0m\u001b[0mstock\u001b[0m\u001b[0;34m,\u001b[0m \u001b[0mstart\u001b[0m\u001b[0;34m,\u001b[0m \u001b[0mend\u001b[0m\u001b[0;34m)\u001b[0m\u001b[0;34m[\u001b[0m\u001b[0;34m'Adj Close'\u001b[0m\u001b[0;34m]\u001b[0m\u001b[0;34m\u001b[0m\u001b[0m\n\u001b[0;32m----> 3\u001b[0;31m \u001b[0mpx\u001b[0m \u001b[0;34m=\u001b[0m \u001b[0mDataFrame\u001b[0m\u001b[0;34m(\u001b[0m\u001b[0;34m{\u001b[0m\u001b[0mn\u001b[0m\u001b[0;34m:\u001b[0m \u001b[0mget_px\u001b[0m\u001b[0;34m(\u001b[0m\u001b[0mn\u001b[0m\u001b[0;34m,\u001b[0m \u001b[0;34m'1/1/2012'\u001b[0m\u001b[0;34m,\u001b[0m \u001b[0;34m'6/1/2012'\u001b[0m\u001b[0;34m)\u001b[0m \u001b[0;32mfor\u001b[0m \u001b[0mn\u001b[0m \u001b[0;32min\u001b[0m \u001b[0mnames\u001b[0m\u001b[0;34m}\u001b[0m\u001b[0;34m)\u001b[0m\u001b[0;34m\u001b[0m\u001b[0m\n\u001b[0m",
        "\u001b[0;32m<ipython-input-88-bc73b0ef216e>\u001b[0m in \u001b[0;36mget_px\u001b[0;34m(stock, start, end)\u001b[0m\n\u001b[1;32m      1\u001b[0m \u001b[0;32mdef\u001b[0m \u001b[0mget_px\u001b[0m\u001b[0;34m(\u001b[0m\u001b[0mstock\u001b[0m\u001b[0;34m,\u001b[0m \u001b[0mstart\u001b[0m\u001b[0;34m,\u001b[0m \u001b[0mend\u001b[0m\u001b[0;34m)\u001b[0m\u001b[0;34m:\u001b[0m\u001b[0;34m\u001b[0m\u001b[0m\n\u001b[0;32m----> 2\u001b[0;31m     \u001b[0;32mreturn\u001b[0m \u001b[0mweb\u001b[0m\u001b[0;34m.\u001b[0m\u001b[0mget_data_yahoo\u001b[0m\u001b[0;34m(\u001b[0m\u001b[0mstock\u001b[0m\u001b[0;34m,\u001b[0m \u001b[0mstart\u001b[0m\u001b[0;34m,\u001b[0m \u001b[0mend\u001b[0m\u001b[0;34m)\u001b[0m\u001b[0;34m[\u001b[0m\u001b[0;34m'Adj Close'\u001b[0m\u001b[0;34m]\u001b[0m\u001b[0;34m\u001b[0m\u001b[0m\n\u001b[0m\u001b[1;32m      3\u001b[0m \u001b[0mpx\u001b[0m \u001b[0;34m=\u001b[0m \u001b[0mDataFrame\u001b[0m\u001b[0;34m(\u001b[0m\u001b[0;34m{\u001b[0m\u001b[0mn\u001b[0m\u001b[0;34m:\u001b[0m \u001b[0mget_px\u001b[0m\u001b[0;34m(\u001b[0m\u001b[0mn\u001b[0m\u001b[0;34m,\u001b[0m \u001b[0;34m'1/1/2012'\u001b[0m\u001b[0;34m,\u001b[0m \u001b[0;34m'6/1/2012'\u001b[0m\u001b[0;34m)\u001b[0m \u001b[0;32mfor\u001b[0m \u001b[0mn\u001b[0m \u001b[0;32min\u001b[0m \u001b[0mnames\u001b[0m\u001b[0;34m}\u001b[0m\u001b[0;34m)\u001b[0m\u001b[0;34m\u001b[0m\u001b[0m\n",
        "\u001b[0;32m/usr/local/lib/python2.7/dist-packages/pandas/io/data.pyc\u001b[0m in \u001b[0;36mget_data_yahoo\u001b[0;34m(symbols, start, end, retry_count, pause, adjust_price, ret_index, chunksize)\u001b[0m\n\u001b[1;32m    400\u001b[0m     \"\"\"\n\u001b[1;32m    401\u001b[0m     return _get_data_from(symbols, start, end, retry_count, pause,\n\u001b[0;32m--> 402\u001b[0;31m                           adjust_price, ret_index, chunksize, 'yahoo')\n\u001b[0m\u001b[1;32m    403\u001b[0m \u001b[0;34m\u001b[0m\u001b[0m\n\u001b[1;32m    404\u001b[0m \u001b[0;34m\u001b[0m\u001b[0m\n",
        "\u001b[0;32m/usr/local/lib/python2.7/dist-packages/pandas/io/data.pyc\u001b[0m in \u001b[0;36m_get_data_from\u001b[0;34m(symbols, start, end, retry_count, pause, adjust_price, ret_index, chunksize, source)\u001b[0m\n\u001b[1;32m    346\u001b[0m     \u001b[0;31m# If a single symbol, (e.g., 'GOOG')\u001b[0m\u001b[0;34m\u001b[0m\u001b[0;34m\u001b[0m\u001b[0m\n\u001b[1;32m    347\u001b[0m     \u001b[0;32mif\u001b[0m \u001b[0misinstance\u001b[0m\u001b[0;34m(\u001b[0m\u001b[0msymbols\u001b[0m\u001b[0;34m,\u001b[0m \u001b[0;34m(\u001b[0m\u001b[0mcompat\u001b[0m\u001b[0;34m.\u001b[0m\u001b[0mstring_types\u001b[0m\u001b[0;34m,\u001b[0m \u001b[0mint\u001b[0m\u001b[0;34m)\u001b[0m\u001b[0;34m)\u001b[0m\u001b[0;34m:\u001b[0m\u001b[0;34m\u001b[0m\u001b[0m\n\u001b[0;32m--> 348\u001b[0;31m         \u001b[0mhist_data\u001b[0m \u001b[0;34m=\u001b[0m \u001b[0msrc_fn\u001b[0m\u001b[0;34m(\u001b[0m\u001b[0msymbols\u001b[0m\u001b[0;34m,\u001b[0m \u001b[0mstart\u001b[0m\u001b[0;34m,\u001b[0m \u001b[0mend\u001b[0m\u001b[0;34m,\u001b[0m \u001b[0mretry_count\u001b[0m\u001b[0;34m,\u001b[0m \u001b[0mpause\u001b[0m\u001b[0;34m)\u001b[0m\u001b[0;34m\u001b[0m\u001b[0m\n\u001b[0m\u001b[1;32m    349\u001b[0m     \u001b[0;31m# Or multiple symbols, (e.g., ['GOOG', 'AAPL', 'MSFT'])\u001b[0m\u001b[0;34m\u001b[0m\u001b[0;34m\u001b[0m\u001b[0m\n\u001b[1;32m    350\u001b[0m     \u001b[0;32melif\u001b[0m \u001b[0misinstance\u001b[0m\u001b[0;34m(\u001b[0m\u001b[0msymbols\u001b[0m\u001b[0;34m,\u001b[0m \u001b[0mDataFrame\u001b[0m\u001b[0;34m)\u001b[0m\u001b[0;34m:\u001b[0m\u001b[0;34m\u001b[0m\u001b[0m\n",
        "\u001b[0;32m/usr/local/lib/python2.7/dist-packages/pandas/io/data.pyc\u001b[0m in \u001b[0;36m_get_hist_yahoo\u001b[0;34m(sym, start, end, retry_count, pause)\u001b[0m\n\u001b[1;32m    199\u001b[0m            \u001b[0;34m'&g=d'\u001b[0m \u001b[0;34m+\u001b[0m\u001b[0;34m\u001b[0m\u001b[0m\n\u001b[1;32m    200\u001b[0m            '&ignore=.csv')\n\u001b[0;32m--> 201\u001b[0;31m     \u001b[0;32mreturn\u001b[0m \u001b[0m_retry_read_url\u001b[0m\u001b[0;34m(\u001b[0m\u001b[0murl\u001b[0m\u001b[0;34m,\u001b[0m \u001b[0mretry_count\u001b[0m\u001b[0;34m,\u001b[0m \u001b[0mpause\u001b[0m\u001b[0;34m,\u001b[0m \u001b[0;34m'Yahoo!'\u001b[0m\u001b[0;34m)\u001b[0m\u001b[0;34m\u001b[0m\u001b[0m\n\u001b[0m\u001b[1;32m    202\u001b[0m \u001b[0;34m\u001b[0m\u001b[0m\n\u001b[1;32m    203\u001b[0m \u001b[0;34m\u001b[0m\u001b[0m\n",
        "\u001b[0;32m/usr/local/lib/python2.7/dist-packages/pandas/io/data.pyc\u001b[0m in \u001b[0;36m_retry_read_url\u001b[0;34m(url, retry_count, pause, name)\u001b[0m\n\u001b[1;32m    176\u001b[0m \u001b[0;34m\u001b[0m\u001b[0m\n\u001b[1;32m    177\u001b[0m     raise IOError(\"after %d tries, %s did not \"\n\u001b[0;32m--> 178\u001b[0;31m                   \"return a 200 for url %r\" % (retry_count, name, url))\n\u001b[0m\u001b[1;32m    179\u001b[0m \u001b[0;34m\u001b[0m\u001b[0m\n\u001b[1;32m    180\u001b[0m \u001b[0;34m\u001b[0m\u001b[0m\n",
        "\u001b[0;31mIOError\u001b[0m: after 3 tries, Yahoo! did not return a 200 for url 'http://ichart.finance.yahoo.com/table.csv?s=GOOG&a=0&b=1&c=2012&d=5&e=1&f=2012&g=d&ignore=.csv'"
       ]
      }
     ],
     "prompt_number": 88
    },
    {
     "cell_type": "code",
     "collapsed": false,
     "input": [],
     "language": "python",
     "metadata": {},
     "outputs": []
    }
   ],
   "metadata": {}
  }
 ]
}