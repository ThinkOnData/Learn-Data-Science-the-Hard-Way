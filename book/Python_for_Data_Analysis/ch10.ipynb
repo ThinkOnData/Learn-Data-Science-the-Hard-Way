{
 "metadata": {
  "name": "",
  "signature": "sha256:6255fcc6aebddf1b3214e4ed626c6c0ceac7e0486dfe9a7fcff9d84fbd7d2dd4"
 },
 "nbformat": 3,
 "nbformat_minor": 0,
 "worksheets": [
  {
   "cells": [
    {
     "cell_type": "markdown",
     "metadata": {},
     "source": [
      "#CHAPTER 10"
     ]
    },
    {
     "cell_type": "markdown",
     "metadata": {},
     "source": [
      "# Time Series"
     ]
    },
    {
     "cell_type": "code",
     "collapsed": false,
     "input": [
      "import pandas as pd\n",
      "import numpy as np"
     ],
     "language": "python",
     "metadata": {},
     "outputs": [],
     "prompt_number": 43
    },
    {
     "cell_type": "code",
     "collapsed": false,
     "input": [
      "from datetime import datetime"
     ],
     "language": "python",
     "metadata": {},
     "outputs": [],
     "prompt_number": 2
    },
    {
     "cell_type": "code",
     "collapsed": false,
     "input": [
      "now = datetime.now()"
     ],
     "language": "python",
     "metadata": {},
     "outputs": [],
     "prompt_number": 3
    },
    {
     "cell_type": "code",
     "collapsed": false,
     "input": [
      "now"
     ],
     "language": "python",
     "metadata": {},
     "outputs": [
      {
       "metadata": {},
       "output_type": "pyout",
       "prompt_number": 4,
       "text": [
        "datetime.datetime(2015, 6, 20, 14, 49, 43, 456958)"
       ]
      }
     ],
     "prompt_number": 4
    },
    {
     "cell_type": "code",
     "collapsed": false,
     "input": [
      "now.year"
     ],
     "language": "python",
     "metadata": {},
     "outputs": [
      {
       "metadata": {},
       "output_type": "pyout",
       "prompt_number": 6,
       "text": [
        "2015"
       ]
      }
     ],
     "prompt_number": 6
    },
    {
     "cell_type": "code",
     "collapsed": false,
     "input": [
      "now.month, now.day"
     ],
     "language": "python",
     "metadata": {},
     "outputs": [
      {
       "metadata": {},
       "output_type": "pyout",
       "prompt_number": 7,
       "text": [
        "(6, 20)"
       ]
      }
     ],
     "prompt_number": 7
    },
    {
     "cell_type": "code",
     "collapsed": false,
     "input": [
      "delta = datetime(2011, 11, 7) - datetime(2008, 6, 24, 8, 30)"
     ],
     "language": "python",
     "metadata": {},
     "outputs": [],
     "prompt_number": 8
    },
    {
     "cell_type": "code",
     "collapsed": false,
     "input": [
      "delta"
     ],
     "language": "python",
     "metadata": {},
     "outputs": [
      {
       "metadata": {},
       "output_type": "pyout",
       "prompt_number": 9,
       "text": [
        "datetime.timedelta(1230, 55800)"
       ]
      }
     ],
     "prompt_number": 9
    },
    {
     "cell_type": "code",
     "collapsed": false,
     "input": [
      "delta.days"
     ],
     "language": "python",
     "metadata": {},
     "outputs": [
      {
       "metadata": {},
       "output_type": "pyout",
       "prompt_number": 10,
       "text": [
        "1230"
       ]
      }
     ],
     "prompt_number": 10
    },
    {
     "cell_type": "code",
     "collapsed": false,
     "input": [
      "delta.seconds"
     ],
     "language": "python",
     "metadata": {},
     "outputs": [
      {
       "metadata": {},
       "output_type": "pyout",
       "prompt_number": 11,
       "text": [
        "55800"
       ]
      }
     ],
     "prompt_number": 11
    },
    {
     "cell_type": "code",
     "collapsed": false,
     "input": [
      "from datetime import timedelta"
     ],
     "language": "python",
     "metadata": {},
     "outputs": [],
     "prompt_number": 12
    },
    {
     "cell_type": "code",
     "collapsed": false,
     "input": [
      "start = datetime(2011, 1, 7)"
     ],
     "language": "python",
     "metadata": {},
     "outputs": [],
     "prompt_number": 13
    },
    {
     "cell_type": "code",
     "collapsed": false,
     "input": [
      "start + timedelta(12)"
     ],
     "language": "python",
     "metadata": {},
     "outputs": [
      {
       "metadata": {},
       "output_type": "pyout",
       "prompt_number": 14,
       "text": [
        "datetime.datetime(2011, 1, 19, 0, 0)"
       ]
      }
     ],
     "prompt_number": 14
    },
    {
     "cell_type": "code",
     "collapsed": false,
     "input": [
      "start - 2 * timedelta(12)"
     ],
     "language": "python",
     "metadata": {},
     "outputs": [
      {
       "metadata": {},
       "output_type": "pyout",
       "prompt_number": 15,
       "text": [
        "datetime.datetime(2010, 12, 14, 0, 0)"
       ]
      }
     ],
     "prompt_number": 15
    },
    {
     "cell_type": "markdown",
     "metadata": {},
     "source": [
      "##Converting between string and datetime"
     ]
    },
    {
     "cell_type": "code",
     "collapsed": false,
     "input": [
      "stamp = datetime(2011, 1, 3)"
     ],
     "language": "python",
     "metadata": {},
     "outputs": [],
     "prompt_number": 16
    },
    {
     "cell_type": "code",
     "collapsed": false,
     "input": [
      "str(stamp)"
     ],
     "language": "python",
     "metadata": {},
     "outputs": [
      {
       "metadata": {},
       "output_type": "pyout",
       "prompt_number": 17,
       "text": [
        "'2011-01-03 00:00:00'"
       ]
      }
     ],
     "prompt_number": 17
    },
    {
     "cell_type": "code",
     "collapsed": false,
     "input": [
      "s = stamp.strftime('%Y-%m-%d')"
     ],
     "language": "python",
     "metadata": {},
     "outputs": [],
     "prompt_number": 20
    },
    {
     "cell_type": "code",
     "collapsed": false,
     "input": [
      "s"
     ],
     "language": "python",
     "metadata": {},
     "outputs": [
      {
       "metadata": {},
       "output_type": "pyout",
       "prompt_number": 21,
       "text": [
        "'2011-01-03'"
       ]
      }
     ],
     "prompt_number": 21
    },
    {
     "cell_type": "code",
     "collapsed": false,
     "input": [
      "type(s)"
     ],
     "language": "python",
     "metadata": {},
     "outputs": [
      {
       "metadata": {},
       "output_type": "pyout",
       "prompt_number": 22,
       "text": [
        "str"
       ]
      }
     ],
     "prompt_number": 22
    },
    {
     "cell_type": "code",
     "collapsed": false,
     "input": [
      "value = '2011-03-21'"
     ],
     "language": "python",
     "metadata": {},
     "outputs": [],
     "prompt_number": 23
    },
    {
     "cell_type": "code",
     "collapsed": false,
     "input": [
      "time = datetime.strptime(value, '%Y-%m-%d')\n",
      "time"
     ],
     "language": "python",
     "metadata": {},
     "outputs": [
      {
       "metadata": {},
       "output_type": "pyout",
       "prompt_number": 24,
       "text": [
        "datetime.datetime(2011, 3, 21, 0, 0)"
       ]
      }
     ],
     "prompt_number": 24
    },
    {
     "cell_type": "code",
     "collapsed": false,
     "input": [
      "datestrs = ['7/6/2011', '8/6/2011']"
     ],
     "language": "python",
     "metadata": {},
     "outputs": [],
     "prompt_number": 25
    },
    {
     "cell_type": "code",
     "collapsed": false,
     "input": [
      "[datetime.strptime(x, '%m/%d/%Y') for x in datestrs]"
     ],
     "language": "python",
     "metadata": {},
     "outputs": [
      {
       "metadata": {},
       "output_type": "pyout",
       "prompt_number": 27,
       "text": [
        "[datetime.datetime(2011, 7, 6, 0, 0), datetime.datetime(2011, 8, 6, 0, 0)]"
       ]
      }
     ],
     "prompt_number": 27
    },
    {
     "cell_type": "code",
     "collapsed": false,
     "input": [
      "from dateutil.parser import parse"
     ],
     "language": "python",
     "metadata": {},
     "outputs": [],
     "prompt_number": 28
    },
    {
     "cell_type": "code",
     "collapsed": false,
     "input": [
      "parse('2011-01-03')"
     ],
     "language": "python",
     "metadata": {},
     "outputs": [
      {
       "metadata": {},
       "output_type": "pyout",
       "prompt_number": 29,
       "text": [
        "datetime.datetime(2011, 1, 3, 0, 0)"
       ]
      }
     ],
     "prompt_number": 29
    },
    {
     "cell_type": "code",
     "collapsed": false,
     "input": [
      "parse('Jan 31, 1997 10:45 PM')"
     ],
     "language": "python",
     "metadata": {},
     "outputs": [
      {
       "metadata": {},
       "output_type": "pyout",
       "prompt_number": 30,
       "text": [
        "datetime.datetime(1997, 1, 31, 22, 45)"
       ]
      }
     ],
     "prompt_number": 30
    },
    {
     "cell_type": "code",
     "collapsed": false,
     "input": [
      "parse('6/12/2011', dayfirst = True)"
     ],
     "language": "python",
     "metadata": {},
     "outputs": [
      {
       "metadata": {},
       "output_type": "pyout",
       "prompt_number": 31,
       "text": [
        "datetime.datetime(2011, 12, 6, 0, 0)"
       ]
      }
     ],
     "prompt_number": 31
    },
    {
     "cell_type": "code",
     "collapsed": false,
     "input": [
      "datestrs"
     ],
     "language": "python",
     "metadata": {},
     "outputs": [
      {
       "metadata": {},
       "output_type": "pyout",
       "prompt_number": 32,
       "text": [
        "['7/6/2011', '8/6/2011']"
       ]
      }
     ],
     "prompt_number": 32
    },
    {
     "cell_type": "code",
     "collapsed": false,
     "input": [
      "pd.to_datetime(datestrs)"
     ],
     "language": "python",
     "metadata": {},
     "outputs": [
      {
       "metadata": {},
       "output_type": "pyout",
       "prompt_number": 34,
       "text": [
        "<class 'pandas.tseries.index.DatetimeIndex'>\n",
        "[2011-07-06, 2011-08-06]\n",
        "Length: 2, Freq: None, Timezone: None"
       ]
      }
     ],
     "prompt_number": 34
    },
    {
     "cell_type": "code",
     "collapsed": false,
     "input": [
      "idx = pd.to_datetime(datestrs + [None])\n",
      "idx"
     ],
     "language": "python",
     "metadata": {},
     "outputs": [
      {
       "metadata": {},
       "output_type": "pyout",
       "prompt_number": 36,
       "text": [
        "<class 'pandas.tseries.index.DatetimeIndex'>\n",
        "[2011-07-06, ..., NaT]\n",
        "Length: 3, Freq: None, Timezone: None"
       ]
      }
     ],
     "prompt_number": 36
    },
    {
     "cell_type": "code",
     "collapsed": false,
     "input": [
      "idx[1]"
     ],
     "language": "python",
     "metadata": {},
     "outputs": [
      {
       "metadata": {},
       "output_type": "pyout",
       "prompt_number": 37,
       "text": [
        "Timestamp('2011-08-06 00:00:00')"
       ]
      }
     ],
     "prompt_number": 37
    },
    {
     "cell_type": "code",
     "collapsed": false,
     "input": [
      "idx[2]"
     ],
     "language": "python",
     "metadata": {},
     "outputs": [
      {
       "metadata": {},
       "output_type": "pyout",
       "prompt_number": 38,
       "text": [
        "NaT"
       ]
      }
     ],
     "prompt_number": 38
    },
    {
     "cell_type": "code",
     "collapsed": false,
     "input": [
      "pd.isnull(idx)"
     ],
     "language": "python",
     "metadata": {},
     "outputs": [
      {
       "metadata": {},
       "output_type": "pyout",
       "prompt_number": 39,
       "text": [
        "array([False, False,  True], dtype=bool)"
       ]
      }
     ],
     "prompt_number": 39
    },
    {
     "cell_type": "markdown",
     "metadata": {},
     "source": [
      "## Time Series Basics"
     ]
    },
    {
     "cell_type": "code",
     "collapsed": false,
     "input": [
      "from pandas import Series\n",
      "from pandas import DataFrame"
     ],
     "language": "python",
     "metadata": {},
     "outputs": [],
     "prompt_number": 41
    },
    {
     "cell_type": "code",
     "collapsed": false,
     "input": [
      "dates = [datetime(2011, 1, 2), datetime(2011, 1, 5), datetime(2011, 1, 7), \n",
      "         datetime(2011, 1, 8), datetime(2011, 1, 10), datetime(2011, 1, 12)]"
     ],
     "language": "python",
     "metadata": {},
     "outputs": [],
     "prompt_number": 40
    },
    {
     "cell_type": "code",
     "collapsed": false,
     "input": [
      "ts = Series(np.random.randn(6), index = dates)"
     ],
     "language": "python",
     "metadata": {},
     "outputs": [],
     "prompt_number": 44
    },
    {
     "cell_type": "code",
     "collapsed": false,
     "input": [
      "ts"
     ],
     "language": "python",
     "metadata": {},
     "outputs": [
      {
       "metadata": {},
       "output_type": "pyout",
       "prompt_number": 45,
       "text": [
        "2011-01-02    0.893325\n",
        "2011-01-05    0.708986\n",
        "2011-01-07   -0.120512\n",
        "2011-01-08   -1.408862\n",
        "2011-01-10    0.488172\n",
        "2011-01-12   -1.362223\n",
        "dtype: float64"
       ]
      }
     ],
     "prompt_number": 45
    },
    {
     "cell_type": "code",
     "collapsed": false,
     "input": [
      "type(ts)"
     ],
     "language": "python",
     "metadata": {},
     "outputs": [
      {
       "metadata": {},
       "output_type": "pyout",
       "prompt_number": 46,
       "text": [
        "pandas.core.series.Series"
       ]
      }
     ],
     "prompt_number": 46
    },
    {
     "cell_type": "code",
     "collapsed": false,
     "input": [
      "ts.index"
     ],
     "language": "python",
     "metadata": {},
     "outputs": [
      {
       "metadata": {},
       "output_type": "pyout",
       "prompt_number": 47,
       "text": [
        "<class 'pandas.tseries.index.DatetimeIndex'>\n",
        "[2011-01-02, ..., 2011-01-12]\n",
        "Length: 6, Freq: None, Timezone: None"
       ]
      }
     ],
     "prompt_number": 47
    },
    {
     "cell_type": "code",
     "collapsed": false,
     "input": [
      "ts + ts[: :2]"
     ],
     "language": "python",
     "metadata": {},
     "outputs": [
      {
       "metadata": {},
       "output_type": "pyout",
       "prompt_number": 48,
       "text": [
        "2011-01-02    1.786649\n",
        "2011-01-05         NaN\n",
        "2011-01-07   -0.241024\n",
        "2011-01-08         NaN\n",
        "2011-01-10    0.976344\n",
        "2011-01-12         NaN\n",
        "dtype: float64"
       ]
      }
     ],
     "prompt_number": 48
    },
    {
     "cell_type": "code",
     "collapsed": false,
     "input": [
      "ts.index.dtype"
     ],
     "language": "python",
     "metadata": {},
     "outputs": [
      {
       "metadata": {},
       "output_type": "pyout",
       "prompt_number": 49,
       "text": [
        "dtype('<M8[ns]')"
       ]
      }
     ],
     "prompt_number": 49
    },
    {
     "cell_type": "code",
     "collapsed": false,
     "input": [
      "stamp = ts.index[0]\n",
      "stamp"
     ],
     "language": "python",
     "metadata": {},
     "outputs": [
      {
       "metadata": {},
       "output_type": "pyout",
       "prompt_number": 50,
       "text": [
        "Timestamp('2011-01-02 00:00:00')"
       ]
      }
     ],
     "prompt_number": 50
    },
    {
     "cell_type": "markdown",
     "metadata": {},
     "source": [
      "##Indexing, Selection, Subsetting"
     ]
    },
    {
     "cell_type": "code",
     "collapsed": false,
     "input": [
      "stamp = ts.index[2]"
     ],
     "language": "python",
     "metadata": {},
     "outputs": [],
     "prompt_number": 51
    },
    {
     "cell_type": "code",
     "collapsed": false,
     "input": [
      "ts[stamp]"
     ],
     "language": "python",
     "metadata": {},
     "outputs": [
      {
       "metadata": {},
       "output_type": "pyout",
       "prompt_number": 52,
       "text": [
        "-0.12051198437775386"
       ]
      }
     ],
     "prompt_number": 52
    },
    {
     "cell_type": "code",
     "collapsed": false,
     "input": [
      "ts['1/10/2011']"
     ],
     "language": "python",
     "metadata": {},
     "outputs": [
      {
       "metadata": {},
       "output_type": "pyout",
       "prompt_number": 53,
       "text": [
        "0.48817179578856917"
       ]
      }
     ],
     "prompt_number": 53
    },
    {
     "cell_type": "code",
     "collapsed": false,
     "input": [
      "ts['20110110']"
     ],
     "language": "python",
     "metadata": {},
     "outputs": [
      {
       "metadata": {},
       "output_type": "pyout",
       "prompt_number": 55,
       "text": [
        "0.48817179578856917"
       ]
      }
     ],
     "prompt_number": 55
    },
    {
     "cell_type": "code",
     "collapsed": false,
     "input": [
      "longer_ts = pd.Series(np.random.randn(1000),\n",
      "                      index = pd.date_range('1/1/2011', periods=1000))"
     ],
     "language": "python",
     "metadata": {},
     "outputs": [],
     "prompt_number": 56
    },
    {
     "cell_type": "code",
     "collapsed": false,
     "input": [
      "longer_ts"
     ],
     "language": "python",
     "metadata": {},
     "outputs": [
      {
       "metadata": {},
       "output_type": "pyout",
       "prompt_number": 57,
       "text": [
        "2011-01-01   -1.762059\n",
        "2011-01-02    1.639677\n",
        "2011-01-03    0.103010\n",
        "2011-01-04   -0.402019\n",
        "2011-01-05   -2.173334\n",
        "2011-01-06    0.186427\n",
        "2011-01-07   -0.673237\n",
        "2011-01-08    0.016737\n",
        "2011-01-09    0.461073\n",
        "2011-01-10    0.473256\n",
        "2011-01-11   -0.057612\n",
        "2011-01-12   -0.301430\n",
        "2011-01-13    0.737285\n",
        "2011-01-14    0.090790\n",
        "2011-01-15   -0.571535\n",
        "...\n",
        "2013-09-12    0.039756\n",
        "2013-09-13    0.584274\n",
        "2013-09-14   -0.968919\n",
        "2013-09-15    0.488890\n",
        "2013-09-16   -0.873615\n",
        "2013-09-17    0.540005\n",
        "2013-09-18    0.456770\n",
        "2013-09-19   -0.000198\n",
        "2013-09-20   -1.918855\n",
        "2013-09-21    0.105085\n",
        "2013-09-22   -0.032489\n",
        "2013-09-23    0.644747\n",
        "2013-09-24   -0.035412\n",
        "2013-09-25   -0.807427\n",
        "2013-09-26    0.023516\n",
        "Freq: D, Length: 1000"
       ]
      }
     ],
     "prompt_number": 57
    },
    {
     "cell_type": "code",
     "collapsed": false,
     "input": [
      "longer_ts['2011']"
     ],
     "language": "python",
     "metadata": {},
     "outputs": [
      {
       "metadata": {},
       "output_type": "pyout",
       "prompt_number": 58,
       "text": [
        "2011-01-01   -1.762059\n",
        "2011-01-02    1.639677\n",
        "2011-01-03    0.103010\n",
        "2011-01-04   -0.402019\n",
        "2011-01-05   -2.173334\n",
        "2011-01-06    0.186427\n",
        "2011-01-07   -0.673237\n",
        "2011-01-08    0.016737\n",
        "2011-01-09    0.461073\n",
        "2011-01-10    0.473256\n",
        "2011-01-11   -0.057612\n",
        "2011-01-12   -0.301430\n",
        "2011-01-13    0.737285\n",
        "2011-01-14    0.090790\n",
        "2011-01-15   -0.571535\n",
        "...\n",
        "2011-12-17   -0.085642\n",
        "2011-12-18   -1.169220\n",
        "2011-12-19    1.728622\n",
        "2011-12-20   -1.582222\n",
        "2011-12-21    0.130794\n",
        "2011-12-22    2.162526\n",
        "2011-12-23   -1.199100\n",
        "2011-12-24    0.942476\n",
        "2011-12-25    1.288787\n",
        "2011-12-26    0.293948\n",
        "2011-12-27   -0.970234\n",
        "2011-12-28    0.952498\n",
        "2011-12-29    1.357580\n",
        "2011-12-30   -1.738333\n",
        "2011-12-31    1.061172\n",
        "Freq: D, Length: 365"
       ]
      }
     ],
     "prompt_number": 58
    },
    {
     "cell_type": "code",
     "collapsed": false,
     "input": [
      "longer_ts['2011-05']"
     ],
     "language": "python",
     "metadata": {},
     "outputs": [
      {
       "metadata": {},
       "output_type": "pyout",
       "prompt_number": 59,
       "text": [
        "2011-05-01    0.341926\n",
        "2011-05-02    0.589413\n",
        "2011-05-03   -0.001734\n",
        "2011-05-04    1.723780\n",
        "2011-05-05   -0.199408\n",
        "2011-05-06   -0.486223\n",
        "2011-05-07   -2.206682\n",
        "2011-05-08    0.460290\n",
        "2011-05-09    1.018442\n",
        "2011-05-10    0.351059\n",
        "2011-05-11   -0.039104\n",
        "2011-05-12   -1.016571\n",
        "2011-05-13   -1.359587\n",
        "2011-05-14   -0.396507\n",
        "2011-05-15   -0.657012\n",
        "2011-05-16   -0.306423\n",
        "2011-05-17    0.046770\n",
        "2011-05-18    0.839512\n",
        "2011-05-19    1.423836\n",
        "2011-05-20    0.908260\n",
        "2011-05-21    0.937114\n",
        "2011-05-22    0.895598\n",
        "2011-05-23   -0.741113\n",
        "2011-05-24    1.677291\n",
        "2011-05-25   -0.009525\n",
        "2011-05-26    0.504151\n",
        "2011-05-27   -0.898329\n",
        "2011-05-28   -1.094046\n",
        "2011-05-29   -0.456557\n",
        "2011-05-30   -1.251109\n",
        "2011-05-31    1.149914\n",
        "Freq: D, dtype: float64"
       ]
      }
     ],
     "prompt_number": 59
    },
    {
     "cell_type": "code",
     "collapsed": false,
     "input": [
      "ts[datetime(2011, 1, 7): ]"
     ],
     "language": "python",
     "metadata": {},
     "outputs": [
      {
       "metadata": {},
       "output_type": "pyout",
       "prompt_number": 60,
       "text": [
        "2011-01-07   -0.120512\n",
        "2011-01-08   -1.408862\n",
        "2011-01-10    0.488172\n",
        "2011-01-12   -1.362223\n",
        "dtype: float64"
       ]
      }
     ],
     "prompt_number": 60
    },
    {
     "cell_type": "code",
     "collapsed": false,
     "input": [
      "ts"
     ],
     "language": "python",
     "metadata": {},
     "outputs": [
      {
       "metadata": {},
       "output_type": "pyout",
       "prompt_number": 61,
       "text": [
        "2011-01-02    0.893325\n",
        "2011-01-05    0.708986\n",
        "2011-01-07   -0.120512\n",
        "2011-01-08   -1.408862\n",
        "2011-01-10    0.488172\n",
        "2011-01-12   -1.362223\n",
        "dtype: float64"
       ]
      }
     ],
     "prompt_number": 61
    },
    {
     "cell_type": "code",
     "collapsed": false,
     "input": [
      "ts['1/6/2011': '1/11/2011']"
     ],
     "language": "python",
     "metadata": {},
     "outputs": [
      {
       "metadata": {},
       "output_type": "pyout",
       "prompt_number": 62,
       "text": [
        "2011-01-07   -0.120512\n",
        "2011-01-08   -1.408862\n",
        "2011-01-10    0.488172\n",
        "dtype: float64"
       ]
      }
     ],
     "prompt_number": 62
    },
    {
     "cell_type": "code",
     "collapsed": false,
     "input": [
      "ts.truncate(after='1/6/2011')"
     ],
     "language": "python",
     "metadata": {},
     "outputs": [
      {
       "metadata": {},
       "output_type": "pyout",
       "prompt_number": 63,
       "text": [
        "2011-01-02    0.893325\n",
        "2011-01-05    0.708986\n",
        "dtype: float64"
       ]
      }
     ],
     "prompt_number": 63
    },
    {
     "cell_type": "code",
     "collapsed": false,
     "input": [
      "dates = pd.date_range('1/1/2011', periods=100, freq='W-WED')"
     ],
     "language": "python",
     "metadata": {},
     "outputs": [],
     "prompt_number": 64
    },
    {
     "cell_type": "code",
     "collapsed": false,
     "input": [
      "dates"
     ],
     "language": "python",
     "metadata": {},
     "outputs": [
      {
       "metadata": {},
       "output_type": "pyout",
       "prompt_number": 65,
       "text": [
        "<class 'pandas.tseries.index.DatetimeIndex'>\n",
        "[2011-01-05, ..., 2012-11-28]\n",
        "Length: 100, Freq: W-WED, Timezone: None"
       ]
      }
     ],
     "prompt_number": 65
    },
    {
     "cell_type": "code",
     "collapsed": false,
     "input": [
      "long_df = DataFrame(np.random.randn(100, 4),\n",
      "                    index = dates,\n",
      "                    columns = ['Cororado', 'Texas', 'New York', 'Ohio'])"
     ],
     "language": "python",
     "metadata": {},
     "outputs": [],
     "prompt_number": 66
    },
    {
     "cell_type": "code",
     "collapsed": false,
     "input": [
      "long_df"
     ],
     "language": "python",
     "metadata": {},
     "outputs": [
      {
       "html": [
        "<div style=\"max-height:1000px;max-width:1500px;overflow:auto;\">\n",
        "<table border=\"1\" class=\"dataframe\">\n",
        "  <thead>\n",
        "    <tr style=\"text-align: right;\">\n",
        "      <th></th>\n",
        "      <th>Cororado</th>\n",
        "      <th>Texas</th>\n",
        "      <th>New York</th>\n",
        "      <th>Ohio</th>\n",
        "    </tr>\n",
        "  </thead>\n",
        "  <tbody>\n",
        "    <tr>\n",
        "      <th>2011-01-05</th>\n",
        "      <td> 1.256368</td>\n",
        "      <td>-1.480053</td>\n",
        "      <td>-0.462796</td>\n",
        "      <td>-0.373552</td>\n",
        "    </tr>\n",
        "    <tr>\n",
        "      <th>2011-01-12</th>\n",
        "      <td> 0.200874</td>\n",
        "      <td>-1.026645</td>\n",
        "      <td> 1.472962</td>\n",
        "      <td>-0.899794</td>\n",
        "    </tr>\n",
        "    <tr>\n",
        "      <th>2011-01-19</th>\n",
        "      <td> 0.389008</td>\n",
        "      <td>-0.272721</td>\n",
        "      <td> 0.851037</td>\n",
        "      <td>-1.272891</td>\n",
        "    </tr>\n",
        "    <tr>\n",
        "      <th>2011-01-26</th>\n",
        "      <td>-2.264520</td>\n",
        "      <td>-0.251280</td>\n",
        "      <td>-0.005231</td>\n",
        "      <td>-1.435832</td>\n",
        "    </tr>\n",
        "    <tr>\n",
        "      <th>2011-02-02</th>\n",
        "      <td>-1.343824</td>\n",
        "      <td>-0.630070</td>\n",
        "      <td>-0.446116</td>\n",
        "      <td> 0.241783</td>\n",
        "    </tr>\n",
        "    <tr>\n",
        "      <th>2011-02-09</th>\n",
        "      <td> 0.716657</td>\n",
        "      <td>-1.500895</td>\n",
        "      <td>-0.527147</td>\n",
        "      <td>-0.488321</td>\n",
        "    </tr>\n",
        "    <tr>\n",
        "      <th>2011-02-16</th>\n",
        "      <td> 0.570688</td>\n",
        "      <td> 0.628834</td>\n",
        "      <td> 0.083022</td>\n",
        "      <td>-1.066465</td>\n",
        "    </tr>\n",
        "    <tr>\n",
        "      <th>2011-02-23</th>\n",
        "      <td> 0.023208</td>\n",
        "      <td> 2.173990</td>\n",
        "      <td>-1.742734</td>\n",
        "      <td>-0.699948</td>\n",
        "    </tr>\n",
        "    <tr>\n",
        "      <th>2011-03-02</th>\n",
        "      <td> 0.097040</td>\n",
        "      <td>-0.187976</td>\n",
        "      <td>-1.888941</td>\n",
        "      <td> 0.757026</td>\n",
        "    </tr>\n",
        "    <tr>\n",
        "      <th>2011-03-09</th>\n",
        "      <td>-0.348869</td>\n",
        "      <td>-0.294334</td>\n",
        "      <td>-0.711266</td>\n",
        "      <td>-1.287658</td>\n",
        "    </tr>\n",
        "    <tr>\n",
        "      <th>2011-03-16</th>\n",
        "      <td> 0.099243</td>\n",
        "      <td>-0.001376</td>\n",
        "      <td>-0.516122</td>\n",
        "      <td>-0.874573</td>\n",
        "    </tr>\n",
        "    <tr>\n",
        "      <th>2011-03-23</th>\n",
        "      <td>-0.630720</td>\n",
        "      <td> 1.134260</td>\n",
        "      <td>-0.793068</td>\n",
        "      <td> 0.323136</td>\n",
        "    </tr>\n",
        "    <tr>\n",
        "      <th>2011-03-30</th>\n",
        "      <td> 0.644318</td>\n",
        "      <td>-1.336004</td>\n",
        "      <td> 0.984706</td>\n",
        "      <td>-1.392552</td>\n",
        "    </tr>\n",
        "    <tr>\n",
        "      <th>2011-04-06</th>\n",
        "      <td>-0.776804</td>\n",
        "      <td>-0.018966</td>\n",
        "      <td>-0.393337</td>\n",
        "      <td>-0.403900</td>\n",
        "    </tr>\n",
        "    <tr>\n",
        "      <th>2011-04-13</th>\n",
        "      <td> 0.087509</td>\n",
        "      <td> 0.559594</td>\n",
        "      <td>-0.476601</td>\n",
        "      <td> 0.996671</td>\n",
        "    </tr>\n",
        "    <tr>\n",
        "      <th>2011-04-20</th>\n",
        "      <td> 0.976311</td>\n",
        "      <td>-0.849342</td>\n",
        "      <td>-0.800229</td>\n",
        "      <td>-0.574057</td>\n",
        "    </tr>\n",
        "    <tr>\n",
        "      <th>2011-04-27</th>\n",
        "      <td>-0.652260</td>\n",
        "      <td> 0.017680</td>\n",
        "      <td>-0.371181</td>\n",
        "      <td>-0.863236</td>\n",
        "    </tr>\n",
        "    <tr>\n",
        "      <th>2011-05-04</th>\n",
        "      <td>-2.035275</td>\n",
        "      <td> 0.622572</td>\n",
        "      <td>-1.532854</td>\n",
        "      <td>-0.262928</td>\n",
        "    </tr>\n",
        "    <tr>\n",
        "      <th>2011-05-11</th>\n",
        "      <td> 0.689379</td>\n",
        "      <td>-0.862679</td>\n",
        "      <td>-0.689041</td>\n",
        "      <td>-1.081166</td>\n",
        "    </tr>\n",
        "    <tr>\n",
        "      <th>2011-05-18</th>\n",
        "      <td>-0.577136</td>\n",
        "      <td>-0.942215</td>\n",
        "      <td> 0.127399</td>\n",
        "      <td>-0.025384</td>\n",
        "    </tr>\n",
        "    <tr>\n",
        "      <th>2011-05-25</th>\n",
        "      <td> 1.171154</td>\n",
        "      <td>-0.960801</td>\n",
        "      <td> 0.364273</td>\n",
        "      <td> 0.008701</td>\n",
        "    </tr>\n",
        "    <tr>\n",
        "      <th>2011-06-01</th>\n",
        "      <td>-0.286717</td>\n",
        "      <td> 0.821851</td>\n",
        "      <td>-0.191750</td>\n",
        "      <td>-1.017644</td>\n",
        "    </tr>\n",
        "    <tr>\n",
        "      <th>2011-06-08</th>\n",
        "      <td>-0.682338</td>\n",
        "      <td> 0.044732</td>\n",
        "      <td> 1.778776</td>\n",
        "      <td> 1.160223</td>\n",
        "    </tr>\n",
        "    <tr>\n",
        "      <th>2011-06-15</th>\n",
        "      <td>-0.391620</td>\n",
        "      <td>-1.527792</td>\n",
        "      <td>-0.239451</td>\n",
        "      <td> 0.954491</td>\n",
        "    </tr>\n",
        "    <tr>\n",
        "      <th>2011-06-22</th>\n",
        "      <td> 1.558049</td>\n",
        "      <td>-0.609341</td>\n",
        "      <td> 0.757231</td>\n",
        "      <td>-0.423356</td>\n",
        "    </tr>\n",
        "    <tr>\n",
        "      <th>2011-06-29</th>\n",
        "      <td> 0.216997</td>\n",
        "      <td> 0.476667</td>\n",
        "      <td>-1.545130</td>\n",
        "      <td>-1.420467</td>\n",
        "    </tr>\n",
        "    <tr>\n",
        "      <th>2011-07-06</th>\n",
        "      <td> 0.795388</td>\n",
        "      <td>-0.493008</td>\n",
        "      <td> 1.193762</td>\n",
        "      <td> 2.215845</td>\n",
        "    </tr>\n",
        "    <tr>\n",
        "      <th>2011-07-13</th>\n",
        "      <td> 0.413858</td>\n",
        "      <td>-0.259901</td>\n",
        "      <td> 2.520198</td>\n",
        "      <td>-0.220013</td>\n",
        "    </tr>\n",
        "    <tr>\n",
        "      <th>2011-07-20</th>\n",
        "      <td> 0.835818</td>\n",
        "      <td> 1.707795</td>\n",
        "      <td>-2.208438</td>\n",
        "      <td>-0.332005</td>\n",
        "    </tr>\n",
        "    <tr>\n",
        "      <th>2011-07-27</th>\n",
        "      <td> 1.891048</td>\n",
        "      <td>-0.478569</td>\n",
        "      <td>-0.414938</td>\n",
        "      <td>-0.111259</td>\n",
        "    </tr>\n",
        "    <tr>\n",
        "      <th>...</th>\n",
        "      <td>...</td>\n",
        "      <td>...</td>\n",
        "      <td>...</td>\n",
        "      <td>...</td>\n",
        "    </tr>\n",
        "    <tr>\n",
        "      <th>2012-05-09</th>\n",
        "      <td>-0.846098</td>\n",
        "      <td> 0.756681</td>\n",
        "      <td> 0.410808</td>\n",
        "      <td> 0.528076</td>\n",
        "    </tr>\n",
        "    <tr>\n",
        "      <th>2012-05-16</th>\n",
        "      <td> 0.000499</td>\n",
        "      <td> 0.236955</td>\n",
        "      <td> 0.339451</td>\n",
        "      <td>-0.331834</td>\n",
        "    </tr>\n",
        "    <tr>\n",
        "      <th>2012-05-23</th>\n",
        "      <td>-2.478231</td>\n",
        "      <td> 1.156264</td>\n",
        "      <td> 0.560065</td>\n",
        "      <td> 0.292778</td>\n",
        "    </tr>\n",
        "    <tr>\n",
        "      <th>2012-05-30</th>\n",
        "      <td>-0.327448</td>\n",
        "      <td>-0.915977</td>\n",
        "      <td>-0.829780</td>\n",
        "      <td>-0.908863</td>\n",
        "    </tr>\n",
        "    <tr>\n",
        "      <th>2012-06-06</th>\n",
        "      <td> 0.573908</td>\n",
        "      <td> 0.074356</td>\n",
        "      <td> 1.155310</td>\n",
        "      <td> 0.555145</td>\n",
        "    </tr>\n",
        "    <tr>\n",
        "      <th>2012-06-13</th>\n",
        "      <td> 0.720210</td>\n",
        "      <td> 0.429806</td>\n",
        "      <td> 0.046593</td>\n",
        "      <td>-0.015613</td>\n",
        "    </tr>\n",
        "    <tr>\n",
        "      <th>2012-06-20</th>\n",
        "      <td>-0.763747</td>\n",
        "      <td>-0.182756</td>\n",
        "      <td>-0.481975</td>\n",
        "      <td> 1.083894</td>\n",
        "    </tr>\n",
        "    <tr>\n",
        "      <th>2012-06-27</th>\n",
        "      <td> 0.799019</td>\n",
        "      <td> 2.029685</td>\n",
        "      <td> 1.522949</td>\n",
        "      <td> 0.744787</td>\n",
        "    </tr>\n",
        "    <tr>\n",
        "      <th>2012-07-04</th>\n",
        "      <td> 1.478814</td>\n",
        "      <td>-0.211157</td>\n",
        "      <td> 1.372585</td>\n",
        "      <td>-0.859727</td>\n",
        "    </tr>\n",
        "    <tr>\n",
        "      <th>2012-07-11</th>\n",
        "      <td>-0.772615</td>\n",
        "      <td>-0.674970</td>\n",
        "      <td>-0.261935</td>\n",
        "      <td> 0.164129</td>\n",
        "    </tr>\n",
        "    <tr>\n",
        "      <th>2012-07-18</th>\n",
        "      <td>-2.534684</td>\n",
        "      <td>-1.253988</td>\n",
        "      <td> 0.216383</td>\n",
        "      <td> 0.175758</td>\n",
        "    </tr>\n",
        "    <tr>\n",
        "      <th>2012-07-25</th>\n",
        "      <td> 1.556037</td>\n",
        "      <td> 1.959896</td>\n",
        "      <td> 0.314922</td>\n",
        "      <td>-0.536405</td>\n",
        "    </tr>\n",
        "    <tr>\n",
        "      <th>2012-08-01</th>\n",
        "      <td>-0.813231</td>\n",
        "      <td>-1.063662</td>\n",
        "      <td> 0.722092</td>\n",
        "      <td> 1.477453</td>\n",
        "    </tr>\n",
        "    <tr>\n",
        "      <th>2012-08-08</th>\n",
        "      <td> 0.579872</td>\n",
        "      <td>-1.215027</td>\n",
        "      <td> 0.676854</td>\n",
        "      <td> 1.441587</td>\n",
        "    </tr>\n",
        "    <tr>\n",
        "      <th>2012-08-15</th>\n",
        "      <td>-1.288945</td>\n",
        "      <td>-0.120134</td>\n",
        "      <td> 0.742555</td>\n",
        "      <td> 0.283986</td>\n",
        "    </tr>\n",
        "    <tr>\n",
        "      <th>2012-08-22</th>\n",
        "      <td> 1.468265</td>\n",
        "      <td> 1.749390</td>\n",
        "      <td>-1.116350</td>\n",
        "      <td>-0.171850</td>\n",
        "    </tr>\n",
        "    <tr>\n",
        "      <th>2012-08-29</th>\n",
        "      <td> 1.285162</td>\n",
        "      <td> 1.816028</td>\n",
        "      <td> 0.553952</td>\n",
        "      <td>-1.426834</td>\n",
        "    </tr>\n",
        "    <tr>\n",
        "      <th>2012-09-05</th>\n",
        "      <td>-1.236693</td>\n",
        "      <td> 1.344399</td>\n",
        "      <td> 0.538366</td>\n",
        "      <td>-0.296292</td>\n",
        "    </tr>\n",
        "    <tr>\n",
        "      <th>2012-09-12</th>\n",
        "      <td> 0.740528</td>\n",
        "      <td> 2.320493</td>\n",
        "      <td> 0.747815</td>\n",
        "      <td> 1.481881</td>\n",
        "    </tr>\n",
        "    <tr>\n",
        "      <th>2012-09-19</th>\n",
        "      <td>-0.134713</td>\n",
        "      <td> 0.068212</td>\n",
        "      <td> 0.142180</td>\n",
        "      <td> 0.362823</td>\n",
        "    </tr>\n",
        "    <tr>\n",
        "      <th>2012-09-26</th>\n",
        "      <td> 0.610469</td>\n",
        "      <td> 0.451767</td>\n",
        "      <td> 1.984647</td>\n",
        "      <td> 0.177782</td>\n",
        "    </tr>\n",
        "    <tr>\n",
        "      <th>2012-10-03</th>\n",
        "      <td> 0.500470</td>\n",
        "      <td> 0.038573</td>\n",
        "      <td>-0.302224</td>\n",
        "      <td>-0.405955</td>\n",
        "    </tr>\n",
        "    <tr>\n",
        "      <th>2012-10-10</th>\n",
        "      <td>-1.069411</td>\n",
        "      <td> 1.084883</td>\n",
        "      <td> 0.206074</td>\n",
        "      <td> 1.174766</td>\n",
        "    </tr>\n",
        "    <tr>\n",
        "      <th>2012-10-17</th>\n",
        "      <td>-1.583615</td>\n",
        "      <td> 1.810450</td>\n",
        "      <td> 0.097941</td>\n",
        "      <td> 1.048439</td>\n",
        "    </tr>\n",
        "    <tr>\n",
        "      <th>2012-10-24</th>\n",
        "      <td> 0.547817</td>\n",
        "      <td>-0.228166</td>\n",
        "      <td> 2.307179</td>\n",
        "      <td> 0.277525</td>\n",
        "    </tr>\n",
        "    <tr>\n",
        "      <th>2012-10-31</th>\n",
        "      <td>-1.699725</td>\n",
        "      <td> 0.721085</td>\n",
        "      <td>-0.045019</td>\n",
        "      <td>-1.421176</td>\n",
        "    </tr>\n",
        "    <tr>\n",
        "      <th>2012-11-07</th>\n",
        "      <td> 0.381459</td>\n",
        "      <td> 0.983511</td>\n",
        "      <td>-0.379529</td>\n",
        "      <td>-1.354292</td>\n",
        "    </tr>\n",
        "    <tr>\n",
        "      <th>2012-11-14</th>\n",
        "      <td>-0.294467</td>\n",
        "      <td> 0.529468</td>\n",
        "      <td> 0.030702</td>\n",
        "      <td> 0.980070</td>\n",
        "    </tr>\n",
        "    <tr>\n",
        "      <th>2012-11-21</th>\n",
        "      <td> 1.979854</td>\n",
        "      <td> 0.038423</td>\n",
        "      <td> 1.007388</td>\n",
        "      <td>-0.686591</td>\n",
        "    </tr>\n",
        "    <tr>\n",
        "      <th>2012-11-28</th>\n",
        "      <td>-1.496911</td>\n",
        "      <td> 0.476914</td>\n",
        "      <td>-0.284365</td>\n",
        "      <td>-0.485528</td>\n",
        "    </tr>\n",
        "  </tbody>\n",
        "</table>\n",
        "<p>100 rows \u00d7 4 columns</p>\n",
        "</div>"
       ],
       "metadata": {},
       "output_type": "pyout",
       "prompt_number": 69,
       "text": [
        "            Cororado     Texas  New York      Ohio\n",
        "2011-01-05  1.256368 -1.480053 -0.462796 -0.373552\n",
        "2011-01-12  0.200874 -1.026645  1.472962 -0.899794\n",
        "2011-01-19  0.389008 -0.272721  0.851037 -1.272891\n",
        "2011-01-26 -2.264520 -0.251280 -0.005231 -1.435832\n",
        "2011-02-02 -1.343824 -0.630070 -0.446116  0.241783\n",
        "2011-02-09  0.716657 -1.500895 -0.527147 -0.488321\n",
        "2011-02-16  0.570688  0.628834  0.083022 -1.066465\n",
        "2011-02-23  0.023208  2.173990 -1.742734 -0.699948\n",
        "2011-03-02  0.097040 -0.187976 -1.888941  0.757026\n",
        "2011-03-09 -0.348869 -0.294334 -0.711266 -1.287658\n",
        "2011-03-16  0.099243 -0.001376 -0.516122 -0.874573\n",
        "2011-03-23 -0.630720  1.134260 -0.793068  0.323136\n",
        "2011-03-30  0.644318 -1.336004  0.984706 -1.392552\n",
        "2011-04-06 -0.776804 -0.018966 -0.393337 -0.403900\n",
        "2011-04-13  0.087509  0.559594 -0.476601  0.996671\n",
        "2011-04-20  0.976311 -0.849342 -0.800229 -0.574057\n",
        "2011-04-27 -0.652260  0.017680 -0.371181 -0.863236\n",
        "2011-05-04 -2.035275  0.622572 -1.532854 -0.262928\n",
        "2011-05-11  0.689379 -0.862679 -0.689041 -1.081166\n",
        "2011-05-18 -0.577136 -0.942215  0.127399 -0.025384\n",
        "2011-05-25  1.171154 -0.960801  0.364273  0.008701\n",
        "2011-06-01 -0.286717  0.821851 -0.191750 -1.017644\n",
        "2011-06-08 -0.682338  0.044732  1.778776  1.160223\n",
        "2011-06-15 -0.391620 -1.527792 -0.239451  0.954491\n",
        "2011-06-22  1.558049 -0.609341  0.757231 -0.423356\n",
        "2011-06-29  0.216997  0.476667 -1.545130 -1.420467\n",
        "2011-07-06  0.795388 -0.493008  1.193762  2.215845\n",
        "2011-07-13  0.413858 -0.259901  2.520198 -0.220013\n",
        "2011-07-20  0.835818  1.707795 -2.208438 -0.332005\n",
        "2011-07-27  1.891048 -0.478569 -0.414938 -0.111259\n",
        "...              ...       ...       ...       ...\n",
        "2012-05-09 -0.846098  0.756681  0.410808  0.528076\n",
        "2012-05-16  0.000499  0.236955  0.339451 -0.331834\n",
        "2012-05-23 -2.478231  1.156264  0.560065  0.292778\n",
        "2012-05-30 -0.327448 -0.915977 -0.829780 -0.908863\n",
        "2012-06-06  0.573908  0.074356  1.155310  0.555145\n",
        "2012-06-13  0.720210  0.429806  0.046593 -0.015613\n",
        "2012-06-20 -0.763747 -0.182756 -0.481975  1.083894\n",
        "2012-06-27  0.799019  2.029685  1.522949  0.744787\n",
        "2012-07-04  1.478814 -0.211157  1.372585 -0.859727\n",
        "2012-07-11 -0.772615 -0.674970 -0.261935  0.164129\n",
        "2012-07-18 -2.534684 -1.253988  0.216383  0.175758\n",
        "2012-07-25  1.556037  1.959896  0.314922 -0.536405\n",
        "2012-08-01 -0.813231 -1.063662  0.722092  1.477453\n",
        "2012-08-08  0.579872 -1.215027  0.676854  1.441587\n",
        "2012-08-15 -1.288945 -0.120134  0.742555  0.283986\n",
        "2012-08-22  1.468265  1.749390 -1.116350 -0.171850\n",
        "2012-08-29  1.285162  1.816028  0.553952 -1.426834\n",
        "2012-09-05 -1.236693  1.344399  0.538366 -0.296292\n",
        "2012-09-12  0.740528  2.320493  0.747815  1.481881\n",
        "2012-09-19 -0.134713  0.068212  0.142180  0.362823\n",
        "2012-09-26  0.610469  0.451767  1.984647  0.177782\n",
        "2012-10-03  0.500470  0.038573 -0.302224 -0.405955\n",
        "2012-10-10 -1.069411  1.084883  0.206074  1.174766\n",
        "2012-10-17 -1.583615  1.810450  0.097941  1.048439\n",
        "2012-10-24  0.547817 -0.228166  2.307179  0.277525\n",
        "2012-10-31 -1.699725  0.721085 -0.045019 -1.421176\n",
        "2012-11-07  0.381459  0.983511 -0.379529 -1.354292\n",
        "2012-11-14 -0.294467  0.529468  0.030702  0.980070\n",
        "2012-11-21  1.979854  0.038423  1.007388 -0.686591\n",
        "2012-11-28 -1.496911  0.476914 -0.284365 -0.485528\n",
        "\n",
        "[100 rows x 4 columns]"
       ]
      }
     ],
     "prompt_number": 69
    },
    {
     "cell_type": "code",
     "collapsed": false,
     "input": [
      "long_df.ix['5-2011']"
     ],
     "language": "python",
     "metadata": {},
     "outputs": [
      {
       "html": [
        "<div style=\"max-height:1000px;max-width:1500px;overflow:auto;\">\n",
        "<table border=\"1\" class=\"dataframe\">\n",
        "  <thead>\n",
        "    <tr style=\"text-align: right;\">\n",
        "      <th></th>\n",
        "      <th>Cororado</th>\n",
        "      <th>Texas</th>\n",
        "      <th>New York</th>\n",
        "      <th>Ohio</th>\n",
        "    </tr>\n",
        "  </thead>\n",
        "  <tbody>\n",
        "    <tr>\n",
        "      <th>2011-05-04</th>\n",
        "      <td>-2.035275</td>\n",
        "      <td> 0.622572</td>\n",
        "      <td>-1.532854</td>\n",
        "      <td>-0.262928</td>\n",
        "    </tr>\n",
        "    <tr>\n",
        "      <th>2011-05-11</th>\n",
        "      <td> 0.689379</td>\n",
        "      <td>-0.862679</td>\n",
        "      <td>-0.689041</td>\n",
        "      <td>-1.081166</td>\n",
        "    </tr>\n",
        "    <tr>\n",
        "      <th>2011-05-18</th>\n",
        "      <td>-0.577136</td>\n",
        "      <td>-0.942215</td>\n",
        "      <td> 0.127399</td>\n",
        "      <td>-0.025384</td>\n",
        "    </tr>\n",
        "    <tr>\n",
        "      <th>2011-05-25</th>\n",
        "      <td> 1.171154</td>\n",
        "      <td>-0.960801</td>\n",
        "      <td> 0.364273</td>\n",
        "      <td> 0.008701</td>\n",
        "    </tr>\n",
        "  </tbody>\n",
        "</table>\n",
        "</div>"
       ],
       "metadata": {},
       "output_type": "pyout",
       "prompt_number": 68,
       "text": [
        "            Cororado     Texas  New York      Ohio\n",
        "2011-05-04 -2.035275  0.622572 -1.532854 -0.262928\n",
        "2011-05-11  0.689379 -0.862679 -0.689041 -1.081166\n",
        "2011-05-18 -0.577136 -0.942215  0.127399 -0.025384\n",
        "2011-05-25  1.171154 -0.960801  0.364273  0.008701"
       ]
      }
     ],
     "prompt_number": 68
    },
    {
     "cell_type": "code",
     "collapsed": false,
     "input": [
      "long_df['5-2011']"
     ],
     "language": "python",
     "metadata": {},
     "outputs": [
      {
       "html": [
        "<div style=\"max-height:1000px;max-width:1500px;overflow:auto;\">\n",
        "<table border=\"1\" class=\"dataframe\">\n",
        "  <thead>\n",
        "    <tr style=\"text-align: right;\">\n",
        "      <th></th>\n",
        "      <th>Cororado</th>\n",
        "      <th>Texas</th>\n",
        "      <th>New York</th>\n",
        "      <th>Ohio</th>\n",
        "    </tr>\n",
        "  </thead>\n",
        "  <tbody>\n",
        "    <tr>\n",
        "      <th>2011-05-04</th>\n",
        "      <td>-2.035275</td>\n",
        "      <td> 0.622572</td>\n",
        "      <td>-1.532854</td>\n",
        "      <td>-0.262928</td>\n",
        "    </tr>\n",
        "    <tr>\n",
        "      <th>2011-05-11</th>\n",
        "      <td> 0.689379</td>\n",
        "      <td>-0.862679</td>\n",
        "      <td>-0.689041</td>\n",
        "      <td>-1.081166</td>\n",
        "    </tr>\n",
        "    <tr>\n",
        "      <th>2011-05-18</th>\n",
        "      <td>-0.577136</td>\n",
        "      <td>-0.942215</td>\n",
        "      <td> 0.127399</td>\n",
        "      <td>-0.025384</td>\n",
        "    </tr>\n",
        "    <tr>\n",
        "      <th>2011-05-25</th>\n",
        "      <td> 1.171154</td>\n",
        "      <td>-0.960801</td>\n",
        "      <td> 0.364273</td>\n",
        "      <td> 0.008701</td>\n",
        "    </tr>\n",
        "  </tbody>\n",
        "</table>\n",
        "</div>"
       ],
       "metadata": {},
       "output_type": "pyout",
       "prompt_number": 70,
       "text": [
        "            Cororado     Texas  New York      Ohio\n",
        "2011-05-04 -2.035275  0.622572 -1.532854 -0.262928\n",
        "2011-05-11  0.689379 -0.862679 -0.689041 -1.081166\n",
        "2011-05-18 -0.577136 -0.942215  0.127399 -0.025384\n",
        "2011-05-25  1.171154 -0.960801  0.364273  0.008701"
       ]
      }
     ],
     "prompt_number": 70
    },
    {
     "cell_type": "markdown",
     "metadata": {},
     "source": [
      "## Time Series with Duplicates Indices"
     ]
    },
    {
     "cell_type": "code",
     "collapsed": false,
     "input": [
      "dates = pd.DatetimeIndex(['1/1/2011', '1/2/2011', '1/2/2011', '1/2/2011', '1/3/2011'])"
     ],
     "language": "python",
     "metadata": {},
     "outputs": [],
     "prompt_number": 71
    },
    {
     "cell_type": "code",
     "collapsed": false,
     "input": [
      "dup_ts = Series(np.arange(5), index = dates)"
     ],
     "language": "python",
     "metadata": {},
     "outputs": [],
     "prompt_number": 72
    },
    {
     "cell_type": "code",
     "collapsed": false,
     "input": [
      "dup_ts"
     ],
     "language": "python",
     "metadata": {},
     "outputs": [
      {
       "metadata": {},
       "output_type": "pyout",
       "prompt_number": 73,
       "text": [
        "2011-01-01    0\n",
        "2011-01-02    1\n",
        "2011-01-02    2\n",
        "2011-01-02    3\n",
        "2011-01-03    4\n",
        "dtype: int64"
       ]
      }
     ],
     "prompt_number": 73
    },
    {
     "cell_type": "code",
     "collapsed": false,
     "input": [
      "dup_ts.index.is_unique"
     ],
     "language": "python",
     "metadata": {},
     "outputs": [
      {
       "metadata": {},
       "output_type": "pyout",
       "prompt_number": 74,
       "text": [
        "False"
       ]
      }
     ],
     "prompt_number": 74
    },
    {
     "cell_type": "code",
     "collapsed": false,
     "input": [
      "dup_ts['1/3/2011']"
     ],
     "language": "python",
     "metadata": {},
     "outputs": [
      {
       "metadata": {},
       "output_type": "pyout",
       "prompt_number": 76,
       "text": [
        "4"
       ]
      }
     ],
     "prompt_number": 76
    },
    {
     "cell_type": "code",
     "collapsed": false,
     "input": [
      "dup_ts['1/2/2011']"
     ],
     "language": "python",
     "metadata": {},
     "outputs": [
      {
       "metadata": {},
       "output_type": "pyout",
       "prompt_number": 77,
       "text": [
        "2011-01-02    1\n",
        "2011-01-02    2\n",
        "2011-01-02    3\n",
        "dtype: int64"
       ]
      }
     ],
     "prompt_number": 77
    },
    {
     "cell_type": "code",
     "collapsed": false,
     "input": [
      "grouped = dup_ts.groupby(level=0)\n",
      "grouped"
     ],
     "language": "python",
     "metadata": {},
     "outputs": [
      {
       "metadata": {},
       "output_type": "pyout",
       "prompt_number": 78,
       "text": [
        "<pandas.core.groupby.SeriesGroupBy object at 0x7f597bf9a050>"
       ]
      }
     ],
     "prompt_number": 78
    },
    {
     "cell_type": "code",
     "collapsed": false,
     "input": [
      "grouped.mean()"
     ],
     "language": "python",
     "metadata": {},
     "outputs": [
      {
       "metadata": {},
       "output_type": "pyout",
       "prompt_number": 79,
       "text": [
        "2011-01-01    0\n",
        "2011-01-02    2\n",
        "2011-01-03    4\n",
        "dtype: int64"
       ]
      }
     ],
     "prompt_number": 79
    },
    {
     "cell_type": "code",
     "collapsed": false,
     "input": [
      "grouped.count()"
     ],
     "language": "python",
     "metadata": {},
     "outputs": [
      {
       "metadata": {},
       "output_type": "pyout",
       "prompt_number": 80,
       "text": [
        "2011-01-01    1\n",
        "2011-01-02    3\n",
        "2011-01-03    1\n",
        "dtype: int64"
       ]
      }
     ],
     "prompt_number": 80
    },
    {
     "cell_type": "markdown",
     "metadata": {},
     "source": [
      "## Date Ranges, Frequencies, and Shifting"
     ]
    },
    {
     "cell_type": "code",
     "collapsed": false,
     "input": [
      "ts"
     ],
     "language": "python",
     "metadata": {},
     "outputs": [
      {
       "metadata": {},
       "output_type": "pyout",
       "prompt_number": 81,
       "text": [
        "2011-01-02    0.893325\n",
        "2011-01-05    0.708986\n",
        "2011-01-07   -0.120512\n",
        "2011-01-08   -1.408862\n",
        "2011-01-10    0.488172\n",
        "2011-01-12   -1.362223\n",
        "dtype: float64"
       ]
      }
     ],
     "prompt_number": 81
    },
    {
     "cell_type": "code",
     "collapsed": false,
     "input": [
      "ts.resample('D')"
     ],
     "language": "python",
     "metadata": {},
     "outputs": [
      {
       "metadata": {},
       "output_type": "pyout",
       "prompt_number": 82,
       "text": [
        "2011-01-02    0.893325\n",
        "2011-01-03         NaN\n",
        "2011-01-04         NaN\n",
        "2011-01-05    0.708986\n",
        "2011-01-06         NaN\n",
        "2011-01-07   -0.120512\n",
        "2011-01-08   -1.408862\n",
        "2011-01-09         NaN\n",
        "2011-01-10    0.488172\n",
        "2011-01-11         NaN\n",
        "2011-01-12   -1.362223\n",
        "Freq: D, dtype: float64"
       ]
      }
     ],
     "prompt_number": 82
    },
    {
     "cell_type": "markdown",
     "metadata": {},
     "source": [
      "### Generating Data Ranges"
     ]
    },
    {
     "cell_type": "code",
     "collapsed": false,
     "input": [
      "index = pd.date_range('4/1/2011', '6/1/2012')\n",
      "index"
     ],
     "language": "python",
     "metadata": {},
     "outputs": [
      {
       "metadata": {},
       "output_type": "pyout",
       "prompt_number": 83,
       "text": [
        "<class 'pandas.tseries.index.DatetimeIndex'>\n",
        "[2011-04-01, ..., 2012-06-01]\n",
        "Length: 428, Freq: D, Timezone: None"
       ]
      }
     ],
     "prompt_number": 83
    },
    {
     "cell_type": "code",
     "collapsed": false,
     "input": [
      "pd.date_range(start='4/1/2011', periods=20)"
     ],
     "language": "python",
     "metadata": {},
     "outputs": [
      {
       "metadata": {},
       "output_type": "pyout",
       "prompt_number": 84,
       "text": [
        "<class 'pandas.tseries.index.DatetimeIndex'>\n",
        "[2011-04-01, ..., 2011-04-20]\n",
        "Length: 20, Freq: D, Timezone: None"
       ]
      }
     ],
     "prompt_number": 84
    },
    {
     "cell_type": "code",
     "collapsed": false,
     "input": [
      "pd.date_range(end='6/1/2012', periods=20)"
     ],
     "language": "python",
     "metadata": {},
     "outputs": [
      {
       "metadata": {},
       "output_type": "pyout",
       "prompt_number": 85,
       "text": [
        "<class 'pandas.tseries.index.DatetimeIndex'>\n",
        "[2012-05-13, ..., 2012-06-01]\n",
        "Length: 20, Freq: D, Timezone: None"
       ]
      }
     ],
     "prompt_number": 85
    },
    {
     "cell_type": "code",
     "collapsed": false,
     "input": [
      "pd.date_range('1/1/2012', '12/31/2012', freq='BM')"
     ],
     "language": "python",
     "metadata": {},
     "outputs": [
      {
       "metadata": {},
       "output_type": "pyout",
       "prompt_number": 86,
       "text": [
        "<class 'pandas.tseries.index.DatetimeIndex'>\n",
        "[2012-01-31, ..., 2012-12-31]\n",
        "Length: 12, Freq: BM, Timezone: None"
       ]
      }
     ],
     "prompt_number": 86
    },
    {
     "cell_type": "code",
     "collapsed": false,
     "input": [
      "pd.date_range('5/2/2012 12:56:31', periods=5)"
     ],
     "language": "python",
     "metadata": {},
     "outputs": [
      {
       "metadata": {},
       "output_type": "pyout",
       "prompt_number": 87,
       "text": [
        "<class 'pandas.tseries.index.DatetimeIndex'>\n",
        "[2012-05-02 12:56:31, ..., 2012-05-06 12:56:31]\n",
        "Length: 5, Freq: D, Timezone: None"
       ]
      }
     ],
     "prompt_number": 87
    },
    {
     "cell_type": "code",
     "collapsed": false,
     "input": [
      "pd.date_range('5/2/2012 12:56:31', periods=5, normalize=True)"
     ],
     "language": "python",
     "metadata": {},
     "outputs": [
      {
       "metadata": {},
       "output_type": "pyout",
       "prompt_number": 88,
       "text": [
        "<class 'pandas.tseries.index.DatetimeIndex'>\n",
        "[2012-05-02, ..., 2012-05-06]\n",
        "Length: 5, Freq: D, Timezone: None"
       ]
      }
     ],
     "prompt_number": 88
    },
    {
     "cell_type": "markdown",
     "metadata": {},
     "source": [
      "### Frequencies and Date Offsets"
     ]
    },
    {
     "cell_type": "code",
     "collapsed": false,
     "input": [
      "from pandas.tseries.offsets import Hour, Minute"
     ],
     "language": "python",
     "metadata": {},
     "outputs": [],
     "prompt_number": 89
    },
    {
     "cell_type": "code",
     "collapsed": false,
     "input": [
      "hour = Hour()\n",
      "hour"
     ],
     "language": "python",
     "metadata": {},
     "outputs": [
      {
       "metadata": {},
       "output_type": "pyout",
       "prompt_number": 90,
       "text": [
        "<Hour>"
       ]
      }
     ],
     "prompt_number": 90
    },
    {
     "cell_type": "code",
     "collapsed": false,
     "input": [
      "four_hours = Hour(4)\n",
      "four_hours"
     ],
     "language": "python",
     "metadata": {},
     "outputs": [
      {
       "metadata": {},
       "output_type": "pyout",
       "prompt_number": 91,
       "text": [
        "<4 * Hours>"
       ]
      }
     ],
     "prompt_number": 91
    },
    {
     "cell_type": "code",
     "collapsed": false,
     "input": [
      "pd.date_range('1/1/2000', '1/3/2000 23:59', freq = '4h')"
     ],
     "language": "python",
     "metadata": {},
     "outputs": [
      {
       "metadata": {},
       "output_type": "pyout",
       "prompt_number": 92,
       "text": [
        "<class 'pandas.tseries.index.DatetimeIndex'>\n",
        "[2000-01-01 00:00:00, ..., 2000-01-03 20:00:00]\n",
        "Length: 18, Freq: 4H, Timezone: None"
       ]
      }
     ],
     "prompt_number": 92
    },
    {
     "cell_type": "code",
     "collapsed": false,
     "input": [
      "Hour(2) + Minute(30)"
     ],
     "language": "python",
     "metadata": {},
     "outputs": [
      {
       "metadata": {},
       "output_type": "pyout",
       "prompt_number": 93,
       "text": [
        "<150 * Minutes>"
       ]
      }
     ],
     "prompt_number": 93
    },
    {
     "cell_type": "code",
     "collapsed": false,
     "input": [
      "pd.date_range('1/1/2000', periods=10, freq='1h30min')"
     ],
     "language": "python",
     "metadata": {},
     "outputs": [
      {
       "metadata": {},
       "output_type": "pyout",
       "prompt_number": 94,
       "text": [
        "<class 'pandas.tseries.index.DatetimeIndex'>\n",
        "[2000-01-01 00:00:00, ..., 2000-01-01 13:30:00]\n",
        "Length: 10, Freq: 90T, Timezone: None"
       ]
      }
     ],
     "prompt_number": 94
    },
    {
     "cell_type": "markdown",
     "metadata": {},
     "source": [
      "####Week of Month Dates"
     ]
    },
    {
     "cell_type": "code",
     "collapsed": false,
     "input": [
      "rng = pd.date_range('1/1/2012', '9/1/2012', freq='WOM-3FRI')"
     ],
     "language": "python",
     "metadata": {},
     "outputs": [],
     "prompt_number": 95
    },
    {
     "cell_type": "code",
     "collapsed": false,
     "input": [
      "rng"
     ],
     "language": "python",
     "metadata": {},
     "outputs": [
      {
       "metadata": {},
       "output_type": "pyout",
       "prompt_number": 96,
       "text": [
        "<class 'pandas.tseries.index.DatetimeIndex'>\n",
        "[2012-01-20, ..., 2012-08-17]\n",
        "Length: 8, Freq: WOM-3FRI, Timezone: None"
       ]
      }
     ],
     "prompt_number": 96
    },
    {
     "cell_type": "code",
     "collapsed": false,
     "input": [
      "list(rng)"
     ],
     "language": "python",
     "metadata": {},
     "outputs": [
      {
       "metadata": {},
       "output_type": "pyout",
       "prompt_number": 97,
       "text": [
        "[Timestamp('2012-01-20 00:00:00', offset='WOM-3FRI'),\n",
        " Timestamp('2012-02-17 00:00:00', offset='WOM-3FRI'),\n",
        " Timestamp('2012-03-16 00:00:00', offset='WOM-3FRI'),\n",
        " Timestamp('2012-04-20 00:00:00', offset='WOM-3FRI'),\n",
        " Timestamp('2012-05-18 00:00:00', offset='WOM-3FRI'),\n",
        " Timestamp('2012-06-15 00:00:00', offset='WOM-3FRI'),\n",
        " Timestamp('2012-07-20 00:00:00', offset='WOM-3FRI'),\n",
        " Timestamp('2012-08-17 00:00:00', offset='WOM-3FRI')]"
       ]
      }
     ],
     "prompt_number": 97
    },
    {
     "cell_type": "markdown",
     "metadata": {},
     "source": [
      "##Shifting (Leading and Lagging) Data"
     ]
    },
    {
     "cell_type": "code",
     "collapsed": false,
     "input": [
      "ts = Series(np.random.randn(4),\n",
      "            index = pd.date_range('1/1/2000', periods=4, freq='M'))\n",
      "ts"
     ],
     "language": "python",
     "metadata": {},
     "outputs": [
      {
       "metadata": {},
       "output_type": "pyout",
       "prompt_number": 98,
       "text": [
        "2000-01-31    0.085950\n",
        "2000-02-29   -0.746405\n",
        "2000-03-31   -0.330102\n",
        "2000-04-30    0.838828\n",
        "Freq: M, dtype: float64"
       ]
      }
     ],
     "prompt_number": 98
    },
    {
     "cell_type": "code",
     "collapsed": false,
     "input": [
      "ts.shift(2)"
     ],
     "language": "python",
     "metadata": {},
     "outputs": [
      {
       "metadata": {},
       "output_type": "pyout",
       "prompt_number": 99,
       "text": [
        "2000-01-31         NaN\n",
        "2000-02-29         NaN\n",
        "2000-03-31    0.085950\n",
        "2000-04-30   -0.746405\n",
        "Freq: M, dtype: float64"
       ]
      }
     ],
     "prompt_number": 99
    },
    {
     "cell_type": "code",
     "collapsed": false,
     "input": [
      "ts.shift(-2)"
     ],
     "language": "python",
     "metadata": {},
     "outputs": [
      {
       "metadata": {},
       "output_type": "pyout",
       "prompt_number": 100,
       "text": [
        "2000-01-31   -0.330102\n",
        "2000-02-29    0.838828\n",
        "2000-03-31         NaN\n",
        "2000-04-30         NaN\n",
        "Freq: M, dtype: float64"
       ]
      }
     ],
     "prompt_number": 100
    },
    {
     "cell_type": "code",
     "collapsed": false,
     "input": [
      "ts/ts.shift(1) - 1"
     ],
     "language": "python",
     "metadata": {},
     "outputs": [
      {
       "metadata": {},
       "output_type": "pyout",
       "prompt_number": 101,
       "text": [
        "2000-01-31         NaN\n",
        "2000-02-29   -9.684153\n",
        "2000-03-31   -0.557743\n",
        "2000-04-30   -3.541115\n",
        "Freq: M, dtype: float64"
       ]
      }
     ],
     "prompt_number": 101
    },
    {
     "cell_type": "code",
     "collapsed": false,
     "input": [
      "ts.shift(2, freq='M')"
     ],
     "language": "python",
     "metadata": {},
     "outputs": [
      {
       "metadata": {},
       "output_type": "pyout",
       "prompt_number": 102,
       "text": [
        "2000-03-31    0.085950\n",
        "2000-04-30   -0.746405\n",
        "2000-05-31   -0.330102\n",
        "2000-06-30    0.838828\n",
        "Freq: M, dtype: float64"
       ]
      }
     ],
     "prompt_number": 102
    },
    {
     "cell_type": "code",
     "collapsed": false,
     "input": [
      "ts.shift(3, freq='D')"
     ],
     "language": "python",
     "metadata": {},
     "outputs": [
      {
       "metadata": {},
       "output_type": "pyout",
       "prompt_number": 103,
       "text": [
        "2000-02-03    0.085950\n",
        "2000-03-03   -0.746405\n",
        "2000-04-03   -0.330102\n",
        "2000-05-03    0.838828\n",
        "dtype: float64"
       ]
      }
     ],
     "prompt_number": 103
    },
    {
     "cell_type": "code",
     "collapsed": false,
     "input": [
      "ts.shift(1, freq='3D')"
     ],
     "language": "python",
     "metadata": {},
     "outputs": [
      {
       "metadata": {},
       "output_type": "pyout",
       "prompt_number": 104,
       "text": [
        "2000-02-03    0.085950\n",
        "2000-03-03   -0.746405\n",
        "2000-04-03   -0.330102\n",
        "2000-05-03    0.838828\n",
        "dtype: float64"
       ]
      }
     ],
     "prompt_number": 104
    },
    {
     "cell_type": "code",
     "collapsed": false,
     "input": [
      "ts.shift(1, freq='90T')"
     ],
     "language": "python",
     "metadata": {},
     "outputs": [
      {
       "metadata": {},
       "output_type": "pyout",
       "prompt_number": 105,
       "text": [
        "2000-01-31 01:30:00    0.085950\n",
        "2000-02-29 01:30:00   -0.746405\n",
        "2000-03-31 01:30:00   -0.330102\n",
        "2000-04-30 01:30:00    0.838828\n",
        "dtype: float64"
       ]
      }
     ],
     "prompt_number": 105
    },
    {
     "cell_type": "markdown",
     "metadata": {},
     "source": [
      "####Shifting dates with offsets"
     ]
    },
    {
     "cell_type": "code",
     "collapsed": false,
     "input": [
      "from pandas.tseries.offsets import Day, MonthEnd"
     ],
     "language": "python",
     "metadata": {},
     "outputs": [],
     "prompt_number": 108
    },
    {
     "cell_type": "code",
     "collapsed": false,
     "input": [
      "now = datetime(2011, 11, 17)"
     ],
     "language": "python",
     "metadata": {},
     "outputs": [],
     "prompt_number": 106
    },
    {
     "cell_type": "code",
     "collapsed": false,
     "input": [
      "now + 3*Day()"
     ],
     "language": "python",
     "metadata": {},
     "outputs": [
      {
       "metadata": {},
       "output_type": "pyout",
       "prompt_number": 109,
       "text": [
        "Timestamp('2011-11-20 00:00:00')"
       ]
      }
     ],
     "prompt_number": 109
    },
    {
     "cell_type": "code",
     "collapsed": false,
     "input": [
      "now + MonthEnd(2)"
     ],
     "language": "python",
     "metadata": {},
     "outputs": [
      {
       "metadata": {},
       "output_type": "pyout",
       "prompt_number": 110,
       "text": [
        "Timestamp('2011-12-31 00:00:00')"
       ]
      }
     ],
     "prompt_number": 110
    },
    {
     "cell_type": "code",
     "collapsed": false,
     "input": [
      "offset = MonthEnd()"
     ],
     "language": "python",
     "metadata": {},
     "outputs": [],
     "prompt_number": 111
    },
    {
     "cell_type": "code",
     "collapsed": false,
     "input": [
      "offset.rollforward(now)"
     ],
     "language": "python",
     "metadata": {},
     "outputs": [
      {
       "metadata": {},
       "output_type": "pyout",
       "prompt_number": 112,
       "text": [
        "Timestamp('2011-11-30 00:00:00')"
       ]
      }
     ],
     "prompt_number": 112
    },
    {
     "cell_type": "code",
     "collapsed": false,
     "input": [
      "offset.rollback(now)"
     ],
     "language": "python",
     "metadata": {},
     "outputs": [
      {
       "metadata": {},
       "output_type": "pyout",
       "prompt_number": 113,
       "text": [
        "Timestamp('2011-10-31 00:00:00')"
       ]
      }
     ],
     "prompt_number": 113
    },
    {
     "cell_type": "code",
     "collapsed": false,
     "input": [
      "ts = Series(np.random.randn(20),\n",
      "            index = pd.date_range('1/15/2000', periods=20, freq='4D'))"
     ],
     "language": "python",
     "metadata": {},
     "outputs": [],
     "prompt_number": 114
    },
    {
     "cell_type": "code",
     "collapsed": false,
     "input": [
      "ts"
     ],
     "language": "python",
     "metadata": {},
     "outputs": [
      {
       "metadata": {},
       "output_type": "pyout",
       "prompt_number": 119,
       "text": [
        "2000-01-15   -2.148588\n",
        "2000-01-19   -0.526856\n",
        "2000-01-23    0.963244\n",
        "2000-01-27   -0.104495\n",
        "2000-01-31   -1.802503\n",
        "2000-02-04    1.390563\n",
        "2000-02-08   -0.656521\n",
        "2000-02-12   -1.930873\n",
        "2000-02-16    0.880192\n",
        "2000-02-20   -1.032921\n",
        "2000-02-24   -0.131815\n",
        "2000-02-28    1.497785\n",
        "2000-03-03    0.531005\n",
        "2000-03-07    0.794583\n",
        "2000-03-11   -0.203546\n",
        "2000-03-15    0.131765\n",
        "2000-03-19   -0.608025\n",
        "2000-03-23   -0.037930\n",
        "2000-03-27   -0.667943\n",
        "2000-03-31   -2.104161\n",
        "Freq: 4D, dtype: float64"
       ]
      }
     ],
     "prompt_number": 119
    },
    {
     "cell_type": "code",
     "collapsed": false,
     "input": [
      "ts.groupby(offset.rollforward).mean()"
     ],
     "language": "python",
     "metadata": {},
     "outputs": [
      {
       "metadata": {},
       "output_type": "pyout",
       "prompt_number": 118,
       "text": [
        "2000-01-31   -0.723840\n",
        "2000-02-29    0.002344\n",
        "2000-03-31   -0.270532\n",
        "dtype: float64"
       ]
      }
     ],
     "prompt_number": 118
    },
    {
     "cell_type": "code",
     "collapsed": false,
     "input": [
      "ts.resample('M', how = 'mean')"
     ],
     "language": "python",
     "metadata": {},
     "outputs": [
      {
       "metadata": {},
       "output_type": "pyout",
       "prompt_number": 120,
       "text": [
        "2000-01-31   -0.723840\n",
        "2000-02-29    0.002344\n",
        "2000-03-31   -0.270532\n",
        "Freq: M, dtype: float64"
       ]
      }
     ],
     "prompt_number": 120
    },
    {
     "cell_type": "markdown",
     "metadata": {},
     "source": [
      "## Time Zone Handling"
     ]
    },
    {
     "cell_type": "code",
     "collapsed": false,
     "input": [
      "import pytz"
     ],
     "language": "python",
     "metadata": {},
     "outputs": [],
     "prompt_number": 121
    },
    {
     "cell_type": "code",
     "collapsed": false,
     "input": [
      "pytz.common_timezones[-5:]"
     ],
     "language": "python",
     "metadata": {},
     "outputs": [
      {
       "metadata": {},
       "output_type": "pyout",
       "prompt_number": 122,
       "text": [
        "['US/Eastern', 'US/Hawaii', 'US/Mountain', 'US/Pacific', 'UTC']"
       ]
      }
     ],
     "prompt_number": 122
    },
    {
     "cell_type": "code",
     "collapsed": false,
     "input": [
      "tz = pytz.timezone('US/Eastern')\n",
      "tz"
     ],
     "language": "python",
     "metadata": {},
     "outputs": [
      {
       "metadata": {},
       "output_type": "pyout",
       "prompt_number": 124,
       "text": [
        "<DstTzInfo 'US/Eastern' LMT-1 day, 19:04:00 STD>"
       ]
      }
     ],
     "prompt_number": 124
    },
    {
     "cell_type": "markdown",
     "metadata": {},
     "source": [
      "###Localizaton and Conversion"
     ]
    },
    {
     "cell_type": "code",
     "collapsed": false,
     "input": [
      "rng = pd.date_range('3/9/2012 9:30', periods=6, freq='D')"
     ],
     "language": "python",
     "metadata": {},
     "outputs": [],
     "prompt_number": 125
    },
    {
     "cell_type": "code",
     "collapsed": false,
     "input": [
      "ts = Series(np.random.randn(len(rng)), index = rng)"
     ],
     "language": "python",
     "metadata": {},
     "outputs": [],
     "prompt_number": 126
    },
    {
     "cell_type": "code",
     "collapsed": false,
     "input": [
      "ts"
     ],
     "language": "python",
     "metadata": {},
     "outputs": [
      {
       "metadata": {},
       "output_type": "pyout",
       "prompt_number": 127,
       "text": [
        "2012-03-09 09:30:00   -0.920154\n",
        "2012-03-10 09:30:00   -0.385913\n",
        "2012-03-11 09:30:00    0.281377\n",
        "2012-03-12 09:30:00   -0.145528\n",
        "2012-03-13 09:30:00   -1.565828\n",
        "2012-03-14 09:30:00    0.308383\n",
        "Freq: D, dtype: float64"
       ]
      }
     ],
     "prompt_number": 127
    },
    {
     "cell_type": "code",
     "collapsed": false,
     "input": [
      "print ts.index.tz"
     ],
     "language": "python",
     "metadata": {},
     "outputs": [
      {
       "output_type": "stream",
       "stream": "stdout",
       "text": [
        "None\n"
       ]
      }
     ],
     "prompt_number": 128
    },
    {
     "cell_type": "code",
     "collapsed": false,
     "input": [
      "pd.date_range('3/9/2012 9:30', periods=10, freq='D', tz = 'UTC')"
     ],
     "language": "python",
     "metadata": {},
     "outputs": [
      {
       "metadata": {},
       "output_type": "pyout",
       "prompt_number": 129,
       "text": [
        "<class 'pandas.tseries.index.DatetimeIndex'>\n",
        "[2012-03-09 09:30:00+00:00, ..., 2012-03-18 09:30:00+00:00]\n",
        "Length: 10, Freq: D, Timezone: UTC"
       ]
      }
     ],
     "prompt_number": 129
    },
    {
     "cell_type": "code",
     "collapsed": false,
     "input": [
      "ts_utc = ts.tz_localize('UTC')"
     ],
     "language": "python",
     "metadata": {},
     "outputs": [],
     "prompt_number": 130
    },
    {
     "cell_type": "code",
     "collapsed": false,
     "input": [
      "ts_utc"
     ],
     "language": "python",
     "metadata": {},
     "outputs": [
      {
       "metadata": {},
       "output_type": "pyout",
       "prompt_number": 131,
       "text": [
        "2012-03-09 09:30:00+00:00   -0.920154\n",
        "2012-03-10 09:30:00+00:00   -0.385913\n",
        "2012-03-11 09:30:00+00:00    0.281377\n",
        "2012-03-12 09:30:00+00:00   -0.145528\n",
        "2012-03-13 09:30:00+00:00   -1.565828\n",
        "2012-03-14 09:30:00+00:00    0.308383\n",
        "Freq: D, dtype: float64"
       ]
      }
     ],
     "prompt_number": 131
    },
    {
     "cell_type": "code",
     "collapsed": false,
     "input": [
      "ts_utc.index"
     ],
     "language": "python",
     "metadata": {},
     "outputs": [
      {
       "metadata": {},
       "output_type": "pyout",
       "prompt_number": 132,
       "text": [
        "<class 'pandas.tseries.index.DatetimeIndex'>\n",
        "[2012-03-09 09:30:00+00:00, ..., 2012-03-14 09:30:00+00:00]\n",
        "Length: 6, Freq: D, Timezone: UTC"
       ]
      }
     ],
     "prompt_number": 132
    },
    {
     "cell_type": "code",
     "collapsed": false,
     "input": [
      "ts_utc.tz_convert('US/Eastern')"
     ],
     "language": "python",
     "metadata": {},
     "outputs": [
      {
       "metadata": {},
       "output_type": "pyout",
       "prompt_number": 134,
       "text": [
        "2012-03-09 04:30:00-05:00   -0.920154\n",
        "2012-03-10 04:30:00-05:00   -0.385913\n",
        "2012-03-11 05:30:00-04:00    0.281377\n",
        "2012-03-12 05:30:00-04:00   -0.145528\n",
        "2012-03-13 05:30:00-04:00   -1.565828\n",
        "2012-03-14 05:30:00-04:00    0.308383\n",
        "Freq: D, dtype: float64"
       ]
      }
     ],
     "prompt_number": 134
    },
    {
     "cell_type": "code",
     "collapsed": false,
     "input": [
      "ts_eastern = ts.tz_localize('US/Eastern')\n",
      "ts_eastern"
     ],
     "language": "python",
     "metadata": {},
     "outputs": [
      {
       "metadata": {},
       "output_type": "pyout",
       "prompt_number": 135,
       "text": [
        "2012-03-09 09:30:00-05:00   -0.920154\n",
        "2012-03-10 09:30:00-05:00   -0.385913\n",
        "2012-03-11 09:30:00-04:00    0.281377\n",
        "2012-03-12 09:30:00-04:00   -0.145528\n",
        "2012-03-13 09:30:00-04:00   -1.565828\n",
        "2012-03-14 09:30:00-04:00    0.308383\n",
        "Freq: D, dtype: float64"
       ]
      }
     ],
     "prompt_number": 135
    },
    {
     "cell_type": "code",
     "collapsed": false,
     "input": [
      "ts_eastern.tz_convert('UTC')"
     ],
     "language": "python",
     "metadata": {},
     "outputs": [
      {
       "metadata": {},
       "output_type": "pyout",
       "prompt_number": 136,
       "text": [
        "2012-03-09 14:30:00+00:00   -0.920154\n",
        "2012-03-10 14:30:00+00:00   -0.385913\n",
        "2012-03-11 13:30:00+00:00    0.281377\n",
        "2012-03-12 13:30:00+00:00   -0.145528\n",
        "2012-03-13 13:30:00+00:00   -1.565828\n",
        "2012-03-14 13:30:00+00:00    0.308383\n",
        "Freq: D, dtype: float64"
       ]
      }
     ],
     "prompt_number": 136
    },
    {
     "cell_type": "code",
     "collapsed": false,
     "input": [
      "ts_eastern.tz_convert('Europe/Berlin')"
     ],
     "language": "python",
     "metadata": {},
     "outputs": [
      {
       "metadata": {},
       "output_type": "pyout",
       "prompt_number": 137,
       "text": [
        "2012-03-09 15:30:00+01:00   -0.920154\n",
        "2012-03-10 15:30:00+01:00   -0.385913\n",
        "2012-03-11 14:30:00+01:00    0.281377\n",
        "2012-03-12 14:30:00+01:00   -0.145528\n",
        "2012-03-13 14:30:00+01:00   -1.565828\n",
        "2012-03-14 14:30:00+01:00    0.308383\n",
        "Freq: D, dtype: float64"
       ]
      }
     ],
     "prompt_number": 137
    },
    {
     "cell_type": "code",
     "collapsed": false,
     "input": [
      "ts.index.tz_localize('Asia/Shanghai')"
     ],
     "language": "python",
     "metadata": {},
     "outputs": [
      {
       "metadata": {},
       "output_type": "pyout",
       "prompt_number": 140,
       "text": [
        "<class 'pandas.tseries.index.DatetimeIndex'>\n",
        "[2012-03-09 09:30:00+08:00, ..., 2012-03-14 09:30:00+08:00]\n",
        "Length: 6, Freq: D, Timezone: Asia/Shanghai"
       ]
      }
     ],
     "prompt_number": 140
    },
    {
     "cell_type": "markdown",
     "metadata": {},
     "source": [
      "### Opeations with Time Zone - Aware Timestamp Objects"
     ]
    },
    {
     "cell_type": "code",
     "collapsed": false,
     "input": [
      "stamp = pd.Timestamp('2011-03-12 04:00')"
     ],
     "language": "python",
     "metadata": {},
     "outputs": [],
     "prompt_number": 141
    },
    {
     "cell_type": "code",
     "collapsed": false,
     "input": [
      "stamp_utc = stamp.tz_localize('utc')"
     ],
     "language": "python",
     "metadata": {},
     "outputs": [],
     "prompt_number": 142
    },
    {
     "cell_type": "code",
     "collapsed": false,
     "input": [
      "stamp_utc"
     ],
     "language": "python",
     "metadata": {},
     "outputs": [
      {
       "metadata": {},
       "output_type": "pyout",
       "prompt_number": 143,
       "text": [
        "Timestamp('2011-03-12 04:00:00+0000', tz='UTC')"
       ]
      }
     ],
     "prompt_number": 143
    },
    {
     "cell_type": "code",
     "collapsed": false,
     "input": [
      "stamp_utc.tz_convert('US/Eastern')"
     ],
     "language": "python",
     "metadata": {},
     "outputs": [
      {
       "metadata": {},
       "output_type": "pyout",
       "prompt_number": 144,
       "text": [
        "Timestamp('2011-03-11 23:00:00-0500', tz='US/Eastern')"
       ]
      }
     ],
     "prompt_number": 144
    },
    {
     "cell_type": "code",
     "collapsed": false,
     "input": [
      "stamp_moscow = pd.Timestamp('2011-03-12 04:00', tz = 'Europe/Moscow')"
     ],
     "language": "python",
     "metadata": {},
     "outputs": [],
     "prompt_number": 145
    },
    {
     "cell_type": "code",
     "collapsed": false,
     "input": [
      "stamp_moscow"
     ],
     "language": "python",
     "metadata": {},
     "outputs": [
      {
       "metadata": {},
       "output_type": "pyout",
       "prompt_number": 146,
       "text": [
        "Timestamp('2011-03-12 04:00:00+0300', tz='Europe/Moscow')"
       ]
      }
     ],
     "prompt_number": 146
    },
    {
     "cell_type": "code",
     "collapsed": false,
     "input": [
      "stamp_utc.value"
     ],
     "language": "python",
     "metadata": {},
     "outputs": [
      {
       "metadata": {},
       "output_type": "pyout",
       "prompt_number": 147,
       "text": [
        "1299902400000000000"
       ]
      }
     ],
     "prompt_number": 147
    },
    {
     "cell_type": "code",
     "collapsed": false,
     "input": [
      "stamp_utc.tz_convert('US/Eastern').value"
     ],
     "language": "python",
     "metadata": {},
     "outputs": [
      {
       "metadata": {},
       "output_type": "pyout",
       "prompt_number": 148,
       "text": [
        "1299902400000000000"
       ]
      }
     ],
     "prompt_number": 148
    },
    {
     "cell_type": "code",
     "collapsed": false,
     "input": [
      "from pandas.tseries.offsets import Hour"
     ],
     "language": "python",
     "metadata": {},
     "outputs": [],
     "prompt_number": 149
    },
    {
     "cell_type": "code",
     "collapsed": false,
     "input": [
      "stamp = pd.Timestamp('2013-03-12 01:30', tz = 'US/Eastern')"
     ],
     "language": "python",
     "metadata": {},
     "outputs": [],
     "prompt_number": 150
    },
    {
     "cell_type": "code",
     "collapsed": false,
     "input": [
      "stamp"
     ],
     "language": "python",
     "metadata": {},
     "outputs": [
      {
       "metadata": {},
       "output_type": "pyout",
       "prompt_number": 151,
       "text": [
        "Timestamp('2013-03-12 01:30:00-0400', tz='US/Eastern')"
       ]
      }
     ],
     "prompt_number": 151
    },
    {
     "cell_type": "code",
     "collapsed": false,
     "input": [
      "stamp + Hour()"
     ],
     "language": "python",
     "metadata": {},
     "outputs": [
      {
       "metadata": {},
       "output_type": "pyout",
       "prompt_number": 152,
       "text": [
        "Timestamp('2013-03-12 02:30:00-0400', tz='US/Eastern')"
       ]
      }
     ],
     "prompt_number": 152
    },
    {
     "cell_type": "code",
     "collapsed": false,
     "input": [
      "stamp = pd.Timestamp('2014-11-04 00:30', tz = 'US/Eastern')"
     ],
     "language": "python",
     "metadata": {},
     "outputs": [],
     "prompt_number": 153
    },
    {
     "cell_type": "code",
     "collapsed": false,
     "input": [
      "stamp"
     ],
     "language": "python",
     "metadata": {},
     "outputs": [
      {
       "metadata": {},
       "output_type": "pyout",
       "prompt_number": 154,
       "text": [
        "Timestamp('2014-11-04 00:30:00-0500', tz='US/Eastern')"
       ]
      }
     ],
     "prompt_number": 154
    },
    {
     "cell_type": "code",
     "collapsed": false,
     "input": [
      "stamp + 2 * Hour()"
     ],
     "language": "python",
     "metadata": {},
     "outputs": [
      {
       "metadata": {},
       "output_type": "pyout",
       "prompt_number": 155,
       "text": [
        "Timestamp('2014-11-04 02:30:00-0500', tz='US/Eastern')"
       ]
      }
     ],
     "prompt_number": 155
    },
    {
     "cell_type": "markdown",
     "metadata": {},
     "source": [
      "###Operations between different timezones"
     ]
    },
    {
     "cell_type": "code",
     "collapsed": false,
     "input": [
      "rng = pd.date_range('3/7/2012 09:30', periods=10, freq='D')"
     ],
     "language": "python",
     "metadata": {},
     "outputs": [],
     "prompt_number": 156
    },
    {
     "cell_type": "code",
     "collapsed": false,
     "input": [
      "ts = Series(np.random.randn(len(rng)),\n",
      "            index = rng)"
     ],
     "language": "python",
     "metadata": {},
     "outputs": [],
     "prompt_number": 157
    },
    {
     "cell_type": "code",
     "collapsed": false,
     "input": [
      "ts"
     ],
     "language": "python",
     "metadata": {},
     "outputs": [
      {
       "metadata": {},
       "output_type": "pyout",
       "prompt_number": 158,
       "text": [
        "2012-03-07 09:30:00    0.828780\n",
        "2012-03-08 09:30:00    0.405886\n",
        "2012-03-09 09:30:00   -1.274186\n",
        "2012-03-10 09:30:00   -1.069805\n",
        "2012-03-11 09:30:00   -1.681760\n",
        "2012-03-12 09:30:00    0.869865\n",
        "2012-03-13 09:30:00    1.357566\n",
        "2012-03-14 09:30:00    0.956926\n",
        "2012-03-15 09:30:00    0.061406\n",
        "2012-03-16 09:30:00   -0.713349\n",
        "Freq: D, dtype: float64"
       ]
      }
     ],
     "prompt_number": 158
    },
    {
     "cell_type": "code",
     "collapsed": false,
     "input": [
      "ts_1 = ts[: 7].tz_localize('Europe/London')"
     ],
     "language": "python",
     "metadata": {},
     "outputs": [],
     "prompt_number": 159
    },
    {
     "cell_type": "code",
     "collapsed": false,
     "input": [
      "ts_1"
     ],
     "language": "python",
     "metadata": {},
     "outputs": [
      {
       "metadata": {},
       "output_type": "pyout",
       "prompt_number": 160,
       "text": [
        "2012-03-07 09:30:00+00:00    0.828780\n",
        "2012-03-08 09:30:00+00:00    0.405886\n",
        "2012-03-09 09:30:00+00:00   -1.274186\n",
        "2012-03-10 09:30:00+00:00   -1.069805\n",
        "2012-03-11 09:30:00+00:00   -1.681760\n",
        "2012-03-12 09:30:00+00:00    0.869865\n",
        "2012-03-13 09:30:00+00:00    1.357566\n",
        "Freq: D, dtype: float64"
       ]
      }
     ],
     "prompt_number": 160
    },
    {
     "cell_type": "code",
     "collapsed": false,
     "input": [
      "ts_2 = ts_1[2: ].tz_convert('Europe/Moscow')"
     ],
     "language": "python",
     "metadata": {},
     "outputs": [],
     "prompt_number": 163
    },
    {
     "cell_type": "code",
     "collapsed": false,
     "input": [
      "ts_2"
     ],
     "language": "python",
     "metadata": {},
     "outputs": [
      {
       "metadata": {},
       "output_type": "pyout",
       "prompt_number": 164,
       "text": [
        "2012-03-09 13:30:00+04:00   -1.274186\n",
        "2012-03-10 13:30:00+04:00   -1.069805\n",
        "2012-03-11 13:30:00+04:00   -1.681760\n",
        "2012-03-12 13:30:00+04:00    0.869865\n",
        "2012-03-13 13:30:00+04:00    1.357566\n",
        "Freq: D, dtype: float64"
       ]
      }
     ],
     "prompt_number": 164
    },
    {
     "cell_type": "code",
     "collapsed": false,
     "input": [
      "result = ts_1 + ts_2"
     ],
     "language": "python",
     "metadata": {},
     "outputs": [],
     "prompt_number": 165
    },
    {
     "cell_type": "code",
     "collapsed": false,
     "input": [
      "result"
     ],
     "language": "python",
     "metadata": {},
     "outputs": [
      {
       "metadata": {},
       "output_type": "pyout",
       "prompt_number": 166,
       "text": [
        "2012-03-07 09:30:00+00:00         NaN\n",
        "2012-03-08 09:30:00+00:00         NaN\n",
        "2012-03-09 09:30:00+00:00   -2.548371\n",
        "2012-03-10 09:30:00+00:00   -2.139610\n",
        "2012-03-11 09:30:00+00:00   -3.363520\n",
        "2012-03-12 09:30:00+00:00    1.739730\n",
        "2012-03-13 09:30:00+00:00    2.715132\n",
        "Freq: D, dtype: float64"
       ]
      }
     ],
     "prompt_number": 166
    },
    {
     "cell_type": "code",
     "collapsed": false,
     "input": [
      "result.index"
     ],
     "language": "python",
     "metadata": {},
     "outputs": [
      {
       "metadata": {},
       "output_type": "pyout",
       "prompt_number": 167,
       "text": [
        "<class 'pandas.tseries.index.DatetimeIndex'>\n",
        "[2012-03-07 09:30:00+00:00, ..., 2012-03-13 09:30:00+00:00]\n",
        "Length: 7, Freq: D, Timezone: UTC"
       ]
      }
     ],
     "prompt_number": 167
    },
    {
     "cell_type": "markdown",
     "metadata": {},
     "source": [
      "## Periods and Period Arithmetric"
     ]
    },
    {
     "cell_type": "code",
     "collapsed": false,
     "input": [
      "p = pd.Period(2007, freq='A-DEC')"
     ],
     "language": "python",
     "metadata": {},
     "outputs": [],
     "prompt_number": 168
    },
    {
     "cell_type": "code",
     "collapsed": false,
     "input": [
      "p"
     ],
     "language": "python",
     "metadata": {},
     "outputs": [
      {
       "metadata": {},
       "output_type": "pyout",
       "prompt_number": 169,
       "text": [
        "Period('2007', 'A-DEC')"
       ]
      }
     ],
     "prompt_number": 169
    },
    {
     "cell_type": "code",
     "collapsed": false,
     "input": [
      "p + 5"
     ],
     "language": "python",
     "metadata": {},
     "outputs": [
      {
       "metadata": {},
       "output_type": "pyout",
       "prompt_number": 170,
       "text": [
        "Period('2012', 'A-DEC')"
       ]
      }
     ],
     "prompt_number": 170
    },
    {
     "cell_type": "code",
     "collapsed": false,
     "input": [
      "p - 2"
     ],
     "language": "python",
     "metadata": {},
     "outputs": [
      {
       "metadata": {},
       "output_type": "pyout",
       "prompt_number": 171,
       "text": [
        "Period('2005', 'A-DEC')"
       ]
      }
     ],
     "prompt_number": 171
    },
    {
     "cell_type": "code",
     "collapsed": false,
     "input": [
      "pd.Period('2014', freq='A-DEC') - p"
     ],
     "language": "python",
     "metadata": {},
     "outputs": [
      {
       "metadata": {},
       "output_type": "pyout",
       "prompt_number": 172,
       "text": [
        "7"
       ]
      }
     ],
     "prompt_number": 172
    },
    {
     "cell_type": "code",
     "collapsed": false,
     "input": [
      "rng = pd.date_range('1/1/2000', '6/30/2000', freq='M')"
     ],
     "language": "python",
     "metadata": {},
     "outputs": [],
     "prompt_number": 173
    },
    {
     "cell_type": "code",
     "collapsed": false,
     "input": [
      "rng"
     ],
     "language": "python",
     "metadata": {},
     "outputs": [
      {
       "metadata": {},
       "output_type": "pyout",
       "prompt_number": 174,
       "text": [
        "<class 'pandas.tseries.index.DatetimeIndex'>\n",
        "[2000-01-31, ..., 2000-06-30]\n",
        "Length: 6, Freq: M, Timezone: None"
       ]
      }
     ],
     "prompt_number": 174
    },
    {
     "cell_type": "code",
     "collapsed": false,
     "input": [
      "Series(np.random.randn(6), index=rng)"
     ],
     "language": "python",
     "metadata": {},
     "outputs": [
      {
       "metadata": {},
       "output_type": "pyout",
       "prompt_number": 175,
       "text": [
        "2000-01-31    2.316544\n",
        "2000-02-29   -0.153636\n",
        "2000-03-31   -0.317241\n",
        "2000-04-30   -1.579318\n",
        "2000-05-31    0.412805\n",
        "2000-06-30    0.100357\n",
        "Freq: M, dtype: float64"
       ]
      }
     ],
     "prompt_number": 175
    },
    {
     "cell_type": "code",
     "collapsed": false,
     "input": [
      "values = ['2001Q3', '2002Q2', '2003Q1']"
     ],
     "language": "python",
     "metadata": {},
     "outputs": [],
     "prompt_number": 176
    },
    {
     "cell_type": "code",
     "collapsed": false,
     "input": [
      "index = pd.PeriodIndex(values, freq = 'Q-DEC')\n",
      "index"
     ],
     "language": "python",
     "metadata": {},
     "outputs": [
      {
       "metadata": {},
       "output_type": "pyout",
       "prompt_number": 177,
       "text": [
        "<class 'pandas.tseries.period.PeriodIndex'>\n",
        "[2001Q3, ..., 2003Q1]\n",
        "Length: 3, Freq: Q-DEC"
       ]
      }
     ],
     "prompt_number": 177
    },
    {
     "cell_type": "markdown",
     "metadata": {},
     "source": [
      "###Period Frequency Conversion"
     ]
    },
    {
     "cell_type": "code",
     "collapsed": false,
     "input": [
      "p = pd.Period('2007', freq = 'A-DEC')\n",
      "p"
     ],
     "language": "python",
     "metadata": {},
     "outputs": [
      {
       "metadata": {},
       "output_type": "pyout",
       "prompt_number": 178,
       "text": [
        "Period('2007', 'A-DEC')"
       ]
      }
     ],
     "prompt_number": 178
    },
    {
     "cell_type": "code",
     "collapsed": false,
     "input": [
      "p.asfreq('M', how = 'start')"
     ],
     "language": "python",
     "metadata": {},
     "outputs": [
      {
       "metadata": {},
       "output_type": "pyout",
       "prompt_number": 179,
       "text": [
        "Period('2007-01', 'M')"
       ]
      }
     ],
     "prompt_number": 179
    },
    {
     "cell_type": "code",
     "collapsed": false,
     "input": [
      "p"
     ],
     "language": "python",
     "metadata": {},
     "outputs": [
      {
       "metadata": {},
       "output_type": "pyout",
       "prompt_number": 180,
       "text": [
        "Period('2007', 'A-DEC')"
       ]
      }
     ],
     "prompt_number": 180
    },
    {
     "cell_type": "code",
     "collapsed": false,
     "input": [
      "p.asfreq('M', how = 'end')"
     ],
     "language": "python",
     "metadata": {},
     "outputs": [
      {
       "metadata": {},
       "output_type": "pyout",
       "prompt_number": 181,
       "text": [
        "Period('2007-12', 'M')"
       ]
      }
     ],
     "prompt_number": 181
    },
    {
     "cell_type": "code",
     "collapsed": false,
     "input": [
      "p = pd.Period('2007', freq='A-JUN')\n",
      "p"
     ],
     "language": "python",
     "metadata": {},
     "outputs": [
      {
       "metadata": {},
       "output_type": "pyout",
       "prompt_number": 182,
       "text": [
        "Period('2007', 'A-JUN')"
       ]
      }
     ],
     "prompt_number": 182
    },
    {
     "cell_type": "code",
     "collapsed": false,
     "input": [
      "p.asfreq('M', how = 'start')"
     ],
     "language": "python",
     "metadata": {},
     "outputs": [
      {
       "metadata": {},
       "output_type": "pyout",
       "prompt_number": 183,
       "text": [
        "Period('2006-07', 'M')"
       ]
      }
     ],
     "prompt_number": 183
    },
    {
     "cell_type": "code",
     "collapsed": false,
     "input": [
      "p.asfreq('M', how = 'end')"
     ],
     "language": "python",
     "metadata": {},
     "outputs": [
      {
       "metadata": {},
       "output_type": "pyout",
       "prompt_number": 184,
       "text": [
        "Period('2007-06', 'M')"
       ]
      }
     ],
     "prompt_number": 184
    },
    {
     "cell_type": "code",
     "collapsed": false,
     "input": [
      "p = pd.Period('2007-08', 'M')\n",
      "p"
     ],
     "language": "python",
     "metadata": {},
     "outputs": [
      {
       "metadata": {},
       "output_type": "pyout",
       "prompt_number": 185,
       "text": [
        "Period('2007-08', 'M')"
       ]
      }
     ],
     "prompt_number": 185
    },
    {
     "cell_type": "code",
     "collapsed": false,
     "input": [
      "p.asfreq('A-JUN')"
     ],
     "language": "python",
     "metadata": {},
     "outputs": [
      {
       "metadata": {},
       "output_type": "pyout",
       "prompt_number": 186,
       "text": [
        "Period('2008', 'A-JUN')"
       ]
      }
     ],
     "prompt_number": 186
    },
    {
     "cell_type": "code",
     "collapsed": false,
     "input": [
      "rng = pd.period_range('2006', '2009', freq='A-DEC')\n",
      "rng"
     ],
     "language": "python",
     "metadata": {},
     "outputs": [
      {
       "metadata": {},
       "output_type": "pyout",
       "prompt_number": 187,
       "text": [
        "<class 'pandas.tseries.period.PeriodIndex'>\n",
        "[2006, ..., 2009]\n",
        "Length: 4, Freq: A-DEC"
       ]
      }
     ],
     "prompt_number": 187
    },
    {
     "cell_type": "code",
     "collapsed": false,
     "input": [
      "ts = Series(np.random.randn(len(rng)), index = rng)"
     ],
     "language": "python",
     "metadata": {},
     "outputs": [],
     "prompt_number": 188
    },
    {
     "cell_type": "code",
     "collapsed": false,
     "input": [
      "ts"
     ],
     "language": "python",
     "metadata": {},
     "outputs": [
      {
       "metadata": {},
       "output_type": "pyout",
       "prompt_number": 189,
       "text": [
        "2006   -0.270559\n",
        "2007   -0.314978\n",
        "2008   -0.330666\n",
        "2009   -2.107401\n",
        "Freq: A-DEC, dtype: float64"
       ]
      }
     ],
     "prompt_number": 189
    },
    {
     "cell_type": "code",
     "collapsed": false,
     "input": [
      "ts.asfreq('M', how = 'start')"
     ],
     "language": "python",
     "metadata": {},
     "outputs": [
      {
       "metadata": {},
       "output_type": "pyout",
       "prompt_number": 190,
       "text": [
        "2006-01   -0.270559\n",
        "2007-01   -0.314978\n",
        "2008-01   -0.330666\n",
        "2009-01   -2.107401\n",
        "Freq: M, dtype: float64"
       ]
      }
     ],
     "prompt_number": 190
    },
    {
     "cell_type": "code",
     "collapsed": false,
     "input": [
      "ts.asfreq('B', how = 'end')"
     ],
     "language": "python",
     "metadata": {},
     "outputs": [
      {
       "metadata": {},
       "output_type": "pyout",
       "prompt_number": 191,
       "text": [
        "2006-12-29   -0.270559\n",
        "2007-12-31   -0.314978\n",
        "2008-12-31   -0.330666\n",
        "2009-12-31   -2.107401\n",
        "Freq: B, dtype: float64"
       ]
      }
     ],
     "prompt_number": 191
    },
    {
     "cell_type": "markdown",
     "metadata": {},
     "source": [
      "###Quarterly Period Frequencies"
     ]
    },
    {
     "cell_type": "code",
     "collapsed": false,
     "input": [
      "p = pd.Period('2012Q4', freq='Q-JAN')\n",
      "p"
     ],
     "language": "python",
     "metadata": {},
     "outputs": [
      {
       "metadata": {},
       "output_type": "pyout",
       "prompt_number": 192,
       "text": [
        "Period('2012Q4', 'Q-JAN')"
       ]
      }
     ],
     "prompt_number": 192
    },
    {
     "cell_type": "code",
     "collapsed": false,
     "input": [
      "p.asfreq('D', 'start')"
     ],
     "language": "python",
     "metadata": {},
     "outputs": [
      {
       "metadata": {},
       "output_type": "pyout",
       "prompt_number": 193,
       "text": [
        "Period('2011-11-01', 'D')"
       ]
      }
     ],
     "prompt_number": 193
    },
    {
     "cell_type": "code",
     "collapsed": false,
     "input": [
      "p.asfreq('D', 'end')"
     ],
     "language": "python",
     "metadata": {},
     "outputs": [
      {
       "metadata": {},
       "output_type": "pyout",
       "prompt_number": 194,
       "text": [
        "Period('2012-01-31', 'D')"
       ]
      }
     ],
     "prompt_number": 194
    },
    {
     "cell_type": "code",
     "collapsed": false,
     "input": [
      "p4pm = (p.asfreq('B', 'e') - 1).asfreq('T', 's') + 16*60\n",
      "p4pm"
     ],
     "language": "python",
     "metadata": {},
     "outputs": [
      {
       "metadata": {},
       "output_type": "pyout",
       "prompt_number": 195,
       "text": [
        "Period('2012-01-30 16:00', 'T')"
       ]
      }
     ],
     "prompt_number": 195
    },
    {
     "cell_type": "code",
     "collapsed": false,
     "input": [
      "p4pm.to_timestamp()"
     ],
     "language": "python",
     "metadata": {},
     "outputs": [
      {
       "metadata": {},
       "output_type": "pyout",
       "prompt_number": 196,
       "text": [
        "Timestamp('2012-01-30 16:00:00')"
       ]
      }
     ],
     "prompt_number": 196
    },
    {
     "cell_type": "code",
     "collapsed": false,
     "input": [
      "rng = pd.period_range('2011Q3', '2012Q4', freq='Q-JAN')"
     ],
     "language": "python",
     "metadata": {},
     "outputs": [],
     "prompt_number": 198
    },
    {
     "cell_type": "code",
     "collapsed": false,
     "input": [
      "ts = Series(np.random.randn(len(rng)),\n",
      "            index = rng)"
     ],
     "language": "python",
     "metadata": {},
     "outputs": [],
     "prompt_number": 199
    },
    {
     "cell_type": "code",
     "collapsed": false,
     "input": [
      "ts"
     ],
     "language": "python",
     "metadata": {},
     "outputs": [
      {
       "metadata": {},
       "output_type": "pyout",
       "prompt_number": 200,
       "text": [
        "2011Q3   -0.000138\n",
        "2011Q4    0.564850\n",
        "2012Q1   -1.039086\n",
        "2012Q2    2.469709\n",
        "2012Q3    0.664961\n",
        "2012Q4    1.302163\n",
        "Freq: Q-JAN, dtype: float64"
       ]
      }
     ],
     "prompt_number": 200
    },
    {
     "cell_type": "code",
     "collapsed": false,
     "input": [
      "new_rng = (rng.asfreq('B', 'e') - 1).asfreq('T', 's') + 16*60\n",
      "new_rng"
     ],
     "language": "python",
     "metadata": {},
     "outputs": [
      {
       "metadata": {},
       "output_type": "pyout",
       "prompt_number": 201,
       "text": [
        "<class 'pandas.tseries.period.PeriodIndex'>\n",
        "[2010-10-28 16:00, ..., 2012-01-30 16:00]\n",
        "Length: 6, Freq: T"
       ]
      }
     ],
     "prompt_number": 201
    },
    {
     "cell_type": "code",
     "collapsed": false,
     "input": [
      "ts.index = new_rng.to_timestamp()"
     ],
     "language": "python",
     "metadata": {},
     "outputs": [],
     "prompt_number": 202
    },
    {
     "cell_type": "code",
     "collapsed": false,
     "input": [
      "ts"
     ],
     "language": "python",
     "metadata": {},
     "outputs": [
      {
       "metadata": {},
       "output_type": "pyout",
       "prompt_number": 203,
       "text": [
        "2010-10-28 16:00:00   -0.000138\n",
        "2011-01-28 16:00:00    0.564850\n",
        "2011-04-28 16:00:00   -1.039086\n",
        "2011-07-28 16:00:00    2.469709\n",
        "2011-10-28 16:00:00    0.664961\n",
        "2012-01-30 16:00:00    1.302163\n",
        "dtype: float64"
       ]
      }
     ],
     "prompt_number": 203
    },
    {
     "cell_type": "markdown",
     "metadata": {},
     "source": [
      "###Converting Timestamps to Periods (and Back)"
     ]
    },
    {
     "cell_type": "code",
     "collapsed": false,
     "input": [
      "rng = pd.date_range('1/1/2000', periods=3, freq='M')"
     ],
     "language": "python",
     "metadata": {},
     "outputs": [],
     "prompt_number": 204
    },
    {
     "cell_type": "code",
     "collapsed": false,
     "input": [
      "ts = Series(np.random.randn(3), index = rng)"
     ],
     "language": "python",
     "metadata": {},
     "outputs": [],
     "prompt_number": 206
    },
    {
     "cell_type": "code",
     "collapsed": false,
     "input": [
      "ts"
     ],
     "language": "python",
     "metadata": {},
     "outputs": [
      {
       "metadata": {},
       "output_type": "pyout",
       "prompt_number": 207,
       "text": [
        "2000-01-31   -0.100837\n",
        "2000-02-29    1.880696\n",
        "2000-03-31    1.975184\n",
        "Freq: M, dtype: float64"
       ]
      }
     ],
     "prompt_number": 207
    },
    {
     "cell_type": "code",
     "collapsed": false,
     "input": [
      "pts = ts.to_period()\n",
      "pts"
     ],
     "language": "python",
     "metadata": {},
     "outputs": [
      {
       "metadata": {},
       "output_type": "pyout",
       "prompt_number": 208,
       "text": [
        "2000-01   -0.100837\n",
        "2000-02    1.880696\n",
        "2000-03    1.975184\n",
        "Freq: M, dtype: float64"
       ]
      }
     ],
     "prompt_number": 208
    },
    {
     "cell_type": "code",
     "collapsed": false,
     "input": [
      "pts.to_timestamp()"
     ],
     "language": "python",
     "metadata": {},
     "outputs": [
      {
       "metadata": {},
       "output_type": "pyout",
       "prompt_number": 209,
       "text": [
        "2000-01-01   -0.100837\n",
        "2000-02-01    1.880696\n",
        "2000-03-01    1.975184\n",
        "Freq: MS, dtype: float64"
       ]
      }
     ],
     "prompt_number": 209
    },
    {
     "cell_type": "code",
     "collapsed": false,
     "input": [
      "pts.to_timestamp(how = 'end')"
     ],
     "language": "python",
     "metadata": {},
     "outputs": [
      {
       "metadata": {},
       "output_type": "pyout",
       "prompt_number": 210,
       "text": [
        "2000-01-31   -0.100837\n",
        "2000-02-29    1.880696\n",
        "2000-03-31    1.975184\n",
        "Freq: M, dtype: float64"
       ]
      }
     ],
     "prompt_number": 210
    },
    {
     "cell_type": "markdown",
     "metadata": {},
     "source": [
      "### Creating a PeriodIndex from Arrays"
     ]
    },
    {
     "cell_type": "code",
     "collapsed": false,
     "input": [
      "data = pd.read_csv('ch08/macrodata.csv')"
     ],
     "language": "python",
     "metadata": {},
     "outputs": [],
     "prompt_number": 211
    },
    {
     "cell_type": "code",
     "collapsed": false,
     "input": [
      "data.head()"
     ],
     "language": "python",
     "metadata": {},
     "outputs": [
      {
       "html": [
        "<div style=\"max-height:1000px;max-width:1500px;overflow:auto;\">\n",
        "<table border=\"1\" class=\"dataframe\">\n",
        "  <thead>\n",
        "    <tr style=\"text-align: right;\">\n",
        "      <th></th>\n",
        "      <th>year</th>\n",
        "      <th>quarter</th>\n",
        "      <th>realgdp</th>\n",
        "      <th>realcons</th>\n",
        "      <th>realinv</th>\n",
        "      <th>realgovt</th>\n",
        "      <th>realdpi</th>\n",
        "      <th>cpi</th>\n",
        "      <th>m1</th>\n",
        "      <th>tbilrate</th>\n",
        "      <th>unemp</th>\n",
        "      <th>pop</th>\n",
        "      <th>infl</th>\n",
        "      <th>realint</th>\n",
        "    </tr>\n",
        "  </thead>\n",
        "  <tbody>\n",
        "    <tr>\n",
        "      <th>0</th>\n",
        "      <td> 1959</td>\n",
        "      <td> 1</td>\n",
        "      <td> 2710.349</td>\n",
        "      <td> 1707.4</td>\n",
        "      <td> 286.898</td>\n",
        "      <td> 470.045</td>\n",
        "      <td> 1886.9</td>\n",
        "      <td> 28.98</td>\n",
        "      <td> 139.7</td>\n",
        "      <td> 2.82</td>\n",
        "      <td> 5.8</td>\n",
        "      <td> 177.146</td>\n",
        "      <td> 0.00</td>\n",
        "      <td> 0.00</td>\n",
        "    </tr>\n",
        "    <tr>\n",
        "      <th>1</th>\n",
        "      <td> 1959</td>\n",
        "      <td> 2</td>\n",
        "      <td> 2778.801</td>\n",
        "      <td> 1733.7</td>\n",
        "      <td> 310.859</td>\n",
        "      <td> 481.301</td>\n",
        "      <td> 1919.7</td>\n",
        "      <td> 29.15</td>\n",
        "      <td> 141.7</td>\n",
        "      <td> 3.08</td>\n",
        "      <td> 5.1</td>\n",
        "      <td> 177.830</td>\n",
        "      <td> 2.34</td>\n",
        "      <td> 0.74</td>\n",
        "    </tr>\n",
        "    <tr>\n",
        "      <th>2</th>\n",
        "      <td> 1959</td>\n",
        "      <td> 3</td>\n",
        "      <td> 2775.488</td>\n",
        "      <td> 1751.8</td>\n",
        "      <td> 289.226</td>\n",
        "      <td> 491.260</td>\n",
        "      <td> 1916.4</td>\n",
        "      <td> 29.35</td>\n",
        "      <td> 140.5</td>\n",
        "      <td> 3.82</td>\n",
        "      <td> 5.3</td>\n",
        "      <td> 178.657</td>\n",
        "      <td> 2.74</td>\n",
        "      <td> 1.09</td>\n",
        "    </tr>\n",
        "    <tr>\n",
        "      <th>3</th>\n",
        "      <td> 1959</td>\n",
        "      <td> 4</td>\n",
        "      <td> 2785.204</td>\n",
        "      <td> 1753.7</td>\n",
        "      <td> 299.356</td>\n",
        "      <td> 484.052</td>\n",
        "      <td> 1931.3</td>\n",
        "      <td> 29.37</td>\n",
        "      <td> 140.0</td>\n",
        "      <td> 4.33</td>\n",
        "      <td> 5.6</td>\n",
        "      <td> 179.386</td>\n",
        "      <td> 0.27</td>\n",
        "      <td> 4.06</td>\n",
        "    </tr>\n",
        "    <tr>\n",
        "      <th>4</th>\n",
        "      <td> 1960</td>\n",
        "      <td> 1</td>\n",
        "      <td> 2847.699</td>\n",
        "      <td> 1770.5</td>\n",
        "      <td> 331.722</td>\n",
        "      <td> 462.199</td>\n",
        "      <td> 1955.5</td>\n",
        "      <td> 29.54</td>\n",
        "      <td> 139.6</td>\n",
        "      <td> 3.50</td>\n",
        "      <td> 5.2</td>\n",
        "      <td> 180.007</td>\n",
        "      <td> 2.31</td>\n",
        "      <td> 1.19</td>\n",
        "    </tr>\n",
        "  </tbody>\n",
        "</table>\n",
        "</div>"
       ],
       "metadata": {},
       "output_type": "pyout",
       "prompt_number": 212,
       "text": [
        "   year  quarter   realgdp  realcons  realinv  realgovt  realdpi    cpi  \\\n",
        "0  1959        1  2710.349    1707.4  286.898   470.045   1886.9  28.98   \n",
        "1  1959        2  2778.801    1733.7  310.859   481.301   1919.7  29.15   \n",
        "2  1959        3  2775.488    1751.8  289.226   491.260   1916.4  29.35   \n",
        "3  1959        4  2785.204    1753.7  299.356   484.052   1931.3  29.37   \n",
        "4  1960        1  2847.699    1770.5  331.722   462.199   1955.5  29.54   \n",
        "\n",
        "      m1  tbilrate  unemp      pop  infl  realint  \n",
        "0  139.7      2.82    5.8  177.146  0.00     0.00  \n",
        "1  141.7      3.08    5.1  177.830  2.34     0.74  \n",
        "2  140.5      3.82    5.3  178.657  2.74     1.09  \n",
        "3  140.0      4.33    5.6  179.386  0.27     4.06  \n",
        "4  139.6      3.50    5.2  180.007  2.31     1.19  "
       ]
      }
     ],
     "prompt_number": 212
    },
    {
     "cell_type": "code",
     "collapsed": false,
     "input": [
      "data.year"
     ],
     "language": "python",
     "metadata": {},
     "outputs": [
      {
       "metadata": {},
       "output_type": "pyout",
       "prompt_number": 213,
       "text": [
        "0     1959\n",
        "1     1959\n",
        "2     1959\n",
        "3     1959\n",
        "4     1960\n",
        "5     1960\n",
        "6     1960\n",
        "7     1960\n",
        "8     1961\n",
        "9     1961\n",
        "10    1961\n",
        "11    1961\n",
        "12    1962\n",
        "13    1962\n",
        "14    1962\n",
        "...\n",
        "188    2006\n",
        "189    2006\n",
        "190    2006\n",
        "191    2006\n",
        "192    2007\n",
        "193    2007\n",
        "194    2007\n",
        "195    2007\n",
        "196    2008\n",
        "197    2008\n",
        "198    2008\n",
        "199    2008\n",
        "200    2009\n",
        "201    2009\n",
        "202    2009\n",
        "Name: year, Length: 203, dtype: float64"
       ]
      }
     ],
     "prompt_number": 213
    },
    {
     "cell_type": "code",
     "collapsed": false,
     "input": [
      "data.quarter"
     ],
     "language": "python",
     "metadata": {},
     "outputs": [
      {
       "metadata": {},
       "output_type": "pyout",
       "prompt_number": 214,
       "text": [
        "0     1\n",
        "1     2\n",
        "2     3\n",
        "3     4\n",
        "4     1\n",
        "5     2\n",
        "6     3\n",
        "7     4\n",
        "8     1\n",
        "9     2\n",
        "10    3\n",
        "11    4\n",
        "12    1\n",
        "13    2\n",
        "14    3\n",
        "...\n",
        "188    1\n",
        "189    2\n",
        "190    3\n",
        "191    4\n",
        "192    1\n",
        "193    2\n",
        "194    3\n",
        "195    4\n",
        "196    1\n",
        "197    2\n",
        "198    3\n",
        "199    4\n",
        "200    1\n",
        "201    2\n",
        "202    3\n",
        "Name: quarter, Length: 203, dtype: float64"
       ]
      }
     ],
     "prompt_number": 214
    },
    {
     "cell_type": "code",
     "collapsed": false,
     "input": [
      "index = pd.PeriodIndex(year = data.year, quarter = data.quarter, freq='Q-DEC')\n",
      "index"
     ],
     "language": "python",
     "metadata": {},
     "outputs": [
      {
       "metadata": {},
       "output_type": "pyout",
       "prompt_number": 215,
       "text": [
        "<class 'pandas.tseries.period.PeriodIndex'>\n",
        "[1959Q1, ..., 2009Q3]\n",
        "Length: 203, Freq: Q-DEC"
       ]
      }
     ],
     "prompt_number": 215
    },
    {
     "cell_type": "code",
     "collapsed": false,
     "input": [
      "data.index = index"
     ],
     "language": "python",
     "metadata": {},
     "outputs": [],
     "prompt_number": 216
    },
    {
     "cell_type": "code",
     "collapsed": false,
     "input": [
      "data.infl"
     ],
     "language": "python",
     "metadata": {},
     "outputs": [
      {
       "metadata": {},
       "output_type": "pyout",
       "prompt_number": 217,
       "text": [
        "1959Q1    0.00\n",
        "1959Q2    2.34\n",
        "1959Q3    2.74\n",
        "1959Q4    0.27\n",
        "1960Q1    2.31\n",
        "1960Q2    0.14\n",
        "1960Q3    2.70\n",
        "1960Q4    1.21\n",
        "1961Q1   -0.40\n",
        "1961Q2    1.47\n",
        "1961Q3    0.80\n",
        "1961Q4    0.80\n",
        "1962Q1    2.26\n",
        "1962Q2    0.13\n",
        "1962Q3    2.11\n",
        "...\n",
        "2006Q1    2.60\n",
        "2006Q2    3.97\n",
        "2006Q3   -1.58\n",
        "2006Q4    3.30\n",
        "2007Q1    4.58\n",
        "2007Q2    2.75\n",
        "2007Q3    3.45\n",
        "2007Q4    6.38\n",
        "2008Q1    2.82\n",
        "2008Q2    8.53\n",
        "2008Q3   -3.16\n",
        "2008Q4   -8.79\n",
        "2009Q1    0.94\n",
        "2009Q2    3.37\n",
        "2009Q3    3.56\n",
        "Freq: Q-DEC, Name: infl, Length: 203"
       ]
      }
     ],
     "prompt_number": 217
    },
    {
     "cell_type": "markdown",
     "metadata": {},
     "source": [
      "## Resampling and Frequency Conversion"
     ]
    },
    {
     "cell_type": "code",
     "collapsed": false,
     "input": [
      "rng = pd.date_range('1/1/2000', periods=100, freq='D')"
     ],
     "language": "python",
     "metadata": {},
     "outputs": [],
     "prompt_number": 218
    },
    {
     "cell_type": "code",
     "collapsed": false,
     "input": [
      "ts = Series(np.random.randn(len(rng)), index = rng)"
     ],
     "language": "python",
     "metadata": {},
     "outputs": [],
     "prompt_number": 219
    },
    {
     "cell_type": "code",
     "collapsed": false,
     "input": [
      "ts"
     ],
     "language": "python",
     "metadata": {},
     "outputs": [
      {
       "metadata": {},
       "output_type": "pyout",
       "prompt_number": 220,
       "text": [
        "2000-01-01   -1.069860\n",
        "2000-01-02    0.945122\n",
        "2000-01-03   -0.958619\n",
        "2000-01-04   -1.159153\n",
        "2000-01-05    0.538281\n",
        "2000-01-06    0.650082\n",
        "2000-01-07   -0.534907\n",
        "2000-01-08   -0.095343\n",
        "2000-01-09    1.230082\n",
        "2000-01-10   -1.458526\n",
        "2000-01-11   -1.139254\n",
        "2000-01-12    0.277143\n",
        "2000-01-13    2.204919\n",
        "2000-01-14   -0.280493\n",
        "2000-01-15   -0.655123\n",
        "...\n",
        "2000-03-26   -1.439064\n",
        "2000-03-27    1.353137\n",
        "2000-03-28    1.507256\n",
        "2000-03-29   -0.064819\n",
        "2000-03-30   -0.788155\n",
        "2000-03-31    0.498074\n",
        "2000-04-01    1.829988\n",
        "2000-04-02   -0.341108\n",
        "2000-04-03    1.232383\n",
        "2000-04-04   -1.225830\n",
        "2000-04-05   -1.158541\n",
        "2000-04-06   -1.580170\n",
        "2000-04-07    0.742232\n",
        "2000-04-08    1.754795\n",
        "2000-04-09   -0.501859\n",
        "Freq: D, Length: 100"
       ]
      }
     ],
     "prompt_number": 220
    },
    {
     "cell_type": "code",
     "collapsed": false,
     "input": [
      "ts.resample('M', how = 'mean')"
     ],
     "language": "python",
     "metadata": {},
     "outputs": [
      {
       "metadata": {},
       "output_type": "pyout",
       "prompt_number": 221,
       "text": [
        "2000-01-31   -0.112720\n",
        "2000-02-29   -0.090992\n",
        "2000-03-31    0.020814\n",
        "2000-04-30    0.083543\n",
        "Freq: M, dtype: float64"
       ]
      }
     ],
     "prompt_number": 221
    },
    {
     "cell_type": "code",
     "collapsed": false,
     "input": [
      "ts.resample('M', how = 'mean', kind = 'period')"
     ],
     "language": "python",
     "metadata": {},
     "outputs": [
      {
       "metadata": {},
       "output_type": "pyout",
       "prompt_number": 222,
       "text": [
        "2000-01   -0.112720\n",
        "2000-02   -0.090992\n",
        "2000-03    0.020814\n",
        "2000-04    0.083543\n",
        "Freq: M, dtype: float64"
       ]
      }
     ],
     "prompt_number": 222
    },
    {
     "cell_type": "markdown",
     "metadata": {},
     "source": [
      "###Downsampling"
     ]
    },
    {
     "cell_type": "code",
     "collapsed": false,
     "input": [
      "rng = pd.date_range('1/1/2000', periods=12, freq='T')"
     ],
     "language": "python",
     "metadata": {},
     "outputs": [],
     "prompt_number": 223
    },
    {
     "cell_type": "code",
     "collapsed": false,
     "input": [
      "rng"
     ],
     "language": "python",
     "metadata": {},
     "outputs": [
      {
       "metadata": {},
       "output_type": "pyout",
       "prompt_number": 224,
       "text": [
        "<class 'pandas.tseries.index.DatetimeIndex'>\n",
        "[2000-01-01 00:00:00, ..., 2000-01-01 00:11:00]\n",
        "Length: 12, Freq: T, Timezone: None"
       ]
      }
     ],
     "prompt_number": 224
    },
    {
     "cell_type": "code",
     "collapsed": false,
     "input": [
      "ts = Series(np.arange(12), index = rng)"
     ],
     "language": "python",
     "metadata": {},
     "outputs": [],
     "prompt_number": 225
    },
    {
     "cell_type": "code",
     "collapsed": false,
     "input": [
      "ts"
     ],
     "language": "python",
     "metadata": {},
     "outputs": [
      {
       "metadata": {},
       "output_type": "pyout",
       "prompt_number": 231,
       "text": [
        "2000-01-01 00:00:00     0\n",
        "2000-01-01 00:01:00     1\n",
        "2000-01-01 00:02:00     2\n",
        "2000-01-01 00:03:00     3\n",
        "2000-01-01 00:04:00     4\n",
        "2000-01-01 00:05:00     5\n",
        "2000-01-01 00:06:00     6\n",
        "2000-01-01 00:07:00     7\n",
        "2000-01-01 00:08:00     8\n",
        "2000-01-01 00:09:00     9\n",
        "2000-01-01 00:10:00    10\n",
        "2000-01-01 00:11:00    11\n",
        "Freq: T, dtype: int64"
       ]
      }
     ],
     "prompt_number": 231
    },
    {
     "cell_type": "code",
     "collapsed": false,
     "input": [
      "ts.resample('5min', how = 'mean')"
     ],
     "language": "python",
     "metadata": {},
     "outputs": [
      {
       "metadata": {},
       "output_type": "pyout",
       "prompt_number": 227,
       "text": [
        "2000-01-01 00:00:00     2.0\n",
        "2000-01-01 00:05:00     7.0\n",
        "2000-01-01 00:10:00    10.5\n",
        "Freq: 5T, dtype: float64"
       ]
      }
     ],
     "prompt_number": 227
    },
    {
     "cell_type": "code",
     "collapsed": false,
     "input": [
      "ts.resample('5min', how = 'sum')"
     ],
     "language": "python",
     "metadata": {},
     "outputs": [
      {
       "metadata": {},
       "output_type": "pyout",
       "prompt_number": 232,
       "text": [
        "2000-01-01 00:00:00    10\n",
        "2000-01-01 00:05:00    35\n",
        "2000-01-01 00:10:00    21\n",
        "Freq: 5T, dtype: int64"
       ]
      }
     ],
     "prompt_number": 232
    },
    {
     "cell_type": "code",
     "collapsed": false,
     "input": [
      "ts.resample('5min', how = 'sum', closed='left')"
     ],
     "language": "python",
     "metadata": {},
     "outputs": [
      {
       "metadata": {},
       "output_type": "pyout",
       "prompt_number": 233,
       "text": [
        "2000-01-01 00:00:00    10\n",
        "2000-01-01 00:05:00    35\n",
        "2000-01-01 00:10:00    21\n",
        "Freq: 5T, dtype: int64"
       ]
      }
     ],
     "prompt_number": 233
    },
    {
     "cell_type": "code",
     "collapsed": false,
     "input": [
      "ts.resample('5min', how = 'sum', closed='left', label='left')"
     ],
     "language": "python",
     "metadata": {},
     "outputs": [
      {
       "metadata": {},
       "output_type": "pyout",
       "prompt_number": 234,
       "text": [
        "2000-01-01 00:00:00    10\n",
        "2000-01-01 00:05:00    35\n",
        "2000-01-01 00:10:00    21\n",
        "Freq: 5T, dtype: int64"
       ]
      }
     ],
     "prompt_number": 234
    },
    {
     "cell_type": "code",
     "collapsed": false,
     "input": [
      "ts.resample('5min', how = 'sum', loffset='-1s')"
     ],
     "language": "python",
     "metadata": {},
     "outputs": [
      {
       "metadata": {},
       "output_type": "pyout",
       "prompt_number": 235,
       "text": [
        "1999-12-31 23:59:59    10\n",
        "2000-01-01 00:04:59    35\n",
        "2000-01-01 00:09:59    21\n",
        "Freq: 5T, dtype: int64"
       ]
      }
     ],
     "prompt_number": 235
    },
    {
     "cell_type": "markdown",
     "metadata": {},
     "source": [
      "####Open-High-Low-Close(OHLC) resampling"
     ]
    },
    {
     "cell_type": "code",
     "collapsed": false,
     "input": [
      "ts.resample('5min', how = 'ohlc')"
     ],
     "language": "python",
     "metadata": {},
     "outputs": [
      {
       "html": [
        "<div style=\"max-height:1000px;max-width:1500px;overflow:auto;\">\n",
        "<table border=\"1\" class=\"dataframe\">\n",
        "  <thead>\n",
        "    <tr style=\"text-align: right;\">\n",
        "      <th></th>\n",
        "      <th>open</th>\n",
        "      <th>high</th>\n",
        "      <th>low</th>\n",
        "      <th>close</th>\n",
        "    </tr>\n",
        "  </thead>\n",
        "  <tbody>\n",
        "    <tr>\n",
        "      <th>2000-01-01 00:00:00</th>\n",
        "      <td>  0</td>\n",
        "      <td>  4</td>\n",
        "      <td>  0</td>\n",
        "      <td>  4</td>\n",
        "    </tr>\n",
        "    <tr>\n",
        "      <th>2000-01-01 00:05:00</th>\n",
        "      <td>  5</td>\n",
        "      <td>  9</td>\n",
        "      <td>  5</td>\n",
        "      <td>  9</td>\n",
        "    </tr>\n",
        "    <tr>\n",
        "      <th>2000-01-01 00:10:00</th>\n",
        "      <td> 10</td>\n",
        "      <td> 11</td>\n",
        "      <td> 10</td>\n",
        "      <td> 11</td>\n",
        "    </tr>\n",
        "  </tbody>\n",
        "</table>\n",
        "</div>"
       ],
       "metadata": {},
       "output_type": "pyout",
       "prompt_number": 236,
       "text": [
        "                     open  high  low  close\n",
        "2000-01-01 00:00:00     0     4    0      4\n",
        "2000-01-01 00:05:00     5     9    5      9\n",
        "2000-01-01 00:10:00    10    11   10     11"
       ]
      }
     ],
     "prompt_number": 236
    },
    {
     "cell_type": "markdown",
     "metadata": {},
     "source": [
      "####Resampling with Groupby"
     ]
    },
    {
     "cell_type": "code",
     "collapsed": false,
     "input": [
      "rng = pd.date_range('1/1/2000', periods=100, freq='D')"
     ],
     "language": "python",
     "metadata": {},
     "outputs": [],
     "prompt_number": 237
    },
    {
     "cell_type": "code",
     "collapsed": false,
     "input": [
      "ts = Series(np.random.randn(len(rng)), index=rng)"
     ],
     "language": "python",
     "metadata": {},
     "outputs": [],
     "prompt_number": 238
    },
    {
     "cell_type": "code",
     "collapsed": false,
     "input": [
      "ts"
     ],
     "language": "python",
     "metadata": {},
     "outputs": [
      {
       "metadata": {},
       "output_type": "pyout",
       "prompt_number": 239,
       "text": [
        "2000-01-01    1.492402\n",
        "2000-01-02   -0.680666\n",
        "2000-01-03    0.235059\n",
        "2000-01-04   -0.035211\n",
        "2000-01-05    0.974543\n",
        "2000-01-06   -0.403974\n",
        "2000-01-07    0.428600\n",
        "2000-01-08    0.109843\n",
        "2000-01-09   -0.435324\n",
        "2000-01-10   -0.051836\n",
        "2000-01-11    0.427904\n",
        "2000-01-12    0.077243\n",
        "2000-01-13   -0.583092\n",
        "2000-01-14    1.268530\n",
        "2000-01-15    0.257544\n",
        "...\n",
        "2000-03-26   -0.501004\n",
        "2000-03-27   -0.314474\n",
        "2000-03-28    0.691105\n",
        "2000-03-29   -0.488140\n",
        "2000-03-30    0.756332\n",
        "2000-03-31   -0.229854\n",
        "2000-04-01   -0.877502\n",
        "2000-04-02   -1.029752\n",
        "2000-04-03    0.157860\n",
        "2000-04-04    0.581232\n",
        "2000-04-05   -1.806264\n",
        "2000-04-06   -0.232258\n",
        "2000-04-07   -0.536795\n",
        "2000-04-08   -2.374359\n",
        "2000-04-09    0.326657\n",
        "Freq: D, Length: 100"
       ]
      }
     ],
     "prompt_number": 239
    },
    {
     "cell_type": "code",
     "collapsed": false,
     "input": [
      "ts.groupby(lambda x: x.month).mean()"
     ],
     "language": "python",
     "metadata": {},
     "outputs": [
      {
       "metadata": {},
       "output_type": "pyout",
       "prompt_number": 240,
       "text": [
        "1    0.241238\n",
        "2    0.324181\n",
        "3    0.308979\n",
        "4   -0.643465\n",
        "dtype: float64"
       ]
      }
     ],
     "prompt_number": 240
    },
    {
     "cell_type": "code",
     "collapsed": false,
     "input": [
      "ts.groupby(lambda x: x.weekday).mean()"
     ],
     "language": "python",
     "metadata": {},
     "outputs": [
      {
       "metadata": {},
       "output_type": "pyout",
       "prompt_number": 241,
       "text": [
        "0    0.216791\n",
        "1    0.382140\n",
        "2    0.118443\n",
        "3    0.197623\n",
        "4    0.389838\n",
        "5   -0.173970\n",
        "6    0.333911\n",
        "dtype: float64"
       ]
      }
     ],
     "prompt_number": 241
    },
    {
     "cell_type": "markdown",
     "metadata": {},
     "source": [
      "###Upsampling and Interpolation"
     ]
    },
    {
     "cell_type": "code",
     "collapsed": false,
     "input": [
      "frame = DataFrame(np.random.randn(2, 4),\n",
      "                  index = pd.date_range('1/1/2000', periods=2, freq='W-WED'),\n",
      "                  columns = ['Colorado', 'Texas', 'New York', 'Ohio'])"
     ],
     "language": "python",
     "metadata": {},
     "outputs": [],
     "prompt_number": 242
    },
    {
     "cell_type": "code",
     "collapsed": false,
     "input": [
      "frame"
     ],
     "language": "python",
     "metadata": {},
     "outputs": [
      {
       "html": [
        "<div style=\"max-height:1000px;max-width:1500px;overflow:auto;\">\n",
        "<table border=\"1\" class=\"dataframe\">\n",
        "  <thead>\n",
        "    <tr style=\"text-align: right;\">\n",
        "      <th></th>\n",
        "      <th>Colorado</th>\n",
        "      <th>Texas</th>\n",
        "      <th>New York</th>\n",
        "      <th>Ohio</th>\n",
        "    </tr>\n",
        "  </thead>\n",
        "  <tbody>\n",
        "    <tr>\n",
        "      <th>2000-01-05</th>\n",
        "      <td> 0.220479</td>\n",
        "      <td>-1.037542</td>\n",
        "      <td> 0.847104</td>\n",
        "      <td>-0.883358</td>\n",
        "    </tr>\n",
        "    <tr>\n",
        "      <th>2000-01-12</th>\n",
        "      <td>-1.416743</td>\n",
        "      <td>-0.048898</td>\n",
        "      <td> 0.048432</td>\n",
        "      <td>-0.224398</td>\n",
        "    </tr>\n",
        "  </tbody>\n",
        "</table>\n",
        "</div>"
       ],
       "metadata": {},
       "output_type": "pyout",
       "prompt_number": 243,
       "text": [
        "            Colorado     Texas  New York      Ohio\n",
        "2000-01-05  0.220479 -1.037542  0.847104 -0.883358\n",
        "2000-01-12 -1.416743 -0.048898  0.048432 -0.224398"
       ]
      }
     ],
     "prompt_number": 243
    },
    {
     "cell_type": "code",
     "collapsed": false,
     "input": [
      "df_daily = frame.resample('D')\n",
      "df_daily"
     ],
     "language": "python",
     "metadata": {},
     "outputs": [
      {
       "html": [
        "<div style=\"max-height:1000px;max-width:1500px;overflow:auto;\">\n",
        "<table border=\"1\" class=\"dataframe\">\n",
        "  <thead>\n",
        "    <tr style=\"text-align: right;\">\n",
        "      <th></th>\n",
        "      <th>Colorado</th>\n",
        "      <th>Texas</th>\n",
        "      <th>New York</th>\n",
        "      <th>Ohio</th>\n",
        "    </tr>\n",
        "  </thead>\n",
        "  <tbody>\n",
        "    <tr>\n",
        "      <th>2000-01-05</th>\n",
        "      <td> 0.220479</td>\n",
        "      <td>-1.037542</td>\n",
        "      <td> 0.847104</td>\n",
        "      <td>-0.883358</td>\n",
        "    </tr>\n",
        "    <tr>\n",
        "      <th>2000-01-06</th>\n",
        "      <td>      NaN</td>\n",
        "      <td>      NaN</td>\n",
        "      <td>      NaN</td>\n",
        "      <td>      NaN</td>\n",
        "    </tr>\n",
        "    <tr>\n",
        "      <th>2000-01-07</th>\n",
        "      <td>      NaN</td>\n",
        "      <td>      NaN</td>\n",
        "      <td>      NaN</td>\n",
        "      <td>      NaN</td>\n",
        "    </tr>\n",
        "    <tr>\n",
        "      <th>2000-01-08</th>\n",
        "      <td>      NaN</td>\n",
        "      <td>      NaN</td>\n",
        "      <td>      NaN</td>\n",
        "      <td>      NaN</td>\n",
        "    </tr>\n",
        "    <tr>\n",
        "      <th>2000-01-09</th>\n",
        "      <td>      NaN</td>\n",
        "      <td>      NaN</td>\n",
        "      <td>      NaN</td>\n",
        "      <td>      NaN</td>\n",
        "    </tr>\n",
        "    <tr>\n",
        "      <th>2000-01-10</th>\n",
        "      <td>      NaN</td>\n",
        "      <td>      NaN</td>\n",
        "      <td>      NaN</td>\n",
        "      <td>      NaN</td>\n",
        "    </tr>\n",
        "    <tr>\n",
        "      <th>2000-01-11</th>\n",
        "      <td>      NaN</td>\n",
        "      <td>      NaN</td>\n",
        "      <td>      NaN</td>\n",
        "      <td>      NaN</td>\n",
        "    </tr>\n",
        "    <tr>\n",
        "      <th>2000-01-12</th>\n",
        "      <td>-1.416743</td>\n",
        "      <td>-0.048898</td>\n",
        "      <td> 0.048432</td>\n",
        "      <td>-0.224398</td>\n",
        "    </tr>\n",
        "  </tbody>\n",
        "</table>\n",
        "</div>"
       ],
       "metadata": {},
       "output_type": "pyout",
       "prompt_number": 244,
       "text": [
        "            Colorado     Texas  New York      Ohio\n",
        "2000-01-05  0.220479 -1.037542  0.847104 -0.883358\n",
        "2000-01-06       NaN       NaN       NaN       NaN\n",
        "2000-01-07       NaN       NaN       NaN       NaN\n",
        "2000-01-08       NaN       NaN       NaN       NaN\n",
        "2000-01-09       NaN       NaN       NaN       NaN\n",
        "2000-01-10       NaN       NaN       NaN       NaN\n",
        "2000-01-11       NaN       NaN       NaN       NaN\n",
        "2000-01-12 -1.416743 -0.048898  0.048432 -0.224398"
       ]
      }
     ],
     "prompt_number": 244
    },
    {
     "cell_type": "code",
     "collapsed": false,
     "input": [
      "frame.resample('D', fill_method='ffill')"
     ],
     "language": "python",
     "metadata": {},
     "outputs": [
      {
       "html": [
        "<div style=\"max-height:1000px;max-width:1500px;overflow:auto;\">\n",
        "<table border=\"1\" class=\"dataframe\">\n",
        "  <thead>\n",
        "    <tr style=\"text-align: right;\">\n",
        "      <th></th>\n",
        "      <th>Colorado</th>\n",
        "      <th>Texas</th>\n",
        "      <th>New York</th>\n",
        "      <th>Ohio</th>\n",
        "    </tr>\n",
        "  </thead>\n",
        "  <tbody>\n",
        "    <tr>\n",
        "      <th>2000-01-05</th>\n",
        "      <td> 0.220479</td>\n",
        "      <td>-1.037542</td>\n",
        "      <td> 0.847104</td>\n",
        "      <td>-0.883358</td>\n",
        "    </tr>\n",
        "    <tr>\n",
        "      <th>2000-01-06</th>\n",
        "      <td> 0.220479</td>\n",
        "      <td>-1.037542</td>\n",
        "      <td> 0.847104</td>\n",
        "      <td>-0.883358</td>\n",
        "    </tr>\n",
        "    <tr>\n",
        "      <th>2000-01-07</th>\n",
        "      <td> 0.220479</td>\n",
        "      <td>-1.037542</td>\n",
        "      <td> 0.847104</td>\n",
        "      <td>-0.883358</td>\n",
        "    </tr>\n",
        "    <tr>\n",
        "      <th>2000-01-08</th>\n",
        "      <td> 0.220479</td>\n",
        "      <td>-1.037542</td>\n",
        "      <td> 0.847104</td>\n",
        "      <td>-0.883358</td>\n",
        "    </tr>\n",
        "    <tr>\n",
        "      <th>2000-01-09</th>\n",
        "      <td> 0.220479</td>\n",
        "      <td>-1.037542</td>\n",
        "      <td> 0.847104</td>\n",
        "      <td>-0.883358</td>\n",
        "    </tr>\n",
        "    <tr>\n",
        "      <th>2000-01-10</th>\n",
        "      <td> 0.220479</td>\n",
        "      <td>-1.037542</td>\n",
        "      <td> 0.847104</td>\n",
        "      <td>-0.883358</td>\n",
        "    </tr>\n",
        "    <tr>\n",
        "      <th>2000-01-11</th>\n",
        "      <td> 0.220479</td>\n",
        "      <td>-1.037542</td>\n",
        "      <td> 0.847104</td>\n",
        "      <td>-0.883358</td>\n",
        "    </tr>\n",
        "    <tr>\n",
        "      <th>2000-01-12</th>\n",
        "      <td>-1.416743</td>\n",
        "      <td>-0.048898</td>\n",
        "      <td> 0.048432</td>\n",
        "      <td>-0.224398</td>\n",
        "    </tr>\n",
        "  </tbody>\n",
        "</table>\n",
        "</div>"
       ],
       "metadata": {},
       "output_type": "pyout",
       "prompt_number": 245,
       "text": [
        "            Colorado     Texas  New York      Ohio\n",
        "2000-01-05  0.220479 -1.037542  0.847104 -0.883358\n",
        "2000-01-06  0.220479 -1.037542  0.847104 -0.883358\n",
        "2000-01-07  0.220479 -1.037542  0.847104 -0.883358\n",
        "2000-01-08  0.220479 -1.037542  0.847104 -0.883358\n",
        "2000-01-09  0.220479 -1.037542  0.847104 -0.883358\n",
        "2000-01-10  0.220479 -1.037542  0.847104 -0.883358\n",
        "2000-01-11  0.220479 -1.037542  0.847104 -0.883358\n",
        "2000-01-12 -1.416743 -0.048898  0.048432 -0.224398"
       ]
      }
     ],
     "prompt_number": 245
    },
    {
     "cell_type": "code",
     "collapsed": false,
     "input": [
      "frame.resample('D', fill_method='ffill', limit=2)"
     ],
     "language": "python",
     "metadata": {},
     "outputs": [
      {
       "html": [
        "<div style=\"max-height:1000px;max-width:1500px;overflow:auto;\">\n",
        "<table border=\"1\" class=\"dataframe\">\n",
        "  <thead>\n",
        "    <tr style=\"text-align: right;\">\n",
        "      <th></th>\n",
        "      <th>Colorado</th>\n",
        "      <th>Texas</th>\n",
        "      <th>New York</th>\n",
        "      <th>Ohio</th>\n",
        "    </tr>\n",
        "  </thead>\n",
        "  <tbody>\n",
        "    <tr>\n",
        "      <th>2000-01-05</th>\n",
        "      <td> 0.220479</td>\n",
        "      <td>-1.037542</td>\n",
        "      <td> 0.847104</td>\n",
        "      <td>-0.883358</td>\n",
        "    </tr>\n",
        "    <tr>\n",
        "      <th>2000-01-06</th>\n",
        "      <td> 0.220479</td>\n",
        "      <td>-1.037542</td>\n",
        "      <td> 0.847104</td>\n",
        "      <td>-0.883358</td>\n",
        "    </tr>\n",
        "    <tr>\n",
        "      <th>2000-01-07</th>\n",
        "      <td> 0.220479</td>\n",
        "      <td>-1.037542</td>\n",
        "      <td> 0.847104</td>\n",
        "      <td>-0.883358</td>\n",
        "    </tr>\n",
        "    <tr>\n",
        "      <th>2000-01-08</th>\n",
        "      <td>      NaN</td>\n",
        "      <td>      NaN</td>\n",
        "      <td>      NaN</td>\n",
        "      <td>      NaN</td>\n",
        "    </tr>\n",
        "    <tr>\n",
        "      <th>2000-01-09</th>\n",
        "      <td>      NaN</td>\n",
        "      <td>      NaN</td>\n",
        "      <td>      NaN</td>\n",
        "      <td>      NaN</td>\n",
        "    </tr>\n",
        "    <tr>\n",
        "      <th>2000-01-10</th>\n",
        "      <td>      NaN</td>\n",
        "      <td>      NaN</td>\n",
        "      <td>      NaN</td>\n",
        "      <td>      NaN</td>\n",
        "    </tr>\n",
        "    <tr>\n",
        "      <th>2000-01-11</th>\n",
        "      <td>      NaN</td>\n",
        "      <td>      NaN</td>\n",
        "      <td>      NaN</td>\n",
        "      <td>      NaN</td>\n",
        "    </tr>\n",
        "    <tr>\n",
        "      <th>2000-01-12</th>\n",
        "      <td>-1.416743</td>\n",
        "      <td>-0.048898</td>\n",
        "      <td> 0.048432</td>\n",
        "      <td>-0.224398</td>\n",
        "    </tr>\n",
        "  </tbody>\n",
        "</table>\n",
        "</div>"
       ],
       "metadata": {},
       "output_type": "pyout",
       "prompt_number": 246,
       "text": [
        "            Colorado     Texas  New York      Ohio\n",
        "2000-01-05  0.220479 -1.037542  0.847104 -0.883358\n",
        "2000-01-06  0.220479 -1.037542  0.847104 -0.883358\n",
        "2000-01-07  0.220479 -1.037542  0.847104 -0.883358\n",
        "2000-01-08       NaN       NaN       NaN       NaN\n",
        "2000-01-09       NaN       NaN       NaN       NaN\n",
        "2000-01-10       NaN       NaN       NaN       NaN\n",
        "2000-01-11       NaN       NaN       NaN       NaN\n",
        "2000-01-12 -1.416743 -0.048898  0.048432 -0.224398"
       ]
      }
     ],
     "prompt_number": 246
    },
    {
     "cell_type": "code",
     "collapsed": false,
     "input": [
      "frame.resample('W-THU', fill_method='ffill')"
     ],
     "language": "python",
     "metadata": {},
     "outputs": [
      {
       "html": [
        "<div style=\"max-height:1000px;max-width:1500px;overflow:auto;\">\n",
        "<table border=\"1\" class=\"dataframe\">\n",
        "  <thead>\n",
        "    <tr style=\"text-align: right;\">\n",
        "      <th></th>\n",
        "      <th>Colorado</th>\n",
        "      <th>Texas</th>\n",
        "      <th>New York</th>\n",
        "      <th>Ohio</th>\n",
        "    </tr>\n",
        "  </thead>\n",
        "  <tbody>\n",
        "    <tr>\n",
        "      <th>2000-01-06</th>\n",
        "      <td> 0.220479</td>\n",
        "      <td>-1.037542</td>\n",
        "      <td> 0.847104</td>\n",
        "      <td>-0.883358</td>\n",
        "    </tr>\n",
        "    <tr>\n",
        "      <th>2000-01-13</th>\n",
        "      <td>-1.416743</td>\n",
        "      <td>-0.048898</td>\n",
        "      <td> 0.048432</td>\n",
        "      <td>-0.224398</td>\n",
        "    </tr>\n",
        "  </tbody>\n",
        "</table>\n",
        "</div>"
       ],
       "metadata": {},
       "output_type": "pyout",
       "prompt_number": 247,
       "text": [
        "            Colorado     Texas  New York      Ohio\n",
        "2000-01-06  0.220479 -1.037542  0.847104 -0.883358\n",
        "2000-01-13 -1.416743 -0.048898  0.048432 -0.224398"
       ]
      }
     ],
     "prompt_number": 247
    },
    {
     "cell_type": "markdown",
     "metadata": {},
     "source": [
      "###Resampling With Periods"
     ]
    },
    {
     "cell_type": "code",
     "collapsed": false,
     "input": [
      "frame = DataFrame(np.random.randn(24, 4),\n",
      "                  index = pd.period_range('1/2000', '12-2001', freq='M'),\n",
      "                  columns = ['Colorado', 'Texas', 'New York', 'Ohio'])"
     ],
     "language": "python",
     "metadata": {},
     "outputs": [],
     "prompt_number": 253
    },
    {
     "cell_type": "code",
     "collapsed": false,
     "input": [
      "frame"
     ],
     "language": "python",
     "metadata": {},
     "outputs": [
      {
       "html": [
        "<div style=\"max-height:1000px;max-width:1500px;overflow:auto;\">\n",
        "<table border=\"1\" class=\"dataframe\">\n",
        "  <thead>\n",
        "    <tr style=\"text-align: right;\">\n",
        "      <th></th>\n",
        "      <th>Colorado</th>\n",
        "      <th>Texas</th>\n",
        "      <th>New York</th>\n",
        "      <th>Ohio</th>\n",
        "    </tr>\n",
        "  </thead>\n",
        "  <tbody>\n",
        "    <tr>\n",
        "      <th>2000-01</th>\n",
        "      <td> 0.842611</td>\n",
        "      <td> 1.327691</td>\n",
        "      <td>-0.016260</td>\n",
        "      <td> 0.177319</td>\n",
        "    </tr>\n",
        "    <tr>\n",
        "      <th>2000-02</th>\n",
        "      <td> 1.436215</td>\n",
        "      <td>-0.444246</td>\n",
        "      <td>-0.897645</td>\n",
        "      <td> 0.969076</td>\n",
        "    </tr>\n",
        "    <tr>\n",
        "      <th>2000-03</th>\n",
        "      <td>-0.923490</td>\n",
        "      <td>-1.453453</td>\n",
        "      <td> 0.016801</td>\n",
        "      <td>-0.001676</td>\n",
        "    </tr>\n",
        "    <tr>\n",
        "      <th>2000-04</th>\n",
        "      <td>-0.173892</td>\n",
        "      <td> 0.497077</td>\n",
        "      <td>-0.124370</td>\n",
        "      <td> 0.944818</td>\n",
        "    </tr>\n",
        "    <tr>\n",
        "      <th>2000-05</th>\n",
        "      <td>-0.094878</td>\n",
        "      <td> 0.161739</td>\n",
        "      <td> 1.608058</td>\n",
        "      <td> 0.228641</td>\n",
        "    </tr>\n",
        "    <tr>\n",
        "      <th>2000-06</th>\n",
        "      <td> 0.380173</td>\n",
        "      <td>-0.877737</td>\n",
        "      <td> 2.258994</td>\n",
        "      <td>-0.100951</td>\n",
        "    </tr>\n",
        "    <tr>\n",
        "      <th>2000-07</th>\n",
        "      <td>-0.907120</td>\n",
        "      <td> 0.252347</td>\n",
        "      <td>-0.142925</td>\n",
        "      <td> 1.188660</td>\n",
        "    </tr>\n",
        "    <tr>\n",
        "      <th>2000-08</th>\n",
        "      <td>-0.718919</td>\n",
        "      <td>-0.243413</td>\n",
        "      <td> 1.095120</td>\n",
        "      <td>-0.535039</td>\n",
        "    </tr>\n",
        "    <tr>\n",
        "      <th>2000-09</th>\n",
        "      <td>-1.209266</td>\n",
        "      <td> 0.145923</td>\n",
        "      <td>-2.431333</td>\n",
        "      <td> 0.973769</td>\n",
        "    </tr>\n",
        "    <tr>\n",
        "      <th>2000-10</th>\n",
        "      <td> 0.390539</td>\n",
        "      <td>-0.102485</td>\n",
        "      <td> 1.299357</td>\n",
        "      <td> 1.590925</td>\n",
        "    </tr>\n",
        "    <tr>\n",
        "      <th>2000-11</th>\n",
        "      <td> 0.846110</td>\n",
        "      <td> 0.340713</td>\n",
        "      <td>-0.238641</td>\n",
        "      <td> 1.293185</td>\n",
        "    </tr>\n",
        "    <tr>\n",
        "      <th>2000-12</th>\n",
        "      <td> 0.895546</td>\n",
        "      <td> 1.323986</td>\n",
        "      <td> 1.207625</td>\n",
        "      <td>-0.676978</td>\n",
        "    </tr>\n",
        "    <tr>\n",
        "      <th>2001-01</th>\n",
        "      <td>-0.941681</td>\n",
        "      <td> 0.683736</td>\n",
        "      <td>-0.551586</td>\n",
        "      <td>-0.521843</td>\n",
        "    </tr>\n",
        "    <tr>\n",
        "      <th>2001-02</th>\n",
        "      <td> 0.089706</td>\n",
        "      <td>-0.202384</td>\n",
        "      <td>-0.437695</td>\n",
        "      <td> 0.314603</td>\n",
        "    </tr>\n",
        "    <tr>\n",
        "      <th>2001-03</th>\n",
        "      <td> 0.994388</td>\n",
        "      <td>-0.963963</td>\n",
        "      <td>-0.017333</td>\n",
        "      <td> 1.049492</td>\n",
        "    </tr>\n",
        "    <tr>\n",
        "      <th>2001-04</th>\n",
        "      <td> 0.325946</td>\n",
        "      <td> 1.285087</td>\n",
        "      <td> 0.480015</td>\n",
        "      <td>-0.038977</td>\n",
        "    </tr>\n",
        "    <tr>\n",
        "      <th>2001-05</th>\n",
        "      <td> 0.545481</td>\n",
        "      <td> 0.535179</td>\n",
        "      <td>-0.024180</td>\n",
        "      <td>-0.468537</td>\n",
        "    </tr>\n",
        "    <tr>\n",
        "      <th>2001-06</th>\n",
        "      <td> 0.943592</td>\n",
        "      <td>-1.415860</td>\n",
        "      <td>-0.704309</td>\n",
        "      <td> 0.131953</td>\n",
        "    </tr>\n",
        "    <tr>\n",
        "      <th>2001-07</th>\n",
        "      <td> 1.977851</td>\n",
        "      <td> 0.487615</td>\n",
        "      <td> 0.716983</td>\n",
        "      <td> 1.991883</td>\n",
        "    </tr>\n",
        "    <tr>\n",
        "      <th>2001-08</th>\n",
        "      <td>-0.435873</td>\n",
        "      <td> 0.764416</td>\n",
        "      <td> 0.156930</td>\n",
        "      <td> 1.947074</td>\n",
        "    </tr>\n",
        "    <tr>\n",
        "      <th>2001-09</th>\n",
        "      <td>-0.941932</td>\n",
        "      <td> 0.219727</td>\n",
        "      <td>-1.858051</td>\n",
        "      <td> 0.380659</td>\n",
        "    </tr>\n",
        "    <tr>\n",
        "      <th>2001-10</th>\n",
        "      <td> 0.604220</td>\n",
        "      <td> 1.074177</td>\n",
        "      <td>-0.123807</td>\n",
        "      <td>-0.068299</td>\n",
        "    </tr>\n",
        "    <tr>\n",
        "      <th>2001-11</th>\n",
        "      <td>-0.156347</td>\n",
        "      <td>-0.249054</td>\n",
        "      <td>-0.536215</td>\n",
        "      <td>-1.617634</td>\n",
        "    </tr>\n",
        "    <tr>\n",
        "      <th>2001-12</th>\n",
        "      <td> 0.461163</td>\n",
        "      <td>-0.041861</td>\n",
        "      <td> 0.886200</td>\n",
        "      <td>-0.249157</td>\n",
        "    </tr>\n",
        "  </tbody>\n",
        "</table>\n",
        "</div>"
       ],
       "metadata": {},
       "output_type": "pyout",
       "prompt_number": 254,
       "text": [
        "         Colorado     Texas  New York      Ohio\n",
        "2000-01  0.842611  1.327691 -0.016260  0.177319\n",
        "2000-02  1.436215 -0.444246 -0.897645  0.969076\n",
        "2000-03 -0.923490 -1.453453  0.016801 -0.001676\n",
        "2000-04 -0.173892  0.497077 -0.124370  0.944818\n",
        "2000-05 -0.094878  0.161739  1.608058  0.228641\n",
        "2000-06  0.380173 -0.877737  2.258994 -0.100951\n",
        "2000-07 -0.907120  0.252347 -0.142925  1.188660\n",
        "2000-08 -0.718919 -0.243413  1.095120 -0.535039\n",
        "2000-09 -1.209266  0.145923 -2.431333  0.973769\n",
        "2000-10  0.390539 -0.102485  1.299357  1.590925\n",
        "2000-11  0.846110  0.340713 -0.238641  1.293185\n",
        "2000-12  0.895546  1.323986  1.207625 -0.676978\n",
        "2001-01 -0.941681  0.683736 -0.551586 -0.521843\n",
        "2001-02  0.089706 -0.202384 -0.437695  0.314603\n",
        "2001-03  0.994388 -0.963963 -0.017333  1.049492\n",
        "2001-04  0.325946  1.285087  0.480015 -0.038977\n",
        "2001-05  0.545481  0.535179 -0.024180 -0.468537\n",
        "2001-06  0.943592 -1.415860 -0.704309  0.131953\n",
        "2001-07  1.977851  0.487615  0.716983  1.991883\n",
        "2001-08 -0.435873  0.764416  0.156930  1.947074\n",
        "2001-09 -0.941932  0.219727 -1.858051  0.380659\n",
        "2001-10  0.604220  1.074177 -0.123807 -0.068299\n",
        "2001-11 -0.156347 -0.249054 -0.536215 -1.617634\n",
        "2001-12  0.461163 -0.041861  0.886200 -0.249157"
       ]
      }
     ],
     "prompt_number": 254
    },
    {
     "cell_type": "code",
     "collapsed": false,
     "input": [
      "annual_frame = frame.resample('A-DEC', how = 'mean')\n",
      "annual_frame"
     ],
     "language": "python",
     "metadata": {},
     "outputs": [
      {
       "html": [
        "<div style=\"max-height:1000px;max-width:1500px;overflow:auto;\">\n",
        "<table border=\"1\" class=\"dataframe\">\n",
        "  <thead>\n",
        "    <tr style=\"text-align: right;\">\n",
        "      <th></th>\n",
        "      <th>Colorado</th>\n",
        "      <th>Texas</th>\n",
        "      <th>New York</th>\n",
        "      <th>Ohio</th>\n",
        "    </tr>\n",
        "  </thead>\n",
        "  <tbody>\n",
        "    <tr>\n",
        "      <th>2000</th>\n",
        "      <td> 0.063636</td>\n",
        "      <td> 0.077345</td>\n",
        "      <td> 0.302898</td>\n",
        "      <td> 0.504313</td>\n",
        "    </tr>\n",
        "    <tr>\n",
        "      <th>2001</th>\n",
        "      <td> 0.288876</td>\n",
        "      <td> 0.181401</td>\n",
        "      <td>-0.167754</td>\n",
        "      <td> 0.237601</td>\n",
        "    </tr>\n",
        "  </tbody>\n",
        "</table>\n",
        "</div>"
       ],
       "metadata": {},
       "output_type": "pyout",
       "prompt_number": 260,
       "text": [
        "      Colorado     Texas  New York      Ohio\n",
        "2000  0.063636  0.077345  0.302898  0.504313\n",
        "2001  0.288876  0.181401 -0.167754  0.237601"
       ]
      }
     ],
     "prompt_number": 260
    },
    {
     "cell_type": "code",
     "collapsed": false,
     "input": [
      "annual_frame.resample('Q-DEC', fill_method='ffill')"
     ],
     "language": "python",
     "metadata": {},
     "outputs": [
      {
       "html": [
        "<div style=\"max-height:1000px;max-width:1500px;overflow:auto;\">\n",
        "<table border=\"1\" class=\"dataframe\">\n",
        "  <thead>\n",
        "    <tr style=\"text-align: right;\">\n",
        "      <th></th>\n",
        "      <th>Colorado</th>\n",
        "      <th>Texas</th>\n",
        "      <th>New York</th>\n",
        "      <th>Ohio</th>\n",
        "    </tr>\n",
        "  </thead>\n",
        "  <tbody>\n",
        "    <tr>\n",
        "      <th>2000Q1</th>\n",
        "      <td> 0.063636</td>\n",
        "      <td> 0.077345</td>\n",
        "      <td> 0.302898</td>\n",
        "      <td> 0.504313</td>\n",
        "    </tr>\n",
        "    <tr>\n",
        "      <th>2000Q2</th>\n",
        "      <td> 0.063636</td>\n",
        "      <td> 0.077345</td>\n",
        "      <td> 0.302898</td>\n",
        "      <td> 0.504313</td>\n",
        "    </tr>\n",
        "    <tr>\n",
        "      <th>2000Q3</th>\n",
        "      <td> 0.063636</td>\n",
        "      <td> 0.077345</td>\n",
        "      <td> 0.302898</td>\n",
        "      <td> 0.504313</td>\n",
        "    </tr>\n",
        "    <tr>\n",
        "      <th>2000Q4</th>\n",
        "      <td> 0.063636</td>\n",
        "      <td> 0.077345</td>\n",
        "      <td> 0.302898</td>\n",
        "      <td> 0.504313</td>\n",
        "    </tr>\n",
        "    <tr>\n",
        "      <th>2001Q1</th>\n",
        "      <td> 0.288876</td>\n",
        "      <td> 0.181401</td>\n",
        "      <td>-0.167754</td>\n",
        "      <td> 0.237601</td>\n",
        "    </tr>\n",
        "    <tr>\n",
        "      <th>2001Q2</th>\n",
        "      <td> 0.288876</td>\n",
        "      <td> 0.181401</td>\n",
        "      <td>-0.167754</td>\n",
        "      <td> 0.237601</td>\n",
        "    </tr>\n",
        "    <tr>\n",
        "      <th>2001Q3</th>\n",
        "      <td> 0.288876</td>\n",
        "      <td> 0.181401</td>\n",
        "      <td>-0.167754</td>\n",
        "      <td> 0.237601</td>\n",
        "    </tr>\n",
        "    <tr>\n",
        "      <th>2001Q4</th>\n",
        "      <td> 0.288876</td>\n",
        "      <td> 0.181401</td>\n",
        "      <td>-0.167754</td>\n",
        "      <td> 0.237601</td>\n",
        "    </tr>\n",
        "  </tbody>\n",
        "</table>\n",
        "</div>"
       ],
       "metadata": {},
       "output_type": "pyout",
       "prompt_number": 261,
       "text": [
        "        Colorado     Texas  New York      Ohio\n",
        "2000Q1  0.063636  0.077345  0.302898  0.504313\n",
        "2000Q2  0.063636  0.077345  0.302898  0.504313\n",
        "2000Q3  0.063636  0.077345  0.302898  0.504313\n",
        "2000Q4  0.063636  0.077345  0.302898  0.504313\n",
        "2001Q1  0.288876  0.181401 -0.167754  0.237601\n",
        "2001Q2  0.288876  0.181401 -0.167754  0.237601\n",
        "2001Q3  0.288876  0.181401 -0.167754  0.237601\n",
        "2001Q4  0.288876  0.181401 -0.167754  0.237601"
       ]
      }
     ],
     "prompt_number": 261
    },
    {
     "cell_type": "code",
     "collapsed": false,
     "input": [
      "annual_frame.resample('Q-DEC', fill_method='ffill', convention='start')"
     ],
     "language": "python",
     "metadata": {},
     "outputs": [
      {
       "html": [
        "<div style=\"max-height:1000px;max-width:1500px;overflow:auto;\">\n",
        "<table border=\"1\" class=\"dataframe\">\n",
        "  <thead>\n",
        "    <tr style=\"text-align: right;\">\n",
        "      <th></th>\n",
        "      <th>Colorado</th>\n",
        "      <th>Texas</th>\n",
        "      <th>New York</th>\n",
        "      <th>Ohio</th>\n",
        "    </tr>\n",
        "  </thead>\n",
        "  <tbody>\n",
        "    <tr>\n",
        "      <th>2000Q1</th>\n",
        "      <td> 0.063636</td>\n",
        "      <td> 0.077345</td>\n",
        "      <td> 0.302898</td>\n",
        "      <td> 0.504313</td>\n",
        "    </tr>\n",
        "    <tr>\n",
        "      <th>2000Q2</th>\n",
        "      <td> 0.063636</td>\n",
        "      <td> 0.077345</td>\n",
        "      <td> 0.302898</td>\n",
        "      <td> 0.504313</td>\n",
        "    </tr>\n",
        "    <tr>\n",
        "      <th>2000Q3</th>\n",
        "      <td> 0.063636</td>\n",
        "      <td> 0.077345</td>\n",
        "      <td> 0.302898</td>\n",
        "      <td> 0.504313</td>\n",
        "    </tr>\n",
        "    <tr>\n",
        "      <th>2000Q4</th>\n",
        "      <td> 0.063636</td>\n",
        "      <td> 0.077345</td>\n",
        "      <td> 0.302898</td>\n",
        "      <td> 0.504313</td>\n",
        "    </tr>\n",
        "    <tr>\n",
        "      <th>2001Q1</th>\n",
        "      <td> 0.288876</td>\n",
        "      <td> 0.181401</td>\n",
        "      <td>-0.167754</td>\n",
        "      <td> 0.237601</td>\n",
        "    </tr>\n",
        "    <tr>\n",
        "      <th>2001Q2</th>\n",
        "      <td> 0.288876</td>\n",
        "      <td> 0.181401</td>\n",
        "      <td>-0.167754</td>\n",
        "      <td> 0.237601</td>\n",
        "    </tr>\n",
        "    <tr>\n",
        "      <th>2001Q3</th>\n",
        "      <td> 0.288876</td>\n",
        "      <td> 0.181401</td>\n",
        "      <td>-0.167754</td>\n",
        "      <td> 0.237601</td>\n",
        "    </tr>\n",
        "    <tr>\n",
        "      <th>2001Q4</th>\n",
        "      <td> 0.288876</td>\n",
        "      <td> 0.181401</td>\n",
        "      <td>-0.167754</td>\n",
        "      <td> 0.237601</td>\n",
        "    </tr>\n",
        "  </tbody>\n",
        "</table>\n",
        "</div>"
       ],
       "metadata": {},
       "output_type": "pyout",
       "prompt_number": 262,
       "text": [
        "        Colorado     Texas  New York      Ohio\n",
        "2000Q1  0.063636  0.077345  0.302898  0.504313\n",
        "2000Q2  0.063636  0.077345  0.302898  0.504313\n",
        "2000Q3  0.063636  0.077345  0.302898  0.504313\n",
        "2000Q4  0.063636  0.077345  0.302898  0.504313\n",
        "2001Q1  0.288876  0.181401 -0.167754  0.237601\n",
        "2001Q2  0.288876  0.181401 -0.167754  0.237601\n",
        "2001Q3  0.288876  0.181401 -0.167754  0.237601\n",
        "2001Q4  0.288876  0.181401 -0.167754  0.237601"
       ]
      }
     ],
     "prompt_number": 262
    },
    {
     "cell_type": "code",
     "collapsed": false,
     "input": [
      "annual_frame.resample('Q-MAR', fill_method='ffill')"
     ],
     "language": "python",
     "metadata": {},
     "outputs": [
      {
       "html": [
        "<div style=\"max-height:1000px;max-width:1500px;overflow:auto;\">\n",
        "<table border=\"1\" class=\"dataframe\">\n",
        "  <thead>\n",
        "    <tr style=\"text-align: right;\">\n",
        "      <th></th>\n",
        "      <th>Colorado</th>\n",
        "      <th>Texas</th>\n",
        "      <th>New York</th>\n",
        "      <th>Ohio</th>\n",
        "    </tr>\n",
        "  </thead>\n",
        "  <tbody>\n",
        "    <tr>\n",
        "      <th>2000Q4</th>\n",
        "      <td> 0.063636</td>\n",
        "      <td> 0.077345</td>\n",
        "      <td> 0.302898</td>\n",
        "      <td> 0.504313</td>\n",
        "    </tr>\n",
        "    <tr>\n",
        "      <th>2001Q1</th>\n",
        "      <td> 0.063636</td>\n",
        "      <td> 0.077345</td>\n",
        "      <td> 0.302898</td>\n",
        "      <td> 0.504313</td>\n",
        "    </tr>\n",
        "    <tr>\n",
        "      <th>2001Q2</th>\n",
        "      <td> 0.063636</td>\n",
        "      <td> 0.077345</td>\n",
        "      <td> 0.302898</td>\n",
        "      <td> 0.504313</td>\n",
        "    </tr>\n",
        "    <tr>\n",
        "      <th>2001Q3</th>\n",
        "      <td> 0.063636</td>\n",
        "      <td> 0.077345</td>\n",
        "      <td> 0.302898</td>\n",
        "      <td> 0.504313</td>\n",
        "    </tr>\n",
        "    <tr>\n",
        "      <th>2001Q4</th>\n",
        "      <td> 0.288876</td>\n",
        "      <td> 0.181401</td>\n",
        "      <td>-0.167754</td>\n",
        "      <td> 0.237601</td>\n",
        "    </tr>\n",
        "    <tr>\n",
        "      <th>2002Q1</th>\n",
        "      <td> 0.288876</td>\n",
        "      <td> 0.181401</td>\n",
        "      <td>-0.167754</td>\n",
        "      <td> 0.237601</td>\n",
        "    </tr>\n",
        "    <tr>\n",
        "      <th>2002Q2</th>\n",
        "      <td> 0.288876</td>\n",
        "      <td> 0.181401</td>\n",
        "      <td>-0.167754</td>\n",
        "      <td> 0.237601</td>\n",
        "    </tr>\n",
        "    <tr>\n",
        "      <th>2002Q3</th>\n",
        "      <td> 0.288876</td>\n",
        "      <td> 0.181401</td>\n",
        "      <td>-0.167754</td>\n",
        "      <td> 0.237601</td>\n",
        "    </tr>\n",
        "  </tbody>\n",
        "</table>\n",
        "</div>"
       ],
       "metadata": {},
       "output_type": "pyout",
       "prompt_number": 263,
       "text": [
        "        Colorado     Texas  New York      Ohio\n",
        "2000Q4  0.063636  0.077345  0.302898  0.504313\n",
        "2001Q1  0.063636  0.077345  0.302898  0.504313\n",
        "2001Q2  0.063636  0.077345  0.302898  0.504313\n",
        "2001Q3  0.063636  0.077345  0.302898  0.504313\n",
        "2001Q4  0.288876  0.181401 -0.167754  0.237601\n",
        "2002Q1  0.288876  0.181401 -0.167754  0.237601\n",
        "2002Q2  0.288876  0.181401 -0.167754  0.237601\n",
        "2002Q3  0.288876  0.181401 -0.167754  0.237601"
       ]
      }
     ],
     "prompt_number": 263
    },
    {
     "cell_type": "markdown",
     "metadata": {},
     "source": [
      "##Time Series Plotting"
     ]
    },
    {
     "cell_type": "code",
     "collapsed": false,
     "input": [
      "close_px_all = pd.read_csv('ch09/stock_px.csv', parse_dates=True, index_col=0)"
     ],
     "language": "python",
     "metadata": {},
     "outputs": [],
     "prompt_number": 264
    },
    {
     "cell_type": "code",
     "collapsed": false,
     "input": [
      "close_px_all.head()"
     ],
     "language": "python",
     "metadata": {},
     "outputs": [
      {
       "html": [
        "<div style=\"max-height:1000px;max-width:1500px;overflow:auto;\">\n",
        "<table border=\"1\" class=\"dataframe\">\n",
        "  <thead>\n",
        "    <tr style=\"text-align: right;\">\n",
        "      <th></th>\n",
        "      <th>AAPL</th>\n",
        "      <th>MSFT</th>\n",
        "      <th>XOM</th>\n",
        "      <th>SPX</th>\n",
        "    </tr>\n",
        "  </thead>\n",
        "  <tbody>\n",
        "    <tr>\n",
        "      <th>2003-01-02</th>\n",
        "      <td> 7.40</td>\n",
        "      <td> 21.11</td>\n",
        "      <td> 29.22</td>\n",
        "      <td> 909.03</td>\n",
        "    </tr>\n",
        "    <tr>\n",
        "      <th>2003-01-03</th>\n",
        "      <td> 7.45</td>\n",
        "      <td> 21.14</td>\n",
        "      <td> 29.24</td>\n",
        "      <td> 908.59</td>\n",
        "    </tr>\n",
        "    <tr>\n",
        "      <th>2003-01-06</th>\n",
        "      <td> 7.45</td>\n",
        "      <td> 21.52</td>\n",
        "      <td> 29.96</td>\n",
        "      <td> 929.01</td>\n",
        "    </tr>\n",
        "    <tr>\n",
        "      <th>2003-01-07</th>\n",
        "      <td> 7.43</td>\n",
        "      <td> 21.93</td>\n",
        "      <td> 28.95</td>\n",
        "      <td> 922.93</td>\n",
        "    </tr>\n",
        "    <tr>\n",
        "      <th>2003-01-08</th>\n",
        "      <td> 7.28</td>\n",
        "      <td> 21.31</td>\n",
        "      <td> 28.83</td>\n",
        "      <td> 909.93</td>\n",
        "    </tr>\n",
        "  </tbody>\n",
        "</table>\n",
        "</div>"
       ],
       "metadata": {},
       "output_type": "pyout",
       "prompt_number": 265,
       "text": [
        "            AAPL   MSFT    XOM     SPX\n",
        "2003-01-02  7.40  21.11  29.22  909.03\n",
        "2003-01-03  7.45  21.14  29.24  908.59\n",
        "2003-01-06  7.45  21.52  29.96  929.01\n",
        "2003-01-07  7.43  21.93  28.95  922.93\n",
        "2003-01-08  7.28  21.31  28.83  909.93"
       ]
      }
     ],
     "prompt_number": 265
    },
    {
     "cell_type": "code",
     "collapsed": false,
     "input": [
      "close_px = close_px_all[['AAPL', 'MSFT', 'XOM']]"
     ],
     "language": "python",
     "metadata": {},
     "outputs": [],
     "prompt_number": 266
    },
    {
     "cell_type": "code",
     "collapsed": false,
     "input": [
      "close_px.head()"
     ],
     "language": "python",
     "metadata": {},
     "outputs": [
      {
       "html": [
        "<div style=\"max-height:1000px;max-width:1500px;overflow:auto;\">\n",
        "<table border=\"1\" class=\"dataframe\">\n",
        "  <thead>\n",
        "    <tr style=\"text-align: right;\">\n",
        "      <th></th>\n",
        "      <th>AAPL</th>\n",
        "      <th>MSFT</th>\n",
        "      <th>XOM</th>\n",
        "    </tr>\n",
        "  </thead>\n",
        "  <tbody>\n",
        "    <tr>\n",
        "      <th>2003-01-02</th>\n",
        "      <td> 7.40</td>\n",
        "      <td> 21.11</td>\n",
        "      <td> 29.22</td>\n",
        "    </tr>\n",
        "    <tr>\n",
        "      <th>2003-01-03</th>\n",
        "      <td> 7.45</td>\n",
        "      <td> 21.14</td>\n",
        "      <td> 29.24</td>\n",
        "    </tr>\n",
        "    <tr>\n",
        "      <th>2003-01-06</th>\n",
        "      <td> 7.45</td>\n",
        "      <td> 21.52</td>\n",
        "      <td> 29.96</td>\n",
        "    </tr>\n",
        "    <tr>\n",
        "      <th>2003-01-07</th>\n",
        "      <td> 7.43</td>\n",
        "      <td> 21.93</td>\n",
        "      <td> 28.95</td>\n",
        "    </tr>\n",
        "    <tr>\n",
        "      <th>2003-01-08</th>\n",
        "      <td> 7.28</td>\n",
        "      <td> 21.31</td>\n",
        "      <td> 28.83</td>\n",
        "    </tr>\n",
        "  </tbody>\n",
        "</table>\n",
        "</div>"
       ],
       "metadata": {},
       "output_type": "pyout",
       "prompt_number": 268,
       "text": [
        "            AAPL   MSFT    XOM\n",
        "2003-01-02  7.40  21.11  29.22\n",
        "2003-01-03  7.45  21.14  29.24\n",
        "2003-01-06  7.45  21.52  29.96\n",
        "2003-01-07  7.43  21.93  28.95\n",
        "2003-01-08  7.28  21.31  28.83"
       ]
      }
     ],
     "prompt_number": 268
    },
    {
     "cell_type": "code",
     "collapsed": false,
     "input": [
      "close_px = close_px.resample('B', fill_method='ffill')"
     ],
     "language": "python",
     "metadata": {},
     "outputs": [],
     "prompt_number": 269
    },
    {
     "cell_type": "code",
     "collapsed": false,
     "input": [
      "%pylab inline"
     ],
     "language": "python",
     "metadata": {},
     "outputs": [
      {
       "output_type": "stream",
       "stream": "stdout",
       "text": [
        "Populating the interactive namespace from numpy and matplotlib\n"
       ]
      },
      {
       "output_type": "stream",
       "stream": "stderr",
       "text": [
        "WARNING: pylab import has clobbered these variables: ['datetime']\n",
        "`%matplotlib` prevents importing * from pylab and numpy\n"
       ]
      }
     ],
     "prompt_number": 272
    },
    {
     "cell_type": "code",
     "collapsed": false,
     "input": [
      "close_px['AAPL'].plot()"
     ],
     "language": "python",
     "metadata": {},
     "outputs": [
      {
       "metadata": {},
       "output_type": "pyout",
       "prompt_number": 273,
       "text": [
        "<matplotlib.axes._subplots.AxesSubplot at 0x7f596c030d90>"
       ]
      },
      {
       "metadata": {},
       "output_type": "display_data",
       "png": "[encoded data removed]",
       "text": [
        "<matplotlib.figure.Figure at 0x7f596c0a4d90>"
       ]
      }
     ],
     "prompt_number": 273
    },
    {
     "cell_type": "code",
     "collapsed": false,
     "input": [
      "close_px['2009'].plot()"
     ],
     "language": "python",
     "metadata": {},
     "outputs": [
      {
       "metadata": {},
       "output_type": "pyout",
       "prompt_number": 274,
       "text": [
        "<matplotlib.axes._subplots.AxesSubplot at 0x7f596402b090>"
       ]
      },
      {
       "metadata": {},
       "output_type": "display_data",
       "png": "[encoded data removed]",
       "text": [
        "<matplotlib.figure.Figure at 0x7f596c09ba90>"
       ]
      }
     ],
     "prompt_number": 274
    },
    {
     "cell_type": "code",
     "collapsed": false,
     "input": [
      "close_px['AAPL'].ix['01-2011': '03-2011'].plot()"
     ],
     "language": "python",
     "metadata": {},
     "outputs": [
      {
       "metadata": {},
       "output_type": "pyout",
       "prompt_number": 275,
       "text": [
        "<matplotlib.axes._subplots.AxesSubplot at 0x7f595dd541d0>"
       ]
      },
      {
       "metadata": {},
       "output_type": "display_data",
       "png": "[encoded data removed]",
       "text": [
        "<matplotlib.figure.Figure at 0x7f595dd5e050>"
       ]
      }
     ],
     "prompt_number": 275
    },
    {
     "cell_type": "code",
     "collapsed": false,
     "input": [
      "aqql_q = close_px['AAPL'].resample('Q-DEC', fill_method = 'ffill')"
     ],
     "language": "python",
     "metadata": {},
     "outputs": [],
     "prompt_number": 276
    },
    {
     "cell_type": "code",
     "collapsed": false,
     "input": [
      "aqql_q.ix['2009': ].plot()"
     ],
     "language": "python",
     "metadata": {},
     "outputs": [
      {
       "metadata": {},
       "output_type": "pyout",
       "prompt_number": 278,
       "text": [
        "<matplotlib.axes._subplots.AxesSubplot at 0x7f595dcd86d0>"
       ]
      },
      {
       "metadata": {},
       "output_type": "display_data",
       "png": "[encoded data removed]",
       "text": [
        "<matplotlib.figure.Figure at 0x7f595dab3f50>"
       ]
      }
     ],
     "prompt_number": 278
    },
    {
     "cell_type": "markdown",
     "metadata": {},
     "source": [
      "##Moving Windows Functions"
     ]
    },
    {
     "cell_type": "code",
     "collapsed": false,
     "input": [
      "close_px.AAPL.plot()\n",
      "pd.rolling_mean(close_px.AAPL, 250).plot()"
     ],
     "language": "python",
     "metadata": {},
     "outputs": [
      {
       "metadata": {},
       "output_type": "pyout",
       "prompt_number": 281,
       "text": [
        "<matplotlib.axes._subplots.AxesSubplot at 0x7f595d828ad0>"
       ]
      },
      {
       "metadata": {},
       "output_type": "display_data",
       "png": "[encoded data removed]",
       "text": [
        "<matplotlib.figure.Figure at 0x7f596c0a94d0>"
       ]
      }
     ],
     "prompt_number": 281
    },
    {
     "cell_type": "code",
     "collapsed": false,
     "input": [
      "appl_std250 = pd.rolling_std(close_px.AAPL, 250, min_periods=10)"
     ],
     "language": "python",
     "metadata": {},
     "outputs": [],
     "prompt_number": 283
    },
    {
     "cell_type": "code",
     "collapsed": false,
     "input": [
      "appl_std250[1:12, ]"
     ],
     "language": "python",
     "metadata": {},
     "outputs": [
      {
       "metadata": {},
       "output_type": "pyout",
       "prompt_number": 284,
       "text": [
        "2003-01-03         NaN\n",
        "2003-01-06         NaN\n",
        "2003-01-07         NaN\n",
        "2003-01-08         NaN\n",
        "2003-01-09         NaN\n",
        "2003-01-10         NaN\n",
        "2003-01-13         NaN\n",
        "2003-01-14         NaN\n",
        "2003-01-15    0.077496\n",
        "2003-01-16    0.074760\n",
        "2003-01-17    0.112368\n",
        "Freq: B, dtype: float64"
       ]
      }
     ],
     "prompt_number": 284
    },
    {
     "cell_type": "code",
     "collapsed": false,
     "input": [
      "appl_std250.plot()"
     ],
     "language": "python",
     "metadata": {},
     "outputs": [
      {
       "metadata": {},
       "output_type": "pyout",
       "prompt_number": 285,
       "text": [
        "<matplotlib.axes._subplots.AxesSubplot at 0x7f595dc20450>"
       ]
      },
      {
       "metadata": {},
       "output_type": "display_data",
       "png": "[encoded data removed]",
       "text": [
        "<matplotlib.figure.Figure at 0x7f595d8a1b90>"
       ]
      }
     ],
     "prompt_number": 285
    },
    {
     "cell_type": "code",
     "collapsed": false,
     "input": [
      "expanding_mean = lambda x: rolling_mean(x, len(x), min_period = 1)"
     ],
     "language": "python",
     "metadata": {},
     "outputs": [],
     "prompt_number": 286
    },
    {
     "cell_type": "code",
     "collapsed": false,
     "input": [
      "pd.rolling_mean(close_px, 60).plot(logy=True)"
     ],
     "language": "python",
     "metadata": {},
     "outputs": [
      {
       "metadata": {},
       "output_type": "pyout",
       "prompt_number": 287,
       "text": [
        "<matplotlib.axes._subplots.AxesSubplot at 0x7f595d523890>"
       ]
      },
      {
       "metadata": {},
       "output_type": "display_data",
       "png": "[encoded data removed]",
       "text": [
        "<matplotlib.figure.Figure at 0x7f595d3c05d0>"
       ]
      }
     ],
     "prompt_number": 287
    },
    {
     "cell_type": "markdown",
     "metadata": {},
     "source": [
      "##Exponentially-weighted functions"
     ]
    },
    {
     "cell_type": "code",
     "collapsed": false,
     "input": [
      "aapl_px = close_px.AAPL['2005': '2009']"
     ],
     "language": "python",
     "metadata": {},
     "outputs": [],
     "prompt_number": 296
    },
    {
     "cell_type": "code",
     "collapsed": false,
     "input": [
      "ma60 = pd.rolling_mean(aapl_px, 60, min_periods=50)"
     ],
     "language": "python",
     "metadata": {},
     "outputs": [],
     "prompt_number": 297
    },
    {
     "cell_type": "code",
     "collapsed": false,
     "input": [
      "ewma60 = pd.ewma(aapl_px, span=60)"
     ],
     "language": "python",
     "metadata": {},
     "outputs": [],
     "prompt_number": 298
    },
    {
     "cell_type": "code",
     "collapsed": false,
     "input": [
      "aapl_px.plot()"
     ],
     "language": "python",
     "metadata": {},
     "outputs": [
      {
       "metadata": {},
       "output_type": "pyout",
       "prompt_number": 300,
       "text": [
        "<matplotlib.axes._subplots.AxesSubplot at 0x7f595d15e9d0>"
       ]
      },
      {
       "metadata": {},
       "output_type": "display_data",
       "png": "[encoded data removed]",
       "text": [
        "<matplotlib.figure.Figure at 0x7f595d15e090>"
       ]
      }
     ],
     "prompt_number": 300
    },
    {
     "cell_type": "code",
     "collapsed": false,
     "input": [
      "aapl_px.plot(style = 'k-', ax=axes[0])"
     ],
     "language": "python",
     "metadata": {},
     "outputs": [
      {
       "ename": "TypeError",
       "evalue": "'function' object has no attribute '__getitem__'",
       "output_type": "pyerr",
       "traceback": [
        "\u001b[0;31m---------------------------------------------------------------------------\u001b[0m\n\u001b[0;31mTypeError\u001b[0m                                 Traceback (most recent call last)",
        "\u001b[0;32m<ipython-input-303-d40fdf079376>\u001b[0m in \u001b[0;36m<module>\u001b[0;34m()\u001b[0m\n\u001b[0;32m----> 1\u001b[0;31m \u001b[0maapl_px\u001b[0m\u001b[0;34m.\u001b[0m\u001b[0mplot\u001b[0m\u001b[0;34m(\u001b[0m\u001b[0mstyle\u001b[0m \u001b[0;34m=\u001b[0m \u001b[0;34m'k-'\u001b[0m\u001b[0;34m,\u001b[0m \u001b[0max\u001b[0m\u001b[0;34m=\u001b[0m\u001b[0maxes\u001b[0m\u001b[0;34m[\u001b[0m\u001b[0;36m0\u001b[0m\u001b[0;34m]\u001b[0m\u001b[0;34m)\u001b[0m\u001b[0;34m\u001b[0m\u001b[0m\n\u001b[0m",
        "\u001b[0;31mTypeError\u001b[0m: 'function' object has no attribute '__getitem__'"
       ]
      }
     ],
     "prompt_number": 303
    },
    {
     "cell_type": "code",
     "collapsed": false,
     "input": [],
     "language": "python",
     "metadata": {},
     "outputs": []
    }
   ],
   "metadata": {}
  }
 ]
}